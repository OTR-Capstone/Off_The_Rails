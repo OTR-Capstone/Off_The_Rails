{
 "cells": [
  {
   "cell_type": "markdown",
   "metadata": {},
   "source": [
    "# Workbook for testing functions"
   ]
  },
  {
   "cell_type": "code",
   "execution_count": 1,
   "metadata": {},
   "outputs": [],
   "source": [
    "import pandas as pd\n",
    "import numpy as np\n",
    "import os\n",
    "\n",
    "import acquire\n",
    "import prepare"
   ]
  },
  {
   "cell_type": "code",
   "execution_count": 2,
   "metadata": {},
   "outputs": [
    {
     "data": {
      "text/plain": [
       "(22402, 146)"
      ]
     },
     "execution_count": 2,
     "metadata": {},
     "output_type": "execute_result"
    }
   ],
   "source": [
    "df = acquire.get_equiprail()\n",
    "df.shape"
   ]
  },
  {
   "cell_type": "code",
   "execution_count": 3,
   "metadata": {},
   "outputs": [
    {
     "data": {
      "text/html": [
       "<div>\n",
       "<style scoped>\n",
       "    .dataframe tbody tr th:only-of-type {\n",
       "        vertical-align: middle;\n",
       "    }\n",
       "\n",
       "    .dataframe tbody tr th {\n",
       "        vertical-align: top;\n",
       "    }\n",
       "\n",
       "    .dataframe thead th {\n",
       "        text-align: right;\n",
       "    }\n",
       "</style>\n",
       "<table border=\"1\" class=\"dataframe\">\n",
       "  <thead>\n",
       "    <tr style=\"text-align: right;\">\n",
       "      <th></th>\n",
       "      <th>IYR</th>\n",
       "      <th>IMO</th>\n",
       "      <th>RAILROAD</th>\n",
       "      <th>INCDTNO</th>\n",
       "      <th>IYR2</th>\n",
       "      <th>IMO2</th>\n",
       "      <th>RR2</th>\n",
       "      <th>INCDTNO2</th>\n",
       "      <th>IYR3</th>\n",
       "      <th>IMO3</th>\n",
       "      <th>...</th>\n",
       "      <th>RCL</th>\n",
       "      <th>Latitude</th>\n",
       "      <th>Longitud</th>\n",
       "      <th>SIGNAL</th>\n",
       "      <th>MOPERA</th>\n",
       "      <th>ADJUNCT1</th>\n",
       "      <th>ADJUNCT2</th>\n",
       "      <th>ADJUNCT3</th>\n",
       "      <th>SUBDIV</th>\n",
       "      <th>Unnamed: 145</th>\n",
       "    </tr>\n",
       "  </thead>\n",
       "  <tbody>\n",
       "    <tr>\n",
       "      <th>0</th>\n",
       "      <td>12</td>\n",
       "      <td>5</td>\n",
       "      <td>BNSF</td>\n",
       "      <td>GC0512102</td>\n",
       "      <td>NaN</td>\n",
       "      <td>NaN</td>\n",
       "      <td>NaN</td>\n",
       "      <td>NaN</td>\n",
       "      <td>12</td>\n",
       "      <td>5</td>\n",
       "      <td>...</td>\n",
       "      <td>0.0</td>\n",
       "      <td>29.755900</td>\n",
       "      <td>-95.293100</td>\n",
       "      <td>1</td>\n",
       "      <td>1</td>\n",
       "      <td>G</td>\n",
       "      <td>NaN</td>\n",
       "      <td>NaN</td>\n",
       "      <td>NORTH SHORE</td>\n",
       "      <td>NaN</td>\n",
       "    </tr>\n",
       "    <tr>\n",
       "      <th>1</th>\n",
       "      <td>12</td>\n",
       "      <td>5</td>\n",
       "      <td>BNSF</td>\n",
       "      <td>GC0512105</td>\n",
       "      <td>NaN</td>\n",
       "      <td>NaN</td>\n",
       "      <td>NaN</td>\n",
       "      <td>NaN</td>\n",
       "      <td>12</td>\n",
       "      <td>5</td>\n",
       "      <td>...</td>\n",
       "      <td>0.0</td>\n",
       "      <td>29.500571</td>\n",
       "      <td>-95.597089</td>\n",
       "      <td>2</td>\n",
       "      <td>5</td>\n",
       "      <td>Z</td>\n",
       "      <td>NaN</td>\n",
       "      <td>NaN</td>\n",
       "      <td>GALVESTON</td>\n",
       "      <td>NaN</td>\n",
       "    </tr>\n",
       "    <tr>\n",
       "      <th>2</th>\n",
       "      <td>12</td>\n",
       "      <td>2</td>\n",
       "      <td>NS</td>\n",
       "      <td>98074</td>\n",
       "      <td>12.0</td>\n",
       "      <td>2.0</td>\n",
       "      <td>CSX</td>\n",
       "      <td>100906</td>\n",
       "      <td>12</td>\n",
       "      <td>2</td>\n",
       "      <td>...</td>\n",
       "      <td>NaN</td>\n",
       "      <td>34.612981</td>\n",
       "      <td>-86.988133</td>\n",
       "      <td>1</td>\n",
       "      <td>1</td>\n",
       "      <td>B</td>\n",
       "      <td>NaN</td>\n",
       "      <td>NaN</td>\n",
       "      <td>ALABAMA</td>\n",
       "      <td>NaN</td>\n",
       "    </tr>\n",
       "    <tr>\n",
       "      <th>3</th>\n",
       "      <td>12</td>\n",
       "      <td>5</td>\n",
       "      <td>BNSF</td>\n",
       "      <td>GC0512106</td>\n",
       "      <td>NaN</td>\n",
       "      <td>NaN</td>\n",
       "      <td>NaN</td>\n",
       "      <td>NaN</td>\n",
       "      <td>12</td>\n",
       "      <td>5</td>\n",
       "      <td>...</td>\n",
       "      <td>0.0</td>\n",
       "      <td>31.446576</td>\n",
       "      <td>-96.207606</td>\n",
       "      <td>2</td>\n",
       "      <td>5</td>\n",
       "      <td>Z</td>\n",
       "      <td>NaN</td>\n",
       "      <td>NaN</td>\n",
       "      <td>HOUSTON</td>\n",
       "      <td>NaN</td>\n",
       "    </tr>\n",
       "    <tr>\n",
       "      <th>4</th>\n",
       "      <td>12</td>\n",
       "      <td>5</td>\n",
       "      <td>BNSF</td>\n",
       "      <td>GC0512112</td>\n",
       "      <td>NaN</td>\n",
       "      <td>NaN</td>\n",
       "      <td>NaN</td>\n",
       "      <td>NaN</td>\n",
       "      <td>12</td>\n",
       "      <td>5</td>\n",
       "      <td>...</td>\n",
       "      <td>0.0</td>\n",
       "      <td>29.772155</td>\n",
       "      <td>-95.384013</td>\n",
       "      <td>2</td>\n",
       "      <td>5</td>\n",
       "      <td>Z</td>\n",
       "      <td>NaN</td>\n",
       "      <td>NaN</td>\n",
       "      <td>HOUSTON</td>\n",
       "      <td>NaN</td>\n",
       "    </tr>\n",
       "  </tbody>\n",
       "</table>\n",
       "<p>5 rows × 146 columns</p>\n",
       "</div>"
      ],
      "text/plain": [
       "   IYR  IMO RAILROAD    INCDTNO  IYR2  IMO2  RR2 INCDTNO2  IYR3  IMO3  ...  \\\n",
       "0   12    5     BNSF  GC0512102   NaN   NaN  NaN      NaN    12     5  ...   \n",
       "1   12    5     BNSF  GC0512105   NaN   NaN  NaN      NaN    12     5  ...   \n",
       "2   12    2       NS      98074  12.0   2.0  CSX   100906    12     2  ...   \n",
       "3   12    5     BNSF  GC0512106   NaN   NaN  NaN      NaN    12     5  ...   \n",
       "4   12    5     BNSF  GC0512112   NaN   NaN  NaN      NaN    12     5  ...   \n",
       "\n",
       "   RCL   Latitude   Longitud SIGNAL  MOPERA  ADJUNCT1  ADJUNCT2  ADJUNCT3  \\\n",
       "0  0.0  29.755900 -95.293100      1       1         G       NaN       NaN   \n",
       "1  0.0  29.500571 -95.597089      2       5         Z       NaN       NaN   \n",
       "2  NaN  34.612981 -86.988133      1       1         B       NaN       NaN   \n",
       "3  0.0  31.446576 -96.207606      2       5         Z       NaN       NaN   \n",
       "4  0.0  29.772155 -95.384013      2       5         Z       NaN       NaN   \n",
       "\n",
       "        SUBDIV Unnamed: 145  \n",
       "0  NORTH SHORE          NaN  \n",
       "1    GALVESTON          NaN  \n",
       "2      ALABAMA          NaN  \n",
       "3      HOUSTON          NaN  \n",
       "4      HOUSTON          NaN  \n",
       "\n",
       "[5 rows x 146 columns]"
      ]
     },
     "execution_count": 3,
     "metadata": {},
     "output_type": "execute_result"
    }
   ],
   "source": [
    "df.head()"
   ]
  },
  {
   "cell_type": "code",
   "execution_count": null,
   "metadata": {},
   "outputs": [],
   "source": [
    "df.INCDTNO.nunique()"
   ]
  },
  {
   "cell_type": "code",
   "execution_count": 4,
   "metadata": {},
   "outputs": [
    {
     "data": {
      "text/plain": [
       "(15188, 39)"
      ]
     },
     "execution_count": 4,
     "metadata": {},
     "output_type": "execute_result"
    }
   ],
   "source": [
    "df = prepare.prep_equip_df(df)\n",
    "df.shape"
   ]
  },
  {
   "cell_type": "code",
   "execution_count": 5,
   "metadata": {},
   "outputs": [
    {
     "data": {
      "text/html": [
       "<div>\n",
       "<style scoped>\n",
       "    .dataframe tbody tr th:only-of-type {\n",
       "        vertical-align: middle;\n",
       "    }\n",
       "\n",
       "    .dataframe tbody tr th {\n",
       "        vertical-align: top;\n",
       "    }\n",
       "\n",
       "    .dataframe thead th {\n",
       "        text-align: right;\n",
       "    }\n",
       "</style>\n",
       "<table border=\"1\" class=\"dataframe\">\n",
       "  <thead>\n",
       "    <tr style=\"text-align: right;\">\n",
       "      <th></th>\n",
       "      <th>railroad</th>\n",
       "      <th>type</th>\n",
       "      <th>state</th>\n",
       "      <th>temp</th>\n",
       "      <th>visiblty</th>\n",
       "      <th>weather</th>\n",
       "      <th>trnspd</th>\n",
       "      <th>trndir</th>\n",
       "      <th>tons</th>\n",
       "      <th>typeq</th>\n",
       "      <th>...</th>\n",
       "      <th>typrr</th>\n",
       "      <th>rrempkld</th>\n",
       "      <th>rrempinj</th>\n",
       "      <th>passkld</th>\n",
       "      <th>passinj</th>\n",
       "      <th>passtrn</th>\n",
       "      <th>latitude</th>\n",
       "      <th>longitud</th>\n",
       "      <th>signal</th>\n",
       "      <th>date</th>\n",
       "    </tr>\n",
       "    <tr>\n",
       "      <th>incdtno</th>\n",
       "      <th></th>\n",
       "      <th></th>\n",
       "      <th></th>\n",
       "      <th></th>\n",
       "      <th></th>\n",
       "      <th></th>\n",
       "      <th></th>\n",
       "      <th></th>\n",
       "      <th></th>\n",
       "      <th></th>\n",
       "      <th></th>\n",
       "      <th></th>\n",
       "      <th></th>\n",
       "      <th></th>\n",
       "      <th></th>\n",
       "      <th></th>\n",
       "      <th></th>\n",
       "      <th></th>\n",
       "      <th></th>\n",
       "      <th></th>\n",
       "      <th></th>\n",
       "    </tr>\n",
       "  </thead>\n",
       "  <tbody>\n",
       "    <tr>\n",
       "      <th>GC0512102</th>\n",
       "      <td>BNSF</td>\n",
       "      <td>1</td>\n",
       "      <td>48</td>\n",
       "      <td>84</td>\n",
       "      <td>2</td>\n",
       "      <td>1</td>\n",
       "      <td>10</td>\n",
       "      <td>2.0</td>\n",
       "      <td>9811</td>\n",
       "      <td>1</td>\n",
       "      <td>...</td>\n",
       "      <td>1</td>\n",
       "      <td>0</td>\n",
       "      <td>0</td>\n",
       "      <td>0</td>\n",
       "      <td>0</td>\n",
       "      <td>N</td>\n",
       "      <td>29.7559</td>\n",
       "      <td>-95.2931</td>\n",
       "      <td>1</td>\n",
       "      <td>2012-05-05 08:00:00</td>\n",
       "    </tr>\n",
       "    <tr>\n",
       "      <th>GC0512105</th>\n",
       "      <td>BNSF</td>\n",
       "      <td>1</td>\n",
       "      <td>48</td>\n",
       "      <td>70</td>\n",
       "      <td>4</td>\n",
       "      <td>3</td>\n",
       "      <td>5</td>\n",
       "      <td>2.0</td>\n",
       "      <td>17157</td>\n",
       "      <td>1</td>\n",
       "      <td>...</td>\n",
       "      <td>1</td>\n",
       "      <td>0</td>\n",
       "      <td>0</td>\n",
       "      <td>0</td>\n",
       "      <td>0</td>\n",
       "      <td>N</td>\n",
       "      <td>29.500571</td>\n",
       "      <td>-95.597089</td>\n",
       "      <td>2</td>\n",
       "      <td>2012-05-11 02:25:00</td>\n",
       "    </tr>\n",
       "    <tr>\n",
       "      <th>GC0512106</th>\n",
       "      <td>BNSF</td>\n",
       "      <td>1</td>\n",
       "      <td>48</td>\n",
       "      <td>84</td>\n",
       "      <td>2</td>\n",
       "      <td>1</td>\n",
       "      <td>3</td>\n",
       "      <td>2.0</td>\n",
       "      <td>17304</td>\n",
       "      <td>1</td>\n",
       "      <td>...</td>\n",
       "      <td>1</td>\n",
       "      <td>0</td>\n",
       "      <td>0</td>\n",
       "      <td>0</td>\n",
       "      <td>0</td>\n",
       "      <td>N</td>\n",
       "      <td>31.446576</td>\n",
       "      <td>-96.20760600000001</td>\n",
       "      <td>2</td>\n",
       "      <td>2012-05-16 15:40:00</td>\n",
       "    </tr>\n",
       "    <tr>\n",
       "      <th>GC0512112</th>\n",
       "      <td>BNSF</td>\n",
       "      <td>1</td>\n",
       "      <td>48</td>\n",
       "      <td>70</td>\n",
       "      <td>4</td>\n",
       "      <td>1</td>\n",
       "      <td>5</td>\n",
       "      <td>3.0</td>\n",
       "      <td>14212</td>\n",
       "      <td>1</td>\n",
       "      <td>...</td>\n",
       "      <td>1</td>\n",
       "      <td>0</td>\n",
       "      <td>0</td>\n",
       "      <td>0</td>\n",
       "      <td>0</td>\n",
       "      <td>N</td>\n",
       "      <td>29.772154999999998</td>\n",
       "      <td>-95.384013</td>\n",
       "      <td>2</td>\n",
       "      <td>2012-05-31 03:36:00</td>\n",
       "    </tr>\n",
       "    <tr>\n",
       "      <th>GC0912118</th>\n",
       "      <td>BNSF</td>\n",
       "      <td>1</td>\n",
       "      <td>48</td>\n",
       "      <td>78</td>\n",
       "      <td>2</td>\n",
       "      <td>3</td>\n",
       "      <td>8</td>\n",
       "      <td>1.0</td>\n",
       "      <td>5918</td>\n",
       "      <td>1</td>\n",
       "      <td>...</td>\n",
       "      <td>1</td>\n",
       "      <td>0</td>\n",
       "      <td>0</td>\n",
       "      <td>0</td>\n",
       "      <td>0</td>\n",
       "      <td>N</td>\n",
       "      <td>29.606296999999998</td>\n",
       "      <td>-95.300054</td>\n",
       "      <td>2</td>\n",
       "      <td>2012-09-29 14:10:00</td>\n",
       "    </tr>\n",
       "  </tbody>\n",
       "</table>\n",
       "<p>5 rows × 39 columns</p>\n",
       "</div>"
      ],
      "text/plain": [
       "          railroad  type  state  temp  visiblty  weather  trnspd  trndir  \\\n",
       "incdtno                                                                    \n",
       "GC0512102     BNSF     1     48    84         2        1      10     2.0   \n",
       "GC0512105     BNSF     1     48    70         4        3       5     2.0   \n",
       "GC0512106     BNSF     1     48    84         2        1       3     2.0   \n",
       "GC0512112     BNSF     1     48    70         4        1       5     3.0   \n",
       "GC0912118     BNSF     1     48    78         2        3       8     1.0   \n",
       "\n",
       "            tons typeq  ...  typrr  rrempkld  rrempinj  passkld  passinj  \\\n",
       "incdtno                 ...                                                \n",
       "GC0512102   9811     1  ...      1         0         0        0        0   \n",
       "GC0512105  17157     1  ...      1         0         0        0        0   \n",
       "GC0512106  17304     1  ...      1         0         0        0        0   \n",
       "GC0512112  14212     1  ...      1         0         0        0        0   \n",
       "GC0912118   5918     1  ...      1         0         0        0        0   \n",
       "\n",
       "           passtrn            latitude            longitud signal  \\\n",
       "incdtno                                                             \n",
       "GC0512102        N             29.7559            -95.2931      1   \n",
       "GC0512105        N           29.500571          -95.597089      2   \n",
       "GC0512106        N           31.446576  -96.20760600000001      2   \n",
       "GC0512112        N  29.772154999999998          -95.384013      2   \n",
       "GC0912118        N  29.606296999999998          -95.300054      2   \n",
       "\n",
       "                         date  \n",
       "incdtno                        \n",
       "GC0512102 2012-05-05 08:00:00  \n",
       "GC0512105 2012-05-11 02:25:00  \n",
       "GC0512106 2012-05-16 15:40:00  \n",
       "GC0512112 2012-05-31 03:36:00  \n",
       "GC0912118 2012-09-29 14:10:00  \n",
       "\n",
       "[5 rows x 39 columns]"
      ]
     },
     "execution_count": 5,
     "metadata": {},
     "output_type": "execute_result"
    }
   ],
   "source": [
    "df.head()"
   ]
  },
  {
   "cell_type": "code",
   "execution_count": null,
   "metadata": {},
   "outputs": [],
   "source": [
    "#drop null values\n",
    "df = df.dropna(axis=0)"
   ]
  },
  {
   "cell_type": "code",
   "execution_count": 6,
   "metadata": {},
   "outputs": [
    {
     "data": {
      "text/plain": [
       "(15188, 39)"
      ]
     },
     "execution_count": 6,
     "metadata": {},
     "output_type": "execute_result"
    }
   ],
   "source": [
    "df.shape"
   ]
  },
  {
   "cell_type": "code",
   "execution_count": 8,
   "metadata": {},
   "outputs": [
    {
     "data": {
      "text/plain": [
       "15188"
      ]
     },
     "execution_count": 8,
     "metadata": {},
     "output_type": "execute_result"
    }
   ],
   "source": [
    "df.index.nunique()"
   ]
  },
  {
   "cell_type": "code",
   "execution_count": null,
   "metadata": {},
   "outputs": [],
   "source": [
    "df.incdtno.value_counts()"
   ]
  },
  {
   "cell_type": "code",
   "execution_count": null,
   "metadata": {},
   "outputs": [],
   "source": [
    "inc_subset = df.loc[df.incdtno == '133453']\n",
    "inc_subset"
   ]
  },
  {
   "cell_type": "code",
   "execution_count": null,
   "metadata": {
    "scrolled": true
   },
   "outputs": [],
   "source": [
    "inc_subset.describe().T"
   ]
  },
  {
   "cell_type": "markdown",
   "metadata": {},
   "source": [
    "**Takeaways:**\n",
    "- All 9 entries for incident id 133453 appear to be the same\n",
    "\n",
    "- For iteration 1, we should drop all the observations where the value count of the incident > 1"
   ]
  },
  {
   "cell_type": "code",
   "execution_count": null,
   "metadata": {},
   "outputs": [],
   "source": [
    "#Convert lat and long to strings\n",
    "df.latitude = df.latitude.astype(str)\n",
    "df.longitud = df.longitud.astype(str)"
   ]
  },
  {
   "cell_type": "code",
   "execution_count": null,
   "metadata": {
    "scrolled": true
   },
   "outputs": [],
   "source": [
    "df.info()"
   ]
  },
  {
   "cell_type": "code",
   "execution_count": null,
   "metadata": {},
   "outputs": [],
   "source": [
    "inc_df = df.groupby('incdtno').filter(lambda x : (x)>1)\n",
    "inc_df.shape"
   ]
  },
  {
   "cell_type": "code",
   "execution_count": null,
   "metadata": {},
   "outputs": [],
   "source": [
    "inc_df.incdtno.nunique()"
   ]
  },
  {
   "cell_type": "code",
   "execution_count": null,
   "metadata": {},
   "outputs": [],
   "source": [
    "inc_df = df.drop(df.iloc[df.incdtno.value_counts() > 1], axis=0)\n",
    "inc_df.shape"
   ]
  },
  {
   "cell_type": "code",
   "execution_count": null,
   "metadata": {},
   "outputs": [],
   "source": [
    "#Filters out observations with unique incident numbers \n",
    "counts = df['incdtno'].value_counts()\n",
    "\n",
    "df = df[~df['incdtno'].isin(counts[counts > 1].index)]"
   ]
  },
  {
   "cell_type": "code",
   "execution_count": null,
   "metadata": {},
   "outputs": [],
   "source": [
    "df.incdtno.nunique()"
   ]
  },
  {
   "cell_type": "code",
   "execution_count": null,
   "metadata": {},
   "outputs": [],
   "source": [
    "df.shape"
   ]
  },
  {
   "cell_type": "code",
   "execution_count": null,
   "metadata": {},
   "outputs": [],
   "source": []
  }
 ],
 "metadata": {
  "kernelspec": {
   "display_name": "Python 3",
   "language": "python",
   "name": "python3"
  },
  "language_info": {
   "codemirror_mode": {
    "name": "ipython",
    "version": 3
   },
   "file_extension": ".py",
   "mimetype": "text/x-python",
   "name": "python",
   "nbconvert_exporter": "python",
   "pygments_lexer": "ipython3",
   "version": "3.8.5"
  }
 },
 "nbformat": 4,
 "nbformat_minor": 4
}

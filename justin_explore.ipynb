{
 "cells": [
  {
   "cell_type": "markdown",
   "metadata": {},
   "source": [
    "# Explore Workbook for Justin"
   ]
  },
  {
   "cell_type": "code",
   "execution_count": 1,
   "metadata": {},
   "outputs": [],
   "source": [
    "import pandas as pd\n",
    "import numpy as np\n",
    "import matplotlib.pyplot as plt\n",
    "import seaborn as sns\n",
    "from scipy import stats\n",
    "\n",
    "#ignore warnings\n",
    "import warnings\n",
    "warnings.filterwarnings('ignore')\n",
    "\n",
    "import acquire\n",
    "import prepare\n",
    "import explore"
   ]
  },
  {
   "cell_type": "markdown",
   "metadata": {},
   "source": [
    "## Explore Equipment Rail"
   ]
  },
  {
   "cell_type": "markdown",
   "metadata": {},
   "source": [
    "**Acquire**"
   ]
  },
  {
   "cell_type": "code",
   "execution_count": 2,
   "metadata": {},
   "outputs": [
    {
     "data": {
      "text/plain": [
       "(22402, 146)"
      ]
     },
     "execution_count": 2,
     "metadata": {},
     "output_type": "execute_result"
    }
   ],
   "source": [
    "df = acquire.get_equiprail()\n",
    "df.shape"
   ]
  },
  {
   "cell_type": "markdown",
   "metadata": {},
   "source": [
    "**Prepare**"
   ]
  },
  {
   "cell_type": "code",
   "execution_count": 3,
   "metadata": {},
   "outputs": [
    {
     "data": {
      "text/plain": [
       "(11504, 35)"
      ]
     },
     "execution_count": 3,
     "metadata": {},
     "output_type": "execute_result"
    }
   ],
   "source": [
    "df = prepare.prep_equip_df(df)\n",
    "df.shape"
   ]
  },
  {
   "cell_type": "code",
   "execution_count": null,
   "metadata": {},
   "outputs": [],
   "source": [
    "#Create lat and long data frame for tableau viz of equipment accidents\n",
    "\n",
    "#equip_coordinates = df[['railroad_company','lat', 'long']]\n",
    "#equip_coordinates.head()\n",
    "#equip_coordinates.to_excel(\"equip_coordinates.xlsx\")"
   ]
  },
  {
   "cell_type": "code",
   "execution_count": null,
   "metadata": {},
   "outputs": [],
   "source": [
    "#def drop_under_represented_rr(df): \n",
    "#    '''\n",
    "#    This function takes in a railroad accident data frame\n",
    "#    and drops any observations representing railroad companies\n",
    "#    where the railroad company has less than 300 accidents in the dataframe\n",
    "#    \n",
    "#    It returns a single dataframe\n",
    "#    '''\n",
    "#    \n",
    "#    #Define the value counts for railroad_company in the dataframe\n",
    "#    value_counts = df['railroad_company'].value_counts()\n",
    "#    \n",
    "#    #Select the observations to remove based on railroad_company count representation threshold\n",
    "#    to_remove = value_counts[value_counts < 300].index\n",
    "#    \n",
    "#    # Keep rows where the railroad_company column is not in to_remove if n was defined\n",
    "#    if 300 > 0:\n",
    "#        df = df[~df.railroad_company.isin(to_remove)]\n",
    "#    else: \n",
    "#        df = df \n",
    "#        \n",
    "#    return df"
   ]
  },
  {
   "cell_type": "code",
   "execution_count": null,
   "metadata": {},
   "outputs": [],
   "source": [
    "#df = drop_ur_rr(df)\n",
    "#df.shape"
   ]
  },
  {
   "cell_type": "markdown",
   "metadata": {},
   "source": [
    "**Explore some stats for impact of equipment rail accidents**"
   ]
  },
  {
   "cell_type": "markdown",
   "metadata": {},
   "source": [
    "**What are Equipment Rail Accidents?**"
   ]
  },
  {
   "cell_type": "markdown",
   "metadata": {},
   "source": [
    "**Explore Univariate**"
   ]
  },
  {
   "cell_type": "code",
   "execution_count": null,
   "metadata": {},
   "outputs": [],
   "source": [
    "#def explore_univariate(train, cat_vars, quant_vars):\n",
    "#    for var in cat_vars:\n",
    "#        explore_univariate_categorical(train, var)\n",
    "#        print('_________________________________________________________________')\n",
    "#    for col in quant_vars:\n",
    "#        p, descriptive_stats = explore_univariate_quant(train, col)\n",
    "#        plt.show(p)\n",
    "#        print(descriptive_stats)\n",
    "#        \n",
    "#def explore_univariate_categorical(train, cat_var):\n",
    "#    '''\n",
    "#    takes in a dataframe and a categorical variable and returns\n",
    "#    a frequency table and barplot of the frequencies. \n",
    "#    '''\n",
    "#    frequency_table = freq_table(train, cat_var)\n",
    "#    plt.figure(figsize=(2,2))\n",
    "#    sns.barplot(x=cat_var, y='Count', data=frequency_table, color='white', edgecolor='grey')\n",
    "#    plt.title(cat_var)\n",
    "#    plt.show()\n",
    "#    print(frequency_table)\n",
    "#\n",
    "#def explore_univariate_quant(train, quant_var):\n",
    "#    '''\n",
    "#    takes in a dataframe and a quantitative variable and returns\n",
    "#    descriptive stats table, histogram, and boxplot of the distributions. \n",
    "#    '''\n",
    "#    descriptive_stats = train[quant_var].describe()\n",
    "#    plt.figure(figsize=(8,2))\n",
    "#\n",
    "#    p = plt.subplot(1, 2, 1)\n",
    "#    p = plt.hist(train[quant_var], color='white', edgecolor='grey')\n",
    "#    p = plt.title(quant_var)\n",
    "#\n",
    "#    # second plot: box plot\n",
    "#    p = plt.subplot(1, 2, 2)\n",
    "#    p = plt.boxplot(train[quant_var])\n",
    "#    p = plt.title(quant_var)\n",
    "#    return p, descriptive_stats\n",
    "#    \n",
    "#def freq_table(train, cat_var):\n",
    "#    '''\n",
    "#    for a given categorical variable, compute the frequency count and percent split\n",
    "#    and return a dataframe of those values along with the different classes. \n",
    "#    '''\n",
    "#    class_labels = list(train[cat_var].unique())\n",
    "#\n",
    "#    frequency_table = (\n",
    "#        pd.DataFrame({cat_var: class_labels,\n",
    "#                      'Count': train[cat_var].value_counts(normalize=False), \n",
    "#                      'Percent': round(train[cat_var].value_counts(normalize=True)*100,2)}\n",
    "#                    )\n",
    "#    )\n",
    "#    return frequency_table"
   ]
  },
  {
   "cell_type": "code",
   "execution_count": null,
   "metadata": {},
   "outputs": [],
   "source": [
    "cat_vars = [\"railroad_company\", \"train_type\", \"cause\", \"typrr\"]\n",
    "quant_vars = [\"accident_type\", \"state\", \"temp\", \"visibility\", \"weather\", \"train_speed\", \"train_direction\", \n",
    "             \"train_weight\", \"equip_damage\", \"track_damage\"]"
   ]
  },
  {
   "cell_type": "code",
   "execution_count": null,
   "metadata": {
    "scrolled": true
   },
   "outputs": [],
   "source": [
    "explore.explore_univariate(df, cat_vars, quant_vars)"
   ]
  },
  {
   "cell_type": "markdown",
   "metadata": {},
   "source": [
    "**Takeaways:**\n",
    "    - Outlier in train speed? What train travels at 545 mph?\n",
    "    - What is going on with the State column? Expected 50 but shows 56. Are the 6 extra representing terratories in the US?\n",
    "    - Track Damages and Equip damages have outliers which is expected    "
   ]
  },
  {
   "cell_type": "markdown",
   "metadata": {},
   "source": [
    "**More Univariate Exploration**"
   ]
  },
  {
   "cell_type": "code",
   "execution_count": null,
   "metadata": {},
   "outputs": [],
   "source": [
    "df.info()"
   ]
  },
  {
   "cell_type": "code",
   "execution_count": null,
   "metadata": {},
   "outputs": [],
   "source": [
    "cat_vars = [\"railroad_company\", \"train_type\", \"cause\", \"typrr\"]\n",
    "quant_vars = [\"total_killed\", \"total_injured\", \"max_speed\", \"total_damage\", \n",
    "              \"engineers_onduty\", \"conductors_onduty\", \"brakemen_onduty\", \"region\",\n",
    "             \"signal_type\"]"
   ]
  },
  {
   "cell_type": "code",
   "execution_count": null,
   "metadata": {
    "scrolled": true
   },
   "outputs": [],
   "source": [
    "explore.explore_univariate(df, cat_vars, quant_vars)"
   ]
  },
  {
   "cell_type": "markdown",
   "metadata": {},
   "source": [
    "**Takeaways:**\n",
    "    - What does signal feature mean? The majority of the equip accidents are classified as not signaled...but what does that actually mean?\n",
    "    "
   ]
  },
  {
   "cell_type": "markdown",
   "metadata": {},
   "source": [
    "---"
   ]
  },
  {
   "cell_type": "markdown",
   "metadata": {},
   "source": [
    "**Explore Outliers**"
   ]
  },
  {
   "cell_type": "code",
   "execution_count": 6,
   "metadata": {},
   "outputs": [],
   "source": [
    "def outlier_report(df):\n",
    "    '''\n",
    "    This function takes in a data frame and returns\n",
    "    print statments stating the upper and lower bound outliers for \n",
    "    each column\n",
    "    '''\n",
    "    \n",
    "    columns_to_check = [\"temp\",\n",
    "                        \"train_speed\",\n",
    "                        \"train_weight\",\n",
    "                        \"equip_damage\",\n",
    "                        \"track_damage\",\"total_killed\", \"total_injured\", \"max_speed\", \"total_damage\", \n",
    "                        \"engineers_onduty\", \"conductors_onduty\", \"brakemen_onduty\"]\n",
    "    \n",
    "    for col in columns_to_check:\n",
    "        quartile_01, quartile_03 = np.percentile(df[col], [25, 75])\n",
    "        iqr = quartile_03 - quartile_01\n",
    "    \n",
    "        lower_bound = round(quartile_01 -(2 * iqr), 3)\n",
    "        upper_bound = round(quartile_03 +(2 * iqr), 3)\n",
    "    \n",
    "        #df['outlier'] = df[col].apply(lambda x: outlier_label(x, lower_bound, upper_bound))\n",
    "    \n",
    "\n",
    "        print(f\"The lower and upper bound of the range for '{col}' respectively is: {lower_bound} and {upper_bound}\")"
   ]
  },
  {
   "cell_type": "code",
   "execution_count": 7,
   "metadata": {},
   "outputs": [
    {
     "name": "stdout",
     "output_type": "stream",
     "text": [
      "The lower and upper bound of the range for 'temp' respectively is: -26.0 and 144.0\n",
      "The lower and upper bound of the range for 'train_speed' respectively is: -26.0 and 49.0\n",
      "The lower and upper bound of the range for 'train_weight' respectively is: -13366.0 and 20049.0\n",
      "The lower and upper bound of the range for 'equip_damage' respectively is: -67789.75 and 126031.5\n",
      "The lower and upper bound of the range for 'track_damage' respectively is: -54594.5 and 82034.25\n",
      "The lower and upper bound of the range for 'total_killed' respectively is: 0.0 and 0.0\n",
      "The lower and upper bound of the range for 'total_injured' respectively is: 0.0 and 0.0\n",
      "The lower and upper bound of the range for 'max_speed' respectively is: -26.0 and 49.0\n",
      "The lower and upper bound of the range for 'total_damage' respectively is: -127095.0 and 234898.75\n",
      "The lower and upper bound of the range for 'engineers_onduty' respectively is: 1.0 and 1.0\n",
      "The lower and upper bound of the range for 'conductors_onduty' respectively is: 1.0 and 1.0\n",
      "The lower and upper bound of the range for 'brakemen_onduty' respectively is: -2.0 and 3.0\n"
     ]
    }
   ],
   "source": [
    "outlier_report(df)"
   ]
  },
  {
   "cell_type": "code",
   "execution_count": 8,
   "metadata": {},
   "outputs": [],
   "source": [
    "def visualize_outliers(df):\n",
    "    '''\n",
    "    This function takes in a dataframe\n",
    "    and outputs boxplots to show outlier distribution\n",
    "    for each column in the the dataframe\n",
    "    '''\n",
    "    cols_to_check = [\"temp\",\n",
    "                    \"train_speed\",\n",
    "                    \"train_weight\",\n",
    "                    \"equip_damage\",\n",
    "                    \"track_damage\",\"total_killed\", \"total_injured\", \"max_speed\", \"total_damage\", \n",
    "                    \"engineers_onduty\", \"conductors_onduty\", \"brakemen_onduty\"]\n",
    "    for col in cols_to_check:\n",
    "        sns.boxplot(df[col])\n",
    "        plt.title(col)\n",
    "        plt.show()"
   ]
  },
  {
   "cell_type": "code",
   "execution_count": 9,
   "metadata": {},
   "outputs": [
    {
     "data": {
      "image/png": "[encoded data removed]",
      "text/plain": [
       "<Figure size 432x288 with 1 Axes>"
      ]
     },
     "metadata": {
      "needs_background": "light"
     },
     "output_type": "display_data"
    },
    {
     "data": {
      "image/png": "[encoded data removed]",
      "text/plain": [
       "<Figure size 432x288 with 1 Axes>"
      ]
     },
     "metadata": {
      "needs_background": "light"
     },
     "output_type": "display_data"
    },
    {
     "data": {
      "image/png": "[encoded data removed]",
      "text/plain": [
       "<Figure size 432x288 with 1 Axes>"
      ]
     },
     "metadata": {
      "needs_background": "light"
     },
     "output_type": "display_data"
    },
    {
     "data": {
      "image/png": "[encoded data removed]",
      "text/plain": [
       "<Figure size 432x288 with 1 Axes>"
      ]
     },
     "metadata": {
      "needs_background": "light"
     },
     "output_type": "display_data"
    },
    {
     "data": {
      "image/png": "[encoded data removed]",
      "text/plain": [
       "<Figure size 432x288 with 1 Axes>"
      ]
     },
     "metadata": {
      "needs_background": "light"
     },
     "output_type": "display_data"
    },
    {
     "data": {
      "image/png": "[encoded data removed]",
      "text/plain": [
       "<Figure size 432x288 with 1 Axes>"
      ]
     },
     "metadata": {
      "needs_background": "light"
     },
     "output_type": "display_data"
    },
    {
     "data": {
      "image/png": "[encoded data removed]",
      "text/plain": [
       "<Figure size 432x288 with 1 Axes>"
      ]
     },
     "metadata": {
      "needs_background": "light"
     },
     "output_type": "display_data"
    },
    {
     "data": {
      "image/png": "[encoded data removed]",
      "text/plain": [
       "<Figure size 432x288 with 1 Axes>"
      ]
     },
     "metadata": {
      "needs_background": "light"
     },
     "output_type": "display_data"
    },
    {
     "data": {
      "image/png": "[encoded data removed]",
      "text/plain": [
       "<Figure size 432x288 with 1 Axes>"
      ]
     },
     "metadata": {
      "needs_background": "light"
     },
     "output_type": "display_data"
    },
    {
     "data": {
      "image/png": "[encoded data removed]",
      "text/plain": [
       "<Figure size 432x288 with 1 Axes>"
      ]
     },
     "metadata": {
      "needs_background": "light"
     },
     "output_type": "display_data"
    },
    {
     "data": {
      "image/png": "[encoded data removed]",
      "text/plain": [
       "<Figure size 432x288 with 1 Axes>"
      ]
     },
     "metadata": {
      "needs_background": "light"
     },
     "output_type": "display_data"
    },
    {
     "data": {
      "image/png": "[encoded data removed]",
      "text/plain": [
       "<Figure size 432x288 with 1 Axes>"
      ]
     },
     "metadata": {
      "needs_background": "light"
     },
     "output_type": "display_data"
    }
   ],
   "source": [
    "visualize_outliers(df)"
   ]
  },
  {
   "cell_type": "markdown",
   "metadata": {},
   "source": [
    "**Drop Outliers in Total_Damage**"
   ]
  },
  {
   "cell_type": "code",
   "execution_count": 23,
   "metadata": {},
   "outputs": [
    {
     "data": {
      "text/plain": [
       "(10100, 35)"
      ]
     },
     "execution_count": 23,
     "metadata": {},
     "output_type": "execute_result"
    }
   ],
   "source": [
    "df = df[df.total_damage < 234898.75]\n",
    "df.shape"
   ]
  },
  {
   "cell_type": "markdown",
   "metadata": {},
   "source": [
    "**Takeaways:**\n",
    "   - Need to investigate outliers in:\n",
    "        - max_speed & train speed...one over 500 mph\n",
    "        - train weight\n",
    "        - one super negative temp"
   ]
  },
  {
   "cell_type": "markdown",
   "metadata": {},
   "source": [
    "**Split the Data**"
   ]
  },
  {
   "cell_type": "code",
   "execution_count": 24,
   "metadata": {},
   "outputs": [
    {
     "name": "stdout",
     "output_type": "stream",
     "text": [
      "Train Shape: (5656, 35)\n",
      "Validate Shape: (2424, 35)\n",
      "Test Shape: (2020, 35)\n"
     ]
    }
   ],
   "source": [
    "train, validate, test = explore.train_validate_test_split(df, 'railroad_company', seed=444)\n",
    "print(f'Train Shape: {train.shape}')\n",
    "print(f'Validate Shape: {validate.shape}')\n",
    "print(f'Test Shape: {test.shape}')"
   ]
  },
  {
   "cell_type": "markdown",
   "metadata": {},
   "source": [
    "**Is there a time of year where rail equipment accidents happen with more or less frequency?**"
   ]
  },
  {
   "cell_type": "code",
   "execution_count": null,
   "metadata": {},
   "outputs": [],
   "source": [
    "#train['month'] = pd.DatetimeIndex(train['date']).month\n",
    "#train.head()"
   ]
  },
  {
   "cell_type": "code",
   "execution_count": null,
   "metadata": {},
   "outputs": [],
   "source": [
    "#train.month.hist()"
   ]
  },
  {
   "cell_type": "code",
   "execution_count": null,
   "metadata": {},
   "outputs": [],
   "source": [
    "#train['season'] = train.month.apply(lambda x: \"winter/fall\" if x == 10 or 11 == 12 or x == 1 or x == 2 or x == 3 else \"summer/spring\")\n",
    "#train.head()\n",
    "        "
   ]
  },
  {
   "cell_type": "code",
   "execution_count": null,
   "metadata": {},
   "outputs": [],
   "source": [
    "#train.season.hist()"
   ]
  },
  {
   "cell_type": "markdown",
   "metadata": {},
   "source": [
    "**Takeaways:**\n",
    "- Rail equipment accidents appear to happen more frequently in summer/spring months than in winter/fall months "
   ]
  },
  {
   "cell_type": "markdown",
   "metadata": {},
   "source": [
    "**What is the distribution of track damages?**"
   ]
  },
  {
   "cell_type": "code",
   "execution_count": 25,
   "metadata": {},
   "outputs": [
    {
     "data": {
      "text/plain": [
       "<AxesSubplot:>"
      ]
     },
     "execution_count": 25,
     "metadata": {},
     "output_type": "execute_result"
    },
    {
     "data": {
      "image/png": "[encoded data removed]",
      "text/plain": [
       "<Figure size 1152x864 with 1 Axes>"
      ]
     },
     "metadata": {
      "needs_background": "light"
     },
     "output_type": "display_data"
    }
   ],
   "source": [
    "plt.figure(figsize=(16,12))\n",
    "train.track_damage.hist(bins=100)"
   ]
  },
  {
   "cell_type": "markdown",
   "metadata": {},
   "source": [
    "---"
   ]
  },
  {
   "cell_type": "markdown",
   "metadata": {},
   "source": [
    "**What is the distribution of total_damage?**"
   ]
  },
  {
   "cell_type": "code",
   "execution_count": 26,
   "metadata": {},
   "outputs": [
    {
     "data": {
      "text/plain": [
       "<AxesSubplot:>"
      ]
     },
     "execution_count": 26,
     "metadata": {},
     "output_type": "execute_result"
    },
    {
     "data": {
      "image/png": "[encoded data removed]",
      "text/plain": [
       "<Figure size 1152x864 with 1 Axes>"
      ]
     },
     "metadata": {
      "needs_background": "light"
     },
     "output_type": "display_data"
    }
   ],
   "source": [
    "plt.figure(figsize=(16,12))\n",
    "train.total_damage.hist(bins=100)"
   ]
  },
  {
   "cell_type": "markdown",
   "metadata": {},
   "source": [
    "**Explore Bivariate**"
   ]
  },
  {
   "cell_type": "code",
   "execution_count": null,
   "metadata": {},
   "outputs": [],
   "source": [
    "def explore_bivariate(train, target, cat_vars, quant_vars):\n",
    "    for cat in cat_vars:\n",
    "        explore_bivariate_categorical(train, 'railroad_company', cat)\n",
    "    for quant in quant_vars:\n",
    "        explore_bivariate_quant(train, 'railroad_company', quant)\n",
    "\n",
    "\n",
    "### Univariate\n",
    "\n",
    "def explore_univariate_categorical(train, cat_var):\n",
    "    '''\n",
    "    takes in a dataframe and a categorical variable and returns\n",
    "    a frequency table and barplot of the frequencies. \n",
    "    '''\n",
    "    frequency_table = freq_table(train, cat_var)\n",
    "    plt.figure(figsize=(2,2))\n",
    "    sns.barplot(x=cat_var, y='Count', data=frequency_table, color='white', edgecolor='grey')\n",
    "    plt.title(cat_var)\n",
    "    plt.show()\n",
    "    print(frequency_table)\n",
    "\n",
    "def explore_univariate_quant(train, quant_var):\n",
    "    '''\n",
    "    takes in a dataframe and a quantitative variable and returns\n",
    "    descriptive stats table, histogram, and boxplot of the distributions. \n",
    "    '''\n",
    "    descriptive_stats = train[quant_var].describe()\n",
    "    plt.figure(figsize=(8,2))\n",
    "\n",
    "    p = plt.subplot(1, 2, 1)\n",
    "    p = plt.hist(train[quant_var], color='white', edgecolor='grey')\n",
    "    p = plt.title(quant_var)\n",
    "\n",
    "    # second plot: box plot\n",
    "    p = plt.subplot(1, 2, 2)\n",
    "    p = plt.boxplot(train[quant_var])\n",
    "    p = plt.title(quant_var)\n",
    "    return p, descriptive_stats\n",
    "    \n",
    "def freq_table(train, cat_var):\n",
    "    '''\n",
    "    for a given categorical variable, compute the frequency count and percent split\n",
    "    and return a dataframe of those values along with the different classes. \n",
    "    '''\n",
    "    class_labels = list(train[cat_var].unique())\n",
    "\n",
    "    frequency_table = (\n",
    "        pd.DataFrame({cat_var: class_labels,\n",
    "                      'Count': train[cat_var].value_counts(normalize=False), \n",
    "                      'Percent': round(train[cat_var].value_counts(normalize=True)*100,2)}\n",
    "                    )\n",
    "    )\n",
    "    return frequency_table\n",
    "\n",
    "\n",
    "#### Bivariate\n",
    "\n",
    "def explore_bivariate_categorical(train, target, cat_var):\n",
    "    '''\n",
    "    takes in categorical variable and binary target variable, \n",
    "    returns a crosstab of frequencies\n",
    "    runs a chi-square test for the proportions\n",
    "    and creates a barplot, adding a horizontal line of the overall rate of the target. \n",
    "    '''\n",
    "    print(cat_var, \"\\n_____________________\\n\")\n",
    "    ct = pd.crosstab(train[cat_var], train[target], margins=True)\n",
    "    chi2_summary, observed, expected = run_chi2(train, cat_var, target)\n",
    "   # p = plot_cat_by_target(train, target, cat_var)\n",
    "    \n",
    "    print(chi2_summary)\n",
    "    print(\"\\nobserved:\\n\", ct)\n",
    "    print(\"\\nexpected:\\n\", expected)\n",
    "    #plt.show(p)\n",
    "    print(\"\\n_____________________\\n\")\n",
    "\n",
    "def explore_bivariate_quant(train, target, quant_var):\n",
    "    '''\n",
    "    descriptive stats by each target class. \n",
    "    compare means across 2 target groups \n",
    "    boxenplot of target x quant\n",
    "    swarmplot of target x quant\n",
    "    '''\n",
    "    print(quant_var, \"\\n____________________\\n\")\n",
    "    descriptive_stats = train.groupby(target)[quant_var].describe()\n",
    "    average = train[quant_var].mean()\n",
    "    mann_whitney = compare_means(train, target, quant_var)\n",
    "    plt.figure(figsize=(4,4))\n",
    "    boxen = plot_boxen(train, target, quant_var)\n",
    "    swarm = plot_swarm(train, target, quant_var)\n",
    "    plt.show()\n",
    "    print(descriptive_stats, \"\\n\")\n",
    "    print(\"\\nMann-Whitney Test:\\n\", mann_whitney)\n",
    "    print(\"\\n____________________\\n\")\n",
    "\n",
    "## Bivariate Categorical\n",
    "\n",
    "def run_chi2(train, cat_var, target):\n",
    "    observed = pd.crosstab(train[cat_var], train[target])\n",
    "    chi2, p, degf, expected = stats.chi2_contingency(observed)\n",
    "    chi2_summary = pd.DataFrame({'chi2': [chi2], 'p-value': [p], \n",
    "                                 'degrees of freedom': [degf]})\n",
    "    expected = pd.DataFrame(expected)\n",
    "    return chi2_summary, observed, expected\n",
    "\n",
    "#def plot_cat_by_target(train, target, cat_var):\n",
    "#    p = plt.figure(figsize=(2,2))\n",
    "#    p = sns.barplot(cat_var, target, data=train, alpha=.8, color='lightseagreen')\n",
    "#    overall_rate = train[target].mean()\n",
    "#    p = plt.axhline(overall_rate, ls='--', color='gray')\n",
    "#    return p\n",
    "    \n",
    "\n",
    "## Bivariate Quant\n",
    "\n",
    "def plot_swarm(train, target, quant_var):\n",
    "    average = train[quant_var].mean()\n",
    "    p = sns.swarmplot(data=train, x=target, y=quant_var, color='lightgray')\n",
    "    p = plt.title(quant_var)\n",
    "    p = plt.axhline(average, ls='--', color='black')\n",
    "    return p\n",
    "\n",
    "def plot_boxen(train, target, quant_var):\n",
    "    average = train[quant_var].mean()\n",
    "    p = sns.boxenplot(data=train, x=target, y=quant_var, color='lightseagreen')\n",
    "    p = plt.title(quant_var)\n",
    "    p = plt.axhline(average, ls='--', color='black')\n",
    "    return p\n",
    "\n",
    "# alt_hyp = ‘two-sided’, ‘less’, ‘greater’\n",
    "\n",
    "def compare_means(train, target, quant_var, alt_hyp='two-sided'):\n",
    "    x = train[train[target]==0][quant_var]\n",
    "    y = train[train[target]==1][quant_var]\n",
    "    return stats.mannwhitneyu(x, y, use_continuity=True, alternative=alt_hyp)"
   ]
  },
  {
   "cell_type": "code",
   "execution_count": null,
   "metadata": {},
   "outputs": [],
   "source": [
    "#Breakdown the features by categories for Univariate and Bivariate Functions from Explore Module\n",
    "categorical_target = 'railroad_company'\n",
    "cat_vars = [\"train_type\", \"cause\", \"typrr\"]\n",
    "quant_vars = [\"accident_type\", \"state\", \"temp\", \"visibility\", \"weather\", \"train_speed\", \"train_direction\", \n",
    "             \"train_weight\", \"equip_damage\", \"track_damage\"]"
   ]
  },
  {
   "cell_type": "code",
   "execution_count": null,
   "metadata": {
    "scrolled": true
   },
   "outputs": [],
   "source": [
    "explore_bivariate(train, 'railroad_company', cat_vars, quant_vars)"
   ]
  },
  {
   "cell_type": "markdown",
   "metadata": {},
   "source": [
    "**How do total damages compare by railroad?**"
   ]
  },
  {
   "cell_type": "code",
   "execution_count": 27,
   "metadata": {},
   "outputs": [
    {
     "data": {
      "text/plain": [
       "<AxesSubplot:xlabel='railroad_company'>"
      ]
     },
     "execution_count": 27,
     "metadata": {},
     "output_type": "execute_result"
    },
    {
     "data": {
      "image/png": "[encoded data removed]",
      "text/plain": [
       "<Figure size 432x288 with 1 Axes>"
      ]
     },
     "metadata": {
      "needs_background": "light"
     },
     "output_type": "display_data"
    }
   ],
   "source": [
    "train.groupby('railroad_company').total_damage.median().plot(kind='bar')"
   ]
  },
  {
   "cell_type": "code",
   "execution_count": 48,
   "metadata": {},
   "outputs": [
    {
     "data": {
      "image/png": "[encoded data removed]",
      "text/plain": [
       "<Figure size 1008x720 with 1 Axes>"
      ]
     },
     "metadata": {
      "needs_background": "light"
     },
     "output_type": "display_data"
    }
   ],
   "source": [
    "plt.figure(figsize=(14,10))\n",
    "\n",
    "\n",
    "\n",
    "ax = sns.boxplot(x=\"railroad_company\", y=\"total_damage\", data=train,whis=np.inf )\n",
    "ax = sns.stripplot(x=\"railroad_company\", y=\"total_damage\", data=train, color=\".3\")\n",
    "ax.set_xlabel('Railroad')\n",
    "plt.title('How Do Total Damages($) From an Equipment Accident Vary by Railroad?')\n",
    "\n",
    "\n",
    "plt.show()"
   ]
  },
  {
   "cell_type": "code",
   "execution_count": 82,
   "metadata": {},
   "outputs": [
    {
     "data": {
      "text/plain": [
       "(2020, 2)"
      ]
     },
     "execution_count": 82,
     "metadata": {},
     "output_type": "execute_result"
    }
   ],
   "source": [
    "td_rr_df = test[['railroad_company', 'total_damage']]\n",
    "td_rr_df.shape"
   ]
  },
  {
   "cell_type": "code",
   "execution_count": 83,
   "metadata": {},
   "outputs": [],
   "source": [
    "td_rr_df.to_excel('total_damages_by_rr.xlsx')"
   ]
  },
  {
   "cell_type": "markdown",
   "metadata": {},
   "source": [
    "**Does total_damage have the same distribution shape for each railroad?**"
   ]
  },
  {
   "cell_type": "code",
   "execution_count": 36,
   "metadata": {
    "scrolled": true
   },
   "outputs": [
    {
     "data": {
      "text/html": [
       "<div>\n",
       "<style scoped>\n",
       "    .dataframe tbody tr th:only-of-type {\n",
       "        vertical-align: middle;\n",
       "    }\n",
       "\n",
       "    .dataframe tbody tr th {\n",
       "        vertical-align: top;\n",
       "    }\n",
       "\n",
       "    .dataframe thead th {\n",
       "        text-align: right;\n",
       "    }\n",
       "</style>\n",
       "<table border=\"1\" class=\"dataframe\">\n",
       "  <thead>\n",
       "    <tr style=\"text-align: right;\">\n",
       "      <th></th>\n",
       "      <th>railroad_company</th>\n",
       "      <th>accident_type</th>\n",
       "      <th>state_fips</th>\n",
       "      <th>temp</th>\n",
       "      <th>visibility</th>\n",
       "      <th>weather</th>\n",
       "      <th>train_speed</th>\n",
       "      <th>train_direction</th>\n",
       "      <th>train_weight</th>\n",
       "      <th>train_type</th>\n",
       "      <th>...</th>\n",
       "      <th>brakemen_onduty</th>\n",
       "      <th>region</th>\n",
       "      <th>typrr</th>\n",
       "      <th>lat</th>\n",
       "      <th>long</th>\n",
       "      <th>signal_type</th>\n",
       "      <th>date</th>\n",
       "      <th>season</th>\n",
       "      <th>state</th>\n",
       "      <th>year</th>\n",
       "    </tr>\n",
       "  </thead>\n",
       "  <tbody>\n",
       "    <tr>\n",
       "      <th>6760</th>\n",
       "      <td>UP</td>\n",
       "      <td>1</td>\n",
       "      <td>35</td>\n",
       "      <td>89</td>\n",
       "      <td>2</td>\n",
       "      <td>2</td>\n",
       "      <td>4</td>\n",
       "      <td>4.0</td>\n",
       "      <td>0</td>\n",
       "      <td>8</td>\n",
       "      <td>...</td>\n",
       "      <td>1.0</td>\n",
       "      <td>5</td>\n",
       "      <td>1</td>\n",
       "      <td>32.344325</td>\n",
       "      <td>-108.684173</td>\n",
       "      <td>2</td>\n",
       "      <td>2019-08-05 13:45:00</td>\n",
       "      <td>Summer</td>\n",
       "      <td>NM</td>\n",
       "      <td>2019</td>\n",
       "    </tr>\n",
       "    <tr>\n",
       "      <th>3890</th>\n",
       "      <td>UP</td>\n",
       "      <td>1</td>\n",
       "      <td>16</td>\n",
       "      <td>50</td>\n",
       "      <td>2</td>\n",
       "      <td>1</td>\n",
       "      <td>4</td>\n",
       "      <td>3.0</td>\n",
       "      <td>4200</td>\n",
       "      <td>7</td>\n",
       "      <td>...</td>\n",
       "      <td>0.0</td>\n",
       "      <td>8</td>\n",
       "      <td>1</td>\n",
       "      <td>43.585991</td>\n",
       "      <td>-116.568469</td>\n",
       "      <td>2</td>\n",
       "      <td>2013-04-14 20:08:00</td>\n",
       "      <td>Spring</td>\n",
       "      <td>ID</td>\n",
       "      <td>2013</td>\n",
       "    </tr>\n",
       "    <tr>\n",
       "      <th>6062</th>\n",
       "      <td>UP</td>\n",
       "      <td>1</td>\n",
       "      <td>22</td>\n",
       "      <td>57</td>\n",
       "      <td>2</td>\n",
       "      <td>2</td>\n",
       "      <td>10</td>\n",
       "      <td>1.0</td>\n",
       "      <td>917</td>\n",
       "      <td>1</td>\n",
       "      <td>...</td>\n",
       "      <td>1.0</td>\n",
       "      <td>5</td>\n",
       "      <td>1</td>\n",
       "      <td>30.220090000000003</td>\n",
       "      <td>-93.142674</td>\n",
       "      <td>2</td>\n",
       "      <td>2020-12-22 10:10:00</td>\n",
       "      <td>Winter</td>\n",
       "      <td>LA</td>\n",
       "      <td>2020</td>\n",
       "    </tr>\n",
       "    <tr>\n",
       "      <th>417</th>\n",
       "      <td>UP</td>\n",
       "      <td>1</td>\n",
       "      <td>48</td>\n",
       "      <td>80</td>\n",
       "      <td>4</td>\n",
       "      <td>1</td>\n",
       "      <td>5</td>\n",
       "      <td>4.0</td>\n",
       "      <td>0</td>\n",
       "      <td>8</td>\n",
       "      <td>...</td>\n",
       "      <td>0.0</td>\n",
       "      <td>5</td>\n",
       "      <td>1</td>\n",
       "      <td>32.776494</td>\n",
       "      <td>-96.664986</td>\n",
       "      <td>2</td>\n",
       "      <td>2014-08-14 23:00:00</td>\n",
       "      <td>Summer</td>\n",
       "      <td>TX</td>\n",
       "      <td>2014</td>\n",
       "    </tr>\n",
       "    <tr>\n",
       "      <th>710</th>\n",
       "      <td>UP</td>\n",
       "      <td>1</td>\n",
       "      <td>48</td>\n",
       "      <td>40</td>\n",
       "      <td>4</td>\n",
       "      <td>3</td>\n",
       "      <td>5</td>\n",
       "      <td>1.0</td>\n",
       "      <td>3190</td>\n",
       "      <td>4</td>\n",
       "      <td>...</td>\n",
       "      <td>0.0</td>\n",
       "      <td>5</td>\n",
       "      <td>1</td>\n",
       "      <td>30.0018</td>\n",
       "      <td>-97.150144</td>\n",
       "      <td>2</td>\n",
       "      <td>2015-01-01 23:30:00</td>\n",
       "      <td>Winter</td>\n",
       "      <td>TX</td>\n",
       "      <td>2015</td>\n",
       "    </tr>\n",
       "    <tr>\n",
       "      <th>...</th>\n",
       "      <td>...</td>\n",
       "      <td>...</td>\n",
       "      <td>...</td>\n",
       "      <td>...</td>\n",
       "      <td>...</td>\n",
       "      <td>...</td>\n",
       "      <td>...</td>\n",
       "      <td>...</td>\n",
       "      <td>...</td>\n",
       "      <td>...</td>\n",
       "      <td>...</td>\n",
       "      <td>...</td>\n",
       "      <td>...</td>\n",
       "      <td>...</td>\n",
       "      <td>...</td>\n",
       "      <td>...</td>\n",
       "      <td>...</td>\n",
       "      <td>...</td>\n",
       "      <td>...</td>\n",
       "      <td>...</td>\n",
       "      <td>...</td>\n",
       "    </tr>\n",
       "    <tr>\n",
       "      <th>5806</th>\n",
       "      <td>UP</td>\n",
       "      <td>1</td>\n",
       "      <td>22</td>\n",
       "      <td>65</td>\n",
       "      <td>1</td>\n",
       "      <td>1</td>\n",
       "      <td>19</td>\n",
       "      <td>2.0</td>\n",
       "      <td>13317</td>\n",
       "      <td>1</td>\n",
       "      <td>...</td>\n",
       "      <td>0.0</td>\n",
       "      <td>5</td>\n",
       "      <td>1</td>\n",
       "      <td>32.565086</td>\n",
       "      <td>-91.988163</td>\n",
       "      <td>1</td>\n",
       "      <td>2012-09-24 05:50:00</td>\n",
       "      <td>Fall</td>\n",
       "      <td>LA</td>\n",
       "      <td>2012</td>\n",
       "    </tr>\n",
       "    <tr>\n",
       "      <th>4735</th>\n",
       "      <td>UP</td>\n",
       "      <td>1</td>\n",
       "      <td>6</td>\n",
       "      <td>87</td>\n",
       "      <td>2</td>\n",
       "      <td>1</td>\n",
       "      <td>13</td>\n",
       "      <td>4.0</td>\n",
       "      <td>477</td>\n",
       "      <td>7</td>\n",
       "      <td>...</td>\n",
       "      <td>0.0</td>\n",
       "      <td>7</td>\n",
       "      <td>1</td>\n",
       "      <td>34.008074</td>\n",
       "      <td>-117.51511299999999</td>\n",
       "      <td>2</td>\n",
       "      <td>2020-10-04 13:30:00</td>\n",
       "      <td>Fall</td>\n",
       "      <td>CA</td>\n",
       "      <td>2020</td>\n",
       "    </tr>\n",
       "    <tr>\n",
       "      <th>33</th>\n",
       "      <td>UP</td>\n",
       "      <td>12</td>\n",
       "      <td>48</td>\n",
       "      <td>95</td>\n",
       "      <td>2</td>\n",
       "      <td>1</td>\n",
       "      <td>0</td>\n",
       "      <td>1.0</td>\n",
       "      <td>2370</td>\n",
       "      <td>1</td>\n",
       "      <td>...</td>\n",
       "      <td>0.0</td>\n",
       "      <td>5</td>\n",
       "      <td>1</td>\n",
       "      <td>29.71305</td>\n",
       "      <td>-95.256175</td>\n",
       "      <td>2</td>\n",
       "      <td>2012-07-26 15:45:00</td>\n",
       "      <td>Summer</td>\n",
       "      <td>TX</td>\n",
       "      <td>2012</td>\n",
       "    </tr>\n",
       "    <tr>\n",
       "      <th>4228</th>\n",
       "      <td>UP</td>\n",
       "      <td>1</td>\n",
       "      <td>6</td>\n",
       "      <td>46</td>\n",
       "      <td>4</td>\n",
       "      <td>1</td>\n",
       "      <td>9</td>\n",
       "      <td>4.0</td>\n",
       "      <td>5670</td>\n",
       "      <td>1</td>\n",
       "      <td>...</td>\n",
       "      <td>0.0</td>\n",
       "      <td>7</td>\n",
       "      <td>1</td>\n",
       "      <td>38.710587</td>\n",
       "      <td>-121.331026</td>\n",
       "      <td>2</td>\n",
       "      <td>2015-01-05 17:55:00</td>\n",
       "      <td>Winter</td>\n",
       "      <td>CA</td>\n",
       "      <td>2015</td>\n",
       "    </tr>\n",
       "    <tr>\n",
       "      <th>4387</th>\n",
       "      <td>UP</td>\n",
       "      <td>1</td>\n",
       "      <td>6</td>\n",
       "      <td>72</td>\n",
       "      <td>2</td>\n",
       "      <td>1</td>\n",
       "      <td>4</td>\n",
       "      <td>3.0</td>\n",
       "      <td>3561</td>\n",
       "      <td>1</td>\n",
       "      <td>...</td>\n",
       "      <td>1.0</td>\n",
       "      <td>7</td>\n",
       "      <td>1</td>\n",
       "      <td>34.009952</td>\n",
       "      <td>-117.93244399999999</td>\n",
       "      <td>2</td>\n",
       "      <td>2016-05-26 16:57:00</td>\n",
       "      <td>Spring</td>\n",
       "      <td>CA</td>\n",
       "      <td>2016</td>\n",
       "    </tr>\n",
       "  </tbody>\n",
       "</table>\n",
       "<p>2112 rows × 35 columns</p>\n",
       "</div>"
      ],
      "text/plain": [
       "     railroad_company  accident_type  state_fips  temp  visibility  weather  \\\n",
       "6760               UP              1          35    89           2        2   \n",
       "3890               UP              1          16    50           2        1   \n",
       "6062               UP              1          22    57           2        2   \n",
       "417                UP              1          48    80           4        1   \n",
       "710                UP              1          48    40           4        3   \n",
       "...               ...            ...         ...   ...         ...      ...   \n",
       "5806               UP              1          22    65           1        1   \n",
       "4735               UP              1           6    87           2        1   \n",
       "33                 UP             12          48    95           2        1   \n",
       "4228               UP              1           6    46           4        1   \n",
       "4387               UP              1           6    72           2        1   \n",
       "\n",
       "      train_speed  train_direction  train_weight train_type  ...  \\\n",
       "6760            4              4.0             0          8  ...   \n",
       "3890            4              3.0          4200          7  ...   \n",
       "6062           10              1.0           917          1  ...   \n",
       "417             5              4.0             0          8  ...   \n",
       "710             5              1.0          3190          4  ...   \n",
       "...           ...              ...           ...        ...  ...   \n",
       "5806           19              2.0         13317          1  ...   \n",
       "4735           13              4.0           477          7  ...   \n",
       "33              0              1.0          2370          1  ...   \n",
       "4228            9              4.0          5670          1  ...   \n",
       "4387            4              3.0          3561          1  ...   \n",
       "\n",
       "      brakemen_onduty  region  typrr                 lat                 long  \\\n",
       "6760              1.0       5      1           32.344325          -108.684173   \n",
       "3890              0.0       8      1           43.585991          -116.568469   \n",
       "6062              1.0       5      1  30.220090000000003           -93.142674   \n",
       "417               0.0       5      1           32.776494           -96.664986   \n",
       "710               0.0       5      1             30.0018           -97.150144   \n",
       "...               ...     ...    ...                 ...                  ...   \n",
       "5806              0.0       5      1           32.565086           -91.988163   \n",
       "4735              0.0       7      1           34.008074  -117.51511299999999   \n",
       "33                0.0       5      1            29.71305           -95.256175   \n",
       "4228              0.0       7      1           38.710587          -121.331026   \n",
       "4387              1.0       7      1           34.009952  -117.93244399999999   \n",
       "\n",
       "      signal_type                date  season state  year  \n",
       "6760            2 2019-08-05 13:45:00  Summer    NM  2019  \n",
       "3890            2 2013-04-14 20:08:00  Spring    ID  2013  \n",
       "6062            2 2020-12-22 10:10:00  Winter    LA  2020  \n",
       "417             2 2014-08-14 23:00:00  Summer    TX  2014  \n",
       "710             2 2015-01-01 23:30:00  Winter    TX  2015  \n",
       "...           ...                 ...     ...   ...   ...  \n",
       "5806            1 2012-09-24 05:50:00    Fall    LA  2012  \n",
       "4735            2 2020-10-04 13:30:00    Fall    CA  2020  \n",
       "33              2 2012-07-26 15:45:00  Summer    TX  2012  \n",
       "4228            2 2015-01-05 17:55:00  Winter    CA  2015  \n",
       "4387            2 2016-05-26 16:57:00  Spring    CA  2016  \n",
       "\n",
       "[2112 rows x 35 columns]"
      ]
     },
     "execution_count": 36,
     "metadata": {},
     "output_type": "execute_result"
    }
   ],
   "source": [
    "#Subset the UP observations\n",
    "up_train = train[train.railroad_company == 'UP']\n",
    "up_train"
   ]
  },
  {
   "cell_type": "code",
   "execution_count": 38,
   "metadata": {},
   "outputs": [
    {
     "data": {
      "text/plain": [
       "<AxesSubplot:>"
      ]
     },
     "execution_count": 38,
     "metadata": {},
     "output_type": "execute_result"
    },
    {
     "data": {
      "image/png": "[encoded data removed]",
      "text/plain": [
       "<Figure size 432x288 with 1 Axes>"
      ]
     },
     "metadata": {
      "needs_background": "light"
     },
     "output_type": "display_data"
    }
   ],
   "source": [
    "#View the dist of damages for UP\n",
    "up_train.total_damage.hist()"
   ]
  },
  {
   "cell_type": "code",
   "execution_count": 39,
   "metadata": {},
   "outputs": [
    {
     "data": {
      "text/plain": [
       "<AxesSubplot:>"
      ]
     },
     "execution_count": 39,
     "metadata": {},
     "output_type": "execute_result"
    },
    {
     "data": {
      "image/png": "[encoded data removed]",
      "text/plain": [
       "<Figure size 432x288 with 1 Axes>"
      ]
     },
     "metadata": {
      "needs_background": "light"
     },
     "output_type": "display_data"
    }
   ],
   "source": [
    "#Subset ATK\n",
    "atk_train = train[train.railroad_company == 'ATK']\n",
    "\n",
    "#View the Dist of Damages for ATK\n",
    "atk_train.total_damage.hist()"
   ]
  },
  {
   "cell_type": "code",
   "execution_count": null,
   "metadata": {},
   "outputs": [],
   "source": []
  },
  {
   "cell_type": "markdown",
   "metadata": {},
   "source": [
    "**Explore Using crosstabs**"
   ]
  },
  {
   "cell_type": "code",
   "execution_count": 21,
   "metadata": {
    "scrolled": true
   },
   "outputs": [
    {
     "data": {
      "text/html": [
       "<div>\n",
       "<style scoped>\n",
       "    .dataframe tbody tr th:only-of-type {\n",
       "        vertical-align: middle;\n",
       "    }\n",
       "\n",
       "    .dataframe tbody tr th {\n",
       "        vertical-align: top;\n",
       "    }\n",
       "\n",
       "    .dataframe thead th {\n",
       "        text-align: right;\n",
       "    }\n",
       "</style>\n",
       "<table border=\"1\" class=\"dataframe\">\n",
       "  <thead>\n",
       "    <tr style=\"text-align: right;\">\n",
       "      <th>railroad_company</th>\n",
       "      <th>ATK</th>\n",
       "      <th>BNSF</th>\n",
       "      <th>CSX</th>\n",
       "      <th>NS</th>\n",
       "      <th>UP</th>\n",
       "      <th>All</th>\n",
       "    </tr>\n",
       "    <tr>\n",
       "      <th>state</th>\n",
       "      <th></th>\n",
       "      <th></th>\n",
       "      <th></th>\n",
       "      <th></th>\n",
       "      <th></th>\n",
       "      <th></th>\n",
       "    </tr>\n",
       "  </thead>\n",
       "  <tbody>\n",
       "    <tr>\n",
       "      <th>AL</th>\n",
       "      <td>0.000776</td>\n",
       "      <td>0.002173</td>\n",
       "      <td>0.009624</td>\n",
       "      <td>0.014281</td>\n",
       "      <td>0.000000</td>\n",
       "      <td>0.026855</td>\n",
       "    </tr>\n",
       "    <tr>\n",
       "      <th>AR</th>\n",
       "      <td>0.000155</td>\n",
       "      <td>0.002018</td>\n",
       "      <td>0.000000</td>\n",
       "      <td>0.000000</td>\n",
       "      <td>0.018473</td>\n",
       "      <td>0.020646</td>\n",
       "    </tr>\n",
       "    <tr>\n",
       "      <th>AZ</th>\n",
       "      <td>0.000155</td>\n",
       "      <td>0.004967</td>\n",
       "      <td>0.000000</td>\n",
       "      <td>0.000000</td>\n",
       "      <td>0.007296</td>\n",
       "      <td>0.012419</td>\n",
       "    </tr>\n",
       "    <tr>\n",
       "      <th>CA</th>\n",
       "      <td>0.009624</td>\n",
       "      <td>0.022819</td>\n",
       "      <td>0.000000</td>\n",
       "      <td>0.000000</td>\n",
       "      <td>0.037721</td>\n",
       "      <td>0.070165</td>\n",
       "    </tr>\n",
       "    <tr>\n",
       "      <th>CO</th>\n",
       "      <td>0.000310</td>\n",
       "      <td>0.011177</td>\n",
       "      <td>0.000000</td>\n",
       "      <td>0.000000</td>\n",
       "      <td>0.008693</td>\n",
       "      <td>0.020180</td>\n",
       "    </tr>\n",
       "    <tr>\n",
       "      <th>CT</th>\n",
       "      <td>0.001863</td>\n",
       "      <td>0.000000</td>\n",
       "      <td>0.000155</td>\n",
       "      <td>0.000000</td>\n",
       "      <td>0.000000</td>\n",
       "      <td>0.002018</td>\n",
       "    </tr>\n",
       "    <tr>\n",
       "      <th>DC</th>\n",
       "      <td>0.004036</td>\n",
       "      <td>0.000000</td>\n",
       "      <td>0.000000</td>\n",
       "      <td>0.000000</td>\n",
       "      <td>0.000000</td>\n",
       "      <td>0.004036</td>\n",
       "    </tr>\n",
       "    <tr>\n",
       "      <th>DE</th>\n",
       "      <td>0.002484</td>\n",
       "      <td>0.000000</td>\n",
       "      <td>0.000310</td>\n",
       "      <td>0.000621</td>\n",
       "      <td>0.000000</td>\n",
       "      <td>0.003415</td>\n",
       "    </tr>\n",
       "    <tr>\n",
       "      <th>FL</th>\n",
       "      <td>0.002639</td>\n",
       "      <td>0.000000</td>\n",
       "      <td>0.007762</td>\n",
       "      <td>0.000931</td>\n",
       "      <td>0.000000</td>\n",
       "      <td>0.011332</td>\n",
       "    </tr>\n",
       "    <tr>\n",
       "      <th>GA</th>\n",
       "      <td>0.000621</td>\n",
       "      <td>0.000000</td>\n",
       "      <td>0.014437</td>\n",
       "      <td>0.017386</td>\n",
       "      <td>0.000000</td>\n",
       "      <td>0.032443</td>\n",
       "    </tr>\n",
       "    <tr>\n",
       "      <th>IA</th>\n",
       "      <td>0.000000</td>\n",
       "      <td>0.005123</td>\n",
       "      <td>0.000000</td>\n",
       "      <td>0.000000</td>\n",
       "      <td>0.019559</td>\n",
       "      <td>0.024682</td>\n",
       "    </tr>\n",
       "    <tr>\n",
       "      <th>ID</th>\n",
       "      <td>0.000310</td>\n",
       "      <td>0.000466</td>\n",
       "      <td>0.000000</td>\n",
       "      <td>0.000000</td>\n",
       "      <td>0.009003</td>\n",
       "      <td>0.009780</td>\n",
       "    </tr>\n",
       "    <tr>\n",
       "      <th>IL</th>\n",
       "      <td>0.004036</td>\n",
       "      <td>0.023906</td>\n",
       "      <td>0.005744</td>\n",
       "      <td>0.010556</td>\n",
       "      <td>0.030270</td>\n",
       "      <td>0.074511</td>\n",
       "    </tr>\n",
       "    <tr>\n",
       "      <th>IN</th>\n",
       "      <td>0.000466</td>\n",
       "      <td>0.000000</td>\n",
       "      <td>0.009469</td>\n",
       "      <td>0.014902</td>\n",
       "      <td>0.000000</td>\n",
       "      <td>0.024837</td>\n",
       "    </tr>\n",
       "    <tr>\n",
       "      <th>KS</th>\n",
       "      <td>0.000466</td>\n",
       "      <td>0.013660</td>\n",
       "      <td>0.000000</td>\n",
       "      <td>0.000000</td>\n",
       "      <td>0.020180</td>\n",
       "      <td>0.034306</td>\n",
       "    </tr>\n",
       "    <tr>\n",
       "      <th>KY</th>\n",
       "      <td>0.000000</td>\n",
       "      <td>0.000000</td>\n",
       "      <td>0.007762</td>\n",
       "      <td>0.003570</td>\n",
       "      <td>0.000155</td>\n",
       "      <td>0.011487</td>\n",
       "    </tr>\n",
       "    <tr>\n",
       "      <th>LA</th>\n",
       "      <td>0.001708</td>\n",
       "      <td>0.003415</td>\n",
       "      <td>0.000466</td>\n",
       "      <td>0.000776</td>\n",
       "      <td>0.018473</td>\n",
       "      <td>0.024837</td>\n",
       "    </tr>\n",
       "    <tr>\n",
       "      <th>MA</th>\n",
       "      <td>0.001397</td>\n",
       "      <td>0.000000</td>\n",
       "      <td>0.002173</td>\n",
       "      <td>0.000000</td>\n",
       "      <td>0.000000</td>\n",
       "      <td>0.003570</td>\n",
       "    </tr>\n",
       "    <tr>\n",
       "      <th>MD</th>\n",
       "      <td>0.003726</td>\n",
       "      <td>0.000000</td>\n",
       "      <td>0.005278</td>\n",
       "      <td>0.001708</td>\n",
       "      <td>0.000000</td>\n",
       "      <td>0.010711</td>\n",
       "    </tr>\n",
       "    <tr>\n",
       "      <th>MI</th>\n",
       "      <td>0.001708</td>\n",
       "      <td>0.000000</td>\n",
       "      <td>0.000776</td>\n",
       "      <td>0.002018</td>\n",
       "      <td>0.000000</td>\n",
       "      <td>0.004502</td>\n",
       "    </tr>\n",
       "    <tr>\n",
       "      <th>MN</th>\n",
       "      <td>0.000310</td>\n",
       "      <td>0.018473</td>\n",
       "      <td>0.000000</td>\n",
       "      <td>0.000000</td>\n",
       "      <td>0.005123</td>\n",
       "      <td>0.023906</td>\n",
       "    </tr>\n",
       "    <tr>\n",
       "      <th>MO</th>\n",
       "      <td>0.000931</td>\n",
       "      <td>0.014126</td>\n",
       "      <td>0.000000</td>\n",
       "      <td>0.002794</td>\n",
       "      <td>0.013971</td>\n",
       "      <td>0.031822</td>\n",
       "    </tr>\n",
       "    <tr>\n",
       "      <th>MS</th>\n",
       "      <td>0.001708</td>\n",
       "      <td>0.001863</td>\n",
       "      <td>0.000621</td>\n",
       "      <td>0.001552</td>\n",
       "      <td>0.000000</td>\n",
       "      <td>0.005744</td>\n",
       "    </tr>\n",
       "    <tr>\n",
       "      <th>MT</th>\n",
       "      <td>0.000155</td>\n",
       "      <td>0.010245</td>\n",
       "      <td>0.000000</td>\n",
       "      <td>0.000000</td>\n",
       "      <td>0.000310</td>\n",
       "      <td>0.010711</td>\n",
       "    </tr>\n",
       "    <tr>\n",
       "      <th>NC</th>\n",
       "      <td>0.001863</td>\n",
       "      <td>0.000000</td>\n",
       "      <td>0.006209</td>\n",
       "      <td>0.008538</td>\n",
       "      <td>0.000000</td>\n",
       "      <td>0.016610</td>\n",
       "    </tr>\n",
       "    <tr>\n",
       "      <th>ND</th>\n",
       "      <td>0.000310</td>\n",
       "      <td>0.008693</td>\n",
       "      <td>0.000000</td>\n",
       "      <td>0.000000</td>\n",
       "      <td>0.000000</td>\n",
       "      <td>0.009003</td>\n",
       "    </tr>\n",
       "    <tr>\n",
       "      <th>NE</th>\n",
       "      <td>0.000621</td>\n",
       "      <td>0.021111</td>\n",
       "      <td>0.000000</td>\n",
       "      <td>0.000000</td>\n",
       "      <td>0.027010</td>\n",
       "      <td>0.048743</td>\n",
       "    </tr>\n",
       "    <tr>\n",
       "      <th>NH</th>\n",
       "      <td>0.000310</td>\n",
       "      <td>0.000000</td>\n",
       "      <td>0.000000</td>\n",
       "      <td>0.000000</td>\n",
       "      <td>0.000000</td>\n",
       "      <td>0.000310</td>\n",
       "    </tr>\n",
       "    <tr>\n",
       "      <th>NJ</th>\n",
       "      <td>0.002639</td>\n",
       "      <td>0.000000</td>\n",
       "      <td>0.001087</td>\n",
       "      <td>0.001242</td>\n",
       "      <td>0.000000</td>\n",
       "      <td>0.004967</td>\n",
       "    </tr>\n",
       "    <tr>\n",
       "      <th>NM</th>\n",
       "      <td>0.000466</td>\n",
       "      <td>0.009935</td>\n",
       "      <td>0.000000</td>\n",
       "      <td>0.000000</td>\n",
       "      <td>0.002173</td>\n",
       "      <td>0.012574</td>\n",
       "    </tr>\n",
       "    <tr>\n",
       "      <th>NV</th>\n",
       "      <td>0.000155</td>\n",
       "      <td>0.000000</td>\n",
       "      <td>0.000000</td>\n",
       "      <td>0.000000</td>\n",
       "      <td>0.006364</td>\n",
       "      <td>0.006520</td>\n",
       "    </tr>\n",
       "    <tr>\n",
       "      <th>NY</th>\n",
       "      <td>0.004812</td>\n",
       "      <td>0.000000</td>\n",
       "      <td>0.008693</td>\n",
       "      <td>0.001552</td>\n",
       "      <td>0.000000</td>\n",
       "      <td>0.015057</td>\n",
       "    </tr>\n",
       "    <tr>\n",
       "      <th>OH</th>\n",
       "      <td>0.000155</td>\n",
       "      <td>0.000000</td>\n",
       "      <td>0.015368</td>\n",
       "      <td>0.018317</td>\n",
       "      <td>0.000000</td>\n",
       "      <td>0.033840</td>\n",
       "    </tr>\n",
       "    <tr>\n",
       "      <th>OK</th>\n",
       "      <td>0.000000</td>\n",
       "      <td>0.015523</td>\n",
       "      <td>0.000000</td>\n",
       "      <td>0.000000</td>\n",
       "      <td>0.006985</td>\n",
       "      <td>0.022509</td>\n",
       "    </tr>\n",
       "    <tr>\n",
       "      <th>OR</th>\n",
       "      <td>0.000621</td>\n",
       "      <td>0.002018</td>\n",
       "      <td>0.000000</td>\n",
       "      <td>0.000000</td>\n",
       "      <td>0.011953</td>\n",
       "      <td>0.014592</td>\n",
       "    </tr>\n",
       "    <tr>\n",
       "      <th>PA</th>\n",
       "      <td>0.004657</td>\n",
       "      <td>0.000000</td>\n",
       "      <td>0.003726</td>\n",
       "      <td>0.022198</td>\n",
       "      <td>0.000000</td>\n",
       "      <td>0.030581</td>\n",
       "    </tr>\n",
       "    <tr>\n",
       "      <th>RI</th>\n",
       "      <td>0.000776</td>\n",
       "      <td>0.000000</td>\n",
       "      <td>0.000000</td>\n",
       "      <td>0.000000</td>\n",
       "      <td>0.000000</td>\n",
       "      <td>0.000776</td>\n",
       "    </tr>\n",
       "    <tr>\n",
       "      <th>SC</th>\n",
       "      <td>0.000776</td>\n",
       "      <td>0.000000</td>\n",
       "      <td>0.006675</td>\n",
       "      <td>0.004191</td>\n",
       "      <td>0.000000</td>\n",
       "      <td>0.011642</td>\n",
       "    </tr>\n",
       "    <tr>\n",
       "      <th>SD</th>\n",
       "      <td>0.000000</td>\n",
       "      <td>0.004502</td>\n",
       "      <td>0.000000</td>\n",
       "      <td>0.000000</td>\n",
       "      <td>0.000000</td>\n",
       "      <td>0.004502</td>\n",
       "    </tr>\n",
       "    <tr>\n",
       "      <th>TN</th>\n",
       "      <td>0.000155</td>\n",
       "      <td>0.005588</td>\n",
       "      <td>0.008693</td>\n",
       "      <td>0.008538</td>\n",
       "      <td>0.001552</td>\n",
       "      <td>0.024527</td>\n",
       "    </tr>\n",
       "    <tr>\n",
       "      <th>TX</th>\n",
       "      <td>0.002484</td>\n",
       "      <td>0.045793</td>\n",
       "      <td>0.000000</td>\n",
       "      <td>0.000000</td>\n",
       "      <td>0.095622</td>\n",
       "      <td>0.143899</td>\n",
       "    </tr>\n",
       "    <tr>\n",
       "      <th>UT</th>\n",
       "      <td>0.000000</td>\n",
       "      <td>0.000466</td>\n",
       "      <td>0.000000</td>\n",
       "      <td>0.000000</td>\n",
       "      <td>0.013505</td>\n",
       "      <td>0.013971</td>\n",
       "    </tr>\n",
       "    <tr>\n",
       "      <th>VA</th>\n",
       "      <td>0.001397</td>\n",
       "      <td>0.000000</td>\n",
       "      <td>0.007917</td>\n",
       "      <td>0.013660</td>\n",
       "      <td>0.000000</td>\n",
       "      <td>0.022974</td>\n",
       "    </tr>\n",
       "    <tr>\n",
       "      <th>VT</th>\n",
       "      <td>0.000310</td>\n",
       "      <td>0.000000</td>\n",
       "      <td>0.000000</td>\n",
       "      <td>0.000000</td>\n",
       "      <td>0.000000</td>\n",
       "      <td>0.000310</td>\n",
       "    </tr>\n",
       "    <tr>\n",
       "      <th>WA</th>\n",
       "      <td>0.002328</td>\n",
       "      <td>0.016144</td>\n",
       "      <td>0.000000</td>\n",
       "      <td>0.000000</td>\n",
       "      <td>0.002949</td>\n",
       "      <td>0.021422</td>\n",
       "    </tr>\n",
       "    <tr>\n",
       "      <th>WI</th>\n",
       "      <td>0.000155</td>\n",
       "      <td>0.003260</td>\n",
       "      <td>0.000000</td>\n",
       "      <td>0.000000</td>\n",
       "      <td>0.006830</td>\n",
       "      <td>0.010245</td>\n",
       "    </tr>\n",
       "    <tr>\n",
       "      <th>WV</th>\n",
       "      <td>0.000000</td>\n",
       "      <td>0.000000</td>\n",
       "      <td>0.005899</td>\n",
       "      <td>0.004812</td>\n",
       "      <td>0.000000</td>\n",
       "      <td>0.010711</td>\n",
       "    </tr>\n",
       "    <tr>\n",
       "      <th>WY</th>\n",
       "      <td>0.000000</td>\n",
       "      <td>0.007296</td>\n",
       "      <td>0.000000</td>\n",
       "      <td>0.000000</td>\n",
       "      <td>0.013505</td>\n",
       "      <td>0.020801</td>\n",
       "    </tr>\n",
       "    <tr>\n",
       "      <th>All</th>\n",
       "      <td>0.064576</td>\n",
       "      <td>0.274759</td>\n",
       "      <td>0.128842</td>\n",
       "      <td>0.154145</td>\n",
       "      <td>0.377678</td>\n",
       "      <td>1.000000</td>\n",
       "    </tr>\n",
       "  </tbody>\n",
       "</table>\n",
       "</div>"
      ],
      "text/plain": [
       "railroad_company       ATK      BNSF       CSX        NS        UP       All\n",
       "state                                                                       \n",
       " AL               0.000776  0.002173  0.009624  0.014281  0.000000  0.026855\n",
       " AR               0.000155  0.002018  0.000000  0.000000  0.018473  0.020646\n",
       " AZ               0.000155  0.004967  0.000000  0.000000  0.007296  0.012419\n",
       " CA               0.009624  0.022819  0.000000  0.000000  0.037721  0.070165\n",
       " CO               0.000310  0.011177  0.000000  0.000000  0.008693  0.020180\n",
       " CT               0.001863  0.000000  0.000155  0.000000  0.000000  0.002018\n",
       " DC               0.004036  0.000000  0.000000  0.000000  0.000000  0.004036\n",
       " DE               0.002484  0.000000  0.000310  0.000621  0.000000  0.003415\n",
       " FL               0.002639  0.000000  0.007762  0.000931  0.000000  0.011332\n",
       " GA               0.000621  0.000000  0.014437  0.017386  0.000000  0.032443\n",
       " IA               0.000000  0.005123  0.000000  0.000000  0.019559  0.024682\n",
       " ID               0.000310  0.000466  0.000000  0.000000  0.009003  0.009780\n",
       " IL               0.004036  0.023906  0.005744  0.010556  0.030270  0.074511\n",
       " IN               0.000466  0.000000  0.009469  0.014902  0.000000  0.024837\n",
       " KS               0.000466  0.013660  0.000000  0.000000  0.020180  0.034306\n",
       " KY               0.000000  0.000000  0.007762  0.003570  0.000155  0.011487\n",
       " LA               0.001708  0.003415  0.000466  0.000776  0.018473  0.024837\n",
       " MA               0.001397  0.000000  0.002173  0.000000  0.000000  0.003570\n",
       " MD               0.003726  0.000000  0.005278  0.001708  0.000000  0.010711\n",
       " MI               0.001708  0.000000  0.000776  0.002018  0.000000  0.004502\n",
       " MN               0.000310  0.018473  0.000000  0.000000  0.005123  0.023906\n",
       " MO               0.000931  0.014126  0.000000  0.002794  0.013971  0.031822\n",
       " MS               0.001708  0.001863  0.000621  0.001552  0.000000  0.005744\n",
       " MT               0.000155  0.010245  0.000000  0.000000  0.000310  0.010711\n",
       " NC               0.001863  0.000000  0.006209  0.008538  0.000000  0.016610\n",
       " ND               0.000310  0.008693  0.000000  0.000000  0.000000  0.009003\n",
       " NE               0.000621  0.021111  0.000000  0.000000  0.027010  0.048743\n",
       " NH               0.000310  0.000000  0.000000  0.000000  0.000000  0.000310\n",
       " NJ               0.002639  0.000000  0.001087  0.001242  0.000000  0.004967\n",
       " NM               0.000466  0.009935  0.000000  0.000000  0.002173  0.012574\n",
       " NV               0.000155  0.000000  0.000000  0.000000  0.006364  0.006520\n",
       " NY               0.004812  0.000000  0.008693  0.001552  0.000000  0.015057\n",
       " OH               0.000155  0.000000  0.015368  0.018317  0.000000  0.033840\n",
       " OK               0.000000  0.015523  0.000000  0.000000  0.006985  0.022509\n",
       " OR               0.000621  0.002018  0.000000  0.000000  0.011953  0.014592\n",
       " PA               0.004657  0.000000  0.003726  0.022198  0.000000  0.030581\n",
       " RI               0.000776  0.000000  0.000000  0.000000  0.000000  0.000776\n",
       " SC               0.000776  0.000000  0.006675  0.004191  0.000000  0.011642\n",
       " SD               0.000000  0.004502  0.000000  0.000000  0.000000  0.004502\n",
       " TN               0.000155  0.005588  0.008693  0.008538  0.001552  0.024527\n",
       " TX               0.002484  0.045793  0.000000  0.000000  0.095622  0.143899\n",
       " UT               0.000000  0.000466  0.000000  0.000000  0.013505  0.013971\n",
       " VA               0.001397  0.000000  0.007917  0.013660  0.000000  0.022974\n",
       " VT               0.000310  0.000000  0.000000  0.000000  0.000000  0.000310\n",
       " WA               0.002328  0.016144  0.000000  0.000000  0.002949  0.021422\n",
       " WI               0.000155  0.003260  0.000000  0.000000  0.006830  0.010245\n",
       " WV               0.000000  0.000000  0.005899  0.004812  0.000000  0.010711\n",
       " WY               0.000000  0.007296  0.000000  0.000000  0.013505  0.020801\n",
       "All               0.064576  0.274759  0.128842  0.154145  0.377678  1.000000"
      ]
     },
     "execution_count": 21,
     "metadata": {},
     "output_type": "execute_result"
    }
   ],
   "source": [
    "pd.crosstab(train.state, train.railroad_company, normalize=True, margins=True)"
   ]
  },
  {
   "cell_type": "code",
   "execution_count": null,
   "metadata": {},
   "outputs": [],
   "source": [
    "#View a crosstab of equip accidents by rr and state\n",
    "rr_inc_by_state = pd.crosstab(train.state, train.railroad_company, margins=True)"
   ]
  },
  {
   "cell_type": "code",
   "execution_count": null,
   "metadata": {
    "scrolled": false
   },
   "outputs": [],
   "source": [
    "#Visualize Accidents by state\n",
    "plt.figure(figsize=(16, 12))\n",
    "rr_inc_by_state.All.plot(kind='bar', title=\"Which states have the most equipment rail accidents?\")\n",
    "plt.show()\n"
   ]
  },
  {
   "cell_type": "markdown",
   "metadata": {},
   "source": [
    "**Takeaways:**\n",
    "   - UP equipment accidents result in higher median total damages\n",
    "   - Temperature spread is varied by railroad...Is this beacuse certain railroads operate in more specific climates?\n",
    "   - Accident type should be a categorical value\n",
    "   - Amtrak trains travel at higher speeds than other Railroads\n",
    "   - BNSF accidents seem to incur > track damages on average\n",
    "   - Amtrak incidents are missing train weight data\n",
    "   - Texas has the most amount of equipment accidents than other states. Accounting for 14% of all accidents reported."
   ]
  },
  {
   "cell_type": "markdown",
   "metadata": {},
   "source": [
    "---"
   ]
  },
  {
   "cell_type": "markdown",
   "metadata": {},
   "source": [
    "**Equipment Multivariate Exploration**"
   ]
  },
  {
   "cell_type": "markdown",
   "metadata": {},
   "source": [
    "**Do Mean Total Damages Vary By the State in Which the Accident Occured?**"
   ]
  },
  {
   "cell_type": "code",
   "execution_count": 56,
   "metadata": {},
   "outputs": [
    {
     "data": {
      "text/plain": [
       "(2112, 35)"
      ]
     },
     "execution_count": 56,
     "metadata": {},
     "output_type": "execute_result"
    }
   ],
   "source": [
    "up_inc = train[train.railroad_company == 'UP']\n",
    "up_inc.shape"
   ]
  },
  {
   "cell_type": "code",
   "execution_count": 58,
   "metadata": {},
   "outputs": [
    {
     "data": {
      "text/html": [
       "<div>\n",
       "<style scoped>\n",
       "    .dataframe tbody tr th:only-of-type {\n",
       "        vertical-align: middle;\n",
       "    }\n",
       "\n",
       "    .dataframe tbody tr th {\n",
       "        vertical-align: top;\n",
       "    }\n",
       "\n",
       "    .dataframe thead th {\n",
       "        text-align: right;\n",
       "    }\n",
       "</style>\n",
       "<table border=\"1\" class=\"dataframe\">\n",
       "  <thead>\n",
       "    <tr style=\"text-align: right;\">\n",
       "      <th></th>\n",
       "      <th>railroad_company</th>\n",
       "      <th>accident_type</th>\n",
       "      <th>state_fips</th>\n",
       "      <th>temp</th>\n",
       "      <th>visibility</th>\n",
       "      <th>weather</th>\n",
       "      <th>train_speed</th>\n",
       "      <th>train_direction</th>\n",
       "      <th>train_weight</th>\n",
       "      <th>train_type</th>\n",
       "      <th>...</th>\n",
       "      <th>brakemen_onduty</th>\n",
       "      <th>region</th>\n",
       "      <th>typrr</th>\n",
       "      <th>lat</th>\n",
       "      <th>long</th>\n",
       "      <th>signal_type</th>\n",
       "      <th>date</th>\n",
       "      <th>season</th>\n",
       "      <th>state</th>\n",
       "      <th>year</th>\n",
       "    </tr>\n",
       "  </thead>\n",
       "  <tbody>\n",
       "    <tr>\n",
       "      <th>6760</th>\n",
       "      <td>UP</td>\n",
       "      <td>1</td>\n",
       "      <td>35</td>\n",
       "      <td>89</td>\n",
       "      <td>2</td>\n",
       "      <td>2</td>\n",
       "      <td>4</td>\n",
       "      <td>4.0</td>\n",
       "      <td>0</td>\n",
       "      <td>8</td>\n",
       "      <td>...</td>\n",
       "      <td>1.0</td>\n",
       "      <td>5</td>\n",
       "      <td>1</td>\n",
       "      <td>32.344325</td>\n",
       "      <td>-108.684173</td>\n",
       "      <td>2</td>\n",
       "      <td>2019-08-05 13:45:00</td>\n",
       "      <td>Summer</td>\n",
       "      <td>NM</td>\n",
       "      <td>2019</td>\n",
       "    </tr>\n",
       "    <tr>\n",
       "      <th>3890</th>\n",
       "      <td>UP</td>\n",
       "      <td>1</td>\n",
       "      <td>16</td>\n",
       "      <td>50</td>\n",
       "      <td>2</td>\n",
       "      <td>1</td>\n",
       "      <td>4</td>\n",
       "      <td>3.0</td>\n",
       "      <td>4200</td>\n",
       "      <td>7</td>\n",
       "      <td>...</td>\n",
       "      <td>0.0</td>\n",
       "      <td>8</td>\n",
       "      <td>1</td>\n",
       "      <td>43.585991</td>\n",
       "      <td>-116.568469</td>\n",
       "      <td>2</td>\n",
       "      <td>2013-04-14 20:08:00</td>\n",
       "      <td>Spring</td>\n",
       "      <td>ID</td>\n",
       "      <td>2013</td>\n",
       "    </tr>\n",
       "    <tr>\n",
       "      <th>6062</th>\n",
       "      <td>UP</td>\n",
       "      <td>1</td>\n",
       "      <td>22</td>\n",
       "      <td>57</td>\n",
       "      <td>2</td>\n",
       "      <td>2</td>\n",
       "      <td>10</td>\n",
       "      <td>1.0</td>\n",
       "      <td>917</td>\n",
       "      <td>1</td>\n",
       "      <td>...</td>\n",
       "      <td>1.0</td>\n",
       "      <td>5</td>\n",
       "      <td>1</td>\n",
       "      <td>30.220090000000003</td>\n",
       "      <td>-93.142674</td>\n",
       "      <td>2</td>\n",
       "      <td>2020-12-22 10:10:00</td>\n",
       "      <td>Winter</td>\n",
       "      <td>LA</td>\n",
       "      <td>2020</td>\n",
       "    </tr>\n",
       "    <tr>\n",
       "      <th>417</th>\n",
       "      <td>UP</td>\n",
       "      <td>1</td>\n",
       "      <td>48</td>\n",
       "      <td>80</td>\n",
       "      <td>4</td>\n",
       "      <td>1</td>\n",
       "      <td>5</td>\n",
       "      <td>4.0</td>\n",
       "      <td>0</td>\n",
       "      <td>8</td>\n",
       "      <td>...</td>\n",
       "      <td>0.0</td>\n",
       "      <td>5</td>\n",
       "      <td>1</td>\n",
       "      <td>32.776494</td>\n",
       "      <td>-96.664986</td>\n",
       "      <td>2</td>\n",
       "      <td>2014-08-14 23:00:00</td>\n",
       "      <td>Summer</td>\n",
       "      <td>TX</td>\n",
       "      <td>2014</td>\n",
       "    </tr>\n",
       "    <tr>\n",
       "      <th>710</th>\n",
       "      <td>UP</td>\n",
       "      <td>1</td>\n",
       "      <td>48</td>\n",
       "      <td>40</td>\n",
       "      <td>4</td>\n",
       "      <td>3</td>\n",
       "      <td>5</td>\n",
       "      <td>1.0</td>\n",
       "      <td>3190</td>\n",
       "      <td>4</td>\n",
       "      <td>...</td>\n",
       "      <td>0.0</td>\n",
       "      <td>5</td>\n",
       "      <td>1</td>\n",
       "      <td>30.0018</td>\n",
       "      <td>-97.150144</td>\n",
       "      <td>2</td>\n",
       "      <td>2015-01-01 23:30:00</td>\n",
       "      <td>Winter</td>\n",
       "      <td>TX</td>\n",
       "      <td>2015</td>\n",
       "    </tr>\n",
       "  </tbody>\n",
       "</table>\n",
       "<p>5 rows × 35 columns</p>\n",
       "</div>"
      ],
      "text/plain": [
       "     railroad_company  accident_type  state_fips  temp  visibility  weather  \\\n",
       "6760               UP              1          35    89           2        2   \n",
       "3890               UP              1          16    50           2        1   \n",
       "6062               UP              1          22    57           2        2   \n",
       "417                UP              1          48    80           4        1   \n",
       "710                UP              1          48    40           4        3   \n",
       "\n",
       "      train_speed  train_direction  train_weight train_type  ...  \\\n",
       "6760            4              4.0             0          8  ...   \n",
       "3890            4              3.0          4200          7  ...   \n",
       "6062           10              1.0           917          1  ...   \n",
       "417             5              4.0             0          8  ...   \n",
       "710             5              1.0          3190          4  ...   \n",
       "\n",
       "      brakemen_onduty  region  typrr                 lat         long  \\\n",
       "6760              1.0       5      1           32.344325  -108.684173   \n",
       "3890              0.0       8      1           43.585991  -116.568469   \n",
       "6062              1.0       5      1  30.220090000000003   -93.142674   \n",
       "417               0.0       5      1           32.776494   -96.664986   \n",
       "710               0.0       5      1             30.0018   -97.150144   \n",
       "\n",
       "      signal_type                date  season state  year  \n",
       "6760            2 2019-08-05 13:45:00  Summer    NM  2019  \n",
       "3890            2 2013-04-14 20:08:00  Spring    ID  2013  \n",
       "6062            2 2020-12-22 10:10:00  Winter    LA  2020  \n",
       "417             2 2014-08-14 23:00:00  Summer    TX  2014  \n",
       "710             2 2015-01-01 23:30:00  Winter    TX  2015  \n",
       "\n",
       "[5 rows x 35 columns]"
      ]
     },
     "execution_count": 58,
     "metadata": {},
     "output_type": "execute_result"
    }
   ],
   "source": [
    "up_inc.head()"
   ]
  },
  {
   "cell_type": "code",
   "execution_count": 61,
   "metadata": {},
   "outputs": [
    {
     "data": {
      "text/plain": [
       "(557, 35)"
      ]
     },
     "execution_count": 61,
     "metadata": {},
     "output_type": "execute_result"
    }
   ],
   "source": [
    "up_inc_tx = up_inc[up_inc.state == ' TX']\n",
    "up_inc_tx.shape"
   ]
  },
  {
   "cell_type": "code",
   "execution_count": 62,
   "metadata": {},
   "outputs": [
    {
     "data": {
      "text/plain": [
       "<AxesSubplot:>"
      ]
     },
     "execution_count": 62,
     "metadata": {},
     "output_type": "execute_result"
    },
    {
     "data": {
      "image/png": "[encoded data removed]",
      "text/plain": [
       "<Figure size 432x288 with 1 Axes>"
      ]
     },
     "metadata": {
      "needs_background": "light"
     },
     "output_type": "display_data"
    }
   ],
   "source": [
    "up_inc_tx.total_damage.hist()"
   ]
  },
  {
   "cell_type": "code",
   "execution_count": 51,
   "metadata": {},
   "outputs": [
    {
     "data": {
      "text/plain": [
       "nan"
      ]
     },
     "execution_count": 51,
     "metadata": {},
     "output_type": "execute_result"
    }
   ],
   "source": [
    "up_tx_inc.total_damage.mean()"
   ]
  },
  {
   "cell_type": "code",
   "execution_count": 68,
   "metadata": {},
   "outputs": [
    {
     "data": {
      "text/plain": [
       "<Figure size 1440x1152 with 0 Axes>"
      ]
     },
     "metadata": {},
     "output_type": "display_data"
    },
    {
     "data": {
      "image/png": "[encoded data removed]",
      "text/plain": [
       "<Figure size 432x288 with 1 Axes>"
      ]
     },
     "metadata": {
      "needs_background": "light"
     },
     "output_type": "display_data"
    }
   ],
   "source": [
    "plt.figure(figsize=(20,16))\n",
    "up_inc.groupby('state').mean('total_damage').plot(kind='barh')\n",
    "plt.show()"
   ]
  },
  {
   "cell_type": "code",
   "execution_count": null,
   "metadata": {},
   "outputs": [],
   "source": [
    "sns.pairplot(data = train, hue = 'railroad_company', \n",
    "             x_vars = [\"train_type\", \"cause\", \"typrr\", \"accident_type\"],\n",
    "             y_vars = [\"train_speed\",\"train_weight\", \"equip_damage\", \"track_damage\"])"
   ]
  },
  {
   "cell_type": "markdown",
   "metadata": {},
   "source": [
    "**Takeaways**\n",
    "   - Amtrak trains go faster than non amtrck trains.\n",
    "   - Pairplot seems to confer that BNSF equipment accidents result in > track damages. "
   ]
  },
  {
   "cell_type": "code",
   "execution_count": null,
   "metadata": {},
   "outputs": [],
   "source": [
    "\"temp\",\n",
    "                        \"train_speed\",\n",
    "                        \"train_weight\",\n",
    "                        \"equip_damage\",\n",
    "                        \"track_damage\",\"total_killed\", \"total_injured\", \"max_speed\", \"total_damage\""
   ]
  },
  {
   "cell_type": "code",
   "execution_count": null,
   "metadata": {},
   "outputs": [],
   "source": [
    "sns.pairplot(data = train, hue = 'railroad_company', \n",
    "             x_vars = [\"train_type\", \"train_speed\",\n",
    "                        \"max_speed\", \"accident_type\"],\n",
    "             y_vars = [\"track_damage\",\"total_killed\", \"total_injured\", \"total_damage\"])"
   ]
  },
  {
   "cell_type": "markdown",
   "metadata": {},
   "source": [
    "**Takeaways:**\n",
    "   - Amtrak seems to be the exception for the observation that the > the train speed, the > the track damage.\n",
    "   - Conversely, the greater the train speed for an Amtrak train, the > total_injured\n",
    "   - Equipment rail incidents result in higher rates of injuries than in deaths"
   ]
  },
  {
   "cell_type": "code",
   "execution_count": null,
   "metadata": {},
   "outputs": [],
   "source": [
    "sns.heatmap(train[[\"temp\", \"train_speed\",\"track_damage\",\"total_killed\", \"total_injured\", \"max_speed\", \"total_damage\"]].corr(), cmap='Blues', annot=True)\n",
    "plt.show()"
   ]
  },
  {
   "cell_type": "markdown",
   "metadata": {},
   "source": [
    "**Takeaways**\n",
    "   - The most interesting thing here is that total_injured is fairly correlated with total_damaged"
   ]
  },
  {
   "cell_type": "markdown",
   "metadata": {},
   "source": [
    "---"
   ]
  },
  {
   "cell_type": "markdown",
   "metadata": {},
   "source": [
    "## Questions from Exploration to Explore With Statistical Testing"
   ]
  },
  {
   "cell_type": "markdown",
   "metadata": {},
   "source": [
    "**Do BNSF Equipment Incidents Result in Higher Track Damages than other Railroad Equipment Incidents?**"
   ]
  },
  {
   "cell_type": "markdown",
   "metadata": {},
   "source": [
    "I am using a mann-whitney u test to analyze this due to the fact that track_damage is not normally distirbuted<br>\n",
    "**H<sub>o</sub>: BNS equipment accidents do not result in higher track damages than other Railroad equipment accidents.<br>\n",
    "H<sub>a</sub>: BNS equipment accidents do result in higher track damages**"
   ]
  },
  {
   "cell_type": "code",
   "execution_count": 40,
   "metadata": {},
   "outputs": [
    {
     "name": "stdout",
     "output_type": "stream",
     "text": [
      "The mannwhitneyu statistic is:3264148.5 and the p-value is 0.003858144840071176\n",
      "We reject the null hypothesis.\n"
     ]
    }
   ],
   "source": [
    "#Set confidence interval and alpha for Mann-Whitney U Test due to the fact that track_damage is not normally dist\n",
    "confidence_interval = 0.99\n",
    "a = 1 - confidence_interval \n",
    "\n",
    "#Define the two samples where x1 is BNSF Railroad accidents and x2 non-BNSF railroad accidents\n",
    "x1 = train[train.railroad_company == 'BNSF'].track_damage\n",
    "x2 = train[train.railroad_company != 'BNSF'].track_damage\n",
    "\n",
    "#Run the test\n",
    "t, p = stats.mannwhitneyu(x1, x2, alternative='two-sided')\n",
    "\n",
    "#print results\n",
    "print(f'The mannwhitneyu statistic is:{t} and the p-value is {p}')\n",
    "\n",
    "if p < a:\n",
    "    print('We reject the null hypothesis.')\n",
    "else:\n",
    "    print('Fail to reject the null hypothesis')"
   ]
  },
  {
   "cell_type": "markdown",
   "metadata": {},
   "source": [
    "**Do Amtrak Equipment Incidents Result in Higher Total Damages than other Railroad Equipment Incidents?**"
   ]
  },
  {
   "cell_type": "markdown",
   "metadata": {},
   "source": [
    "I am using a mann-whitney u test to analyze this due to the fact that total_damage is not normally distirbuted<br>\n",
    "**H<sub>o</sub>: Amtrack equipment accidents do not result in higher total damages than other Railroad equipment accidents.<br>\n",
    "H<sub>a</sub>: Amtrack equipment accidents do result in higher total damages**"
   ]
  },
  {
   "cell_type": "code",
   "execution_count": 73,
   "metadata": {},
   "outputs": [
    {
     "name": "stdout",
     "output_type": "stream",
     "text": [
      "The mannwhitneyu statistic is:897360.0 and the p-value is 5.987279367789933e-06\n",
      "We reject the null hypothesis.\n"
     ]
    }
   ],
   "source": [
    "#Set confidence interval and alpha for Mann-Whitney U Test due to the fact that total_damage is not normally dist\n",
    "confidence_interval = 0.99\n",
    "a = 1 - confidence_interval \n",
    "\n",
    "#Define the two samples where x1 is Amtrak Railroad accidents and x2 non-Amtrak railroad accidents\n",
    "x1 = train[train.railroad_company == 'ATK'].total_damage\n",
    "x2 = train[(train.railroad_company != 'ATK')].total_damage\n",
    "\n",
    "#Run the test\n",
    "t, p = stats.mannwhitneyu(x1, x2, alternative='two-sided')\n",
    "\n",
    "#print results\n",
    "print(f'The mannwhitneyu statistic is:{t} and the p-value is {p}')\n",
    "\n",
    "if p < a:\n",
    "    print('We reject the null hypothesis.')\n",
    "else:\n",
    "    print('Fail to reject the null hypothesis')"
   ]
  },
  {
   "cell_type": "markdown",
   "metadata": {},
   "source": [
    "**Do UP Incidents Result in Higher Total Damages than other Railroad Equipment Incidents?**"
   ]
  },
  {
   "cell_type": "markdown",
   "metadata": {},
   "source": [
    "I am using a mann-whitney u test to analyze this due to the fact that total_damage is not normally distirbuted<br>\n",
    "**H<sub>o</sub>: UP equipment accidents do not result in higher total damages than other Railroad equipment accidents.<br>\n",
    "H<sub>a</sub>: UP equipment accidents do result in higher total damages**"
   ]
  },
  {
   "cell_type": "code",
   "execution_count": 76,
   "metadata": {},
   "outputs": [
    {
     "name": "stdout",
     "output_type": "stream",
     "text": [
      "The mannwhitneyu statistic is:4085017.5 and the p-value is 8.08116939567745e-09\n",
      "We reject the null hypothesis.\n"
     ]
    }
   ],
   "source": [
    "#Set confidence interval and alpha for Mann-Whitney U Test due to the fact that total_damage is not normally dist\n",
    "confidence_interval = 0.99\n",
    "a = 1 - confidence_interval \n",
    "\n",
    "#Define the two samples where x1 is Amtrak Railroad accidents and x2 non-Amtrak railroad accidents\n",
    "x1 = train[train.railroad_company == 'UP'].total_damage\n",
    "x2 = train[train.railroad_company != 'UP'].total_damage\n",
    "\n",
    "#Run the test\n",
    "t, p = stats.mannwhitneyu(x1, x2, alternative='two-sided')\n",
    "\n",
    "#print results\n",
    "print(f'The mannwhitneyu statistic is:{t} and the p-value is {p}')\n",
    "\n",
    "if p < a:\n",
    "    print('We reject the null hypothesis.')\n",
    "else:\n",
    "    print('Fail to reject the null hypothesis')"
   ]
  },
  {
   "cell_type": "markdown",
   "metadata": {},
   "source": [
    "**Is train_speed a effective feature for classifying railroad involved in an equipment accident?**"
   ]
  },
  {
   "cell_type": "code",
   "execution_count": 43,
   "metadata": {},
   "outputs": [
    {
     "name": "stdout",
     "output_type": "stream",
     "text": [
      "The mannwhitneyu statistic is:1587002.0 and the p-value is 4.356056689452762e-69\n",
      "We reject the null hypothesis.\n"
     ]
    }
   ],
   "source": [
    "#Set confidence interval and alpha for Mann-Whitney U Test due to the fact that total_damage is not normally dist\n",
    "confidence_interval = 0.95\n",
    "a = 1 - confidence_interval \n",
    "\n",
    "#Define the two samples where x1 is Amtrak Railroad accidents and x2 non-Amtrak railroad accidents\n",
    "x1 = train[train.railroad_company == 'ATK'].train_speed\n",
    "x2 = train[train.railroad_company != 'ATK'].train_speed\n",
    "\n",
    "#Run the test\n",
    "t, p = stats.mannwhitneyu(x1, x2, alternative='two-sided')\n",
    "\n",
    "#print results\n",
    "print(f'The mannwhitneyu statistic is:{t} and the p-value is {p}')\n",
    "\n",
    "if p < a:\n",
    "    print('We reject the null hypothesis.')\n",
    "else:\n",
    "    print('Fail to reject the null hypothesis')"
   ]
  },
  {
   "cell_type": "markdown",
   "metadata": {},
   "source": [
    "**Is train_type related to railroad?**"
   ]
  },
  {
   "cell_type": "markdown",
   "metadata": {},
   "source": [
    "Chi Squared Test for examining the relationship between two categorical variables<br>\n",
    "**H<sub>o</sub>: Train type is independent of railroad.<br>\n",
    "H<sub>a</sub>: Train type has dependent on railroad.**"
   ]
  },
  {
   "cell_type": "code",
   "execution_count": 34,
   "metadata": {},
   "outputs": [
    {
     "data": {
      "text/html": [
       "<div>\n",
       "<style scoped>\n",
       "    .dataframe tbody tr th:only-of-type {\n",
       "        vertical-align: middle;\n",
       "    }\n",
       "\n",
       "    .dataframe tbody tr th {\n",
       "        vertical-align: top;\n",
       "    }\n",
       "\n",
       "    .dataframe thead th {\n",
       "        text-align: right;\n",
       "    }\n",
       "</style>\n",
       "<table border=\"1\" class=\"dataframe\">\n",
       "  <thead>\n",
       "    <tr style=\"text-align: right;\">\n",
       "      <th>train_type</th>\n",
       "      <th>1</th>\n",
       "      <th>2</th>\n",
       "      <th>3</th>\n",
       "      <th>4</th>\n",
       "      <th>5</th>\n",
       "      <th>6</th>\n",
       "      <th>7</th>\n",
       "      <th>8</th>\n",
       "      <th>9</th>\n",
       "      <th>A</th>\n",
       "      <th>B</th>\n",
       "    </tr>\n",
       "    <tr>\n",
       "      <th>railroad_company</th>\n",
       "      <th></th>\n",
       "      <th></th>\n",
       "      <th></th>\n",
       "      <th></th>\n",
       "      <th></th>\n",
       "      <th></th>\n",
       "      <th></th>\n",
       "      <th></th>\n",
       "      <th></th>\n",
       "      <th></th>\n",
       "      <th></th>\n",
       "    </tr>\n",
       "  </thead>\n",
       "  <tbody>\n",
       "    <tr>\n",
       "      <th>ATK</th>\n",
       "      <td>0</td>\n",
       "      <td>260</td>\n",
       "      <td>1</td>\n",
       "      <td>6</td>\n",
       "      <td>0</td>\n",
       "      <td>1</td>\n",
       "      <td>38</td>\n",
       "      <td>58</td>\n",
       "      <td>2</td>\n",
       "      <td>4</td>\n",
       "      <td>25</td>\n",
       "    </tr>\n",
       "    <tr>\n",
       "      <th>BNSF</th>\n",
       "      <td>703</td>\n",
       "      <td>0</td>\n",
       "      <td>0</td>\n",
       "      <td>6</td>\n",
       "      <td>5</td>\n",
       "      <td>18</td>\n",
       "      <td>598</td>\n",
       "      <td>106</td>\n",
       "      <td>39</td>\n",
       "      <td>18</td>\n",
       "      <td>1</td>\n",
       "    </tr>\n",
       "    <tr>\n",
       "      <th>CSX</th>\n",
       "      <td>426</td>\n",
       "      <td>1</td>\n",
       "      <td>0</td>\n",
       "      <td>2</td>\n",
       "      <td>20</td>\n",
       "      <td>52</td>\n",
       "      <td>223</td>\n",
       "      <td>15</td>\n",
       "      <td>2</td>\n",
       "      <td>4</td>\n",
       "      <td>0</td>\n",
       "    </tr>\n",
       "    <tr>\n",
       "      <th>NS</th>\n",
       "      <td>531</td>\n",
       "      <td>1</td>\n",
       "      <td>0</td>\n",
       "      <td>10</td>\n",
       "      <td>5</td>\n",
       "      <td>19</td>\n",
       "      <td>274</td>\n",
       "      <td>62</td>\n",
       "      <td>1</td>\n",
       "      <td>7</td>\n",
       "      <td>0</td>\n",
       "    </tr>\n",
       "    <tr>\n",
       "      <th>UP</th>\n",
       "      <td>1118</td>\n",
       "      <td>0</td>\n",
       "      <td>0</td>\n",
       "      <td>30</td>\n",
       "      <td>30</td>\n",
       "      <td>12</td>\n",
       "      <td>741</td>\n",
       "      <td>141</td>\n",
       "      <td>3</td>\n",
       "      <td>37</td>\n",
       "      <td>0</td>\n",
       "    </tr>\n",
       "  </tbody>\n",
       "</table>\n",
       "</div>"
      ],
      "text/plain": [
       "train_type           1    2  3   4   5   6    7    8   9   A   B\n",
       "railroad_company                                                \n",
       "ATK                  0  260  1   6   0   1   38   58   2   4  25\n",
       "BNSF               703    0  0   6   5  18  598  106  39  18   1\n",
       "CSX                426    1  0   2  20  52  223   15   2   4   0\n",
       "NS                 531    1  0  10   5  19  274   62   1   7   0\n",
       "UP                1118    0  0  30  30  12  741  141   3  37   0"
      ]
     },
     "execution_count": 34,
     "metadata": {},
     "output_type": "execute_result"
    }
   ],
   "source": [
    "observed = pd.crosstab(train.railroad_company, train.train_type)\n",
    "observed"
   ]
  },
  {
   "cell_type": "code",
   "execution_count": 35,
   "metadata": {},
   "outputs": [
    {
     "name": "stdout",
     "output_type": "stream",
     "text": [
      "Observed\n",
      "\n",
      "[[   0  260    1    6    0    1   38   58    2    4   25]\n",
      " [ 703    0    0    6    5   18  598  106   39   18    1]\n",
      " [ 426    1    0    2   20   52  223   15    2    4    0]\n",
      " [ 531    1    0   10    5   19  274   62    1    7    0]\n",
      " [1118    0    0   30   30   12  741  141    3   37    0]]\n",
      "---\n",
      "Expected\n",
      "\n",
      "[[1.94008133e+02 1.82973833e+01 6.98373409e-02 3.77121641e+00\n",
      "  4.19024045e+00 7.12340877e+00 1.30875177e+02 2.66778642e+01\n",
      "  3.28235502e+00 4.88861386e+00 1.81577086e+00]\n",
      " [7.33792786e+02 6.92057992e+01 2.64144272e-01 1.42637907e+01\n",
      "  1.58486563e+01 2.69427157e+01 4.95006365e+02 1.00903112e+02\n",
      "  1.24147808e+01 1.84900990e+01 6.86775106e+00]\n",
      " [3.65914074e+02 3.45102546e+01 1.31718529e-01 7.11280057e+00\n",
      "  7.90311174e+00 1.34352900e+01 2.46840523e+02 5.03164781e+01\n",
      "  6.19077086e+00 9.22029703e+00 3.42468175e+00]\n",
      " [4.46955446e+02 4.21534653e+01 1.60891089e-01 8.68811881e+00\n",
      "  9.65346535e+00 1.64108911e+01 3.01509901e+02 6.14603960e+01\n",
      "  7.56188119e+00 1.12623762e+01 4.18316832e+00]\n",
      " [1.03732956e+03 9.78330976e+01 3.73408769e-01 2.01640736e+01\n",
      "  2.24045262e+01 3.80876945e+01 6.99768034e+02 1.42642150e+02\n",
      "  1.75502122e+01 2.61386139e+01 9.70862801e+00]]\n",
      "---\n",
      "\n",
      "chi^2 = 4422.1228\n",
      "p     = 0.0000\n"
     ]
    }
   ],
   "source": [
    "chi2, p, degf, expected = stats.chi2_contingency(observed)\n",
    "\n",
    "print('Observed\\n')\n",
    "print(observed.values)\n",
    "print('---\\nExpected\\n')\n",
    "print(expected)\n",
    "print('---\\n')\n",
    "print(f'chi^2 = {chi2:.4f}')\n",
    "print(f'p     = {p:.4f}')"
   ]
  },
  {
   "cell_type": "markdown",
   "metadata": {},
   "source": [
    "**Takeaway:**\n",
    "- The chi squared test revealed there is likely a significant relationship between the type of train and the railroad.\n",
    "- Type of train would be a good feature for predicting railroad company, but it may result in too much coliniarity"
   ]
  },
  {
   "cell_type": "markdown",
   "metadata": {},
   "source": [
    "---"
   ]
  },
  {
   "cell_type": "markdown",
   "metadata": {},
   "source": [
    "**What features should be carried over to modeling for Equipment Rail Accidents?**\n",
    "- track_damage\n",
    "- state_fips\n",
    "- total_damage\n",
    "- weather\n",
    "- equip_damage\n",
    "- season\n",
    "- railroad_company\n",
    "- year"
   ]
  },
  {
   "cell_type": "code",
   "execution_count": null,
   "metadata": {
    "scrolled": true
   },
   "outputs": [],
   "source": [
    "df.columns.to_list()"
   ]
  },
  {
   "cell_type": "markdown",
   "metadata": {},
   "source": [
    "---"
   ]
  },
  {
   "cell_type": "markdown",
   "metadata": {},
   "source": [
    "## Explore HWY Rail"
   ]
  },
  {
   "cell_type": "markdown",
   "metadata": {},
   "source": [
    "**Acquire HWY Rail**"
   ]
  },
  {
   "cell_type": "code",
   "execution_count": null,
   "metadata": {},
   "outputs": [],
   "source": [
    "hwy_df = acquire.get_hwyrail()\n",
    "hwy_df.head()"
   ]
  },
  {
   "cell_type": "markdown",
   "metadata": {},
   "source": [
    "**Prep HWY Rail**"
   ]
  },
  {
   "cell_type": "code",
   "execution_count": null,
   "metadata": {},
   "outputs": [],
   "source": [
    "hwy_df = prepare.prep_hwy_df(hwy_df)\n",
    "hwy_df.shape"
   ]
  },
  {
   "cell_type": "markdown",
   "metadata": {},
   "source": [
    "**Explore HWY Rail Univariate**"
   ]
  },
  {
   "cell_type": "code",
   "execution_count": null,
   "metadata": {
    "scrolled": true
   },
   "outputs": [],
   "source": [
    "hwy_df.info()"
   ]
  },
  {
   "cell_type": "code",
   "execution_count": null,
   "metadata": {},
   "outputs": [],
   "source": [
    "cat_vars = [\"railroad_company\", \"station\", \"county\", \"city\", \"vehicle_type\", \"vehicle_direction\", \"position\",\n",
    "           \"hazmat_entity\", \"weather\", \"train_type\", \"track_type\"]\n",
    "quant_vars = [\"vehicle_speed\", \"temp\", \"total_killed\", \"total_injured\"]"
   ]
  },
  {
   "cell_type": "code",
   "execution_count": null,
   "metadata": {
    "scrolled": true
   },
   "outputs": [],
   "source": []
  },
  {
   "cell_type": "code",
   "execution_count": null,
   "metadata": {},
   "outputs": [],
   "source": [
    "hwy_df.columns.to_list()"
   ]
  },
  {
   "cell_type": "markdown",
   "metadata": {},
   "source": [
    "**Is there a relationship between train length and the railroad company?**"
   ]
  },
  {
   "cell_type": "code",
   "execution_count": null,
   "metadata": {},
   "outputs": [],
   "source": []
  }
 ],
 "metadata": {
  "kernelspec": {
   "display_name": "Python 3",
   "language": "python",
   "name": "python3"
  },
  "language_info": {
   "codemirror_mode": {
    "name": "ipython",
    "version": 3
   },
   "file_extension": ".py",
   "mimetype": "text/x-python",
   "name": "python",
   "nbconvert_exporter": "python",
   "pygments_lexer": "ipython3",
   "version": "3.8.5"
  }
 },
 "nbformat": 4,
 "nbformat_minor": 4
}

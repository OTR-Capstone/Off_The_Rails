{
 "cells": [
  {
   "cell_type": "markdown",
   "metadata": {},
   "source": [
    "# Explore Workbook for Justin"
   ]
  },
  {
   "cell_type": "code",
   "execution_count": 1,
   "metadata": {},
   "outputs": [],
   "source": [
    "import pandas as pd\n",
    "import numpy as np\n",
    "import matplotlib.pyplot as plt\n",
    "import seaborn as sns\n",
    "from scipy import stats\n",
    "\n",
    "#ignore warnings\n",
    "import warnings\n",
    "warnings.filterwarnings('ignore')\n",
    "\n",
    "import acquire\n",
    "import prepare\n",
    "import explore\n",
    "\n",
    "from sklearn.model_selection import train_test_split\n",
    "\n",
    "# modeling methods\n",
    "from sklearn.metrics import mean_squared_error, r2_score, explained_variance_score\n",
    "from sklearn.linear_model import LinearRegression, LassoLars, TweedieRegressor\n",
    "from sklearn.preprocessing import PolynomialFeatures, MinMaxScaler\n",
    "from sklearn.model_selection import train_test_split\n",
    "from sklearn.linear_model import LinearRegression\n",
    "from sklearn.feature_selection import SelectKBest, f_regression, RFE \n",
    "import sklearn.preprocessing"
   ]
  },
  {
   "cell_type": "markdown",
   "metadata": {},
   "source": [
    "## Explore Equipment Rail"
   ]
  },
  {
   "cell_type": "markdown",
   "metadata": {},
   "source": [
    "**Acquire**"
   ]
  },
  {
   "cell_type": "code",
   "execution_count": 2,
   "metadata": {},
   "outputs": [
    {
     "data": {
      "text/plain": [
       "(22402, 146)"
      ]
     },
     "execution_count": 2,
     "metadata": {},
     "output_type": "execute_result"
    }
   ],
   "source": [
    "df = acquire.get_equiprail()\n",
    "df.shape"
   ]
  },
  {
   "cell_type": "markdown",
   "metadata": {},
   "source": [
    "**Prepare**"
   ]
  },
  {
   "cell_type": "code",
   "execution_count": 3,
   "metadata": {},
   "outputs": [
    {
     "data": {
      "text/plain": [
       "(10550, 37)"
      ]
     },
     "execution_count": 3,
     "metadata": {},
     "output_type": "execute_result"
    }
   ],
   "source": [
    "df = prepare.prep_equip_df(df)\n",
    "df.shape"
   ]
  },
  {
   "cell_type": "code",
   "execution_count": null,
   "metadata": {},
   "outputs": [],
   "source": [
    "#Return a dataframe with the ratios for the railroad companies represented\n",
    "rr_equip_ratios = pd.DataFrame(df.railroad_company.value_counts())\n",
    "rr_equip_ratios['acc_class'] = 'equipment'\n",
    "rr_equip_ratios.rename(columns={'railroad_company': 'value_counts'}, inplace=True)\n",
    "rr_equip_ratios.reset_index(inplace=True)\n",
    "rr_equip_ratios"
   ]
  },
  {
   "cell_type": "code",
   "execution_count": null,
   "metadata": {},
   "outputs": [],
   "source": [
    "#Acquire HWY Rail Data\n",
    "hwy_df = acquire.get_hwyrail()\n",
    "\n",
    "#Prepare HWY Rail Data\n",
    "hwy_df = prepare.prep_hwy_df(hwy_df)\n",
    "\n",
    "#Return a dataframe with the value counts for the railroad company\n",
    "rr_hwy_ratios = pd.DataFrame(hwy_df.railroad_company.value_counts())\n",
    "\n",
    "rr_hwy_ratios['acc_class'] = 'highway'\n",
    "\n",
    "rr_hwy_ratios.rename(columns={'railroad_company': 'value_counts'}, inplace=True)\n",
    "rr_hwy_ratios.reset_index(inplace=True)\n",
    "\n",
    "rr_hwy_ratios"
   ]
  },
  {
   "cell_type": "code",
   "execution_count": null,
   "metadata": {},
   "outputs": [],
   "source": [
    "rr_value_counts = pd.concat([rr_equip_ratios, rr_hwy_ratios], ignore_index=True)\n",
    "rr_value_counts.rename(columns={'index': 'railroad'}, inplace=True)\n",
    "rr_value_counts"
   ]
  },
  {
   "cell_type": "code",
   "execution_count": null,
   "metadata": {},
   "outputs": [],
   "source": [
    "#Strip whitespaces in railroad so that I can groupby\n",
    "rr_value_counts.railroad = rr_value_counts['railroad'].str.strip()"
   ]
  },
  {
   "cell_type": "code",
   "execution_count": null,
   "metadata": {},
   "outputs": [],
   "source": [
    "rr_value_counts.groupby('railroad').sum('value_counts')"
   ]
  },
  {
   "cell_type": "code",
   "execution_count": null,
   "metadata": {},
   "outputs": [],
   "source": [
    "#Write to xlsx for tableau\n",
    "#rr_value_counts.to_excel('rr_value_counts.xlsx')"
   ]
  },
  {
   "cell_type": "code",
   "execution_count": null,
   "metadata": {},
   "outputs": [],
   "source": [
    "#Write the ratios dataframe to excel\n",
    "#rr_ratios.to_excel('rr_ratios.xlsx')"
   ]
  },
  {
   "cell_type": "code",
   "execution_count": null,
   "metadata": {},
   "outputs": [],
   "source": [
    "#Create lat and long data frame for tableau viz of equipment accidents\n",
    "\n",
    "#equip_coordinates = df[['railroad_company','lat', 'long']]\n",
    "#equip_coordinates.head()\n",
    "#equip_coordinates.to_excel(\"equip_coordinates.xlsx\")"
   ]
  },
  {
   "cell_type": "code",
   "execution_count": null,
   "metadata": {},
   "outputs": [],
   "source": [
    "#def drop_under_represented_rr(df): \n",
    "#    '''\n",
    "#    This function takes in a railroad accident data frame\n",
    "#    and drops any observations representing railroad companies\n",
    "#    where the railroad company has less than 300 accidents in the dataframe\n",
    "#    \n",
    "#    It returns a single dataframe\n",
    "#    '''\n",
    "#    \n",
    "#    #Define the value counts for railroad_company in the dataframe\n",
    "#    value_counts = df['railroad_company'].value_counts()\n",
    "#    \n",
    "#    #Select the observations to remove based on railroad_company count representation threshold\n",
    "#    to_remove = value_counts[value_counts < 300].index\n",
    "#    \n",
    "#    # Keep rows where the railroad_company column is not in to_remove if n was defined\n",
    "#    if 300 > 0:\n",
    "#        df = df[~df.railroad_company.isin(to_remove)]\n",
    "#    else: \n",
    "#        df = df \n",
    "#        \n",
    "#    return df"
   ]
  },
  {
   "cell_type": "code",
   "execution_count": null,
   "metadata": {},
   "outputs": [],
   "source": [
    "#df = drop_ur_rr(df)\n",
    "#df.shape"
   ]
  },
  {
   "cell_type": "markdown",
   "metadata": {},
   "source": [
    "**Explore some stats for impact of equipment rail accidents**"
   ]
  },
  {
   "cell_type": "markdown",
   "metadata": {},
   "source": [
    "**What are Equipment Rail Accidents?**"
   ]
  },
  {
   "cell_type": "markdown",
   "metadata": {},
   "source": [
    "**Explore Univariate**"
   ]
  },
  {
   "cell_type": "code",
   "execution_count": null,
   "metadata": {},
   "outputs": [],
   "source": [
    "#def explore_univariate(train, cat_vars, quant_vars):\n",
    "#    for var in cat_vars:\n",
    "#        explore_univariate_categorical(train, var)\n",
    "#        print('_________________________________________________________________')\n",
    "#    for col in quant_vars:\n",
    "#        p, descriptive_stats = explore_univariate_quant(train, col)\n",
    "#        plt.show(p)\n",
    "#        print(descriptive_stats)\n",
    "#        \n",
    "#def explore_univariate_categorical(train, cat_var):\n",
    "#    '''\n",
    "#    takes in a dataframe and a categorical variable and returns\n",
    "#    a frequency table and barplot of the frequencies. \n",
    "#    '''\n",
    "#    frequency_table = freq_table(train, cat_var)\n",
    "#    plt.figure(figsize=(2,2))\n",
    "#    sns.barplot(x=cat_var, y='Count', data=frequency_table, color='white', edgecolor='grey')\n",
    "#    plt.title(cat_var)\n",
    "#    plt.show()\n",
    "#    print(frequency_table)\n",
    "#\n",
    "#def explore_univariate_quant(train, quant_var):\n",
    "#    '''\n",
    "#    takes in a dataframe and a quantitative variable and returns\n",
    "#    descriptive stats table, histogram, and boxplot of the distributions. \n",
    "#    '''\n",
    "#    descriptive_stats = train[quant_var].describe()\n",
    "#    plt.figure(figsize=(8,2))\n",
    "#\n",
    "#    p = plt.subplot(1, 2, 1)\n",
    "#    p = plt.hist(train[quant_var], color='white', edgecolor='grey')\n",
    "#    p = plt.title(quant_var)\n",
    "#\n",
    "#    # second plot: box plot\n",
    "#    p = plt.subplot(1, 2, 2)\n",
    "#    p = plt.boxplot(train[quant_var])\n",
    "#    p = plt.title(quant_var)\n",
    "#    return p, descriptive_stats\n",
    "#    \n",
    "#def freq_table(train, cat_var):\n",
    "#    '''\n",
    "#    for a given categorical variable, compute the frequency count and percent split\n",
    "#    and return a dataframe of those values along with the different classes. \n",
    "#    '''\n",
    "#    class_labels = list(train[cat_var].unique())\n",
    "#\n",
    "#    frequency_table = (\n",
    "#        pd.DataFrame({cat_var: class_labels,\n",
    "#                      'Count': train[cat_var].value_counts(normalize=False), \n",
    "#                      'Percent': round(train[cat_var].value_counts(normalize=True)*100,2)}\n",
    "#                    )\n",
    "#    )\n",
    "#    return frequency_table"
   ]
  },
  {
   "cell_type": "code",
   "execution_count": null,
   "metadata": {},
   "outputs": [],
   "source": [
    "cat_vars = [\"railroad_company\", \"train_type\", \"cause\", \"typrr\"]\n",
    "quant_vars = [\"accident_type\", \"state\", \"temp\", \"visibility\", \"weather\", \"train_speed\", \"train_direction\", \n",
    "             \"train_weight\", \"equip_damage\", \"track_damage\"]"
   ]
  },
  {
   "cell_type": "code",
   "execution_count": null,
   "metadata": {
    "scrolled": true
   },
   "outputs": [],
   "source": [
    "explore.explore_univariate(df, cat_vars, quant_vars)"
   ]
  },
  {
   "cell_type": "markdown",
   "metadata": {},
   "source": [
    "**Takeaways:**\n",
    "    - Outlier in train speed? What train travels at 545 mph?\n",
    "    - What is going on with the State column? Expected 50 but shows 56. Are the 6 extra representing terratories in the US?\n",
    "    - Track Damages and Equip damages have outliers which is expected    "
   ]
  },
  {
   "cell_type": "markdown",
   "metadata": {},
   "source": [
    "**More Univariate Exploration**"
   ]
  },
  {
   "cell_type": "code",
   "execution_count": 4,
   "metadata": {},
   "outputs": [
    {
     "name": "stdout",
     "output_type": "stream",
     "text": [
      "<class 'pandas.core.frame.DataFrame'>\n",
      "Index: 10550 entries, GC0512102 to 137065\n",
      "Data columns (total 37 columns):\n",
      " #   Column             Non-Null Count  Dtype         \n",
      "---  ------             --------------  -----         \n",
      " 0   state_fips         10550 non-null  int64         \n",
      " 1   railroad_company   10550 non-null  object        \n",
      " 2   accident_type      10550 non-null  int64         \n",
      " 3   state_x            10550 non-null  int64         \n",
      " 4   temp               10550 non-null  int64         \n",
      " 5   visibility         10550 non-null  int64         \n",
      " 6   weather            10550 non-null  int64         \n",
      " 7   train_speed        10550 non-null  int64         \n",
      " 8   train_direction    10550 non-null  float64       \n",
      " 9   train_weight       10550 non-null  int64         \n",
      " 10  train_type         10550 non-null  object        \n",
      " 11  track_type         10550 non-null  int64         \n",
      " 12  front_engines      10550 non-null  int64         \n",
      " 13  loadfrght_cars     10550 non-null  int64         \n",
      " 14  loadpass_cars      10550 non-null  int64         \n",
      " 15  emptyfrght_cars    10550 non-null  int64         \n",
      " 16  emptypass_cars     10550 non-null  int64         \n",
      " 17  equip_damage       10550 non-null  int64         \n",
      " 18  track_damage       10550 non-null  int64         \n",
      " 19  cause              10550 non-null  object        \n",
      " 20  total_killed       10550 non-null  int64         \n",
      " 21  total_injured      10550 non-null  int64         \n",
      " 22  max_speed          10550 non-null  int64         \n",
      " 23  total_damage       10550 non-null  int64         \n",
      " 24  engineers_onduty   10550 non-null  float64       \n",
      " 25  conductors_onduty  10550 non-null  float64       \n",
      " 26  brakemen_onduty    10550 non-null  float64       \n",
      " 27  region             10550 non-null  int64         \n",
      " 28  typrr              10550 non-null  object        \n",
      " 29  lat                10550 non-null  object        \n",
      " 30  long               10550 non-null  object        \n",
      " 31  signal_type        10550 non-null  int64         \n",
      " 32  date               10550 non-null  datetime64[ns]\n",
      " 33  season             10550 non-null  object        \n",
      " 34  state_y            10550 non-null  int64         \n",
      " 35  state              10550 non-null  object        \n",
      " 36  year               10550 non-null  int64         \n",
      "dtypes: datetime64[ns](1), float64(4), int64(24), object(8)\n",
      "memory usage: 3.1+ MB\n"
     ]
    }
   ],
   "source": [
    "df.info()"
   ]
  },
  {
   "cell_type": "code",
   "execution_count": null,
   "metadata": {},
   "outputs": [],
   "source": [
    "cat_vars = [\"railroad_company\", \"train_type\", \"cause\", \"typrr\"]\n",
    "quant_vars = [\"total_killed\", \"total_injured\", \"max_speed\", \"total_damage\", \n",
    "              \"engineers_onduty\", \"conductors_onduty\", \"brakemen_onduty\", \"region\",\n",
    "             \"signal_type\"]"
   ]
  },
  {
   "cell_type": "code",
   "execution_count": null,
   "metadata": {
    "scrolled": true
   },
   "outputs": [],
   "source": [
    "explore.explore_univariate(df, cat_vars, quant_vars)"
   ]
  },
  {
   "cell_type": "markdown",
   "metadata": {},
   "source": [
    "**Takeaways:**\n",
    "    - What does signal feature mean? The majority of the equip accidents are classified as not signaled...but what does that actually mean?\n",
    "    "
   ]
  },
  {
   "cell_type": "markdown",
   "metadata": {},
   "source": [
    "---"
   ]
  },
  {
   "cell_type": "markdown",
   "metadata": {},
   "source": [
    "**Explore Outliers**"
   ]
  },
  {
   "cell_type": "code",
   "execution_count": null,
   "metadata": {},
   "outputs": [],
   "source": [
    "def outlier_report(df):\n",
    "    '''\n",
    "    This function takes in a data frame and returns\n",
    "    print statments stating the upper and lower bound outliers for \n",
    "    each column\n",
    "    '''\n",
    "    \n",
    "    columns_to_check = [\"temp\",\n",
    "                        \"train_speed\",\n",
    "                        \"train_weight\",\n",
    "                        \"equip_damage\",\n",
    "                        \"track_damage\",\"total_killed\", \"total_injured\", \"max_speed\", \"total_damage\", \n",
    "                        \"engineers_onduty\", \"conductors_onduty\", \"brakemen_onduty\"]\n",
    "    \n",
    "    for col in columns_to_check:\n",
    "        quartile_01, quartile_03 = np.percentile(df[col], [25, 75])\n",
    "        iqr = quartile_03 - quartile_01\n",
    "    \n",
    "        lower_bound = round(quartile_01 -(2 * iqr), 3)\n",
    "        upper_bound = round(quartile_03 +(2 * iqr), 3)\n",
    "    \n",
    "        #df['outlier'] = df[col].apply(lambda x: outlier_label(x, lower_bound, upper_bound))\n",
    "    \n",
    "\n",
    "        print(f\"The lower and upper bound of the range for '{col}' respectively is: {lower_bound} and {upper_bound}\")"
   ]
  },
  {
   "cell_type": "code",
   "execution_count": null,
   "metadata": {},
   "outputs": [],
   "source": [
    "outlier_report(df)"
   ]
  },
  {
   "cell_type": "code",
   "execution_count": null,
   "metadata": {},
   "outputs": [],
   "source": [
    "def visualize_outliers(df):\n",
    "    '''\n",
    "    This function takes in a dataframe\n",
    "    and outputs boxplots to show outlier distribution\n",
    "    for each column in the the dataframe\n",
    "    '''\n",
    "    cols_to_check = [\"temp\",\n",
    "                    \"train_speed\",\n",
    "                    \"train_weight\",\n",
    "                    \"equip_damage\",\n",
    "                    \"track_damage\",\"total_killed\", \"total_injured\", \"max_speed\", \"total_damage\", \n",
    "                    \"engineers_onduty\", \"conductors_onduty\", \"brakemen_onduty\"]\n",
    "    for col in cols_to_check:\n",
    "        sns.boxplot(df[col])\n",
    "        plt.title(col)\n",
    "        plt.show()"
   ]
  },
  {
   "cell_type": "code",
   "execution_count": null,
   "metadata": {},
   "outputs": [],
   "source": [
    "visualize_outliers(df)"
   ]
  },
  {
   "cell_type": "markdown",
   "metadata": {},
   "source": [
    "**Drop Outliers in Total_Damage**"
   ]
  },
  {
   "cell_type": "code",
   "execution_count": null,
   "metadata": {},
   "outputs": [],
   "source": [
    "df = df[df.total_damage < 234898.75]\n",
    "df.shape"
   ]
  },
  {
   "cell_type": "markdown",
   "metadata": {},
   "source": [
    "**Takeaways:**\n",
    "   - Need to investigate outliers in:\n",
    "        - max_speed & train speed...one over 500 mph\n",
    "        - train weight\n",
    "        - one super negative temp"
   ]
  },
  {
   "cell_type": "markdown",
   "metadata": {},
   "source": [
    "**Split the Data**"
   ]
  },
  {
   "cell_type": "code",
   "execution_count": 5,
   "metadata": {},
   "outputs": [
    {
     "name": "stdout",
     "output_type": "stream",
     "text": [
      "Train Shape: (5908, 37)\n",
      "Validate Shape: (2532, 37)\n",
      "Test Shape: (2110, 37)\n"
     ]
    }
   ],
   "source": [
    "train, validate, test = explore.train_validate_test_split(df, 'railroad_company', seed=444)\n",
    "print(f'Train Shape: {train.shape}')\n",
    "print(f'Validate Shape: {validate.shape}')\n",
    "print(f'Test Shape: {test.shape}')"
   ]
  },
  {
   "cell_type": "markdown",
   "metadata": {},
   "source": [
    "**Is there a time of year where rail equipment accidents happen with more or less frequency?**"
   ]
  },
  {
   "cell_type": "code",
   "execution_count": null,
   "metadata": {},
   "outputs": [],
   "source": [
    "#train['month'] = pd.DatetimeIndex(train['date']).month\n",
    "#train.head()"
   ]
  },
  {
   "cell_type": "code",
   "execution_count": null,
   "metadata": {},
   "outputs": [],
   "source": [
    "#train.month.hist()"
   ]
  },
  {
   "cell_type": "code",
   "execution_count": null,
   "metadata": {},
   "outputs": [],
   "source": [
    "#train['season'] = train.month.apply(lambda x: \"winter/fall\" if x == 10 or 11 == 12 or x == 1 or x == 2 or x == 3 else \"summer/spring\")\n",
    "#train.head()\n",
    "        "
   ]
  },
  {
   "cell_type": "code",
   "execution_count": null,
   "metadata": {},
   "outputs": [],
   "source": [
    "#train.season.hist()"
   ]
  },
  {
   "cell_type": "markdown",
   "metadata": {},
   "source": [
    "**Takeaways:**\n",
    "- Rail equipment accidents appear to happen more frequently in summer/spring months than in winter/fall months "
   ]
  },
  {
   "cell_type": "markdown",
   "metadata": {},
   "source": [
    "**What is the distribution of track damages?**"
   ]
  },
  {
   "cell_type": "code",
   "execution_count": 6,
   "metadata": {},
   "outputs": [
    {
     "data": {
      "text/plain": [
       "<AxesSubplot:>"
      ]
     },
     "execution_count": 6,
     "metadata": {},
     "output_type": "execute_result"
    },
    {
     "data": {
      "image/png": "[encoded data removed]",
      "text/plain": [
       "<Figure size 1152x864 with 1 Axes>"
      ]
     },
     "metadata": {
      "needs_background": "light"
     },
     "output_type": "display_data"
    }
   ],
   "source": [
    "plt.figure(figsize=(16,12))\n",
    "train.track_damage.hist(bins=100)"
   ]
  },
  {
   "cell_type": "markdown",
   "metadata": {},
   "source": [
    "---"
   ]
  },
  {
   "cell_type": "markdown",
   "metadata": {},
   "source": [
    "**What is the distribution of total_damage?**"
   ]
  },
  {
   "cell_type": "code",
   "execution_count": 7,
   "metadata": {},
   "outputs": [
    {
     "data": {
      "text/plain": [
       "<AxesSubplot:>"
      ]
     },
     "execution_count": 7,
     "metadata": {},
     "output_type": "execute_result"
    },
    {
     "data": {
      "image/png": "[encoded data removed]",
      "text/plain": [
       "<Figure size 1152x864 with 1 Axes>"
      ]
     },
     "metadata": {
      "needs_background": "light"
     },
     "output_type": "display_data"
    }
   ],
   "source": [
    "plt.figure(figsize=(16,12))\n",
    "train.total_damage.hist(bins=100)"
   ]
  },
  {
   "cell_type": "markdown",
   "metadata": {},
   "source": [
    "**Explore Bivariate**"
   ]
  },
  {
   "cell_type": "code",
   "execution_count": null,
   "metadata": {},
   "outputs": [],
   "source": [
    "def explore_bivariate(train, target, cat_vars, quant_vars):\n",
    "    for cat in cat_vars:\n",
    "        explore_bivariate_categorical(train, 'railroad_company', cat)\n",
    "    for quant in quant_vars:\n",
    "        explore_bivariate_quant(train, 'railroad_company', quant)\n",
    "\n",
    "\n",
    "### Univariate\n",
    "\n",
    "def explore_univariate_categorical(train, cat_var):\n",
    "    '''\n",
    "    takes in a dataframe and a categorical variable and returns\n",
    "    a frequency table and barplot of the frequencies. \n",
    "    '''\n",
    "    frequency_table = freq_table(train, cat_var)\n",
    "    plt.figure(figsize=(2,2))\n",
    "    sns.barplot(x=cat_var, y='Count', data=frequency_table, color='white', edgecolor='grey')\n",
    "    plt.title(cat_var)\n",
    "    plt.show()\n",
    "    print(frequency_table)\n",
    "\n",
    "def explore_univariate_quant(train, quant_var):\n",
    "    '''\n",
    "    takes in a dataframe and a quantitative variable and returns\n",
    "    descriptive stats table, histogram, and boxplot of the distributions. \n",
    "    '''\n",
    "    descriptive_stats = train[quant_var].describe()\n",
    "    plt.figure(figsize=(8,2))\n",
    "\n",
    "    p = plt.subplot(1, 2, 1)\n",
    "    p = plt.hist(train[quant_var], color='white', edgecolor='grey')\n",
    "    p = plt.title(quant_var)\n",
    "\n",
    "    # second plot: box plot\n",
    "    p = plt.subplot(1, 2, 2)\n",
    "    p = plt.boxplot(train[quant_var])\n",
    "    p = plt.title(quant_var)\n",
    "    return p, descriptive_stats\n",
    "    \n",
    "def freq_table(train, cat_var):\n",
    "    '''\n",
    "    for a given categorical variable, compute the frequency count and percent split\n",
    "    and return a dataframe of those values along with the different classes. \n",
    "    '''\n",
    "    class_labels = list(train[cat_var].unique())\n",
    "\n",
    "    frequency_table = (\n",
    "        pd.DataFrame({cat_var: class_labels,\n",
    "                      'Count': train[cat_var].value_counts(normalize=False), \n",
    "                      'Percent': round(train[cat_var].value_counts(normalize=True)*100,2)}\n",
    "                    )\n",
    "    )\n",
    "    return frequency_table\n",
    "\n",
    "\n",
    "#### Bivariate\n",
    "\n",
    "def explore_bivariate_categorical(train, target, cat_var):\n",
    "    '''\n",
    "    takes in categorical variable and binary target variable, \n",
    "    returns a crosstab of frequencies\n",
    "    runs a chi-square test for the proportions\n",
    "    and creates a barplot, adding a horizontal line of the overall rate of the target. \n",
    "    '''\n",
    "    print(cat_var, \"\\n_____________________\\n\")\n",
    "    ct = pd.crosstab(train[cat_var], train[target], margins=True)\n",
    "    chi2_summary, observed, expected = run_chi2(train, cat_var, target)\n",
    "   # p = plot_cat_by_target(train, target, cat_var)\n",
    "    \n",
    "    print(chi2_summary)\n",
    "    print(\"\\nobserved:\\n\", ct)\n",
    "    print(\"\\nexpected:\\n\", expected)\n",
    "    #plt.show(p)\n",
    "    print(\"\\n_____________________\\n\")\n",
    "\n",
    "def explore_bivariate_quant(train, target, quant_var):\n",
    "    '''\n",
    "    descriptive stats by each target class. \n",
    "    compare means across 2 target groups \n",
    "    boxenplot of target x quant\n",
    "    swarmplot of target x quant\n",
    "    '''\n",
    "    print(quant_var, \"\\n____________________\\n\")\n",
    "    descriptive_stats = train.groupby(target)[quant_var].describe()\n",
    "    average = train[quant_var].mean()\n",
    "    mann_whitney = compare_means(train, target, quant_var)\n",
    "    plt.figure(figsize=(4,4))\n",
    "    boxen = plot_boxen(train, target, quant_var)\n",
    "    swarm = plot_swarm(train, target, quant_var)\n",
    "    plt.show()\n",
    "    print(descriptive_stats, \"\\n\")\n",
    "    print(\"\\nMann-Whitney Test:\\n\", mann_whitney)\n",
    "    print(\"\\n____________________\\n\")\n",
    "\n",
    "## Bivariate Categorical\n",
    "\n",
    "def run_chi2(train, cat_var, target):\n",
    "    observed = pd.crosstab(train[cat_var], train[target])\n",
    "    chi2, p, degf, expected = stats.chi2_contingency(observed)\n",
    "    chi2_summary = pd.DataFrame({'chi2': [chi2], 'p-value': [p], \n",
    "                                 'degrees of freedom': [degf]})\n",
    "    expected = pd.DataFrame(expected)\n",
    "    return chi2_summary, observed, expected\n",
    "\n",
    "#def plot_cat_by_target(train, target, cat_var):\n",
    "#    p = plt.figure(figsize=(2,2))\n",
    "#    p = sns.barplot(cat_var, target, data=train, alpha=.8, color='lightseagreen')\n",
    "#    overall_rate = train[target].mean()\n",
    "#    p = plt.axhline(overall_rate, ls='--', color='gray')\n",
    "#    return p\n",
    "    \n",
    "\n",
    "## Bivariate Quant\n",
    "\n",
    "def plot_swarm(train, target, quant_var):\n",
    "    average = train[quant_var].mean()\n",
    "    p = sns.swarmplot(data=train, x=target, y=quant_var, color='lightgray')\n",
    "    p = plt.title(quant_var)\n",
    "    p = plt.axhline(average, ls='--', color='black')\n",
    "    return p\n",
    "\n",
    "def plot_boxen(train, target, quant_var):\n",
    "    average = train[quant_var].mean()\n",
    "    p = sns.boxenplot(data=train, x=target, y=quant_var, color='lightseagreen')\n",
    "    p = plt.title(quant_var)\n",
    "    p = plt.axhline(average, ls='--', color='black')\n",
    "    return p\n",
    "\n",
    "# alt_hyp = ‘two-sided’, ‘less’, ‘greater’\n",
    "\n",
    "def compare_means(train, target, quant_var, alt_hyp='two-sided'):\n",
    "    x = train[train[target]==0][quant_var]\n",
    "    y = train[train[target]==1][quant_var]\n",
    "    return stats.mannwhitneyu(x, y, use_continuity=True, alternative=alt_hyp)"
   ]
  },
  {
   "cell_type": "code",
   "execution_count": null,
   "metadata": {},
   "outputs": [],
   "source": [
    "#Breakdown the features by categories for Univariate and Bivariate Functions from Explore Module\n",
    "categorical_target = 'railroad_company'\n",
    "cat_vars = [\"train_type\", \"cause\", \"typrr\"]\n",
    "quant_vars = [\"accident_type\", \"state\", \"temp\", \"visibility\", \"weather\", \"train_speed\", \"train_direction\", \n",
    "             \"train_weight\", \"equip_damage\", \"track_damage\"]"
   ]
  },
  {
   "cell_type": "code",
   "execution_count": null,
   "metadata": {
    "scrolled": true
   },
   "outputs": [],
   "source": [
    "#explore_bivariate(train, 'railroad_company', cat_vars, quant_vars)"
   ]
  },
  {
   "cell_type": "markdown",
   "metadata": {},
   "source": [
    "**How do total damages compare by railroad?**"
   ]
  },
  {
   "cell_type": "code",
   "execution_count": 48,
   "metadata": {},
   "outputs": [
    {
     "data": {
      "text/html": [
       "<div>\n",
       "<style scoped>\n",
       "    .dataframe tbody tr th:only-of-type {\n",
       "        vertical-align: middle;\n",
       "    }\n",
       "\n",
       "    .dataframe tbody tr th {\n",
       "        vertical-align: top;\n",
       "    }\n",
       "\n",
       "    .dataframe thead th {\n",
       "        text-align: right;\n",
       "    }\n",
       "</style>\n",
       "<table border=\"1\" class=\"dataframe\">\n",
       "  <thead>\n",
       "    <tr style=\"text-align: right;\">\n",
       "      <th></th>\n",
       "      <th>train_speed</th>\n",
       "    </tr>\n",
       "    <tr>\n",
       "      <th>railroad_company</th>\n",
       "      <th></th>\n",
       "    </tr>\n",
       "  </thead>\n",
       "  <tbody>\n",
       "    <tr>\n",
       "      <th>ATK</th>\n",
       "      <td>58</td>\n",
       "    </tr>\n",
       "    <tr>\n",
       "      <th>BNSF</th>\n",
       "      <td>7</td>\n",
       "    </tr>\n",
       "    <tr>\n",
       "      <th>CSX</th>\n",
       "      <td>7</td>\n",
       "    </tr>\n",
       "    <tr>\n",
       "      <th>NS</th>\n",
       "      <td>6</td>\n",
       "    </tr>\n",
       "    <tr>\n",
       "      <th>UP</th>\n",
       "      <td>7</td>\n",
       "    </tr>\n",
       "  </tbody>\n",
       "</table>\n",
       "</div>"
      ],
      "text/plain": [
       "                  train_speed\n",
       "railroad_company             \n",
       "ATK                        58\n",
       "BNSF                        7\n",
       "CSX                         7\n",
       "NS                          6\n",
       "UP                          7"
      ]
     },
     "execution_count": 48,
     "metadata": {},
     "output_type": "execute_result"
    }
   ],
   "source": [
    "train_speed = pd.DataFrame(train.groupby('railroad_company').train_speed.median())\n",
    "train_speed"
   ]
  },
  {
   "cell_type": "code",
   "execution_count": 50,
   "metadata": {},
   "outputs": [],
   "source": [
    "train_speed.to_excel('train_median_speed_by_rr.xlsx')"
   ]
  },
  {
   "cell_type": "code",
   "execution_count": 21,
   "metadata": {},
   "outputs": [
    {
     "data": {
      "text/plain": [
       "<AxesSubplot:xlabel='railroad_company'>"
      ]
     },
     "execution_count": 21,
     "metadata": {},
     "output_type": "execute_result"
    },
    {
     "data": {
      "image/png": "[encoded data removed]",
      "text/plain": [
       "<Figure size 432x288 with 1 Axes>"
      ]
     },
     "metadata": {
      "needs_background": "light"
     },
     "output_type": "display_data"
    }
   ],
   "source": [
    "train.groupby('railroad_company').train_speed.median().plot(kind='bar')"
   ]
  },
  {
   "cell_type": "code",
   "execution_count": 20,
   "metadata": {},
   "outputs": [
    {
     "ename": "AttributeError",
     "evalue": "'DataFrameGroupBy' object has no attribute 'speed'",
     "output_type": "error",
     "traceback": [
      "\u001b[0;31m---------------------------------------------------------------------------\u001b[0m",
      "\u001b[0;31mAttributeError\u001b[0m                            Traceback (most recent call last)",
      "\u001b[0;32m<ipython-input-20-86fc0c1ae3ca>\u001b[0m in \u001b[0;36m<module>\u001b[0;34m\u001b[0m\n\u001b[0;32m----> 1\u001b[0;31m \u001b[0mtrain\u001b[0m\u001b[0;34m.\u001b[0m\u001b[0mgroupby\u001b[0m\u001b[0;34m(\u001b[0m\u001b[0;34m'railroad_company'\u001b[0m\u001b[0;34m)\u001b[0m\u001b[0;34m.\u001b[0m\u001b[0mspeed\u001b[0m\u001b[0;34m.\u001b[0m\u001b[0mmean\u001b[0m\u001b[0;34m(\u001b[0m\u001b[0;34m)\u001b[0m\u001b[0;34m.\u001b[0m\u001b[0mplot\u001b[0m\u001b[0;34m(\u001b[0m\u001b[0mkind\u001b[0m\u001b[0;34m=\u001b[0m\u001b[0;34m'bar'\u001b[0m\u001b[0;34m)\u001b[0m\u001b[0;34m\u001b[0m\u001b[0;34m\u001b[0m\u001b[0m\n\u001b[0m",
      "\u001b[0;32m/usr/local/anaconda3/lib/python3.8/site-packages/pandas/core/groupby/groupby.py\u001b[0m in \u001b[0;36m__getattr__\u001b[0;34m(self, attr)\u001b[0m\n\u001b[1;32m    701\u001b[0m             \u001b[0;32mreturn\u001b[0m \u001b[0mself\u001b[0m\u001b[0;34m[\u001b[0m\u001b[0mattr\u001b[0m\u001b[0;34m]\u001b[0m\u001b[0;34m\u001b[0m\u001b[0;34m\u001b[0m\u001b[0m\n\u001b[1;32m    702\u001b[0m \u001b[0;34m\u001b[0m\u001b[0m\n\u001b[0;32m--> 703\u001b[0;31m         raise AttributeError(\n\u001b[0m\u001b[1;32m    704\u001b[0m             \u001b[0;34mf\"'{type(self).__name__}' object has no attribute '{attr}'\"\u001b[0m\u001b[0;34m\u001b[0m\u001b[0;34m\u001b[0m\u001b[0m\n\u001b[1;32m    705\u001b[0m         )\n",
      "\u001b[0;31mAttributeError\u001b[0m: 'DataFrameGroupBy' object has no attribute 'speed'"
     ]
    }
   ],
   "source": [
    "train.groupby('railroad_company').speed.mean().plot(kind='bar')"
   ]
  },
  {
   "cell_type": "code",
   "execution_count": null,
   "metadata": {},
   "outputs": [],
   "source": [
    "plt.figure(figsize=(14,10))\n",
    "\n",
    "\n",
    "\n",
    "ax = sns.boxplot(x=\"railroad_company\", y=\"total_damage\", data=train,whis=np.inf )\n",
    "ax = sns.stripplot(x=\"railroad_company\", y=\"total_damage\", data=train, color=\".3\")\n",
    "ax.set_xlabel('Railroad')\n",
    "plt.title('How Do Total Damages($) From an Equipment Accident Vary by Railroad?')\n",
    "\n",
    "\n",
    "plt.show()"
   ]
  },
  {
   "cell_type": "code",
   "execution_count": null,
   "metadata": {},
   "outputs": [],
   "source": [
    "td_rr_df = test[['railroad_company', 'total_damage']]\n",
    "td_rr_df.shape"
   ]
  },
  {
   "cell_type": "code",
   "execution_count": null,
   "metadata": {},
   "outputs": [],
   "source": [
    "td_rr_df.to_excel('total_damages_by_rr.xlsx')"
   ]
  },
  {
   "cell_type": "markdown",
   "metadata": {},
   "source": [
    "**Does total_damage have the same distribution shape for each railroad?**"
   ]
  },
  {
   "cell_type": "code",
   "execution_count": 9,
   "metadata": {
    "scrolled": true
   },
   "outputs": [
    {
     "data": {
      "text/html": [
       "<div>\n",
       "<style scoped>\n",
       "    .dataframe tbody tr th:only-of-type {\n",
       "        vertical-align: middle;\n",
       "    }\n",
       "\n",
       "    .dataframe tbody tr th {\n",
       "        vertical-align: top;\n",
       "    }\n",
       "\n",
       "    .dataframe thead th {\n",
       "        text-align: right;\n",
       "    }\n",
       "</style>\n",
       "<table border=\"1\" class=\"dataframe\">\n",
       "  <thead>\n",
       "    <tr style=\"text-align: right;\">\n",
       "      <th></th>\n",
       "      <th>state_fips</th>\n",
       "      <th>railroad_company</th>\n",
       "      <th>accident_type</th>\n",
       "      <th>state_x</th>\n",
       "      <th>temp</th>\n",
       "      <th>visibility</th>\n",
       "      <th>weather</th>\n",
       "      <th>train_speed</th>\n",
       "      <th>train_direction</th>\n",
       "      <th>train_weight</th>\n",
       "      <th>...</th>\n",
       "      <th>region</th>\n",
       "      <th>typrr</th>\n",
       "      <th>lat</th>\n",
       "      <th>long</th>\n",
       "      <th>signal_type</th>\n",
       "      <th>date</th>\n",
       "      <th>season</th>\n",
       "      <th>state_y</th>\n",
       "      <th>state</th>\n",
       "      <th>year</th>\n",
       "    </tr>\n",
       "    <tr>\n",
       "      <th>incdtno</th>\n",
       "      <th></th>\n",
       "      <th></th>\n",
       "      <th></th>\n",
       "      <th></th>\n",
       "      <th></th>\n",
       "      <th></th>\n",
       "      <th></th>\n",
       "      <th></th>\n",
       "      <th></th>\n",
       "      <th></th>\n",
       "      <th></th>\n",
       "      <th></th>\n",
       "      <th></th>\n",
       "      <th></th>\n",
       "      <th></th>\n",
       "      <th></th>\n",
       "      <th></th>\n",
       "      <th></th>\n",
       "      <th></th>\n",
       "      <th></th>\n",
       "      <th></th>\n",
       "    </tr>\n",
       "  </thead>\n",
       "  <tbody>\n",
       "    <tr>\n",
       "      <th>0220RM030</th>\n",
       "      <td>32</td>\n",
       "      <td>UP</td>\n",
       "      <td>1</td>\n",
       "      <td>32</td>\n",
       "      <td>49</td>\n",
       "      <td>4</td>\n",
       "      <td>1</td>\n",
       "      <td>4</td>\n",
       "      <td>3.0</td>\n",
       "      <td>3163</td>\n",
       "      <td>...</td>\n",
       "      <td>7</td>\n",
       "      <td>1</td>\n",
       "      <td>36.278014</td>\n",
       "      <td>-115.067228</td>\n",
       "      <td>2</td>\n",
       "      <td>2020-02-25 23:15:00</td>\n",
       "      <td>Winter</td>\n",
       "      <td>36</td>\n",
       "      <td>NY</td>\n",
       "      <td>2020</td>\n",
       "    </tr>\n",
       "    <tr>\n",
       "      <th>1112RS011</th>\n",
       "      <td>6</td>\n",
       "      <td>UP</td>\n",
       "      <td>7</td>\n",
       "      <td>6</td>\n",
       "      <td>48</td>\n",
       "      <td>4</td>\n",
       "      <td>1</td>\n",
       "      <td>47</td>\n",
       "      <td>1.0</td>\n",
       "      <td>6595</td>\n",
       "      <td>...</td>\n",
       "      <td>7</td>\n",
       "      <td>1</td>\n",
       "      <td>37.312292</td>\n",
       "      <td>-120.51840200000001</td>\n",
       "      <td>1</td>\n",
       "      <td>2012-11-20 02:44:00</td>\n",
       "      <td>Fall</td>\n",
       "      <td>9</td>\n",
       "      <td>CT</td>\n",
       "      <td>2012</td>\n",
       "    </tr>\n",
       "    <tr>\n",
       "      <th>0113WH004</th>\n",
       "      <td>40</td>\n",
       "      <td>UP</td>\n",
       "      <td>1</td>\n",
       "      <td>40</td>\n",
       "      <td>32</td>\n",
       "      <td>4</td>\n",
       "      <td>1</td>\n",
       "      <td>4</td>\n",
       "      <td>2.0</td>\n",
       "      <td>6797</td>\n",
       "      <td>...</td>\n",
       "      <td>5</td>\n",
       "      <td>1</td>\n",
       "      <td>34.946889</td>\n",
       "      <td>-95.762725</td>\n",
       "      <td>2</td>\n",
       "      <td>2013-01-05 20:42:00</td>\n",
       "      <td>Winter</td>\n",
       "      <td>45</td>\n",
       "      <td>SC</td>\n",
       "      <td>2013</td>\n",
       "    </tr>\n",
       "    <tr>\n",
       "      <th>1019MA032</th>\n",
       "      <td>5</td>\n",
       "      <td>UP</td>\n",
       "      <td>7</td>\n",
       "      <td>5</td>\n",
       "      <td>47</td>\n",
       "      <td>4</td>\n",
       "      <td>1</td>\n",
       "      <td>62</td>\n",
       "      <td>1.0</td>\n",
       "      <td>4152</td>\n",
       "      <td>...</td>\n",
       "      <td>5</td>\n",
       "      <td>1</td>\n",
       "      <td>33.766832</td>\n",
       "      <td>-93.425298</td>\n",
       "      <td>1</td>\n",
       "      <td>2019-10-23 00:30:00</td>\n",
       "      <td>Fall</td>\n",
       "      <td>8</td>\n",
       "      <td>CO</td>\n",
       "      <td>2019</td>\n",
       "    </tr>\n",
       "    <tr>\n",
       "      <th>0617UT013</th>\n",
       "      <td>16</td>\n",
       "      <td>UP</td>\n",
       "      <td>12</td>\n",
       "      <td>16</td>\n",
       "      <td>76</td>\n",
       "      <td>2</td>\n",
       "      <td>1</td>\n",
       "      <td>4</td>\n",
       "      <td>3.0</td>\n",
       "      <td>1986</td>\n",
       "      <td>...</td>\n",
       "      <td>8</td>\n",
       "      <td>1</td>\n",
       "      <td>42.862689</td>\n",
       "      <td>-112.447621</td>\n",
       "      <td>2</td>\n",
       "      <td>2017-06-15 17:15:00</td>\n",
       "      <td>Summer</td>\n",
       "      <td>20</td>\n",
       "      <td>KS</td>\n",
       "      <td>2017</td>\n",
       "    </tr>\n",
       "    <tr>\n",
       "      <th>...</th>\n",
       "      <td>...</td>\n",
       "      <td>...</td>\n",
       "      <td>...</td>\n",
       "      <td>...</td>\n",
       "      <td>...</td>\n",
       "      <td>...</td>\n",
       "      <td>...</td>\n",
       "      <td>...</td>\n",
       "      <td>...</td>\n",
       "      <td>...</td>\n",
       "      <td>...</td>\n",
       "      <td>...</td>\n",
       "      <td>...</td>\n",
       "      <td>...</td>\n",
       "      <td>...</td>\n",
       "      <td>...</td>\n",
       "      <td>...</td>\n",
       "      <td>...</td>\n",
       "      <td>...</td>\n",
       "      <td>...</td>\n",
       "      <td>...</td>\n",
       "    </tr>\n",
       "    <tr>\n",
       "      <th>0420HO006</th>\n",
       "      <td>48</td>\n",
       "      <td>UP</td>\n",
       "      <td>12</td>\n",
       "      <td>48</td>\n",
       "      <td>76</td>\n",
       "      <td>2</td>\n",
       "      <td>2</td>\n",
       "      <td>9</td>\n",
       "      <td>2.0</td>\n",
       "      <td>794</td>\n",
       "      <td>...</td>\n",
       "      <td>5</td>\n",
       "      <td>1</td>\n",
       "      <td>30.063346999999997</td>\n",
       "      <td>-95.41197</td>\n",
       "      <td>2</td>\n",
       "      <td>2020-04-08 09:22:00</td>\n",
       "      <td>Spring</td>\n",
       "      <td>54</td>\n",
       "      <td>WV</td>\n",
       "      <td>2020</td>\n",
       "    </tr>\n",
       "    <tr>\n",
       "      <th>1017KC011</th>\n",
       "      <td>20</td>\n",
       "      <td>UP</td>\n",
       "      <td>1</td>\n",
       "      <td>20</td>\n",
       "      <td>45</td>\n",
       "      <td>2</td>\n",
       "      <td>2</td>\n",
       "      <td>10</td>\n",
       "      <td>4.0</td>\n",
       "      <td>0</td>\n",
       "      <td>...</td>\n",
       "      <td>6</td>\n",
       "      <td>1</td>\n",
       "      <td>39.099097</td>\n",
       "      <td>-94.609634</td>\n",
       "      <td>1</td>\n",
       "      <td>2017-10-10 09:00:00</td>\n",
       "      <td>Fall</td>\n",
       "      <td>24</td>\n",
       "      <td>MD</td>\n",
       "      <td>2017</td>\n",
       "    </tr>\n",
       "    <tr>\n",
       "      <th>1013PC004</th>\n",
       "      <td>16</td>\n",
       "      <td>UP</td>\n",
       "      <td>7</td>\n",
       "      <td>16</td>\n",
       "      <td>50</td>\n",
       "      <td>4</td>\n",
       "      <td>1</td>\n",
       "      <td>51</td>\n",
       "      <td>3.0</td>\n",
       "      <td>4387</td>\n",
       "      <td>...</td>\n",
       "      <td>8</td>\n",
       "      <td>1</td>\n",
       "      <td>44.252724</td>\n",
       "      <td>-117.00212900000001</td>\n",
       "      <td>1</td>\n",
       "      <td>2013-10-10 20:30:00</td>\n",
       "      <td>Fall</td>\n",
       "      <td>20</td>\n",
       "      <td>KS</td>\n",
       "      <td>2013</td>\n",
       "    </tr>\n",
       "    <tr>\n",
       "      <th>0316TC009</th>\n",
       "      <td>19</td>\n",
       "      <td>UP</td>\n",
       "      <td>1</td>\n",
       "      <td>19</td>\n",
       "      <td>45</td>\n",
       "      <td>2</td>\n",
       "      <td>2</td>\n",
       "      <td>2</td>\n",
       "      <td>1.0</td>\n",
       "      <td>2726</td>\n",
       "      <td>...</td>\n",
       "      <td>6</td>\n",
       "      <td>1</td>\n",
       "      <td>43.276723</td>\n",
       "      <td>-95.80425</td>\n",
       "      <td>2</td>\n",
       "      <td>2016-03-16 18:10:00</td>\n",
       "      <td>Spring</td>\n",
       "      <td>23</td>\n",
       "      <td>ME</td>\n",
       "      <td>2016</td>\n",
       "    </tr>\n",
       "    <tr>\n",
       "      <th>0712HO006</th>\n",
       "      <td>48</td>\n",
       "      <td>UP</td>\n",
       "      <td>7</td>\n",
       "      <td>48</td>\n",
       "      <td>96</td>\n",
       "      <td>3</td>\n",
       "      <td>2</td>\n",
       "      <td>59</td>\n",
       "      <td>1.0</td>\n",
       "      <td>976</td>\n",
       "      <td>...</td>\n",
       "      <td>5</td>\n",
       "      <td>1</td>\n",
       "      <td>29.994807</td>\n",
       "      <td>-95.39589000000001</td>\n",
       "      <td>1</td>\n",
       "      <td>2012-07-03 19:18:00</td>\n",
       "      <td>Summer</td>\n",
       "      <td>54</td>\n",
       "      <td>WV</td>\n",
       "      <td>2012</td>\n",
       "    </tr>\n",
       "  </tbody>\n",
       "</table>\n",
       "<p>2291 rows × 37 columns</p>\n",
       "</div>"
      ],
      "text/plain": [
       "           state_fips railroad_company  accident_type  state_x  temp  \\\n",
       "incdtno                                                                \n",
       "0220RM030          32               UP              1       32    49   \n",
       "1112RS011           6               UP              7        6    48   \n",
       "0113WH004          40               UP              1       40    32   \n",
       "1019MA032           5               UP              7        5    47   \n",
       "0617UT013          16               UP             12       16    76   \n",
       "...               ...              ...            ...      ...   ...   \n",
       "0420HO006          48               UP             12       48    76   \n",
       "1017KC011          20               UP              1       20    45   \n",
       "1013PC004          16               UP              7       16    50   \n",
       "0316TC009          19               UP              1       19    45   \n",
       "0712HO006          48               UP              7       48    96   \n",
       "\n",
       "           visibility  weather  train_speed  train_direction  train_weight  \\\n",
       "incdtno                                                                      \n",
       "0220RM030           4        1            4              3.0          3163   \n",
       "1112RS011           4        1           47              1.0          6595   \n",
       "0113WH004           4        1            4              2.0          6797   \n",
       "1019MA032           4        1           62              1.0          4152   \n",
       "0617UT013           2        1            4              3.0          1986   \n",
       "...               ...      ...          ...              ...           ...   \n",
       "0420HO006           2        2            9              2.0           794   \n",
       "1017KC011           2        2           10              4.0             0   \n",
       "1013PC004           4        1           51              3.0          4387   \n",
       "0316TC009           2        2            2              1.0          2726   \n",
       "0712HO006           3        2           59              1.0           976   \n",
       "\n",
       "           ... region  typrr                 lat                 long  \\\n",
       "incdtno    ...                                                          \n",
       "0220RM030  ...      7      1           36.278014          -115.067228   \n",
       "1112RS011  ...      7      1           37.312292  -120.51840200000001   \n",
       "0113WH004  ...      5      1           34.946889           -95.762725   \n",
       "1019MA032  ...      5      1           33.766832           -93.425298   \n",
       "0617UT013  ...      8      1           42.862689          -112.447621   \n",
       "...        ...    ...    ...                 ...                  ...   \n",
       "0420HO006  ...      5      1  30.063346999999997            -95.41197   \n",
       "1017KC011  ...      6      1           39.099097           -94.609634   \n",
       "1013PC004  ...      8      1           44.252724  -117.00212900000001   \n",
       "0316TC009  ...      6      1           43.276723            -95.80425   \n",
       "0712HO006  ...      5      1           29.994807   -95.39589000000001   \n",
       "\n",
       "           signal_type                date  season  state_y  state  year  \n",
       "incdtno                                                                   \n",
       "0220RM030            2 2020-02-25 23:15:00  Winter       36     NY  2020  \n",
       "1112RS011            1 2012-11-20 02:44:00    Fall        9     CT  2012  \n",
       "0113WH004            2 2013-01-05 20:42:00  Winter       45     SC  2013  \n",
       "1019MA032            1 2019-10-23 00:30:00    Fall        8     CO  2019  \n",
       "0617UT013            2 2017-06-15 17:15:00  Summer       20     KS  2017  \n",
       "...                ...                 ...     ...      ...    ...   ...  \n",
       "0420HO006            2 2020-04-08 09:22:00  Spring       54     WV  2020  \n",
       "1017KC011            1 2017-10-10 09:00:00    Fall       24     MD  2017  \n",
       "1013PC004            1 2013-10-10 20:30:00    Fall       20     KS  2013  \n",
       "0316TC009            2 2016-03-16 18:10:00  Spring       23     ME  2016  \n",
       "0712HO006            1 2012-07-03 19:18:00  Summer       54     WV  2012  \n",
       "\n",
       "[2291 rows x 37 columns]"
      ]
     },
     "execution_count": 9,
     "metadata": {},
     "output_type": "execute_result"
    }
   ],
   "source": [
    "#Subset the UP observations\n",
    "up_train = train[train.railroad_company == 'UP']\n",
    "up_train"
   ]
  },
  {
   "cell_type": "code",
   "execution_count": 10,
   "metadata": {},
   "outputs": [
    {
     "data": {
      "text/plain": [
       "<AxesSubplot:>"
      ]
     },
     "execution_count": 10,
     "metadata": {},
     "output_type": "execute_result"
    },
    {
     "data": {
      "image/png": "[encoded data removed]",
      "text/plain": [
       "<Figure size 432x288 with 1 Axes>"
      ]
     },
     "metadata": {
      "needs_background": "light"
     },
     "output_type": "display_data"
    }
   ],
   "source": [
    "#View the dist of damages for UP\n",
    "up_train.total_damage.hist()"
   ]
  },
  {
   "cell_type": "code",
   "execution_count": 11,
   "metadata": {},
   "outputs": [
    {
     "data": {
      "text/plain": [
       "<AxesSubplot:>"
      ]
     },
     "execution_count": 11,
     "metadata": {},
     "output_type": "execute_result"
    },
    {
     "data": {
      "image/png": "[encoded data removed]",
      "text/plain": [
       "<Figure size 432x288 with 1 Axes>"
      ]
     },
     "metadata": {
      "needs_background": "light"
     },
     "output_type": "display_data"
    }
   ],
   "source": [
    "#Subset ATK\n",
    "atk_train = train[train.railroad_company == 'ATK']\n",
    "\n",
    "#View the Dist of Damages for ATK\n",
    "atk_train.total_damage.hist()"
   ]
  },
  {
   "cell_type": "code",
   "execution_count": null,
   "metadata": {},
   "outputs": [],
   "source": []
  },
  {
   "cell_type": "markdown",
   "metadata": {},
   "source": [
    "**Explore Using crosstabs**"
   ]
  },
  {
   "cell_type": "code",
   "execution_count": null,
   "metadata": {
    "scrolled": true
   },
   "outputs": [],
   "source": [
    "pd.crosstab(train.state, train.railroad_company, normalize=True, margins=True)"
   ]
  },
  {
   "cell_type": "code",
   "execution_count": null,
   "metadata": {},
   "outputs": [],
   "source": [
    "#View a crosstab of equip accidents by rr and state\n",
    "rr_inc_by_state = pd.crosstab(train.state, train.railroad_company, margins=True)"
   ]
  },
  {
   "cell_type": "code",
   "execution_count": null,
   "metadata": {
    "scrolled": false
   },
   "outputs": [],
   "source": [
    "#Visualize Accidents by state\n",
    "plt.figure(figsize=(16, 12))\n",
    "rr_inc_by_state.All.plot(kind='bar', title=\"Which states have the most equipment rail accidents?\")\n",
    "plt.show()\n"
   ]
  },
  {
   "cell_type": "markdown",
   "metadata": {},
   "source": [
    "**Takeaways:**\n",
    "   - UP equipment accidents result in higher median total damages\n",
    "   - Temperature spread is varied by railroad...Is this beacuse certain railroads operate in more specific climates?\n",
    "   - Accident type should be a categorical value\n",
    "   - Amtrak trains travel at higher speeds than other Railroads\n",
    "   - BNSF accidents seem to incur > track damages on average\n",
    "   - Amtrak incidents are missing train weight data\n",
    "   - Texas has the most amount of equipment accidents than other states. Accounting for 14% of all accidents reported."
   ]
  },
  {
   "cell_type": "markdown",
   "metadata": {},
   "source": [
    "---"
   ]
  },
  {
   "cell_type": "markdown",
   "metadata": {},
   "source": [
    "**Equipment Multivariate Exploration**"
   ]
  },
  {
   "cell_type": "markdown",
   "metadata": {},
   "source": [
    "**Do Mean Total Damages Vary By the State in Which the Accident Occured?**"
   ]
  },
  {
   "cell_type": "code",
   "execution_count": null,
   "metadata": {},
   "outputs": [],
   "source": [
    "up_inc = train[train.railroad_company == 'UP']\n",
    "up_inc.shape"
   ]
  },
  {
   "cell_type": "code",
   "execution_count": null,
   "metadata": {},
   "outputs": [],
   "source": [
    "up_inc.head()"
   ]
  },
  {
   "cell_type": "code",
   "execution_count": null,
   "metadata": {},
   "outputs": [],
   "source": [
    "up_inc_tx = up_inc[up_inc.state == ' TX']\n",
    "up_inc_tx.shape"
   ]
  },
  {
   "cell_type": "code",
   "execution_count": null,
   "metadata": {},
   "outputs": [],
   "source": [
    "up_inc_tx.total_damage.hist()"
   ]
  },
  {
   "cell_type": "code",
   "execution_count": null,
   "metadata": {},
   "outputs": [],
   "source": [
    "up_tx_inc.total_damage.mean()"
   ]
  },
  {
   "cell_type": "code",
   "execution_count": null,
   "metadata": {},
   "outputs": [],
   "source": [
    "plt.figure(figsize=(20,16))\n",
    "up_inc.groupby('state').mean('total_damage').plot(kind='barh')\n",
    "plt.show()"
   ]
  },
  {
   "cell_type": "code",
   "execution_count": null,
   "metadata": {},
   "outputs": [],
   "source": [
    "sns.pairplot(data = train, hue = 'railroad_company', \n",
    "             x_vars = [\"train_type\", \"cause\", \"typrr\", \"accident_type\"],\n",
    "             y_vars = [\"train_speed\",\"train_weight\", \"equip_damage\", \"track_damage\"])"
   ]
  },
  {
   "cell_type": "markdown",
   "metadata": {},
   "source": [
    "**Takeaways**\n",
    "   - Amtrak trains go faster than non amtrck trains.\n",
    "   - Pairplot seems to confer that BNSF equipment accidents result in > track damages. "
   ]
  },
  {
   "cell_type": "code",
   "execution_count": null,
   "metadata": {},
   "outputs": [],
   "source": [
    "\"temp\",\n",
    "                        \"train_speed\",\n",
    "                        \"train_weight\",\n",
    "                        \"equip_damage\",\n",
    "                        \"track_damage\",\"total_killed\", \"total_injured\", \"max_speed\", \"total_damage\""
   ]
  },
  {
   "cell_type": "code",
   "execution_count": null,
   "metadata": {},
   "outputs": [],
   "source": [
    "sns.pairplot(data = train, hue = 'railroad_company', \n",
    "             x_vars = [\"train_type\", \"train_speed\",\n",
    "                        \"max_speed\", \"accident_type\"],\n",
    "             y_vars = [\"track_damage\",\"total_killed\", \"total_injured\", \"total_damage\"])"
   ]
  },
  {
   "cell_type": "markdown",
   "metadata": {},
   "source": [
    "**Takeaways:**\n",
    "   - Amtrak seems to be the exception for the observation that the > the train speed, the > the track damage.\n",
    "   - Conversely, the greater the train speed for an Amtrak train, the > total_injured\n",
    "   - Equipment rail incidents result in higher rates of injuries than in deaths"
   ]
  },
  {
   "cell_type": "code",
   "execution_count": null,
   "metadata": {},
   "outputs": [],
   "source": [
    "sns.heatmap(train[[\"temp\", \"train_speed\",\"track_damage\",\"total_killed\", \"total_injured\", \"max_speed\", \"total_damage\"]].corr(), cmap='Blues', annot=True)\n",
    "plt.show()"
   ]
  },
  {
   "cell_type": "markdown",
   "metadata": {},
   "source": [
    "**Takeaways**\n",
    "   - The most interesting thing here is that total_injured is fairly correlated with total_damaged"
   ]
  },
  {
   "cell_type": "markdown",
   "metadata": {},
   "source": [
    "---"
   ]
  },
  {
   "cell_type": "markdown",
   "metadata": {},
   "source": [
    "## Questions from Exploration to Explore With Statistical Testing"
   ]
  },
  {
   "cell_type": "markdown",
   "metadata": {},
   "source": [
    "**Do BNSF Equipment Incidents Result in Higher Track Damages than other Railroad Equipment Incidents?**"
   ]
  },
  {
   "cell_type": "markdown",
   "metadata": {},
   "source": [
    "I am using a mann-whitney u test to analyze this due to the fact that track_damage is not normally distirbuted<br>\n",
    "**H<sub>o</sub>: BNS equipment accidents do not result in higher track damages than other Railroad equipment accidents.<br>\n",
    "H<sub>a</sub>: BNS equipment accidents do result in higher track damages**"
   ]
  },
  {
   "cell_type": "code",
   "execution_count": 12,
   "metadata": {},
   "outputs": [
    {
     "name": "stdout",
     "output_type": "stream",
     "text": [
      "The mannwhitneyu statistic is:3668592.0 and the p-value is 2.8950726502963134e-05\n",
      "We reject the null hypothesis.\n"
     ]
    }
   ],
   "source": [
    "#Set confidence interval and alpha for Mann-Whitney U Test due to the fact that track_damage is not normally dist\n",
    "confidence_interval = 0.99\n",
    "a = 1 - confidence_interval \n",
    "\n",
    "#Define the two samples where x1 is BNSF Railroad accidents and x2 non-BNSF railroad accidents\n",
    "x1 = train[train.railroad_company == 'BNSF'].track_damage\n",
    "x2 = train[train.railroad_company != 'BNSF'].track_damage\n",
    "\n",
    "#Run the test\n",
    "t, p = stats.mannwhitneyu(x1, x2, alternative='two-sided')\n",
    "\n",
    "#print results\n",
    "print(f'The mannwhitneyu statistic is:{t} and the p-value is {p}')\n",
    "\n",
    "if p < a:\n",
    "    print('We reject the null hypothesis.')\n",
    "else:\n",
    "    print('Fail to reject the null hypothesis')"
   ]
  },
  {
   "cell_type": "markdown",
   "metadata": {},
   "source": [
    "**Do Amtrak Equipment Incidents Result in Higher Total Damages than other Railroad Equipment Incidents?**"
   ]
  },
  {
   "cell_type": "markdown",
   "metadata": {},
   "source": [
    "I am using a mann-whitney u test to analyze this due to the fact that total_damage is not normally distirbuted<br>\n",
    "**H<sub>o</sub>: Amtrack equipment accidents do not result in higher total damages than other Railroad equipment accidents.<br>\n",
    "H<sub>a</sub>: Amtrack equipment accidents do result in higher total damages**"
   ]
  },
  {
   "cell_type": "code",
   "execution_count": 13,
   "metadata": {},
   "outputs": [
    {
     "name": "stdout",
     "output_type": "stream",
     "text": [
      "The mannwhitneyu statistic is:914650.5 and the p-value is 4.915352950160855e-07\n",
      "We reject the null hypothesis.\n"
     ]
    }
   ],
   "source": [
    "#Set confidence interval and alpha for Mann-Whitney U Test due to the fact that total_damage is not normally dist\n",
    "confidence_interval = 0.99\n",
    "a = 1 - confidence_interval \n",
    "\n",
    "#Define the two samples where x1 is Amtrak Railroad accidents and x2 non-Amtrak railroad accidents\n",
    "x1 = train[train.railroad_company == 'ATK'].total_damage\n",
    "x2 = train[(train.railroad_company != 'ATK')].total_damage\n",
    "\n",
    "#Run the test\n",
    "t, p = stats.mannwhitneyu(x1, x2, alternative='two-sided')\n",
    "\n",
    "#print results\n",
    "print(f'The mannwhitneyu statistic is:{t} and the p-value is {p}')\n",
    "\n",
    "if p < a:\n",
    "    print('We reject the null hypothesis.')\n",
    "else:\n",
    "    print('Fail to reject the null hypothesis')"
   ]
  },
  {
   "cell_type": "markdown",
   "metadata": {},
   "source": [
    "**Do UP Incidents Result in Higher Total Damages than other Railroad Equipment Incidents?**"
   ]
  },
  {
   "cell_type": "markdown",
   "metadata": {},
   "source": [
    "I am using a mann-whitney u test to analyze this due to the fact that total_damage is not normally distirbuted<br>\n",
    "**H<sub>o</sub>: UP equipment accidents do not result in higher total damages than other Railroad equipment accidents.<br>\n",
    "H<sub>a</sub>: UP equipment accidents do result in higher total damages**"
   ]
  },
  {
   "cell_type": "code",
   "execution_count": 14,
   "metadata": {},
   "outputs": [
    {
     "name": "stdout",
     "output_type": "stream",
     "text": [
      "The mannwhitneyu statistic is:4470358.5 and the p-value is 3.048315553007818e-07\n",
      "We reject the null hypothesis.\n"
     ]
    }
   ],
   "source": [
    "#Set confidence interval and alpha for Mann-Whitney U Test due to the fact that total_damage is not normally dist\n",
    "confidence_interval = 0.99\n",
    "a = 1 - confidence_interval \n",
    "\n",
    "#Define the two samples where x1 is Amtrak Railroad accidents and x2 non-Amtrak railroad accidents\n",
    "x1 = train[train.railroad_company == 'UP'].total_damage\n",
    "x2 = train[train.railroad_company != 'UP'].total_damage\n",
    "\n",
    "#Run the test\n",
    "t, p = stats.mannwhitneyu(x1, x2, alternative='two-sided')\n",
    "\n",
    "#print results\n",
    "print(f'The mannwhitneyu statistic is:{t} and the p-value is {p}')\n",
    "\n",
    "if p < a:\n",
    "    print('We reject the null hypothesis.')\n",
    "else:\n",
    "    print('Fail to reject the null hypothesis')"
   ]
  },
  {
   "cell_type": "markdown",
   "metadata": {},
   "source": [
    "**Is train_speed a effective feature for classifying railroad involved in an equipment accident?**"
   ]
  },
  {
   "cell_type": "code",
   "execution_count": 34,
   "metadata": {},
   "outputs": [
    {
     "name": "stdout",
     "output_type": "stream",
     "text": [
      "The mannwhitneyu statistic is:1647055.0 and the p-value is 8.379487149604707e-69\n",
      "We reject the null hypothesis.\n"
     ]
    }
   ],
   "source": [
    "#Set confidence interval and alpha for Mann-Whitney U Test due to the fact that total_damage is not normally dist\n",
    "confidence_interval = 0.95\n",
    "a = 1 - confidence_interval \n",
    "\n",
    "#Define the two samples where x1 is Amtrak Railroad accidents and x2 non-Amtrak railroad accidents\n",
    "x1 = train[train.railroad_company == 'ATK'].train_speed\n",
    "x2 = train[train.railroad_company != 'ATK'].train_speed\n",
    "\n",
    "#Run the test\n",
    "t, p = stats.mannwhitneyu(x1, x2, alternative='greater')\n",
    "\n",
    "#print results\n",
    "print(f'The mannwhitneyu statistic is:{t} and the p-value is {p}')\n",
    "\n",
    "if p < a:\n",
    "    print('We reject the null hypothesis.')\n",
    "else:\n",
    "    print('Fail to reject the null hypothesis')"
   ]
  },
  {
   "cell_type": "code",
   "execution_count": 45,
   "metadata": {},
   "outputs": [
    {
     "name": "stdout",
     "output_type": "stream",
     "text": [
      "The mannwhitneyu statistic is:218432.0 and the p-value is 1.0942100115759696e-59\n",
      "We reject the null hypothesis.\n"
     ]
    }
   ],
   "source": [
    "#Set confidence interval and alpha for Mann-Whitney U Test due to the fact that total_speed is not normally dist\n",
    "confidence_interval = 0.95\n",
    "a = 1 - confidence_interval \n",
    "\n",
    "#Define the two samples where x1 is Amtrak Railroad accidents and x2 non-Amtrak railroad accidents\n",
    "x1 = train[train.railroad_company == 'UP'].train_speed\n",
    "x2 = train[train.railroad_company == 'ATK'].train_speed\n",
    "\n",
    "#Run the test\n",
    "t, p = stats.mannwhitneyu(x1, x2, alternative='less')\n",
    "\n",
    "#print results\n",
    "print(f'The mannwhitneyu statistic is:{t} and the p-value is {p}')\n",
    "\n",
    "if p < a:\n",
    "    print('We reject the null hypothesis.')\n",
    "else:\n",
    "    print('Fail to reject the null hypothesis')"
   ]
  },
  {
   "cell_type": "markdown",
   "metadata": {},
   "source": [
    "**Is train_type related to railroad?**"
   ]
  },
  {
   "cell_type": "markdown",
   "metadata": {},
   "source": [
    "Chi Squared Test for examining the relationship between two categorical variables<br>\n",
    "**H<sub>o</sub>: Train type is independent of railroad.<br>\n",
    "H<sub>a</sub>: Train type has dependent on railroad.**"
   ]
  },
  {
   "cell_type": "code",
   "execution_count": 16,
   "metadata": {},
   "outputs": [
    {
     "data": {
      "text/html": [
       "<div>\n",
       "<style scoped>\n",
       "    .dataframe tbody tr th:only-of-type {\n",
       "        vertical-align: middle;\n",
       "    }\n",
       "\n",
       "    .dataframe tbody tr th {\n",
       "        vertical-align: top;\n",
       "    }\n",
       "\n",
       "    .dataframe thead th {\n",
       "        text-align: right;\n",
       "    }\n",
       "</style>\n",
       "<table border=\"1\" class=\"dataframe\">\n",
       "  <thead>\n",
       "    <tr style=\"text-align: right;\">\n",
       "      <th>train_type</th>\n",
       "      <th>1</th>\n",
       "      <th>2</th>\n",
       "      <th>3</th>\n",
       "      <th>4</th>\n",
       "      <th>5</th>\n",
       "      <th>6</th>\n",
       "      <th>7</th>\n",
       "      <th>8</th>\n",
       "      <th>9</th>\n",
       "      <th>A</th>\n",
       "      <th>B</th>\n",
       "    </tr>\n",
       "    <tr>\n",
       "      <th>railroad_company</th>\n",
       "      <th></th>\n",
       "      <th></th>\n",
       "      <th></th>\n",
       "      <th></th>\n",
       "      <th></th>\n",
       "      <th></th>\n",
       "      <th></th>\n",
       "      <th></th>\n",
       "      <th></th>\n",
       "      <th></th>\n",
       "      <th></th>\n",
       "    </tr>\n",
       "  </thead>\n",
       "  <tbody>\n",
       "    <tr>\n",
       "      <th>ATK</th>\n",
       "      <td>0</td>\n",
       "      <td>267</td>\n",
       "      <td>2</td>\n",
       "      <td>5</td>\n",
       "      <td>0</td>\n",
       "      <td>1</td>\n",
       "      <td>33</td>\n",
       "      <td>40</td>\n",
       "      <td>1</td>\n",
       "      <td>9</td>\n",
       "      <td>33</td>\n",
       "    </tr>\n",
       "    <tr>\n",
       "      <th>BNSF</th>\n",
       "      <td>835</td>\n",
       "      <td>1</td>\n",
       "      <td>0</td>\n",
       "      <td>4</td>\n",
       "      <td>5</td>\n",
       "      <td>18</td>\n",
       "      <td>576</td>\n",
       "      <td>106</td>\n",
       "      <td>30</td>\n",
       "      <td>10</td>\n",
       "      <td>1</td>\n",
       "    </tr>\n",
       "    <tr>\n",
       "      <th>CSX</th>\n",
       "      <td>448</td>\n",
       "      <td>0</td>\n",
       "      <td>0</td>\n",
       "      <td>3</td>\n",
       "      <td>16</td>\n",
       "      <td>58</td>\n",
       "      <td>212</td>\n",
       "      <td>16</td>\n",
       "      <td>2</td>\n",
       "      <td>2</td>\n",
       "      <td>0</td>\n",
       "    </tr>\n",
       "    <tr>\n",
       "      <th>NS</th>\n",
       "      <td>509</td>\n",
       "      <td>0</td>\n",
       "      <td>0</td>\n",
       "      <td>6</td>\n",
       "      <td>3</td>\n",
       "      <td>15</td>\n",
       "      <td>295</td>\n",
       "      <td>49</td>\n",
       "      <td>0</td>\n",
       "      <td>6</td>\n",
       "      <td>0</td>\n",
       "    </tr>\n",
       "    <tr>\n",
       "      <th>UP</th>\n",
       "      <td>1313</td>\n",
       "      <td>0</td>\n",
       "      <td>0</td>\n",
       "      <td>21</td>\n",
       "      <td>29</td>\n",
       "      <td>10</td>\n",
       "      <td>746</td>\n",
       "      <td>131</td>\n",
       "      <td>3</td>\n",
       "      <td>38</td>\n",
       "      <td>0</td>\n",
       "    </tr>\n",
       "  </tbody>\n",
       "</table>\n",
       "</div>"
      ],
      "text/plain": [
       "train_type           1    2  3   4   5   6    7    8   9   A   B\n",
       "railroad_company                                                \n",
       "ATK                  0  267  2   5   0   1   33   40   1   9  33\n",
       "BNSF               835    1  0   4   5  18  576  106  30  10   1\n",
       "CSX                448    0  0   3  16  58  212   16   2   2   0\n",
       "NS                 509    0  0   6   3  15  295   49   0   6   0\n",
       "UP                1313    0  0  21  29  10  746  131   3  38   0"
      ]
     },
     "execution_count": 16,
     "metadata": {},
     "output_type": "execute_result"
    }
   ],
   "source": [
    "observed = pd.crosstab(train.railroad_company, train.train_type)\n",
    "observed"
   ]
  },
  {
   "cell_type": "code",
   "execution_count": 17,
   "metadata": {},
   "outputs": [
    {
     "name": "stdout",
     "output_type": "stream",
     "text": [
      "Observed\n",
      "\n",
      "[[   0  267    2    5    0    1   33   40    1    9   33]\n",
      " [ 835    1    0    4    5   18  576  106   30   10    1]\n",
      " [ 448    0    0    3   16   58  212   16    2    2    0]\n",
      " [ 509    0    0    6    3   15  295   49    0    6    0]\n",
      " [1313    0    0   21   29   10  746  131    3   38    0]]\n",
      "---\n",
      "Expected\n",
      "\n",
      "[[2.05493399e+02 1.77366283e+01 1.32362898e-01 2.58107651e+00\n",
      "  3.50761679e+00 6.75050779e+00 1.23229858e+02 2.26340555e+01\n",
      "  2.38253216e+00 4.30179418e+00 2.25016926e+00]\n",
      " [8.33535884e+02 7.19444821e+01 5.36899120e-01 1.04695328e+01\n",
      "  1.42278267e+01 2.73818551e+01 4.99853081e+02 9.18097495e+01\n",
      "  9.66418416e+00 1.74492214e+01 9.12728504e+00]\n",
      " [3.97847833e+02 3.43392011e+01 2.56262695e-01 4.99712255e+00\n",
      "  6.79096141e+00 1.30693974e+01 2.38580569e+02 4.38209208e+01\n",
      "  4.61272850e+00 8.32853758e+00 4.35646581e+00]\n",
      " [4.64068213e+02 4.00548409e+01 2.98916723e-01 5.82887610e+00\n",
      "  7.92129316e+00 1.52447529e+01 2.78291469e+02 5.11147596e+01\n",
      "  5.38050102e+00 9.71479350e+00 5.08158429e+00]\n",
      " [1.20405467e+03 1.03924848e+02 7.75558565e-01 1.51233920e+01\n",
      "  2.05523020e+01 3.95534868e+01 7.22045024e+02 1.32620515e+02\n",
      "  1.39600542e+01 2.52056534e+01 1.31844956e+01]]\n",
      "---\n",
      "\n",
      "chi^2 = 4873.9757\n",
      "p     = 0.0000\n"
     ]
    }
   ],
   "source": [
    "chi2, p, degf, expected = stats.chi2_contingency(observed)\n",
    "\n",
    "print('Observed\\n')\n",
    "print(observed.values)\n",
    "print('---\\nExpected\\n')\n",
    "print(expected)\n",
    "print('---\\n')\n",
    "print(f'chi^2 = {chi2:.4f}')\n",
    "print(f'p     = {p:.4f}')"
   ]
  },
  {
   "cell_type": "markdown",
   "metadata": {},
   "source": [
    "**Takeaway:**\n",
    "- The chi squared test revealed there is likely a significant relationship between the type of train and the railroad.\n",
    "- Type of train would be a good feature for predicting railroad company, but it may result in too much coliniarity"
   ]
  },
  {
   "cell_type": "markdown",
   "metadata": {},
   "source": [
    "---"
   ]
  },
  {
   "cell_type": "markdown",
   "metadata": {},
   "source": [
    "**What features should be carried over to modeling for Equipment Rail Accidents?**\n",
    "- track_damage\n",
    "- state_fips\n",
    "- total_damage\n",
    "- weather\n",
    "- equip_damage\n",
    "- season\n",
    "- railroad_company\n",
    "- year"
   ]
  },
  {
   "cell_type": "code",
   "execution_count": null,
   "metadata": {
    "scrolled": true
   },
   "outputs": [],
   "source": [
    "df.columns.to_list()"
   ]
  },
  {
   "cell_type": "markdown",
   "metadata": {},
   "source": [
    "---"
   ]
  },
  {
   "cell_type": "markdown",
   "metadata": {},
   "source": [
    "## Explore HWY Rail"
   ]
  },
  {
   "cell_type": "markdown",
   "metadata": {},
   "source": [
    "**Acquire HWY Rail**"
   ]
  },
  {
   "cell_type": "code",
   "execution_count": null,
   "metadata": {},
   "outputs": [],
   "source": [
    "hwy_df = acquire.get_hwyrail()\n",
    "hwy_df.head()"
   ]
  },
  {
   "cell_type": "markdown",
   "metadata": {},
   "source": [
    "**Prep HWY Rail**"
   ]
  },
  {
   "cell_type": "code",
   "execution_count": null,
   "metadata": {},
   "outputs": [],
   "source": [
    "hwy_df = prepare.prep_hwy_df(hwy_df)\n",
    "hwy_df.shape"
   ]
  },
  {
   "cell_type": "markdown",
   "metadata": {},
   "source": [
    "**Explore HWY Rail Univariate**"
   ]
  },
  {
   "cell_type": "code",
   "execution_count": null,
   "metadata": {
    "scrolled": true
   },
   "outputs": [],
   "source": [
    "hwy_df.info()"
   ]
  },
  {
   "cell_type": "code",
   "execution_count": null,
   "metadata": {},
   "outputs": [],
   "source": [
    "cat_vars = [\"railroad_company\", \"station\", \"county\", \"city\", \"vehicle_type\", \"vehicle_direction\", \"position\",\n",
    "           \"hazmat_entity\", \"weather\", \"train_type\", \"track_type\"]\n",
    "quant_vars = [\"vehicle_speed\", \"temp\", \"total_killed\", \"total_injured\"]"
   ]
  },
  {
   "cell_type": "code",
   "execution_count": null,
   "metadata": {
    "scrolled": true
   },
   "outputs": [],
   "source": []
  },
  {
   "cell_type": "code",
   "execution_count": null,
   "metadata": {},
   "outputs": [],
   "source": [
    "hwy_df.columns.to_list()"
   ]
  },
  {
   "cell_type": "markdown",
   "metadata": {},
   "source": [
    "**Is there a relationship between train length and the railroad company?**"
   ]
  },
  {
   "cell_type": "code",
   "execution_count": null,
   "metadata": {},
   "outputs": [],
   "source": []
  }
 ],
 "metadata": {
  "kernelspec": {
   "display_name": "Python 3",
   "language": "python",
   "name": "python3"
  },
  "language_info": {
   "codemirror_mode": {
    "name": "ipython",
    "version": 3
   },
   "file_extension": ".py",
   "mimetype": "text/x-python",
   "name": "python",
   "nbconvert_exporter": "python",
   "pygments_lexer": "ipython3",
   "version": "3.8.5"
  }
 },
 "nbformat": 4,
 "nbformat_minor": 4
}

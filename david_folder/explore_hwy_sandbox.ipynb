{
 "cells": [
  {
   "cell_type": "code",
   "execution_count": 1,
   "metadata": {},
   "outputs": [],
   "source": [
    "import pandas as pd\n",
    "import numpy as np\n",
    "import os\n",
    "from acquire import get_hwyrail, get_equiprail\n",
    "from prepare import prep_hwy_df\n",
    "import matplotlib.pyplot as plt\n",
    "import seaborn as sns\n",
    "import sklearn as sk\n",
    "from scipy import stats"
   ]
  },
  {
   "cell_type": "code",
   "execution_count": 2,
   "metadata": {},
   "outputs": [],
   "source": [
    "df = get_hwyrail()"
   ]
  },
  {
   "cell_type": "code",
   "execution_count": 3,
   "metadata": {},
   "outputs": [
    {
     "data": {
      "text/plain": [
       "(18995, 104)"
      ]
     },
     "execution_count": 3,
     "metadata": {},
     "output_type": "execute_result"
    }
   ],
   "source": [
    "df.shape"
   ]
  },
  {
   "cell_type": "code",
   "execution_count": 4,
   "metadata": {},
   "outputs": [],
   "source": [
    "df = prep_hwy_df(df)"
   ]
  },
  {
   "cell_type": "code",
   "execution_count": 5,
   "metadata": {},
   "outputs": [
    {
     "data": {
      "text/plain": [
       "(12181, 48)"
      ]
     },
     "execution_count": 5,
     "metadata": {},
     "output_type": "execute_result"
    }
   ],
   "source": [
    "df.shape"
   ]
  },
  {
   "cell_type": "code",
   "execution_count": 6,
   "metadata": {},
   "outputs": [
    {
     "name": "stdout",
     "output_type": "stream",
     "text": [
      "<class 'pandas.core.frame.DataFrame'>\n",
      "Index: 12181 entries, 0312RS009 to 193825\n",
      "Data columns (total 48 columns):\n",
      " #   Column              Non-Null Count  Dtype         \n",
      "---  ------              --------------  -----         \n",
      " 0   railroad_company    12181 non-null  object        \n",
      " 1   station             12181 non-null  object        \n",
      " 2   county              12181 non-null  object        \n",
      " 3   state               12181 non-null  int64         \n",
      " 4   region              12181 non-null  int64         \n",
      " 5   city                12181 non-null  object        \n",
      " 6   vehicle_speed       12181 non-null  float64       \n",
      " 7   vehicle_type        12181 non-null  object        \n",
      " 8   vehicle_direction   12181 non-null  object        \n",
      " 9   position            12181 non-null  object        \n",
      " 10  accident_type       12181 non-null  int64         \n",
      " 11  hazmat_entity       12181 non-null  object        \n",
      " 12  temp                12181 non-null  int64         \n",
      " 13  visibility          12181 non-null  int64         \n",
      " 14  weather             12181 non-null  object        \n",
      " 15  train_type          12181 non-null  object        \n",
      " 16  track_type          12181 non-null  object        \n",
      " 17  front_engines       12181 non-null  int64         \n",
      " 18  railcar_quantity    12181 non-null  int64         \n",
      " 19  train_speed         12181 non-null  float64       \n",
      " 20  train_direction     12181 non-null  object        \n",
      " 21  warning_location    12181 non-null  object        \n",
      " 22  warning_signal      12181 non-null  object        \n",
      " 23  lights              12181 non-null  object        \n",
      " 24  standveh            12181 non-null  object        \n",
      " 25  other_train         12181 non-null  object        \n",
      " 26  motorist_action     12181 non-null  object        \n",
      " 27  view_obstruction    12181 non-null  int64         \n",
      " 28  vehicle_damage      12181 non-null  float64       \n",
      " 29  driver_fate         12181 non-null  object        \n",
      " 30  vehicle_occupied    12181 non-null  object        \n",
      " 31  total_killed        12181 non-null  int64         \n",
      " 32  total_injured       12181 non-null  int64         \n",
      " 33  vehicle_occupants   12181 non-null  int64         \n",
      " 34  ispublic_crossing   12181 non-null  object        \n",
      " 35  fips                12181 non-null  int64         \n",
      " 36  whistle_ban         12181 non-null  object        \n",
      " 37  driver_age          12181 non-null  object        \n",
      " 38  driver_gender       12181 non-null  object        \n",
      " 39  train_occupants     12181 non-null  int64         \n",
      " 40  user_killed         12181 non-null  int64         \n",
      " 41  user_injured        12181 non-null  int64         \n",
      " 42  rail_killed         12181 non-null  int64         \n",
      " 43  rail_injured        12181 non-null  int64         \n",
      " 44  train_pass_killed   12181 non-null  int64         \n",
      " 45  train_pass_injured  12181 non-null  int64         \n",
      " 46  road_condtions      12181 non-null  object        \n",
      " 47  date                12181 non-null  datetime64[ns]\n",
      "dtypes: datetime64[ns](1), float64(3), int64(19), object(25)\n",
      "memory usage: 4.6+ MB\n"
     ]
    }
   ],
   "source": [
    "df.info()"
   ]
  },
  {
   "cell_type": "code",
   "execution_count": 7,
   "metadata": {},
   "outputs": [
    {
     "data": {
      "text/plain": [
       "48    1631\n",
       "13     751\n",
       "18     727\n",
       "6      698\n",
       "1      583\n",
       "17     518\n",
       "39     516\n",
       "22     492\n",
       "45     361\n",
       "37     359\n",
       "21     355\n",
       "42     352\n",
       "12     344\n",
       "29     343\n",
       "47     342\n",
       "5      307\n",
       "40     293\n",
       "20     277\n",
       "51     275\n",
       "31     274\n",
       "28     216\n",
       "53     199\n",
       "27     182\n",
       "8      165\n",
       "26     157\n",
       "4      152\n",
       "54     150\n",
       "19     138\n",
       "24     121\n",
       "36     119\n",
       "38     113\n",
       "16     108\n",
       "55      89\n",
       "41      79\n",
       "35      72\n",
       "30      62\n",
       "46      54\n",
       "34      51\n",
       "49      38\n",
       "56      37\n",
       "10      29\n",
       "25      16\n",
       "32      15\n",
       "50       8\n",
       "9        5\n",
       "23       4\n",
       "33       2\n",
       "11       2\n",
       "Name: state, dtype: int64"
      ]
     },
     "execution_count": 7,
     "metadata": {},
     "output_type": "execute_result"
    }
   ],
   "source": [
    "df.state.value_counts()"
   ]
  },
  {
   "cell_type": "markdown",
   "metadata": {},
   "source": [
    "## Takeaway\n",
    "\n",
    " - states like Texas, Georgia, Indiana, Alabama, Ohio rank highest in hwy rail accidents while states in the NE like Vermont, Conneticut & DC are at the very bottom.\n",
    "     - is this because people in NE are more accustomed to trains and people in middle america don't see them as often?\n",
    "     - Need to look at state populations and compare average accident (i.e., vermont could have 5 people but 2 accidents while Texas could have 28 million people and 1,000 accidents. need to look at the numbers and compare\n",
    "\n",
    "Initial hypothesis\n",
    "\n",
    " - Rail accidents are more prevelant in southern and middle america\n",
    "     "
   ]
  },
  {
   "cell_type": "code",
   "execution_count": 8,
   "metadata": {},
   "outputs": [
    {
     "data": {
      "image/png": "[encoded data removed]",
      "text/plain": [
       "<Figure size 864x720 with 1 Axes>"
      ]
     },
     "metadata": {
      "needs_background": "light"
     },
     "output_type": "display_data"
    }
   ],
   "source": [
    "df['visibility'].hist(color='green', figsize=(12, 10))\n",
    "\n",
    "plt.title('Distribution of Accident Based On Visbility')\n",
    "plt.show()"
   ]
  },
  {
   "cell_type": "markdown",
   "metadata": {},
   "source": [
    "----\n",
    "## Takeaway\n",
    "\n",
    "Majority of accident happen the day followed by night...not many at dawn or dusk"
   ]
  },
  {
   "cell_type": "code",
   "execution_count": 9,
   "metadata": {},
   "outputs": [],
   "source": [
    "df.weather = df.weather.astype(int)"
   ]
  },
  {
   "cell_type": "code",
   "execution_count": 10,
   "metadata": {},
   "outputs": [
    {
     "data": {
      "image/png": "[encoded data removed]",
      "text/plain": [
       "<Figure size 864x720 with 1 Axes>"
      ]
     },
     "metadata": {
      "needs_background": "light"
     },
     "output_type": "display_data"
    }
   ],
   "source": [
    "df['weather'].hist(color='red', figsize=(12, 10))\n",
    "\n",
    "plt.title('Distribution of Accident Based On Weather')\n",
    "plt.show()"
   ]
  },
  {
   "cell_type": "markdown",
   "metadata": {},
   "source": [
    "-----\n",
    "\n",
    "## Takeaway\n",
    "\n",
    "- Clear weather followed by cloudy skies are when the majority of accidents take place"
   ]
  },
  {
   "cell_type": "code",
   "execution_count": 11,
   "metadata": {},
   "outputs": [
    {
     "data": {
      "image/png": "[encoded data removed]",
      "text/plain": [
       "<Figure size 720x576 with 1 Axes>"
      ]
     },
     "metadata": {
      "needs_background": "light"
     },
     "output_type": "display_data"
    }
   ],
   "source": [
    "df['vehicle_type'].hist(color='blue', figsize=(10,8))\n",
    "\n",
    "plt.title('Distribution of Accident Based On Vehicle Type')\n",
    "plt.show()"
   ]
  },
  {
   "cell_type": "code",
   "execution_count": 12,
   "metadata": {},
   "outputs": [
    {
     "data": {
      "text/plain": [
       "A    5585\n",
       "C    2248\n",
       "D    1731\n",
       "J     878\n",
       "B     804\n",
       "M     366\n",
       "E     352\n",
       "K     156\n",
       "H      39\n",
       "F      17\n",
       "G       5\n",
       "Name: vehicle_type, dtype: int64"
      ]
     },
     "execution_count": 12,
     "metadata": {},
     "output_type": "execute_result"
    }
   ],
   "source": [
    "df.vehicle_type.value_counts()"
   ]
  },
  {
   "cell_type": "markdown",
   "metadata": {},
   "source": [
    "-----\n",
    "## Takeway\n",
    " \n",
    " - most accidents are involved with auto(cars) followed by tractor trailers, then pick up trucks. School buses were at the very bottom which was good to see although there were still 5 instances. "
   ]
  },
  {
   "cell_type": "markdown",
   "metadata": {},
   "source": [
    "-----------\n",
    "\n",
    "## OUTLIERS\n",
    "\n",
    "-------"
   ]
  },
  {
   "cell_type": "code",
   "execution_count": 13,
   "metadata": {},
   "outputs": [
    {
     "data": {
      "text/plain": [
       "<AxesSubplot:xlabel='front_engines'>"
      ]
     },
     "execution_count": 13,
     "metadata": {},
     "output_type": "execute_result"
    },
    {
     "data": {
      "image/png": "[encoded data removed]",
      "text/plain": [
       "<Figure size 432x288 with 1 Axes>"
      ]
     },
     "metadata": {
      "needs_background": "light"
     },
     "output_type": "display_data"
    }
   ],
   "source": [
    "sns.boxplot(data = df, x = 'front_engines')"
   ]
  },
  {
   "cell_type": "markdown",
   "metadata": {},
   "source": [
    " - Have some crazy outliers with 3 accidents having over 20 engines"
   ]
  },
  {
   "cell_type": "code",
   "execution_count": 14,
   "metadata": {},
   "outputs": [
    {
     "data": {
      "text/plain": [
       "<AxesSubplot:xlabel='railcar_quantity'>"
      ]
     },
     "execution_count": 14,
     "metadata": {},
     "output_type": "execute_result"
    },
    {
     "data": {
      "image/png": "[encoded data removed]",
      "text/plain": [
       "<Figure size 432x288 with 1 Axes>"
      ]
     },
     "metadata": {
      "needs_background": "light"
     },
     "output_type": "display_data"
    }
   ],
   "source": [
    "sns.boxplot(data=df, x = 'railcar_quantity')"
   ]
  },
  {
   "cell_type": "markdown",
   "metadata": {},
   "source": [
    "- majority of railcar quanity is between 0-100 cars but there are some outliers above 200 with one coming in at a whopping 350 cars"
   ]
  },
  {
   "cell_type": "code",
   "execution_count": 15,
   "metadata": {},
   "outputs": [
    {
     "data": {
      "text/plain": [
       "<AxesSubplot:xlabel='train_speed'>"
      ]
     },
     "execution_count": 15,
     "metadata": {},
     "output_type": "execute_result"
    },
    {
     "data": {
      "image/png": "[encoded data removed]",
      "text/plain": [
       "<Figure size 432x288 with 1 Axes>"
      ]
     },
     "metadata": {
      "needs_background": "light"
     },
     "output_type": "display_data"
    }
   ],
   "source": [
    "sns.boxplot(data = df, x = 'train_speed')"
   ]
  },
  {
   "cell_type": "markdown",
   "metadata": {},
   "source": [
    "- train speed outliers above 80 mph, with 2 over 100 mph"
   ]
  },
  {
   "cell_type": "code",
   "execution_count": 16,
   "metadata": {},
   "outputs": [
    {
     "data": {
      "text/plain": [
       "<AxesSubplot:xlabel='temp'>"
      ]
     },
     "execution_count": 16,
     "metadata": {},
     "output_type": "execute_result"
    },
    {
     "data": {
      "image/png": "[encoded data removed]",
      "text/plain": [
       "<Figure size 432x288 with 1 Axes>"
      ]
     },
     "metadata": {
      "needs_background": "light"
     },
     "output_type": "display_data"
    }
   ],
   "source": [
    "sns.boxplot(data = df, x = 'temp')"
   ]
  },
  {
   "cell_type": "markdown",
   "metadata": {},
   "source": [
    "- outliers exist for accidents where temp was below 0 degrees with 1 occuring where temp was greater than -20"
   ]
  },
  {
   "cell_type": "code",
   "execution_count": 18,
   "metadata": {},
   "outputs": [
    {
     "data": {
      "text/plain": [
       "3    5578\n",
       "2    2202\n",
       "3    1659\n",
       "1    1589\n",
       "2     710\n",
       "1     430\n",
       "5       6\n",
       "5       3\n",
       "4       3\n",
       "4       1\n",
       "Name: position, dtype: int64"
      ]
     },
     "execution_count": 18,
     "metadata": {},
     "output_type": "execute_result"
    }
   ],
   "source": [
    "df.position.value_counts()"
   ]
  },
  {
   "cell_type": "markdown",
   "metadata": {},
   "source": [
    "## Takeaways\n",
    "\n",
    "- a majority of people involved in accidents were either moving across the crossing when hit or were stopped. A small amount (4 & 5) were either blocked or trapped inside the crossing "
   ]
  },
  {
   "cell_type": "code",
   "execution_count": 21,
   "metadata": {},
   "outputs": [
    {
     "data": {
      "text/plain": [
       "A    10133\n",
       "B     1268\n",
       "C      430\n",
       "E      232\n",
       "D      113\n",
       "F        5\n",
       "Name: road_condtions, dtype: int64"
      ]
     },
     "execution_count": 21,
     "metadata": {},
     "output_type": "execute_result"
    }
   ],
   "source": [
    "df.road_condtions.value_counts()"
   ]
  },
  {
   "cell_type": "markdown",
   "metadata": {},
   "source": [
    "## Takeaways\n",
    "\n",
    "- conditions were dry(A) for a majority of the incidents followed by wet (B) and then snow/slush(C)"
   ]
  },
  {
   "cell_type": "code",
   "execution_count": 22,
   "metadata": {},
   "outputs": [
    {
     "data": {
      "text/plain": [
       "8    11794\n",
       "5       72\n",
       "3       70\n",
       "1       69\n",
       "7       51\n",
       "6       50\n",
       "2       46\n",
       "4       29\n",
       "Name: view_obstruction, dtype: int64"
      ]
     },
     "execution_count": 22,
     "metadata": {},
     "output_type": "execute_result"
    }
   ],
   "source": [
    "df.view_obstruction.value_counts()"
   ]
  },
  {
   "cell_type": "markdown",
   "metadata": {},
   "source": [
    "## Takeaways\n",
    "- Majority of accidents had zero obstruction while vegetation was next with less than 80 incidents. "
   ]
  },
  {
   "cell_type": "code",
   "execution_count": 23,
   "metadata": {},
   "outputs": [
    {
     "data": {
      "text/plain": [
       "3    3768\n",
       "4    2996\n",
       "1    1508\n",
       "5    1485\n",
       "2     600\n",
       "3     428\n",
       "7     388\n",
       "4     308\n",
       "5     199\n",
       "1     195\n",
       "8     114\n",
       "2      93\n",
       "7      58\n",
       "6      23\n",
       "8      15\n",
       "0       2\n",
       "6       1\n",
       "Name: motorist_action, dtype: int64"
      ]
     },
     "execution_count": 23,
     "metadata": {},
     "output_type": "execute_result"
    }
   ],
   "source": [
    "df.motorist_action.value_counts()"
   ]
  },
  {
   "cell_type": "markdown",
   "metadata": {},
   "source": [
    "## Takeaways\n",
    "\n",
    "- Most motorists did not stop for the train (#3) and were hit or they stopped in the crossing(#4) and were hit. After that, people went around gates (#3). Lower on the list were people who went thru the gates(#7) and then those who attempted or committed suicide (#8)"
   ]
  },
  {
   "cell_type": "code",
   "execution_count": null,
   "metadata": {},
   "outputs": [],
   "source": []
  }
 ],
 "metadata": {
  "kernelspec": {
   "display_name": "Python 3",
   "language": "python",
   "name": "python3"
  },
  "language_info": {
   "codemirror_mode": {
    "name": "ipython",
    "version": 3
   },
   "file_extension": ".py",
   "mimetype": "text/x-python",
   "name": "python",
   "nbconvert_exporter": "python",
   "pygments_lexer": "ipython3",
   "version": "3.8.5"
  }
 },
 "nbformat": 4,
 "nbformat_minor": 4
}

{
 "cells": [
  {
   "cell_type": "code",
   "execution_count": 1,
   "metadata": {},
   "outputs": [],
   "source": [
    "import pandas as pd\n",
    "import numpy as np\n",
    "import os\n",
    "from acquire import get_hwyrail, get_equiprail\n",
    "from prepare import prep_hwy_df, prep_equip_df\n",
    "import matplotlib.pyplot as plt\n",
    "import seaborn as sns\n",
    "import sklearn as sk\n",
    "from scipy import stats\n",
    "from sklearn.model_selection import train_test_split\n",
    "\n",
    "from datetime import date, datetime\n",
    "from explore import train_validate_test_split, freq_table"
   ]
  },
  {
   "cell_type": "code",
   "execution_count": 2,
   "metadata": {},
   "outputs": [],
   "source": [
    "df = get_hwyrail()"
   ]
  },
  {
   "cell_type": "code",
   "execution_count": null,
   "metadata": {},
   "outputs": [],
   "source": []
  },
  {
   "cell_type": "code",
   "execution_count": null,
   "metadata": {},
   "outputs": [],
   "source": []
  },
  {
   "cell_type": "code",
   "execution_count": null,
   "metadata": {},
   "outputs": [],
   "source": []
  },
  {
   "cell_type": "code",
   "execution_count": null,
   "metadata": {},
   "outputs": [],
   "source": []
  },
  {
   "cell_type": "code",
   "execution_count": null,
   "metadata": {},
   "outputs": [],
   "source": []
  },
  {
   "cell_type": "code",
   "execution_count": null,
   "metadata": {},
   "outputs": [],
   "source": []
  },
  {
   "cell_type": "code",
   "execution_count": 3,
   "metadata": {},
   "outputs": [
    {
     "data": {
      "text/plain": [
       "(18995, 104)"
      ]
     },
     "execution_count": 3,
     "metadata": {},
     "output_type": "execute_result"
    }
   ],
   "source": [
    "df.shape"
   ]
  },
  {
   "cell_type": "code",
   "execution_count": 4,
   "metadata": {},
   "outputs": [],
   "source": [
    "df = prep_hwy_df(df)"
   ]
  },
  {
   "cell_type": "code",
   "execution_count": 5,
   "metadata": {},
   "outputs": [
    {
     "data": {
      "text/plain": [
       "(12181, 50)"
      ]
     },
     "execution_count": 5,
     "metadata": {},
     "output_type": "execute_result"
    }
   ],
   "source": [
    "df.shape"
   ]
  },
  {
   "cell_type": "code",
   "execution_count": 6,
   "metadata": {},
   "outputs": [
    {
     "data": {
      "text/plain": [
       "UP      2959\n",
       "CSX     2825\n",
       "NS      2715\n",
       "BNSF    2274\n",
       "ATK      956\n",
       "KCS      452\n",
       "Name: railroad_company, dtype: int64"
      ]
     },
     "execution_count": 6,
     "metadata": {},
     "output_type": "execute_result"
    }
   ],
   "source": [
    "\n",
    "df.railroad_company.value_counts()\n",
    "\n"
   ]
  },
  {
   "cell_type": "code",
   "execution_count": null,
   "metadata": {},
   "outputs": [],
   "source": []
  },
  {
   "cell_type": "code",
   "execution_count": 7,
   "metadata": {},
   "outputs": [
    {
     "data": {
      "text/plain": [
       "Fall      3176\n",
       "Winter    3116\n",
       "Summer    3093\n",
       "Spring    2796\n",
       "Name: season, dtype: int64"
      ]
     },
     "execution_count": 7,
     "metadata": {},
     "output_type": "execute_result"
    }
   ],
   "source": [
    "df.season.value_counts()"
   ]
  },
  {
   "cell_type": "code",
   "execution_count": 8,
   "metadata": {},
   "outputs": [
    {
     "data": {
      "text/html": [
       "<div>\n",
       "<style scoped>\n",
       "    .dataframe tbody tr th:only-of-type {\n",
       "        vertical-align: middle;\n",
       "    }\n",
       "\n",
       "    .dataframe tbody tr th {\n",
       "        vertical-align: top;\n",
       "    }\n",
       "\n",
       "    .dataframe thead th {\n",
       "        text-align: right;\n",
       "    }\n",
       "</style>\n",
       "<table border=\"1\" class=\"dataframe\">\n",
       "  <thead>\n",
       "    <tr style=\"text-align: right;\">\n",
       "      <th></th>\n",
       "      <th>railroad_company</th>\n",
       "      <th>station</th>\n",
       "      <th>county</th>\n",
       "      <th>state_fips</th>\n",
       "      <th>region</th>\n",
       "      <th>city</th>\n",
       "      <th>vehicle_speed</th>\n",
       "      <th>vehicle_type</th>\n",
       "      <th>vehicle_direction</th>\n",
       "      <th>position</th>\n",
       "      <th>...</th>\n",
       "      <th>user_killed</th>\n",
       "      <th>user_injured</th>\n",
       "      <th>rail_killed</th>\n",
       "      <th>rail_injured</th>\n",
       "      <th>train_pass_killed</th>\n",
       "      <th>train_pass_injured</th>\n",
       "      <th>road_condtions</th>\n",
       "      <th>date</th>\n",
       "      <th>season</th>\n",
       "      <th>state</th>\n",
       "    </tr>\n",
       "  </thead>\n",
       "  <tbody>\n",
       "    <tr>\n",
       "      <th>0</th>\n",
       "      <td>UP</td>\n",
       "      <td>WOODBRIDGE</td>\n",
       "      <td>SAN JOAQUIN</td>\n",
       "      <td>6</td>\n",
       "      <td>7</td>\n",
       "      <td>LODI</td>\n",
       "      <td>0.0</td>\n",
       "      <td>A</td>\n",
       "      <td>4</td>\n",
       "      <td>2</td>\n",
       "      <td>...</td>\n",
       "      <td>0</td>\n",
       "      <td>0</td>\n",
       "      <td>0</td>\n",
       "      <td>0</td>\n",
       "      <td>0</td>\n",
       "      <td>0</td>\n",
       "      <td>B</td>\n",
       "      <td>2012-03-16 09:15:00</td>\n",
       "      <td>Spring</td>\n",
       "      <td>CA</td>\n",
       "    </tr>\n",
       "    <tr>\n",
       "      <th>1</th>\n",
       "      <td>UP</td>\n",
       "      <td>ACAMPO</td>\n",
       "      <td>SAN JOAQUIN</td>\n",
       "      <td>6</td>\n",
       "      <td>7</td>\n",
       "      <td></td>\n",
       "      <td>0.0</td>\n",
       "      <td>A</td>\n",
       "      <td>4</td>\n",
       "      <td>2</td>\n",
       "      <td>...</td>\n",
       "      <td>0</td>\n",
       "      <td>0</td>\n",
       "      <td>0</td>\n",
       "      <td>0</td>\n",
       "      <td>0</td>\n",
       "      <td>0</td>\n",
       "      <td>A</td>\n",
       "      <td>2012-03-30 21:35:00</td>\n",
       "      <td>Spring</td>\n",
       "      <td>CA</td>\n",
       "    </tr>\n",
       "    <tr>\n",
       "      <th>2</th>\n",
       "      <td>BNSF</td>\n",
       "      <td>LOS NIETOS</td>\n",
       "      <td>LOS ANGELES</td>\n",
       "      <td>6</td>\n",
       "      <td>7</td>\n",
       "      <td>SANTA FE SPRINGS</td>\n",
       "      <td>0.0</td>\n",
       "      <td>A</td>\n",
       "      <td>1</td>\n",
       "      <td>2</td>\n",
       "      <td>...</td>\n",
       "      <td>0</td>\n",
       "      <td>0</td>\n",
       "      <td>0</td>\n",
       "      <td>0</td>\n",
       "      <td>0</td>\n",
       "      <td>0</td>\n",
       "      <td>A</td>\n",
       "      <td>2012-10-07 20:25:00</td>\n",
       "      <td>Fall</td>\n",
       "      <td>CA</td>\n",
       "    </tr>\n",
       "    <tr>\n",
       "      <th>3</th>\n",
       "      <td>BNSF</td>\n",
       "      <td>FRESNO</td>\n",
       "      <td>FRESNO</td>\n",
       "      <td>6</td>\n",
       "      <td>7</td>\n",
       "      <td>FRESNO</td>\n",
       "      <td>0.0</td>\n",
       "      <td>A</td>\n",
       "      <td>1</td>\n",
       "      <td>2</td>\n",
       "      <td>...</td>\n",
       "      <td>0</td>\n",
       "      <td>1</td>\n",
       "      <td>0</td>\n",
       "      <td>0</td>\n",
       "      <td>0</td>\n",
       "      <td>0</td>\n",
       "      <td>A</td>\n",
       "      <td>2012-07-28 20:55:00</td>\n",
       "      <td>Summer</td>\n",
       "      <td>CA</td>\n",
       "    </tr>\n",
       "    <tr>\n",
       "      <th>4</th>\n",
       "      <td>UP</td>\n",
       "      <td>BAKERSFIELD</td>\n",
       "      <td>KERN</td>\n",
       "      <td>6</td>\n",
       "      <td>7</td>\n",
       "      <td></td>\n",
       "      <td>50.0</td>\n",
       "      <td>C</td>\n",
       "      <td>4</td>\n",
       "      <td>3</td>\n",
       "      <td>...</td>\n",
       "      <td>0</td>\n",
       "      <td>0</td>\n",
       "      <td>0</td>\n",
       "      <td>0</td>\n",
       "      <td>0</td>\n",
       "      <td>0</td>\n",
       "      <td>A</td>\n",
       "      <td>2012-06-18 15:58:00</td>\n",
       "      <td>Summer</td>\n",
       "      <td>CA</td>\n",
       "    </tr>\n",
       "  </tbody>\n",
       "</table>\n",
       "<p>5 rows × 50 columns</p>\n",
       "</div>"
      ],
      "text/plain": [
       "  railroad_company               station                county  state_fips  \\\n",
       "0             UP    WOODBRIDGE            SAN JOAQUIN                    6   \n",
       "1             UP    ACAMPO                SAN JOAQUIN                    6   \n",
       "2             BNSF  LOS NIETOS            LOS ANGELES                    6   \n",
       "3             BNSF  FRESNO                FRESNO                         6   \n",
       "4             UP    BAKERSFIELD           KERN                           6   \n",
       "\n",
       "   region                  city  vehicle_speed vehicle_type vehicle_direction  \\\n",
       "0       7  LODI                            0.0            A                 4   \n",
       "1       7                                  0.0            A                 4   \n",
       "2       7  SANTA FE SPRINGS                0.0            A                 1   \n",
       "3       7  FRESNO                          0.0            A                 1   \n",
       "4       7                                 50.0            C                 4   \n",
       "\n",
       "  position  ...  user_killed user_injured  rail_killed  rail_injured  \\\n",
       "0        2  ...            0            0            0             0   \n",
       "1        2  ...            0            0            0             0   \n",
       "2        2  ...            0            0            0             0   \n",
       "3        2  ...            0            1            0             0   \n",
       "4        3  ...            0            0            0             0   \n",
       "\n",
       "  train_pass_killed train_pass_injured road_condtions                date  \\\n",
       "0                 0                  0              B 2012-03-16 09:15:00   \n",
       "1                 0                  0              A 2012-03-30 21:35:00   \n",
       "2                 0                  0              A 2012-10-07 20:25:00   \n",
       "3                 0                  0              A 2012-07-28 20:55:00   \n",
       "4                 0                  0              A 2012-06-18 15:58:00   \n",
       "\n",
       "   season  state  \n",
       "0  Spring     CA  \n",
       "1  Spring     CA  \n",
       "2    Fall     CA  \n",
       "3  Summer     CA  \n",
       "4  Summer     CA  \n",
       "\n",
       "[5 rows x 50 columns]"
      ]
     },
     "execution_count": 8,
     "metadata": {},
     "output_type": "execute_result"
    }
   ],
   "source": [
    "df.head()"
   ]
  },
  {
   "cell_type": "code",
   "execution_count": 9,
   "metadata": {},
   "outputs": [
    {
     "data": {
      "text/plain": [
       " TX    1631\n",
       " GA     751\n",
       " IN     727\n",
       " CA     698\n",
       " AL     583\n",
       " IL     518\n",
       " OH     516\n",
       " LA     492\n",
       " SC     361\n",
       " NC     359\n",
       " KY     355\n",
       " PA     352\n",
       " FL     344\n",
       " MO     343\n",
       " TN     342\n",
       " AR     307\n",
       " OK     293\n",
       " KS     277\n",
       " VA     275\n",
       " NE     274\n",
       " MS     216\n",
       " WA     199\n",
       " MN     182\n",
       " CO     165\n",
       " MI     157\n",
       " AZ     152\n",
       " WV     150\n",
       " IA     138\n",
       " MD     121\n",
       " NY     119\n",
       " ND     113\n",
       " ID     108\n",
       " WI      89\n",
       " OR      79\n",
       " NM      72\n",
       " MT      62\n",
       " SD      54\n",
       " NJ      51\n",
       " UT      38\n",
       " WY      37\n",
       " DE      29\n",
       " MA      16\n",
       " NV      15\n",
       " VT       8\n",
       " CT       5\n",
       " ME       4\n",
       " NH       2\n",
       " DC       2\n",
       "Name: state, dtype: int64"
      ]
     },
     "execution_count": 9,
     "metadata": {},
     "output_type": "execute_result"
    }
   ],
   "source": [
    "df.state.value_counts()"
   ]
  },
  {
   "cell_type": "markdown",
   "metadata": {},
   "source": [
    "## Takeaway\n",
    "\n",
    " - states like Texas, Georgia, Indiana, Alabama, Ohio rank highest in hwy rail accidents while states in the NE like Vermont, Conneticut & DC are at the very bottom.\n",
    "     - is this because people in NE are more accustomed to trains and people in middle america don't see them as often?\n",
    "     - Need to look at state populations and compare average accident (i.e., vermont could have 5 people but 2 accidents while Texas could have 28 million people and 1,000 accidents. need to look at the numbers and compare\n",
    "\n",
    "Initial hypothesis\n",
    "\n",
    " - Rail accidents are more prevelant in southern and middle america\n",
    "     "
   ]
  },
  {
   "cell_type": "code",
   "execution_count": 10,
   "metadata": {},
   "outputs": [
    {
     "data": {
      "image/png": "[encoded data removed]",
      "text/plain": [
       "<Figure size 864x720 with 1 Axes>"
      ]
     },
     "metadata": {
      "needs_background": "light"
     },
     "output_type": "display_data"
    }
   ],
   "source": [
    "df['visibility'].hist(color='green', figsize=(12, 10))\n",
    "\n",
    "plt.title('Distribution of Accident Based On Visbility')\n",
    "plt.show()"
   ]
  },
  {
   "cell_type": "markdown",
   "metadata": {},
   "source": [
    "----\n",
    "## Takeaway\n",
    "\n",
    "Majority of accident happen the day followed by night...not many at dawn or dusk"
   ]
  },
  {
   "cell_type": "code",
   "execution_count": 11,
   "metadata": {},
   "outputs": [],
   "source": [
    "df.weather = df.weather.astype(int)"
   ]
  },
  {
   "cell_type": "code",
   "execution_count": 12,
   "metadata": {},
   "outputs": [
    {
     "data": {
      "image/png": "[encoded data removed]",
      "text/plain": [
       "<Figure size 864x720 with 1 Axes>"
      ]
     },
     "metadata": {
      "needs_background": "light"
     },
     "output_type": "display_data"
    }
   ],
   "source": [
    "df['weather'].hist(color='red', figsize=(12, 10))\n",
    "\n",
    "plt.title('Distribution of Accident Based On Weather')\n",
    "plt.show()"
   ]
  },
  {
   "cell_type": "markdown",
   "metadata": {},
   "source": [
    "-----\n",
    "\n",
    "## Takeaway\n",
    "\n",
    "- Clear weather followed by cloudy skies are when the majority of accidents take place"
   ]
  },
  {
   "cell_type": "code",
   "execution_count": 13,
   "metadata": {},
   "outputs": [
    {
     "data": {
      "image/png": "[encoded data removed]",
      "text/plain": [
       "<Figure size 720x576 with 1 Axes>"
      ]
     },
     "metadata": {
      "needs_background": "light"
     },
     "output_type": "display_data"
    }
   ],
   "source": [
    "df['vehicle_type'].hist(color='blue', figsize=(10,8))\n",
    "\n",
    "plt.title('Distribution of Accident Based On Vehicle Type')\n",
    "plt.show()"
   ]
  },
  {
   "cell_type": "code",
   "execution_count": 14,
   "metadata": {},
   "outputs": [
    {
     "data": {
      "text/plain": [
       "A    5585\n",
       "C    2248\n",
       "D    1731\n",
       "J     878\n",
       "B     804\n",
       "M     366\n",
       "E     352\n",
       "K     156\n",
       "H      39\n",
       "F      17\n",
       "G       5\n",
       "Name: vehicle_type, dtype: int64"
      ]
     },
     "execution_count": 14,
     "metadata": {},
     "output_type": "execute_result"
    }
   ],
   "source": [
    "df.vehicle_type.value_counts()"
   ]
  },
  {
   "cell_type": "markdown",
   "metadata": {},
   "source": [
    "\n",
    "-----\n",
    "## Takeway\n",
    " \n",
    " - most accidents are involved with auto(cars) followed by tractor trailers, then pick up trucks. School buses were at the very bottom which was good to see although there were still 5 instances. "
   ]
  },
  {
   "cell_type": "markdown",
   "metadata": {},
   "source": [
    "-----------\n",
    "\n",
    "## OUTLIERS\n",
    "\n",
    "-------"
   ]
  },
  {
   "cell_type": "code",
   "execution_count": 15,
   "metadata": {},
   "outputs": [
    {
     "data": {
      "text/plain": [
       "<AxesSubplot:xlabel='front_engines'>"
      ]
     },
     "execution_count": 15,
     "metadata": {},
     "output_type": "execute_result"
    },
    {
     "data": {
      "image/png": "[encoded data removed]",
      "text/plain": [
       "<Figure size 432x288 with 1 Axes>"
      ]
     },
     "metadata": {
      "needs_background": "light"
     },
     "output_type": "display_data"
    }
   ],
   "source": [
    "sns.boxplot(data = df, x = 'front_engines')"
   ]
  },
  {
   "cell_type": "markdown",
   "metadata": {},
   "source": [
    " - Have some crazy outliers with 3 accidents having over 20 engines"
   ]
  },
  {
   "cell_type": "code",
   "execution_count": 16,
   "metadata": {},
   "outputs": [
    {
     "data": {
      "text/plain": [
       "<AxesSubplot:xlabel='railcar_quantity'>"
      ]
     },
     "execution_count": 16,
     "metadata": {},
     "output_type": "execute_result"
    },
    {
     "data": {
      "image/png": "[encoded data removed]",
      "text/plain": [
       "<Figure size 432x288 with 1 Axes>"
      ]
     },
     "metadata": {
      "needs_background": "light"
     },
     "output_type": "display_data"
    }
   ],
   "source": [
    "sns.boxplot(data=df, x = 'railcar_quantity')"
   ]
  },
  {
   "cell_type": "markdown",
   "metadata": {},
   "source": [
    "- majority of railcar quanity is between 0-100 cars but there are some outliers above 200 with one coming in at a whopping 350 cars"
   ]
  },
  {
   "cell_type": "code",
   "execution_count": 17,
   "metadata": {},
   "outputs": [
    {
     "data": {
      "text/plain": [
       "<AxesSubplot:xlabel='train_speed'>"
      ]
     },
     "execution_count": 17,
     "metadata": {},
     "output_type": "execute_result"
    },
    {
     "data": {
      "image/png": "[encoded data removed]",
      "text/plain": [
       "<Figure size 432x288 with 1 Axes>"
      ]
     },
     "metadata": {
      "needs_background": "light"
     },
     "output_type": "display_data"
    }
   ],
   "source": [
    "sns.boxplot(data = df, x = 'train_speed')"
   ]
  },
  {
   "cell_type": "markdown",
   "metadata": {},
   "source": [
    "- train speed outliers above 80 mph, with 2 over 100 mph"
   ]
  },
  {
   "cell_type": "code",
   "execution_count": 18,
   "metadata": {},
   "outputs": [
    {
     "data": {
      "text/plain": [
       "<AxesSubplot:xlabel='temp'>"
      ]
     },
     "execution_count": 18,
     "metadata": {},
     "output_type": "execute_result"
    },
    {
     "data": {
      "image/png": "[encoded data removed]",
      "text/plain": [
       "<Figure size 432x288 with 1 Axes>"
      ]
     },
     "metadata": {
      "needs_background": "light"
     },
     "output_type": "display_data"
    }
   ],
   "source": [
    "sns.boxplot(data = df, x = 'temp')"
   ]
  },
  {
   "cell_type": "markdown",
   "metadata": {},
   "source": [
    "- outliers exist for accidents where temp was below 0 degrees with 1 occuring where temp was greater than -20"
   ]
  },
  {
   "cell_type": "code",
   "execution_count": 19,
   "metadata": {},
   "outputs": [
    {
     "data": {
      "text/plain": [
       "3    5578\n",
       "2    2202\n",
       "3    1659\n",
       "1    1589\n",
       "2     710\n",
       "1     430\n",
       "5       6\n",
       "5       3\n",
       "4       3\n",
       "4       1\n",
       "Name: position, dtype: int64"
      ]
     },
     "execution_count": 19,
     "metadata": {},
     "output_type": "execute_result"
    }
   ],
   "source": [
    "df.position.value_counts()"
   ]
  },
  {
   "cell_type": "markdown",
   "metadata": {},
   "source": [
    "## Takeaways\n",
    "\n",
    "- a majority of people involved in accidents were either moving across the crossing when hit or were stopped. A small amount (4 & 5) were either blocked or trapped inside the crossing "
   ]
  },
  {
   "cell_type": "code",
   "execution_count": 20,
   "metadata": {},
   "outputs": [
    {
     "data": {
      "text/plain": [
       "A    10133\n",
       "B     1268\n",
       "C      430\n",
       "E      232\n",
       "D      113\n",
       "F        5\n",
       "Name: road_condtions, dtype: int64"
      ]
     },
     "execution_count": 20,
     "metadata": {},
     "output_type": "execute_result"
    }
   ],
   "source": [
    "df.road_condtions.value_counts()"
   ]
  },
  {
   "cell_type": "markdown",
   "metadata": {},
   "source": [
    "## Takeaways\n",
    "\n",
    "- conditions were dry(A) for a majority of the incidents followed by wet (B) and then snow/slush(C)"
   ]
  },
  {
   "cell_type": "code",
   "execution_count": 21,
   "metadata": {},
   "outputs": [
    {
     "data": {
      "text/plain": [
       "8    11794\n",
       "5       72\n",
       "3       70\n",
       "1       69\n",
       "7       51\n",
       "6       50\n",
       "2       46\n",
       "4       29\n",
       "Name: view_obstruction, dtype: int64"
      ]
     },
     "execution_count": 21,
     "metadata": {},
     "output_type": "execute_result"
    }
   ],
   "source": [
    "df.view_obstruction.value_counts()"
   ]
  },
  {
   "cell_type": "markdown",
   "metadata": {},
   "source": [
    "## Takeaways\n",
    "- Majority of accidents had zero obstruction while vegetation was next with less than 80 incidents. "
   ]
  },
  {
   "cell_type": "code",
   "execution_count": 22,
   "metadata": {},
   "outputs": [
    {
     "data": {
      "text/plain": [
       "3    3768\n",
       "4    2996\n",
       "1    1508\n",
       "5    1485\n",
       "2     600\n",
       "3     428\n",
       "7     388\n",
       "4     308\n",
       "5     199\n",
       "1     195\n",
       "8     114\n",
       "2      93\n",
       "7      58\n",
       "6      23\n",
       "8      15\n",
       "0       2\n",
       "6       1\n",
       "Name: motorist_action, dtype: int64"
      ]
     },
     "execution_count": 22,
     "metadata": {},
     "output_type": "execute_result"
    }
   ],
   "source": [
    "df.motorist_action.value_counts()"
   ]
  },
  {
   "cell_type": "markdown",
   "metadata": {},
   "source": [
    "## Takeaways\n",
    "\n",
    "- Most motorists did not stop for the train (#3) and were hit or they stopped in the crossing(#4) and were hit. After that, people went around gates (#3). Lower on the list were people who went thru the gates(#7) and then those who attempted or committed suicide (#8)"
   ]
  },
  {
   "cell_type": "code",
   "execution_count": 23,
   "metadata": {},
   "outputs": [],
   "source": [
    "cat_var = ['railroad_company', 'station', 'weather', 'train_type', 'track_type']"
   ]
  },
  {
   "cell_type": "code",
   "execution_count": null,
   "metadata": {},
   "outputs": [],
   "source": []
  },
  {
   "cell_type": "markdown",
   "metadata": {},
   "source": [
    "---------------------------\n",
    "\n",
    "## Train Data/Bi-Variate/Multi-Variate Exploration\n",
    "\n",
    "---------------------"
   ]
  },
  {
   "cell_type": "code",
   "execution_count": 24,
   "metadata": {},
   "outputs": [],
   "source": [
    "train, validate, test = train_validate_test_split(df, 'railroad_company', seed=123)"
   ]
  },
  {
   "cell_type": "code",
   "execution_count": 25,
   "metadata": {},
   "outputs": [
    {
     "data": {
      "text/plain": [
       "((6820, 50), (2924, 50), (2437, 50))"
      ]
     },
     "execution_count": 25,
     "metadata": {},
     "output_type": "execute_result"
    }
   ],
   "source": [
    "train.shape, validate.shape, test.shape"
   ]
  },
  {
   "cell_type": "code",
   "execution_count": 26,
   "metadata": {},
   "outputs": [
    {
     "data": {
      "text/plain": [
       "railroad_company\n",
       "ATK      7\n",
       "BNSF    69\n",
       "CSX     49\n",
       "KCS     61\n",
       "NS      40\n",
       "UP      72\n",
       "Name: railcar_quantity, dtype: int64"
      ]
     },
     "execution_count": 26,
     "metadata": {},
     "output_type": "execute_result"
    }
   ],
   "source": [
    "train.groupby('railroad_company').railcar_quantity.median()"
   ]
  },
  {
   "cell_type": "markdown",
   "metadata": {},
   "source": [
    "## Takeaway\n",
    "\n",
    "- UP has largest median railcar length followed by BNSF. Amtrack is smallest at 7 but this is because they are strictly passenger "
   ]
  },
  {
   "cell_type": "code",
   "execution_count": 27,
   "metadata": {},
   "outputs": [
    {
     "data": {
      "text/plain": [
       "railroad_company\n",
       "ATK     65.0\n",
       "BNSF    35.0\n",
       "CSX     28.5\n",
       "KCS     35.0\n",
       "NS      28.0\n",
       "UP      35.0\n",
       "Name: train_speed, dtype: float64"
      ]
     },
     "execution_count": 27,
     "metadata": {},
     "output_type": "execute_result"
    }
   ],
   "source": [
    "train.groupby('railroad_company').train_speed.median()"
   ]
  },
  {
   "cell_type": "markdown",
   "metadata": {},
   "source": [
    "## Takeaway\n",
    "\n",
    "- Median speed across the cargo carriers was no greater than 35 mph and no less than 28 mph. Amtrak was fastest with a median of 65 mph"
   ]
  },
  {
   "cell_type": "code",
   "execution_count": 28,
   "metadata": {},
   "outputs": [
    {
     "data": {
      "text/plain": [
       "<AxesSubplot:xlabel='weather', ylabel='Count'>"
      ]
     },
     "execution_count": 28,
     "metadata": {},
     "output_type": "execute_result"
    },
    {
     "data": {
      "image/png": "[encoded data removed]",
      "text/plain": [
       "<Figure size 720x576 with 1 Axes>"
      ]
     },
     "metadata": {
      "needs_background": "light"
     },
     "output_type": "display_data"
    }
   ],
   "source": [
    "plt.figure(figsize=(10,8))\n",
    "sns.histplot(data=train, x=\"weather\", hue = \"railroad_company\", multiple=\"stack\")"
   ]
  },
  {
   "cell_type": "code",
   "execution_count": 29,
   "metadata": {},
   "outputs": [
    {
     "data": {
      "text/plain": [
       "railroad_company  weather\n",
       "ATK               1           403\n",
       "                  2            82\n",
       "                  3            35\n",
       "                  6             9\n",
       "                  4             5\n",
       "                  5             1\n",
       "BNSF              1           964\n",
       "                  2           201\n",
       "                  3            53\n",
       "                  6            30\n",
       "                  4            19\n",
       "                  5             6\n",
       "CSX               1          1048\n",
       "                  2           364\n",
       "                  3           110\n",
       "                  6            38\n",
       "                  4            12\n",
       "                  0             6\n",
       "                  5             4\n",
       "KCS               1           193\n",
       "                  2            34\n",
       "                  3            23\n",
       "                  4             2\n",
       "                  5             1\n",
       "NS                1          1084\n",
       "                  2           204\n",
       "                  3           166\n",
       "                  6            47\n",
       "                  4            16\n",
       "                  5             3\n",
       "UP                1          1031\n",
       "                  2           491\n",
       "                  3            88\n",
       "                  6            22\n",
       "                  4            21\n",
       "                  5             4\n",
       "Name: weather, dtype: int64"
      ]
     },
     "execution_count": 29,
     "metadata": {},
     "output_type": "execute_result"
    }
   ],
   "source": [
    "train.groupby('railroad_company').weather.value_counts()"
   ]
  },
  {
   "cell_type": "markdown",
   "metadata": {},
   "source": [
    "## Takeaways\n",
    "\n",
    "- KCS had no reported hwy rail accidents in snow (#6) or sleet (#5) condtions\n",
    "- BNSF had the third higest total (practically a tie with 2nd (CSX) of snow accidents even though they are 4 out of 6 in total accidents)"
   ]
  },
  {
   "cell_type": "code",
   "execution_count": 30,
   "metadata": {},
   "outputs": [
    {
     "data": {
      "text/plain": [
       "railroad_company  weather\n",
       "ATK               1          150000.0\n",
       "                  2           60000.0\n",
       "                  3           15117.0\n",
       "                  4           15000.0\n",
       "                  5            5000.0\n",
       "                  6           10000.0\n",
       "BNSF              1          140000.0\n",
       "                  2           25000.0\n",
       "                  3           10000.0\n",
       "                  4            5000.0\n",
       "                  5            5000.0\n",
       "                  6            5000.0\n",
       "CSX               0           19100.0\n",
       "                  1          500000.0\n",
       "                  2          276000.0\n",
       "                  3           27500.0\n",
       "                  4           13800.0\n",
       "                  5           27500.0\n",
       "                  6           20500.0\n",
       "KCS               1           75000.0\n",
       "                  2           50000.0\n",
       "                  3           20000.0\n",
       "                  4            4500.0\n",
       "                  5            6000.0\n",
       "NS                1          600000.0\n",
       "                  2          100000.0\n",
       "                  3           80000.0\n",
       "                  4           28000.0\n",
       "                  5            5000.0\n",
       "                  6           25000.0\n",
       "UP                1          665000.0\n",
       "                  2          160000.0\n",
       "                  3           90000.0\n",
       "                  4          100000.0\n",
       "                  5           10000.0\n",
       "                  6           50000.0\n",
       "Name: vehicle_damage, dtype: float64"
      ]
     },
     "execution_count": 30,
     "metadata": {},
     "output_type": "execute_result"
    }
   ],
   "source": [
    "train.groupby(['railroad_company', 'weather']).vehicle_damage.max()"
   ]
  },
  {
   "cell_type": "markdown",
   "metadata": {},
   "source": [
    "## Takeaways\n",
    "\n",
    "- UP had the highest max property damage in Fog with $100,000 while CSX was the winner with a max in the cloudy department. "
   ]
  },
  {
   "cell_type": "code",
   "execution_count": 31,
   "metadata": {},
   "outputs": [
    {
     "data": {
      "text/plain": [
       "railroad_company  season\n",
       "ATK               Fall      7000.0\n",
       "                  Spring    5000.0\n",
       "                  Summer    5000.0\n",
       "                  Winter    5000.0\n",
       "BNSF              Fall      2000.0\n",
       "                  Spring    2000.0\n",
       "                  Summer    2000.0\n",
       "                  Winter    2000.0\n",
       "CSX               Fall      6500.0\n",
       "                  Spring    6500.0\n",
       "                  Summer    6500.0\n",
       "                  Winter    6500.0\n",
       "KCS               Fall      5000.0\n",
       "                  Spring    5000.0\n",
       "                  Summer    5250.0\n",
       "                  Winter    6500.0\n",
       "NS                Fall      3000.0\n",
       "                  Spring    2500.0\n",
       "                  Summer    3000.0\n",
       "                  Winter    3000.0\n",
       "UP                Fall      5000.0\n",
       "                  Spring    5000.0\n",
       "                  Summer    5000.0\n",
       "                  Winter    5000.0\n",
       "Name: vehicle_damage, dtype: float64"
      ]
     },
     "execution_count": 31,
     "metadata": {},
     "output_type": "execute_result"
    }
   ],
   "source": [
    "train.groupby(['railroad_company', 'season']).vehicle_damage.median()"
   ]
  },
  {
   "cell_type": "markdown",
   "metadata": {},
   "source": [
    "## Takeaways\n",
    "\n",
    "- Median damages seems to be fairly similar on a median basis when spread through each company basaed on the seasons"
   ]
  },
  {
   "cell_type": "code",
   "execution_count": 32,
   "metadata": {},
   "outputs": [
    {
     "data": {
      "text/plain": [
       "railroad_company  season\n",
       "ATK               Fall      100000.0\n",
       "                  Spring    150000.0\n",
       "                  Summer    100000.0\n",
       "                  Winter     90000.0\n",
       "BNSF              Fall      140000.0\n",
       "                  Spring     20000.0\n",
       "                  Summer    100000.0\n",
       "                  Winter     25000.0\n",
       "CSX               Fall      100000.0\n",
       "                  Spring    500000.0\n",
       "                  Summer    276000.0\n",
       "                  Winter    500000.0\n",
       "KCS               Fall       40000.0\n",
       "                  Spring     50000.0\n",
       "                  Summer     75000.0\n",
       "                  Winter     50000.0\n",
       "NS                Fall      400000.0\n",
       "                  Spring    100000.0\n",
       "                  Summer    600000.0\n",
       "                  Winter    100000.0\n",
       "UP                Fall      175000.0\n",
       "                  Spring    150000.0\n",
       "                  Summer    665000.0\n",
       "                  Winter    200000.0\n",
       "Name: vehicle_damage, dtype: float64"
      ]
     },
     "execution_count": 32,
     "metadata": {},
     "output_type": "execute_result"
    }
   ],
   "source": [
    "train.groupby(['railroad_company', 'season']).vehicle_damage.max()"
   ]
  },
  {
   "cell_type": "markdown",
   "metadata": {},
   "source": [
    "## Takeaways\n",
    "\n",
    "- UP saw its biggest property damage in summer as did NS. \n",
    "- CSX had a tie for Winter & Spring as its most expensive damage incidents\n",
    "- KCS saw an uptick in Summer"
   ]
  },
  {
   "cell_type": "code",
   "execution_count": 33,
   "metadata": {},
   "outputs": [
    {
     "data": {
      "text/plain": [
       "<AxesSubplot:xlabel='railroad_company,season'>"
      ]
     },
     "execution_count": 33,
     "metadata": {},
     "output_type": "execute_result"
    },
    {
     "data": {
      "image/png": "[encoded data removed]",
      "text/plain": [
       "<Figure size 432x288 with 1 Axes>"
      ]
     },
     "metadata": {
      "needs_background": "light"
     },
     "output_type": "display_data"
    }
   ],
   "source": [
    "train.groupby('railroad_company').season.value_counts().plot(kind='bar')"
   ]
  },
  {
   "cell_type": "code",
   "execution_count": 35,
   "metadata": {},
   "outputs": [
    {
     "data": {
      "text/plain": [
       "railroad_company\n",
       "ATK      5483435.0\n",
       "BNSF     3488975.0\n",
       "CSX     13688313.0\n",
       "KCS      2567596.0\n",
       "NS      11115059.0\n",
       "UP      17808328.0\n",
       "Name: vehicle_damage, dtype: float64"
      ]
     },
     "execution_count": 35,
     "metadata": {},
     "output_type": "execute_result"
    }
   ],
   "source": [
    "train.groupby('railroad_company').vehicle_damage.sum()"
   ]
  },
  {
   "cell_type": "markdown",
   "metadata": {},
   "source": [
    "## Takeaways\n",
    "\n",
    "- Amtrak, a passenger carrier, had a higher vehicle property damage than BNSF and KCS\n",
    "- UP leads the pack followed by CSX and NS"
   ]
  },
  {
   "cell_type": "code",
   "execution_count": 37,
   "metadata": {},
   "outputs": [
    {
     "name": "stdout",
     "output_type": "stream",
     "text": [
      "<class 'pandas.core.frame.DataFrame'>\n",
      "Int64Index: 12181 entries, 0 to 12180\n",
      "Data columns (total 50 columns):\n",
      " #   Column              Non-Null Count  Dtype         \n",
      "---  ------              --------------  -----         \n",
      " 0   railroad_company    12181 non-null  object        \n",
      " 1   station             12181 non-null  object        \n",
      " 2   county              12181 non-null  object        \n",
      " 3   state_fips          12181 non-null  int64         \n",
      " 4   region              12181 non-null  int64         \n",
      " 5   city                12181 non-null  object        \n",
      " 6   vehicle_speed       12181 non-null  float64       \n",
      " 7   vehicle_type        12181 non-null  object        \n",
      " 8   vehicle_direction   12181 non-null  object        \n",
      " 9   position            12181 non-null  object        \n",
      " 10  accident_type       12181 non-null  int64         \n",
      " 11  hazmat_entity       12181 non-null  object        \n",
      " 12  temp                12181 non-null  int64         \n",
      " 13  visibility          12181 non-null  int64         \n",
      " 14  weather             12181 non-null  int64         \n",
      " 15  train_type          12181 non-null  object        \n",
      " 16  track_type          12181 non-null  object        \n",
      " 17  front_engines       12181 non-null  int64         \n",
      " 18  railcar_quantity    12181 non-null  int64         \n",
      " 19  train_speed         12181 non-null  float64       \n",
      " 20  train_direction     12181 non-null  object        \n",
      " 21  warning_location    12181 non-null  object        \n",
      " 22  warning_signal      12181 non-null  object        \n",
      " 23  lights              12181 non-null  object        \n",
      " 24  standveh            12181 non-null  object        \n",
      " 25  other_train         12181 non-null  object        \n",
      " 26  motorist_action     12181 non-null  object        \n",
      " 27  view_obstruction    12181 non-null  int64         \n",
      " 28  vehicle_damage      12181 non-null  float64       \n",
      " 29  driver_fate         12181 non-null  object        \n",
      " 30  vehicle_occupied    12181 non-null  object        \n",
      " 31  total_killed        12181 non-null  int64         \n",
      " 32  total_injured       12181 non-null  int64         \n",
      " 33  vehicle_occupants   12181 non-null  int64         \n",
      " 34  ispublic_crossing   12181 non-null  object        \n",
      " 35  fips                12181 non-null  int64         \n",
      " 36  whistle_ban         12181 non-null  object        \n",
      " 37  driver_age          12181 non-null  object        \n",
      " 38  driver_gender       12181 non-null  object        \n",
      " 39  train_occupants     12181 non-null  int64         \n",
      " 40  user_killed         12181 non-null  int64         \n",
      " 41  user_injured        12181 non-null  int64         \n",
      " 42  rail_killed         12181 non-null  int64         \n",
      " 43  rail_injured        12181 non-null  int64         \n",
      " 44  train_pass_killed   12181 non-null  int64         \n",
      " 45  train_pass_injured  12181 non-null  int64         \n",
      " 46  road_condtions      12181 non-null  object        \n",
      " 47  date                12181 non-null  datetime64[ns]\n",
      " 48  season              12181 non-null  object        \n",
      " 49  state               12181 non-null  object        \n",
      "dtypes: datetime64[ns](1), float64(3), int64(20), object(26)\n",
      "memory usage: 4.7+ MB\n"
     ]
    }
   ],
   "source": [
    "df.info()"
   ]
  },
  {
   "cell_type": "code",
   "execution_count": 40,
   "metadata": {},
   "outputs": [
    {
     "data": {
      "text/plain": [
       "<seaborn.axisgrid.PairGrid at 0x7fdf6054c490>"
      ]
     },
     "execution_count": 40,
     "metadata": {},
     "output_type": "execute_result"
    },
    {
     "data": {
      "image/png": "[encoded data removed]",
      "text/plain": [
       "<Figure size 817.125x720 with 16 Axes>"
      ]
     },
     "metadata": {
      "needs_background": "light"
     },
     "output_type": "display_data"
    }
   ],
   "source": [
    "sns.pairplot(data = train, hue = 'railroad_company', \n",
    "             x_vars = [\"season\", \"driver_fate\", \"lights\", \"accident_type\"],\n",
    "             y_vars = [\"temp\",\"vehicle_speed\", \"train_speed\", \"vehicle_damage\"])"
   ]
  },
  {
   "cell_type": "markdown",
   "metadata": {},
   "source": [
    "## Takeaways\n",
    "\n",
    "- Crossings with no lights seem to have a higher frequency of incidents\n",
    "- Summer is when a larger majority of incidents resulting in damages take place\n",
    "- The temperature is almost always above 0 when fatal accidents occur"
   ]
  },
  {
   "cell_type": "code",
   "execution_count": 44,
   "metadata": {},
   "outputs": [
    {
     "data": {
      "text/plain": [
       "railroad_company  lights\n",
       "ATK               2         354\n",
       "                  1         117\n",
       "                  2          48\n",
       "                  1           9\n",
       "                  3           7\n",
       "BNSF              2         823\n",
       "                  1         289\n",
       "                  2          98\n",
       "                  1          32\n",
       "                  3          28\n",
       "                  3           3\n",
       "CSX               2         872\n",
       "                  1         516\n",
       "                  2         112\n",
       "                  1          81\n",
       "                  3           1\n",
       "KCS               2         214\n",
       "                  2          28\n",
       "                  1          11\n",
       "NS                2         912\n",
       "                  1         328\n",
       "                  2         120\n",
       "                  3         103\n",
       "                  1          45\n",
       "                  3          12\n",
       "UP                2         977\n",
       "                  1         457\n",
       "                  2         129\n",
       "                  1          51\n",
       "                  3          39\n",
       "                  3           4\n",
       "Name: lights, dtype: int64"
      ]
     },
     "execution_count": 44,
     "metadata": {},
     "output_type": "execute_result"
    }
   ],
   "source": [
    "train.groupby('railroad_company').lights.value_counts()"
   ]
  },
  {
   "cell_type": "code",
   "execution_count": null,
   "metadata": {},
   "outputs": [],
   "source": []
  }
 ],
 "metadata": {
  "kernelspec": {
   "display_name": "Python 3",
   "language": "python",
   "name": "python3"
  },
  "language_info": {
   "codemirror_mode": {
    "name": "ipython",
    "version": 3
   },
   "file_extension": ".py",
   "mimetype": "text/x-python",
   "name": "python",
   "nbconvert_exporter": "python",
   "pygments_lexer": "ipython3",
   "version": "3.8.5"
  }
 },
 "nbformat": 4,
 "nbformat_minor": 4
}

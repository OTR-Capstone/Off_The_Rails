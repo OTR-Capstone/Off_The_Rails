{
 "cells": [
  {
   "cell_type": "code",
   "execution_count": 1,
   "metadata": {},
   "outputs": [],
   "source": [
    "import pandas as pd\n",
    "import numpy as np\n",
    "import os\n",
    "from acquire import get_hwyrail, get_equiprail\n",
    "from prepare import prep_hwy_df\n",
    "import matplotlib.pyplot as plt\n",
    "import seaborn as sns\n",
    "import sklearn as sk\n",
    "from scipy import stats\n",
    "from sklearn.model_selection import train_test_split\n",
    "\n",
    "from datetime import date, datetime\n",
    "from explore import train_validate_test_split, freq_table"
   ]
  },
  {
   "cell_type": "code",
   "execution_count": 2,
   "metadata": {},
   "outputs": [],
   "source": [
    "df = get_hwyrail()"
   ]
  },
  {
   "cell_type": "code",
   "execution_count": 3,
   "metadata": {},
   "outputs": [
    {
     "data": {
      "text/plain": [
       "(18995, 104)"
      ]
     },
     "execution_count": 3,
     "metadata": {},
     "output_type": "execute_result"
    }
   ],
   "source": [
    "df.shape"
   ]
  },
  {
   "cell_type": "code",
   "execution_count": 4,
   "metadata": {},
   "outputs": [],
   "source": [
    "df = prep_hwy_df(df)"
   ]
  },
  {
   "cell_type": "code",
   "execution_count": 5,
   "metadata": {},
   "outputs": [
    {
     "data": {
      "text/plain": [
       "(12181, 48)"
      ]
     },
     "execution_count": 5,
     "metadata": {},
     "output_type": "execute_result"
    }
   ],
   "source": [
    "df.shape"
   ]
  },
  {
   "cell_type": "code",
   "execution_count": null,
   "metadata": {},
   "outputs": [],
   "source": []
  },
  {
   "cell_type": "code",
   "execution_count": 6,
   "metadata": {},
   "outputs": [],
   "source": [
    "def get_season(row):\n",
    "    if row['date'].month >= 3 and row['date'].month <= 5:\n",
    "        return 'Spring'\n",
    "    elif row['date'].month >= 6 and row['date'].month <= 8:\n",
    "        return 'Summer'\n",
    "    elif row['date'].month >= 9 and row['date'].month <= 11:\n",
    "        return 'Fall'\n",
    "    else:\n",
    "        return 'Winter'\n",
    "\n",
    "df['season'] = df.apply(get_season, axis=1)"
   ]
  },
  {
   "cell_type": "code",
   "execution_count": 8,
   "metadata": {},
   "outputs": [
    {
     "data": {
      "text/plain": [
       "Fall      3176\n",
       "Winter    3116\n",
       "Summer    3093\n",
       "Spring    2796\n",
       "Name: season, dtype: int64"
      ]
     },
     "execution_count": 8,
     "metadata": {},
     "output_type": "execute_result"
    }
   ],
   "source": [
    "df.season.value_counts()"
   ]
  },
  {
   "cell_type": "code",
   "execution_count": 9,
   "metadata": {},
   "outputs": [
    {
     "data": {
      "text/html": [
       "<div>\n",
       "<style scoped>\n",
       "    .dataframe tbody tr th:only-of-type {\n",
       "        vertical-align: middle;\n",
       "    }\n",
       "\n",
       "    .dataframe tbody tr th {\n",
       "        vertical-align: top;\n",
       "    }\n",
       "\n",
       "    .dataframe thead th {\n",
       "        text-align: right;\n",
       "    }\n",
       "</style>\n",
       "<table border=\"1\" class=\"dataframe\">\n",
       "  <thead>\n",
       "    <tr style=\"text-align: right;\">\n",
       "      <th></th>\n",
       "      <th>railroad_company</th>\n",
       "      <th>station</th>\n",
       "      <th>county</th>\n",
       "      <th>state</th>\n",
       "      <th>region</th>\n",
       "      <th>city</th>\n",
       "      <th>vehicle_speed</th>\n",
       "      <th>vehicle_type</th>\n",
       "      <th>vehicle_direction</th>\n",
       "      <th>position</th>\n",
       "      <th>...</th>\n",
       "      <th>train_occupants</th>\n",
       "      <th>user_killed</th>\n",
       "      <th>user_injured</th>\n",
       "      <th>rail_killed</th>\n",
       "      <th>rail_injured</th>\n",
       "      <th>train_pass_killed</th>\n",
       "      <th>train_pass_injured</th>\n",
       "      <th>road_condtions</th>\n",
       "      <th>date</th>\n",
       "      <th>season</th>\n",
       "    </tr>\n",
       "    <tr>\n",
       "      <th>incdtno</th>\n",
       "      <th></th>\n",
       "      <th></th>\n",
       "      <th></th>\n",
       "      <th></th>\n",
       "      <th></th>\n",
       "      <th></th>\n",
       "      <th></th>\n",
       "      <th></th>\n",
       "      <th></th>\n",
       "      <th></th>\n",
       "      <th></th>\n",
       "      <th></th>\n",
       "      <th></th>\n",
       "      <th></th>\n",
       "      <th></th>\n",
       "      <th></th>\n",
       "      <th></th>\n",
       "      <th></th>\n",
       "      <th></th>\n",
       "      <th></th>\n",
       "      <th></th>\n",
       "    </tr>\n",
       "  </thead>\n",
       "  <tbody>\n",
       "    <tr>\n",
       "      <th>0312RS009</th>\n",
       "      <td>UP</td>\n",
       "      <td>WOODBRIDGE</td>\n",
       "      <td>SAN JOAQUIN</td>\n",
       "      <td>6</td>\n",
       "      <td>7</td>\n",
       "      <td>LODI</td>\n",
       "      <td>0.0</td>\n",
       "      <td>A</td>\n",
       "      <td>4</td>\n",
       "      <td>2</td>\n",
       "      <td>...</td>\n",
       "      <td>3</td>\n",
       "      <td>0</td>\n",
       "      <td>0</td>\n",
       "      <td>0</td>\n",
       "      <td>0</td>\n",
       "      <td>0</td>\n",
       "      <td>0</td>\n",
       "      <td>B</td>\n",
       "      <td>2012-03-16 09:15:00</td>\n",
       "      <td>Spring</td>\n",
       "    </tr>\n",
       "    <tr>\n",
       "      <th>0312RS025</th>\n",
       "      <td>UP</td>\n",
       "      <td>ACAMPO</td>\n",
       "      <td>SAN JOAQUIN</td>\n",
       "      <td>6</td>\n",
       "      <td>7</td>\n",
       "      <td></td>\n",
       "      <td>0.0</td>\n",
       "      <td>A</td>\n",
       "      <td>4</td>\n",
       "      <td>2</td>\n",
       "      <td>...</td>\n",
       "      <td>2</td>\n",
       "      <td>0</td>\n",
       "      <td>0</td>\n",
       "      <td>0</td>\n",
       "      <td>0</td>\n",
       "      <td>0</td>\n",
       "      <td>0</td>\n",
       "      <td>A</td>\n",
       "      <td>2012-03-30 21:35:00</td>\n",
       "      <td>Spring</td>\n",
       "    </tr>\n",
       "    <tr>\n",
       "      <th>CA1012201</th>\n",
       "      <td>BNSF</td>\n",
       "      <td>LOS NIETOS</td>\n",
       "      <td>LOS ANGELES</td>\n",
       "      <td>6</td>\n",
       "      <td>7</td>\n",
       "      <td>SANTA FE SPRINGS</td>\n",
       "      <td>0.0</td>\n",
       "      <td>A</td>\n",
       "      <td>1</td>\n",
       "      <td>2</td>\n",
       "      <td>...</td>\n",
       "      <td>3</td>\n",
       "      <td>0</td>\n",
       "      <td>0</td>\n",
       "      <td>0</td>\n",
       "      <td>0</td>\n",
       "      <td>0</td>\n",
       "      <td>0</td>\n",
       "      <td>A</td>\n",
       "      <td>2012-10-07 20:25:00</td>\n",
       "      <td>Fall</td>\n",
       "    </tr>\n",
       "    <tr>\n",
       "      <th>CA0712201</th>\n",
       "      <td>BNSF</td>\n",
       "      <td>FRESNO</td>\n",
       "      <td>FRESNO</td>\n",
       "      <td>6</td>\n",
       "      <td>7</td>\n",
       "      <td>FRESNO</td>\n",
       "      <td>0.0</td>\n",
       "      <td>A</td>\n",
       "      <td>1</td>\n",
       "      <td>2</td>\n",
       "      <td>...</td>\n",
       "      <td>2</td>\n",
       "      <td>0</td>\n",
       "      <td>1</td>\n",
       "      <td>0</td>\n",
       "      <td>0</td>\n",
       "      <td>0</td>\n",
       "      <td>0</td>\n",
       "      <td>A</td>\n",
       "      <td>2012-07-28 20:55:00</td>\n",
       "      <td>Summer</td>\n",
       "    </tr>\n",
       "    <tr>\n",
       "      <th>0612RS011</th>\n",
       "      <td>UP</td>\n",
       "      <td>BAKERSFIELD</td>\n",
       "      <td>KERN</td>\n",
       "      <td>6</td>\n",
       "      <td>7</td>\n",
       "      <td></td>\n",
       "      <td>50.0</td>\n",
       "      <td>C</td>\n",
       "      <td>4</td>\n",
       "      <td>3</td>\n",
       "      <td>...</td>\n",
       "      <td>3</td>\n",
       "      <td>0</td>\n",
       "      <td>0</td>\n",
       "      <td>0</td>\n",
       "      <td>0</td>\n",
       "      <td>0</td>\n",
       "      <td>0</td>\n",
       "      <td>A</td>\n",
       "      <td>2012-06-18 15:58:00</td>\n",
       "      <td>Summer</td>\n",
       "    </tr>\n",
       "  </tbody>\n",
       "</table>\n",
       "<p>5 rows × 49 columns</p>\n",
       "</div>"
      ],
      "text/plain": [
       "          railroad_company               station                county  state  \\\n",
       "incdtno                                                                         \n",
       "0312RS009             UP    WOODBRIDGE            SAN JOAQUIN               6   \n",
       "0312RS025             UP    ACAMPO                SAN JOAQUIN               6   \n",
       "CA1012201             BNSF  LOS NIETOS            LOS ANGELES               6   \n",
       "CA0712201             BNSF  FRESNO                FRESNO                    6   \n",
       "0612RS011             UP    BAKERSFIELD           KERN                      6   \n",
       "\n",
       "           region                  city  vehicle_speed vehicle_type  \\\n",
       "incdtno                                                               \n",
       "0312RS009       7  LODI                            0.0            A   \n",
       "0312RS025       7                                  0.0            A   \n",
       "CA1012201       7  SANTA FE SPRINGS                0.0            A   \n",
       "CA0712201       7  FRESNO                          0.0            A   \n",
       "0612RS011       7                                 50.0            C   \n",
       "\n",
       "          vehicle_direction position  ...  train_occupants user_killed  \\\n",
       "incdtno                               ...                                \n",
       "0312RS009                 4        2  ...                3           0   \n",
       "0312RS025                 4        2  ...                2           0   \n",
       "CA1012201                 1        2  ...                3           0   \n",
       "CA0712201                 1        2  ...                2           0   \n",
       "0612RS011                 4        3  ...                3           0   \n",
       "\n",
       "           user_injured  rail_killed rail_injured train_pass_killed  \\\n",
       "incdtno                                                               \n",
       "0312RS009             0            0            0                 0   \n",
       "0312RS025             0            0            0                 0   \n",
       "CA1012201             0            0            0                 0   \n",
       "CA0712201             1            0            0                 0   \n",
       "0612RS011             0            0            0                 0   \n",
       "\n",
       "          train_pass_injured  road_condtions                date  season  \n",
       "incdtno                                                                   \n",
       "0312RS009                  0               B 2012-03-16 09:15:00  Spring  \n",
       "0312RS025                  0               A 2012-03-30 21:35:00  Spring  \n",
       "CA1012201                  0               A 2012-10-07 20:25:00    Fall  \n",
       "CA0712201                  0               A 2012-07-28 20:55:00  Summer  \n",
       "0612RS011                  0               A 2012-06-18 15:58:00  Summer  \n",
       "\n",
       "[5 rows x 49 columns]"
      ]
     },
     "execution_count": 9,
     "metadata": {},
     "output_type": "execute_result"
    }
   ],
   "source": [
    "df.head()"
   ]
  },
  {
   "cell_type": "code",
   "execution_count": 10,
   "metadata": {},
   "outputs": [
    {
     "data": {
      "text/plain": [
       "48    1631\n",
       "13     751\n",
       "18     727\n",
       "6      698\n",
       "1      583\n",
       "17     518\n",
       "39     516\n",
       "22     492\n",
       "45     361\n",
       "37     359\n",
       "21     355\n",
       "42     352\n",
       "12     344\n",
       "29     343\n",
       "47     342\n",
       "5      307\n",
       "40     293\n",
       "20     277\n",
       "51     275\n",
       "31     274\n",
       "28     216\n",
       "53     199\n",
       "27     182\n",
       "8      165\n",
       "26     157\n",
       "4      152\n",
       "54     150\n",
       "19     138\n",
       "24     121\n",
       "36     119\n",
       "38     113\n",
       "16     108\n",
       "55      89\n",
       "41      79\n",
       "35      72\n",
       "30      62\n",
       "46      54\n",
       "34      51\n",
       "49      38\n",
       "56      37\n",
       "10      29\n",
       "25      16\n",
       "32      15\n",
       "50       8\n",
       "9        5\n",
       "23       4\n",
       "33       2\n",
       "11       2\n",
       "Name: state, dtype: int64"
      ]
     },
     "execution_count": 10,
     "metadata": {},
     "output_type": "execute_result"
    }
   ],
   "source": [
    "df.state.value_counts()"
   ]
  },
  {
   "cell_type": "markdown",
   "metadata": {},
   "source": [
    "## Takeaway\n",
    "\n",
    " - states like Texas, Georgia, Indiana, Alabama, Ohio rank highest in hwy rail accidents while states in the NE like Vermont, Conneticut & DC are at the very bottom.\n",
    "     - is this because people in NE are more accustomed to trains and people in middle america don't see them as often?\n",
    "     - Need to look at state populations and compare average accident (i.e., vermont could have 5 people but 2 accidents while Texas could have 28 million people and 1,000 accidents. need to look at the numbers and compare\n",
    "\n",
    "Initial hypothesis\n",
    "\n",
    " - Rail accidents are more prevelant in southern and middle america\n",
    "     "
   ]
  },
  {
   "cell_type": "code",
   "execution_count": 11,
   "metadata": {},
   "outputs": [
    {
     "data": {
      "image/png": "[encoded data removed]",
      "text/plain": [
       "<Figure size 864x720 with 1 Axes>"
      ]
     },
     "metadata": {
      "needs_background": "light"
     },
     "output_type": "display_data"
    }
   ],
   "source": [
    "df['visibility'].hist(color='green', figsize=(12, 10))\n",
    "\n",
    "plt.title('Distribution of Accident Based On Visbility')\n",
    "plt.show()"
   ]
  },
  {
   "cell_type": "markdown",
   "metadata": {},
   "source": [
    "----\n",
    "## Takeaway\n",
    "\n",
    "Majority of accident happen the day followed by night...not many at dawn or dusk"
   ]
  },
  {
   "cell_type": "code",
   "execution_count": 12,
   "metadata": {},
   "outputs": [],
   "source": [
    "df.weather = df.weather.astype(int)"
   ]
  },
  {
   "cell_type": "code",
   "execution_count": 13,
   "metadata": {},
   "outputs": [
    {
     "data": {
      "image/png": "[encoded data removed]",
      "text/plain": [
       "<Figure size 864x720 with 1 Axes>"
      ]
     },
     "metadata": {
      "needs_background": "light"
     },
     "output_type": "display_data"
    }
   ],
   "source": [
    "df['weather'].hist(color='red', figsize=(12, 10))\n",
    "\n",
    "plt.title('Distribution of Accident Based On Weather')\n",
    "plt.show()"
   ]
  },
  {
   "cell_type": "markdown",
   "metadata": {},
   "source": [
    "-----\n",
    "\n",
    "## Takeaway\n",
    "\n",
    "- Clear weather followed by cloudy skies are when the majority of accidents take place"
   ]
  },
  {
   "cell_type": "code",
   "execution_count": 14,
   "metadata": {},
   "outputs": [
    {
     "data": {
      "image/png": "[encoded data removed]",
      "text/plain": [
       "<Figure size 720x576 with 1 Axes>"
      ]
     },
     "metadata": {
      "needs_background": "light"
     },
     "output_type": "display_data"
    }
   ],
   "source": [
    "df['vehicle_type'].hist(color='blue', figsize=(10,8))\n",
    "\n",
    "plt.title('Distribution of Accident Based On Vehicle Type')\n",
    "plt.show()"
   ]
  },
  {
   "cell_type": "code",
   "execution_count": 15,
   "metadata": {},
   "outputs": [
    {
     "data": {
      "text/plain": [
       "A    5585\n",
       "C    2248\n",
       "D    1731\n",
       "J     878\n",
       "B     804\n",
       "M     366\n",
       "E     352\n",
       "K     156\n",
       "H      39\n",
       "F      17\n",
       "G       5\n",
       "Name: vehicle_type, dtype: int64"
      ]
     },
     "execution_count": 15,
     "metadata": {},
     "output_type": "execute_result"
    }
   ],
   "source": [
    "df.vehicle_type.value_counts()"
   ]
  },
  {
   "cell_type": "markdown",
   "metadata": {},
   "source": [
    "\n",
    "-----\n",
    "## Takeway\n",
    " \n",
    " - most accidents are involved with auto(cars) followed by tractor trailers, then pick up trucks. School buses were at the very bottom which was good to see although there were still 5 instances. "
   ]
  },
  {
   "cell_type": "markdown",
   "metadata": {},
   "source": [
    "-----------\n",
    "\n",
    "## OUTLIERS\n",
    "\n",
    "-------"
   ]
  },
  {
   "cell_type": "code",
   "execution_count": 16,
   "metadata": {},
   "outputs": [
    {
     "data": {
      "text/plain": [
       "<AxesSubplot:xlabel='front_engines'>"
      ]
     },
     "execution_count": 16,
     "metadata": {},
     "output_type": "execute_result"
    },
    {
     "data": {
      "image/png": "[encoded data removed]",
      "text/plain": [
       "<Figure size 432x288 with 1 Axes>"
      ]
     },
     "metadata": {
      "needs_background": "light"
     },
     "output_type": "display_data"
    }
   ],
   "source": [
    "sns.boxplot(data = df, x = 'front_engines')"
   ]
  },
  {
   "cell_type": "markdown",
   "metadata": {},
   "source": [
    " - Have some crazy outliers with 3 accidents having over 20 engines"
   ]
  },
  {
   "cell_type": "code",
   "execution_count": 17,
   "metadata": {},
   "outputs": [
    {
     "data": {
      "text/plain": [
       "<AxesSubplot:xlabel='railcar_quantity'>"
      ]
     },
     "execution_count": 17,
     "metadata": {},
     "output_type": "execute_result"
    },
    {
     "data": {
      "image/png": "[encoded data removed]",
      "text/plain": [
       "<Figure size 432x288 with 1 Axes>"
      ]
     },
     "metadata": {
      "needs_background": "light"
     },
     "output_type": "display_data"
    }
   ],
   "source": [
    "sns.boxplot(data=df, x = 'railcar_quantity')"
   ]
  },
  {
   "cell_type": "markdown",
   "metadata": {},
   "source": [
    "- majority of railcar quanity is between 0-100 cars but there are some outliers above 200 with one coming in at a whopping 350 cars"
   ]
  },
  {
   "cell_type": "code",
   "execution_count": 18,
   "metadata": {},
   "outputs": [
    {
     "data": {
      "text/plain": [
       "<AxesSubplot:xlabel='train_speed'>"
      ]
     },
     "execution_count": 18,
     "metadata": {},
     "output_type": "execute_result"
    },
    {
     "data": {
      "image/png": "[encoded data removed]",
      "text/plain": [
       "<Figure size 432x288 with 1 Axes>"
      ]
     },
     "metadata": {
      "needs_background": "light"
     },
     "output_type": "display_data"
    }
   ],
   "source": [
    "sns.boxplot(data = df, x = 'train_speed')"
   ]
  },
  {
   "cell_type": "markdown",
   "metadata": {},
   "source": [
    "- train speed outliers above 80 mph, with 2 over 100 mph"
   ]
  },
  {
   "cell_type": "code",
   "execution_count": 19,
   "metadata": {},
   "outputs": [
    {
     "data": {
      "text/plain": [
       "<AxesSubplot:xlabel='temp'>"
      ]
     },
     "execution_count": 19,
     "metadata": {},
     "output_type": "execute_result"
    },
    {
     "data": {
      "image/png": "[encoded data removed]",
      "text/plain": [
       "<Figure size 432x288 with 1 Axes>"
      ]
     },
     "metadata": {
      "needs_background": "light"
     },
     "output_type": "display_data"
    }
   ],
   "source": [
    "sns.boxplot(data = df, x = 'temp')"
   ]
  },
  {
   "cell_type": "markdown",
   "metadata": {},
   "source": [
    "- outliers exist for accidents where temp was below 0 degrees with 1 occuring where temp was greater than -20"
   ]
  },
  {
   "cell_type": "code",
   "execution_count": 20,
   "metadata": {},
   "outputs": [
    {
     "data": {
      "text/plain": [
       "3    5578\n",
       "2    2202\n",
       "3    1659\n",
       "1    1589\n",
       "2     710\n",
       "1     430\n",
       "5       6\n",
       "5       3\n",
       "4       3\n",
       "4       1\n",
       "Name: position, dtype: int64"
      ]
     },
     "execution_count": 20,
     "metadata": {},
     "output_type": "execute_result"
    }
   ],
   "source": [
    "df.position.value_counts()"
   ]
  },
  {
   "cell_type": "markdown",
   "metadata": {},
   "source": [
    "## Takeaways\n",
    "\n",
    "- a majority of people involved in accidents were either moving across the crossing when hit or were stopped. A small amount (4 & 5) were either blocked or trapped inside the crossing "
   ]
  },
  {
   "cell_type": "code",
   "execution_count": 21,
   "metadata": {},
   "outputs": [
    {
     "data": {
      "text/plain": [
       "A    10133\n",
       "B     1268\n",
       "C      430\n",
       "E      232\n",
       "D      113\n",
       "F        5\n",
       "Name: road_condtions, dtype: int64"
      ]
     },
     "execution_count": 21,
     "metadata": {},
     "output_type": "execute_result"
    }
   ],
   "source": [
    "df.road_condtions.value_counts()"
   ]
  },
  {
   "cell_type": "markdown",
   "metadata": {},
   "source": [
    "## Takeaways\n",
    "\n",
    "- conditions were dry(A) for a majority of the incidents followed by wet (B) and then snow/slush(C)"
   ]
  },
  {
   "cell_type": "code",
   "execution_count": 22,
   "metadata": {},
   "outputs": [
    {
     "data": {
      "text/plain": [
       "8    11794\n",
       "5       72\n",
       "3       70\n",
       "1       69\n",
       "7       51\n",
       "6       50\n",
       "2       46\n",
       "4       29\n",
       "Name: view_obstruction, dtype: int64"
      ]
     },
     "execution_count": 22,
     "metadata": {},
     "output_type": "execute_result"
    }
   ],
   "source": [
    "df.view_obstruction.value_counts()"
   ]
  },
  {
   "cell_type": "markdown",
   "metadata": {},
   "source": [
    "## Takeaways\n",
    "- Majority of accidents had zero obstruction while vegetation was next with less than 80 incidents. "
   ]
  },
  {
   "cell_type": "code",
   "execution_count": 23,
   "metadata": {},
   "outputs": [
    {
     "data": {
      "text/plain": [
       "3    3768\n",
       "4    2996\n",
       "1    1508\n",
       "5    1485\n",
       "2     600\n",
       "3     428\n",
       "7     388\n",
       "4     308\n",
       "5     199\n",
       "1     195\n",
       "8     114\n",
       "2      93\n",
       "7      58\n",
       "6      23\n",
       "8      15\n",
       "0       2\n",
       "6       1\n",
       "Name: motorist_action, dtype: int64"
      ]
     },
     "execution_count": 23,
     "metadata": {},
     "output_type": "execute_result"
    }
   ],
   "source": [
    "df.motorist_action.value_counts()"
   ]
  },
  {
   "cell_type": "markdown",
   "metadata": {},
   "source": [
    "## Takeaways\n",
    "\n",
    "- Most motorists did not stop for the train (#3) and were hit or they stopped in the crossing(#4) and were hit. After that, people went around gates (#3). Lower on the list were people who went thru the gates(#7) and then those who attempted or committed suicide (#8)"
   ]
  },
  {
   "cell_type": "code",
   "execution_count": 24,
   "metadata": {},
   "outputs": [],
   "source": [
    "cat_var = ['railroad_company', 'station', 'weather', 'train_type', 'track_type']"
   ]
  },
  {
   "cell_type": "code",
   "execution_count": null,
   "metadata": {},
   "outputs": [],
   "source": []
  },
  {
   "cell_type": "markdown",
   "metadata": {},
   "source": [
    "---------------------------\n",
    "\n",
    "## Train Data/Bi-Variate/Multi-Variate Exploration\n",
    "\n",
    "---------------------"
   ]
  },
  {
   "cell_type": "code",
   "execution_count": 25,
   "metadata": {},
   "outputs": [],
   "source": [
    "train, validate, test = train_validate_test_split(df, 'railroad_company', seed=123)"
   ]
  },
  {
   "cell_type": "code",
   "execution_count": 26,
   "metadata": {},
   "outputs": [
    {
     "data": {
      "text/plain": [
       "((6820, 49), (2924, 49), (2437, 49))"
      ]
     },
     "execution_count": 26,
     "metadata": {},
     "output_type": "execute_result"
    }
   ],
   "source": [
    "train.shape, validate.shape, test.shape"
   ]
  },
  {
   "cell_type": "code",
   "execution_count": 27,
   "metadata": {},
   "outputs": [
    {
     "data": {
      "text/plain": [
       "railroad_company\n",
       "ATK      7.0\n",
       "BNSF    67.0\n",
       "CSX     53.5\n",
       "KCS     59.0\n",
       "NS      43.0\n",
       "UP      73.0\n",
       "Name: railcar_quantity, dtype: float64"
      ]
     },
     "execution_count": 27,
     "metadata": {},
     "output_type": "execute_result"
    }
   ],
   "source": [
    "train.groupby('railroad_company').railcar_quantity.median()"
   ]
  },
  {
   "cell_type": "code",
   "execution_count": 28,
   "metadata": {},
   "outputs": [
    {
     "data": {
      "text/plain": [
       "railroad_company\n",
       "ATK     65.0\n",
       "BNSF    35.0\n",
       "CSX     29.0\n",
       "KCS     30.0\n",
       "NS      28.0\n",
       "UP      35.0\n",
       "Name: train_speed, dtype: float64"
      ]
     },
     "execution_count": 28,
     "metadata": {},
     "output_type": "execute_result"
    }
   ],
   "source": [
    "train.groupby('railroad_company').train_speed.median()"
   ]
  },
  {
   "cell_type": "code",
   "execution_count": 29,
   "metadata": {},
   "outputs": [
    {
     "data": {
      "text/plain": [
       "<AxesSubplot:xlabel='weather', ylabel='Count'>"
      ]
     },
     "execution_count": 29,
     "metadata": {},
     "output_type": "execute_result"
    },
    {
     "data": {
      "image/png": "[encoded data removed]",
      "text/plain": [
       "<Figure size 720x576 with 1 Axes>"
      ]
     },
     "metadata": {
      "needs_background": "light"
     },
     "output_type": "display_data"
    }
   ],
   "source": [
    "plt.figure(figsize=(10,8))\n",
    "sns.histplot(data=train, x=\"weather\", hue = \"railroad_company\", multiple=\"stack\")"
   ]
  },
  {
   "cell_type": "code",
   "execution_count": 30,
   "metadata": {},
   "outputs": [
    {
     "data": {
      "text/plain": [
       "railroad_company  weather\n",
       "ATK               1           150000.0\n",
       "                  2            60000.0\n",
       "                  3            20000.0\n",
       "                  4            22000.0\n",
       "                  5             5000.0\n",
       "                  6            15000.0\n",
       "BNSF              1           100000.0\n",
       "                  2            80000.0\n",
       "                  3            10000.0\n",
       "                  4             5000.0\n",
       "                  5             5000.0\n",
       "                  6            20000.0\n",
       "CSX               0             7800.0\n",
       "                  1           500000.0\n",
       "                  2           276000.0\n",
       "                  3            27500.0\n",
       "                  4            15500.0\n",
       "                  5            27500.0\n",
       "                  6            20500.0\n",
       "KCS               1            75000.0\n",
       "                  2           120000.0\n",
       "                  3            18995.0\n",
       "                  4             4500.0\n",
       "NS                1          1000000.0\n",
       "                  2           100000.0\n",
       "                  3            50000.0\n",
       "                  4            17000.0\n",
       "                  5            15000.0\n",
       "                  6            20000.0\n",
       "UP                1           300000.0\n",
       "                  2           750000.0\n",
       "                  3            90000.0\n",
       "                  4           100000.0\n",
       "                  5             5000.0\n",
       "                  6            15000.0\n",
       "Name: vehicle_damage, dtype: float64"
      ]
     },
     "execution_count": 30,
     "metadata": {},
     "output_type": "execute_result"
    }
   ],
   "source": [
    "train.groupby(['railroad_company', 'weather']).vehicle_damage.max()"
   ]
  },
  {
   "cell_type": "code",
   "execution_count": 32,
   "metadata": {},
   "outputs": [
    {
     "data": {
      "text/plain": [
       "railroad_company  season\n",
       "ATK               Fall      7000.0\n",
       "                  Spring    5000.0\n",
       "                  Summer    4000.0\n",
       "                  Winter    6000.0\n",
       "BNSF              Fall      2000.0\n",
       "                  Spring    2000.0\n",
       "                  Summer    2000.0\n",
       "                  Winter    2000.0\n",
       "CSX               Fall      6500.0\n",
       "                  Spring    6500.0\n",
       "                  Summer    6500.0\n",
       "                  Winter    6500.0\n",
       "KCS               Fall      5000.0\n",
       "                  Spring    4000.0\n",
       "                  Summer    6000.0\n",
       "                  Winter    7500.0\n",
       "NS                Fall      3000.0\n",
       "                  Spring    3000.0\n",
       "                  Summer    3000.0\n",
       "                  Winter    3000.0\n",
       "UP                Fall      5000.0\n",
       "                  Spring    5000.0\n",
       "                  Summer    5000.0\n",
       "                  Winter    5000.0\n",
       "Name: vehicle_damage, dtype: float64"
      ]
     },
     "execution_count": 32,
     "metadata": {},
     "output_type": "execute_result"
    }
   ],
   "source": [
    "train.groupby(['railroad_company', 'season']).vehicle_damage.median()"
   ]
  },
  {
   "cell_type": "code",
   "execution_count": 33,
   "metadata": {},
   "outputs": [
    {
     "data": {
      "text/plain": [
       "railroad_company  season\n",
       "ATK               Fall       100000.0\n",
       "                  Spring     150000.0\n",
       "                  Summer     100000.0\n",
       "                  Winter      60000.0\n",
       "BNSF              Fall        50000.0\n",
       "                  Spring     100000.0\n",
       "                  Summer     100000.0\n",
       "                  Winter      20000.0\n",
       "CSX               Fall        75000.0\n",
       "                  Spring     500000.0\n",
       "                  Summer     276000.0\n",
       "                  Winter     500000.0\n",
       "KCS               Fall        25000.0\n",
       "                  Spring     120000.0\n",
       "                  Summer      75000.0\n",
       "                  Winter      70000.0\n",
       "NS                Fall       312000.0\n",
       "                  Spring     100000.0\n",
       "                  Summer    1000000.0\n",
       "                  Winter      60000.0\n",
       "UP                Fall       750000.0\n",
       "                  Spring     250000.0\n",
       "                  Summer     300000.0\n",
       "                  Winter     200000.0\n",
       "Name: vehicle_damage, dtype: float64"
      ]
     },
     "execution_count": 33,
     "metadata": {},
     "output_type": "execute_result"
    }
   ],
   "source": [
    "train.groupby(['railroad_company', 'season']).vehicle_damage.max()"
   ]
  },
  {
   "cell_type": "code",
   "execution_count": null,
   "metadata": {},
   "outputs": [],
   "source": []
  }
 ],
 "metadata": {
  "kernelspec": {
   "display_name": "Python 3",
   "language": "python",
   "name": "python3"
  },
  "language_info": {
   "codemirror_mode": {
    "name": "ipython",
    "version": 3
   },
   "file_extension": ".py",
   "mimetype": "text/x-python",
   "name": "python",
   "nbconvert_exporter": "python",
   "pygments_lexer": "ipython3",
   "version": "3.8.5"
  }
 },
 "nbformat": 4,
 "nbformat_minor": 4
}

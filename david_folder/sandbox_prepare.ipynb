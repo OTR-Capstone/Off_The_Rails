{
 "cells": [
  {
   "cell_type": "markdown",
   "metadata": {},
   "source": [
    "## Prep Sandbox"
   ]
  },
  {
   "cell_type": "code",
   "execution_count": 1,
   "metadata": {},
   "outputs": [],
   "source": [
    "import pandas as pd\n",
    "import numpy as np\n",
    "import os\n",
    "from acquire import get_hwyrail, get_equiprail\n",
    "from prepare import missing_zero_values_table, max_reduce_equip_cols, concat_date_time, prep_equip_df, prep_hwy_df\n"
   ]
  },
  {
   "cell_type": "code",
   "execution_count": 2,
   "metadata": {},
   "outputs": [],
   "source": [
    "hwydf = get_hwyrail()"
   ]
  },
  {
   "cell_type": "code",
   "execution_count": 3,
   "metadata": {},
   "outputs": [],
   "source": [
    "pd.set_option('display.max_columns', 500)"
   ]
  },
  {
   "cell_type": "code",
   "execution_count": 4,
   "metadata": {},
   "outputs": [],
   "source": [
    "pd.set_option('display.max_rows', 500)"
   ]
  },
  {
   "cell_type": "code",
   "execution_count": 6,
   "metadata": {},
   "outputs": [
    {
     "data": {
      "text/html": [
       "<div>\n",
       "<style scoped>\n",
       "    .dataframe tbody tr th:only-of-type {\n",
       "        vertical-align: middle;\n",
       "    }\n",
       "\n",
       "    .dataframe tbody tr th {\n",
       "        vertical-align: top;\n",
       "    }\n",
       "\n",
       "    .dataframe thead th {\n",
       "        text-align: right;\n",
       "    }\n",
       "</style>\n",
       "<table border=\"1\" class=\"dataframe\">\n",
       "  <thead>\n",
       "    <tr style=\"text-align: right;\">\n",
       "      <th></th>\n",
       "      <th>AMTRAK</th>\n",
       "      <th>IYR</th>\n",
       "      <th>IMO</th>\n",
       "      <th>RAILROAD</th>\n",
       "      <th>INCDTNO</th>\n",
       "      <th>IYR2</th>\n",
       "      <th>IMO2</th>\n",
       "      <th>RR2</th>\n",
       "      <th>INCDTNO2</th>\n",
       "      <th>IYR3</th>\n",
       "      <th>IMO3</th>\n",
       "      <th>RR3</th>\n",
       "      <th>INCDTNO3</th>\n",
       "      <th>DUMMY1</th>\n",
       "      <th>CASINJRR</th>\n",
       "      <th>GXID</th>\n",
       "      <th>YEAR</th>\n",
       "      <th>MONTH</th>\n",
       "      <th>DAY</th>\n",
       "      <th>TIMEHR</th>\n",
       "      <th>TIMEMIN</th>\n",
       "      <th>AMPM</th>\n",
       "      <th>STATION</th>\n",
       "      <th>COUNTY</th>\n",
       "      <th>STATE</th>\n",
       "      <th>REGION</th>\n",
       "      <th>DUMMY2</th>\n",
       "      <th>CITY</th>\n",
       "      <th>HIGHWAY</th>\n",
       "      <th>VEHSPD</th>\n",
       "      <th>TYPVEH</th>\n",
       "      <th>VEHDIR</th>\n",
       "      <th>POSITION</th>\n",
       "      <th>RREQUIP</th>\n",
       "      <th>RRCAR</th>\n",
       "      <th>TYPACC</th>\n",
       "      <th>HAZARD</th>\n",
       "      <th>TEMP</th>\n",
       "      <th>VISIBLTY</th>\n",
       "      <th>WEATHER</th>\n",
       "      <th>TYPEQ</th>\n",
       "      <th>TYPTRK</th>\n",
       "      <th>TRKNAME</th>\n",
       "      <th>TRKCLAS</th>\n",
       "      <th>NBRLOCOS</th>\n",
       "      <th>NBRCARS</th>\n",
       "      <th>TRNSPD</th>\n",
       "      <th>TYPSPD</th>\n",
       "      <th>TRNDIR</th>\n",
       "      <th>SIGNAL</th>\n",
       "      <th>LOCWARN</th>\n",
       "      <th>WARNSIG</th>\n",
       "      <th>LIGHTS</th>\n",
       "      <th>STANDVEH</th>\n",
       "      <th>TRAIN2</th>\n",
       "      <th>MOTORIST</th>\n",
       "      <th>VIEW</th>\n",
       "      <th>VEHDMG</th>\n",
       "      <th>DRIVER</th>\n",
       "      <th>INVEH</th>\n",
       "      <th>TOTKLD</th>\n",
       "      <th>TOTINJ</th>\n",
       "      <th>TOTOCC</th>\n",
       "      <th>INCDRPT</th>\n",
       "      <th>JOINTCD</th>\n",
       "      <th>TYPRR</th>\n",
       "      <th>DUMMY3</th>\n",
       "      <th>CASKLDRR</th>\n",
       "      <th>DUMMY4</th>\n",
       "      <th>CROSSING</th>\n",
       "      <th>NARRLEN</th>\n",
       "      <th>DUMMY5</th>\n",
       "      <th>YEAR4</th>\n",
       "      <th>DIVISION</th>\n",
       "      <th>PUBLIC</th>\n",
       "      <th>CNTYCD</th>\n",
       "      <th>STCNTY</th>\n",
       "      <th>HZMRLSED</th>\n",
       "      <th>HZMNAME</th>\n",
       "      <th>HZMQNTY</th>\n",
       "      <th>HZMMEAS</th>\n",
       "      <th>SIGWARNX</th>\n",
       "      <th>WHISBAN</th>\n",
       "      <th>DRIVAGE</th>\n",
       "      <th>DRIVGEN</th>\n",
       "      <th>PLEONTRN</th>\n",
       "      <th>SSB1</th>\n",
       "      <th>SSB2</th>\n",
       "      <th>USERKLD</th>\n",
       "      <th>USERINJ</th>\n",
       "      <th>RREMPKLD</th>\n",
       "      <th>RREMPINJ</th>\n",
       "      <th>PASSKLD</th>\n",
       "      <th>PASSINJ</th>\n",
       "      <th>NARR1</th>\n",
       "      <th>NARR2</th>\n",
       "      <th>NARR3</th>\n",
       "      <th>NARR4</th>\n",
       "      <th>NARR5</th>\n",
       "      <th>SUBDIV</th>\n",
       "      <th>ROADCOND</th>\n",
       "      <th>VIDEOT</th>\n",
       "      <th>VIDEOU</th>\n",
       "      <th>Unnamed: 103</th>\n",
       "    </tr>\n",
       "  </thead>\n",
       "  <tbody>\n",
       "    <tr>\n",
       "      <th>0</th>\n",
       "      <td>NaN</td>\n",
       "      <td>12</td>\n",
       "      <td>3</td>\n",
       "      <td>UP</td>\n",
       "      <td>0312RS009</td>\n",
       "      <td>NaN</td>\n",
       "      <td>NaN</td>\n",
       "      <td></td>\n",
       "      <td></td>\n",
       "      <td>12.0</td>\n",
       "      <td>3.0</td>\n",
       "      <td>UP</td>\n",
       "      <td>0312RS009</td>\n",
       "      <td>NaN</td>\n",
       "      <td>0</td>\n",
       "      <td>753122J</td>\n",
       "      <td>12</td>\n",
       "      <td>3</td>\n",
       "      <td>16</td>\n",
       "      <td>9</td>\n",
       "      <td>15</td>\n",
       "      <td>AM</td>\n",
       "      <td>WOODBRIDGE</td>\n",
       "      <td>SAN JOAQUIN</td>\n",
       "      <td>6</td>\n",
       "      <td>7</td>\n",
       "      <td>NaN</td>\n",
       "      <td>LODI</td>\n",
       "      <td>CHURCH &amp; LOCKFORD</td>\n",
       "      <td>0.0</td>\n",
       "      <td>A</td>\n",
       "      <td>4</td>\n",
       "      <td>2</td>\n",
       "      <td>1</td>\n",
       "      <td>1</td>\n",
       "      <td>1</td>\n",
       "      <td>4</td>\n",
       "      <td>50</td>\n",
       "      <td>2</td>\n",
       "      <td>3</td>\n",
       "      <td>1</td>\n",
       "      <td>4</td>\n",
       "      <td>LEAD</td>\n",
       "      <td>1</td>\n",
       "      <td>1</td>\n",
       "      <td>4</td>\n",
       "      <td>10.0</td>\n",
       "      <td>E</td>\n",
       "      <td>4</td>\n",
       "      <td>1</td>\n",
       "      <td>1</td>\n",
       "      <td>1</td>\n",
       "      <td>2</td>\n",
       "      <td>2</td>\n",
       "      <td>2</td>\n",
       "      <td>4</td>\n",
       "      <td>8</td>\n",
       "      <td>1000.0</td>\n",
       "      <td>3</td>\n",
       "      <td>1</td>\n",
       "      <td>0</td>\n",
       "      <td>0</td>\n",
       "      <td>1</td>\n",
       "      <td>2</td>\n",
       "      <td>1</td>\n",
       "      <td>1</td>\n",
       "      <td>NaN</td>\n",
       "      <td>0</td>\n",
       "      <td></td>\n",
       "      <td>507</td>\n",
       "      <td>56</td>\n",
       "      <td>NaN</td>\n",
       "      <td>2012</td>\n",
       "      <td></td>\n",
       "      <td>Y</td>\n",
       "      <td>77</td>\n",
       "      <td>06C077</td>\n",
       "      <td>4</td>\n",
       "      <td>NaN</td>\n",
       "      <td>NaN</td>\n",
       "      <td>NaN</td>\n",
       "      <td></td>\n",
       "      <td></td>\n",
       "      <td>49</td>\n",
       "      <td>1</td>\n",
       "      <td>3</td>\n",
       "      <td></td>\n",
       "      <td></td>\n",
       "      <td>0</td>\n",
       "      <td>0</td>\n",
       "      <td>0</td>\n",
       "      <td>0</td>\n",
       "      <td>0</td>\n",
       "      <td>0</td>\n",
       "      <td>HIEHWAY USER'S ACTIONS: STOPPED ON CROSSING ( ...</td>\n",
       "      <td>NaN</td>\n",
       "      <td>NaN</td>\n",
       "      <td>NaN</td>\n",
       "      <td>NaN</td>\n",
       "      <td>WOODBRIDGE</td>\n",
       "      <td>B</td>\n",
       "      <td>1</td>\n",
       "      <td>2</td>\n",
       "      <td>NaN</td>\n",
       "    </tr>\n",
       "    <tr>\n",
       "      <th>1</th>\n",
       "      <td>NaN</td>\n",
       "      <td>12</td>\n",
       "      <td>3</td>\n",
       "      <td>UP</td>\n",
       "      <td>0312RS025</td>\n",
       "      <td>NaN</td>\n",
       "      <td>NaN</td>\n",
       "      <td></td>\n",
       "      <td></td>\n",
       "      <td>12.0</td>\n",
       "      <td>3.0</td>\n",
       "      <td>UP</td>\n",
       "      <td>0312RS025</td>\n",
       "      <td>NaN</td>\n",
       "      <td>0</td>\n",
       "      <td>752922S</td>\n",
       "      <td>12</td>\n",
       "      <td>3</td>\n",
       "      <td>30</td>\n",
       "      <td>9</td>\n",
       "      <td>35</td>\n",
       "      <td>PM</td>\n",
       "      <td>ACAMPO</td>\n",
       "      <td>SAN JOAQUIN</td>\n",
       "      <td>6</td>\n",
       "      <td>7</td>\n",
       "      <td>NaN</td>\n",
       "      <td></td>\n",
       "      <td>JAHANT ROAD</td>\n",
       "      <td>0.0</td>\n",
       "      <td>A</td>\n",
       "      <td>4</td>\n",
       "      <td>2</td>\n",
       "      <td>1</td>\n",
       "      <td>1</td>\n",
       "      <td>1</td>\n",
       "      <td>4</td>\n",
       "      <td>60</td>\n",
       "      <td>4</td>\n",
       "      <td>1</td>\n",
       "      <td>1</td>\n",
       "      <td>1</td>\n",
       "      <td>SINGLE MAIN</td>\n",
       "      <td>5</td>\n",
       "      <td>3</td>\n",
       "      <td>59</td>\n",
       "      <td>35.0</td>\n",
       "      <td>E</td>\n",
       "      <td>3</td>\n",
       "      <td>1</td>\n",
       "      <td>1</td>\n",
       "      <td></td>\n",
       "      <td>2</td>\n",
       "      <td>2</td>\n",
       "      <td>2</td>\n",
       "      <td>4</td>\n",
       "      <td>8</td>\n",
       "      <td>1000.0</td>\n",
       "      <td>3</td>\n",
       "      <td>2</td>\n",
       "      <td>0</td>\n",
       "      <td>0</td>\n",
       "      <td>0</td>\n",
       "      <td>2</td>\n",
       "      <td>1</td>\n",
       "      <td>1</td>\n",
       "      <td>NaN</td>\n",
       "      <td>0</td>\n",
       "      <td></td>\n",
       "      <td>1030607</td>\n",
       "      <td>117</td>\n",
       "      <td>NaN</td>\n",
       "      <td>2012</td>\n",
       "      <td></td>\n",
       "      <td>Y</td>\n",
       "      <td>77</td>\n",
       "      <td>06C077</td>\n",
       "      <td>4</td>\n",
       "      <td>NaN</td>\n",
       "      <td>NaN</td>\n",
       "      <td>NaN</td>\n",
       "      <td></td>\n",
       "      <td></td>\n",
       "      <td>35</td>\n",
       "      <td>1</td>\n",
       "      <td>2</td>\n",
       "      <td></td>\n",
       "      <td></td>\n",
       "      <td>0</td>\n",
       "      <td>0</td>\n",
       "      <td>0</td>\n",
       "      <td>0</td>\n",
       "      <td>0</td>\n",
       "      <td>0</td>\n",
       "      <td>HIGHWAY USER'S ACTIONS: STOPPED ON CROSSING ( ...</td>\n",
       "      <td>D LEFT THE SCENE.</td>\n",
       "      <td>NaN</td>\n",
       "      <td>NaN</td>\n",
       "      <td>NaN</td>\n",
       "      <td>FRESNO SUB</td>\n",
       "      <td>A</td>\n",
       "      <td>1</td>\n",
       "      <td>2</td>\n",
       "      <td>NaN</td>\n",
       "    </tr>\n",
       "  </tbody>\n",
       "</table>\n",
       "</div>"
      ],
      "text/plain": [
       "  AMTRAK  IYR  IMO RAILROAD    INCDTNO  IYR2  IMO2   RR2    INCDTNO2  IYR3  \\\n",
       "0    NaN   12    3     UP    0312RS009   NaN   NaN                    12.0   \n",
       "1    NaN   12    3     UP    0312RS025   NaN   NaN                    12.0   \n",
       "\n",
       "   IMO3   RR3   INCDTNO3  DUMMY1  CASINJRR     GXID  YEAR  MONTH  DAY  TIMEHR  \\\n",
       "0   3.0  UP    0312RS009     NaN         0  753122J    12      3   16       9   \n",
       "1   3.0  UP    0312RS025     NaN         0  752922S    12      3   30       9   \n",
       "\n",
       "   TIMEMIN AMPM               STATION                COUNTY  STATE  REGION  \\\n",
       "0       15   AM  WOODBRIDGE            SAN JOAQUIN               6       7   \n",
       "1       35   PM  ACAMPO                SAN JOAQUIN               6       7   \n",
       "\n",
       "   DUMMY2                  CITY               HIGHWAY  VEHSPD TYPVEH VEHDIR  \\\n",
       "0     NaN  LODI                  CHURCH & LOCKFORD        0.0      A      4   \n",
       "1     NaN                        JAHANT ROAD              0.0      A      4   \n",
       "\n",
       "  POSITION RREQUIP  RRCAR  TYPACC HAZARD  TEMP  VISIBLTY WEATHER TYPEQ TYPTRK  \\\n",
       "0        2       1      1       1      4    50         2       3     1      4   \n",
       "1        2       1      1       1      4    60         4       1     1      1   \n",
       "\n",
       "                TRKNAME TRKCLAS  NBRLOCOS  NBRCARS  TRNSPD TYPSPD TRNDIR  \\\n",
       "0  LEAD                       1         1        4    10.0      E      4   \n",
       "1  SINGLE MAIN                5         3       59    35.0      E      3   \n",
       "\n",
       "  SIGNAL LOCWARN WARNSIG LIGHTS STANDVEH TRAIN2 MOTORIST  VIEW  VEHDMG DRIVER  \\\n",
       "0      1       1       1      2        2      2        4     8  1000.0      3   \n",
       "1      1       1              2        2      2        4     8  1000.0      3   \n",
       "\n",
       "  INVEH  TOTKLD  TOTINJ  TOTOCC INCDRPT  JOINTCD TYPRR  DUMMY3  CASKLDRR  \\\n",
       "0     1       0       0       1       2        1     1     NaN         0   \n",
       "1     2       0       0       0       2        1     1     NaN         0   \n",
       "\n",
       "  DUMMY4 CROSSING  NARRLEN  DUMMY5  YEAR4              DIVISION PUBLIC  \\\n",
       "0             507       56     NaN   2012                            Y   \n",
       "1         1030607      117     NaN   2012                            Y   \n",
       "\n",
       "   CNTYCD  STCNTY HZMRLSED HZMNAME HZMQNTY HZMMEAS SIGWARNX WHISBAN DRIVAGE  \\\n",
       "0      77  06C077        4     NaN     NaN     NaN                       49   \n",
       "1      77  06C077        4     NaN     NaN     NaN                       35   \n",
       "\n",
       "  DRIVGEN  PLEONTRN                  SSB1                  SSB2  USERKLD  \\\n",
       "0       1         3                                                    0   \n",
       "1       1         2                                                    0   \n",
       "\n",
       "   USERINJ  RREMPKLD  RREMPINJ  PASSKLD  PASSINJ  \\\n",
       "0        0         0         0        0        0   \n",
       "1        0         0         0        0        0   \n",
       "\n",
       "                                               NARR1              NARR2 NARR3  \\\n",
       "0  HIEHWAY USER'S ACTIONS: STOPPED ON CROSSING ( ...                NaN   NaN   \n",
       "1  HIGHWAY USER'S ACTIONS: STOPPED ON CROSSING ( ...  D LEFT THE SCENE.   NaN   \n",
       "\n",
       "  NARR4 NARR5                SUBDIV ROADCOND  VIDEOT  VIDEOU  Unnamed: 103  \n",
       "0   NaN   NaN  WOODBRIDGE                  B       1       2           NaN  \n",
       "1   NaN   NaN  FRESNO SUB                  A       1       2           NaN  "
      ]
     },
     "execution_count": 6,
     "metadata": {},
     "output_type": "execute_result"
    }
   ],
   "source": [
    "hwydf.head(2)"
   ]
  },
  {
   "cell_type": "code",
   "execution_count": 8,
   "metadata": {},
   "outputs": [
    {
     "data": {
      "text/plain": [
       "3    5933\n",
       "4    4362\n",
       "1    2439\n",
       "5    2184\n",
       "2     965\n",
       "3     685\n",
       "7     638\n",
       "4     460\n",
       "8     369\n",
       "1     313\n",
       "5     290\n",
       "2     150\n",
       "7      96\n",
       "8      52\n",
       "6      30\n",
       "       21\n",
       "0       4\n",
       "6       4\n",
       "Name: MOTORIST, dtype: int64"
      ]
     },
     "execution_count": 8,
     "metadata": {},
     "output_type": "execute_result"
    }
   ],
   "source": [
    "hwydf.MOTORIST.value_counts()"
   ]
  },
  {
   "cell_type": "code",
   "execution_count": null,
   "metadata": {},
   "outputs": [],
   "source": [
    "missing_zero_values_table(hwydf)"
   ]
  },
  {
   "cell_type": "code",
   "execution_count": null,
   "metadata": {},
   "outputs": [],
   "source": []
  },
  {
   "cell_type": "code",
   "execution_count": null,
   "metadata": {
    "jupyter": {
     "source_hidden": true
    }
   },
   "outputs": [],
   "source": [
    "equipdf = get_equiprail()"
   ]
  },
  {
   "cell_type": "code",
   "execution_count": null,
   "metadata": {
    "jupyter": {
     "source_hidden": true
    }
   },
   "outputs": [],
   "source": [
    "equipdf = prep_equip_df(equipdf)\n"
   ]
  },
  {
   "cell_type": "code",
   "execution_count": null,
   "metadata": {
    "jupyter": {
     "source_hidden": true
    }
   },
   "outputs": [],
   "source": [
    "equipdf.columns.to_list"
   ]
  },
  {
   "cell_type": "markdown",
   "metadata": {},
   "source": [
    "railroad_company, accident_type, state, temp, visibility, weather, train_speed, train_direction, train_weight, train_type, track_type, front_engines, loadfrght_cars, loadpass_cars, emptyfrght_cars, emptypass_cars, equip_damage, track_damage, cause, caskldrr, casinjrr, total_killed, total_injured, max_speed, total_damage, engineers_onduty, conductors_onduty, brakemen_onduty, region, typrr, rremp_killed, rremp_injured, passengers_killed, passengers_injured, passtrn, lat, long, signal_type, date"
   ]
  },
  {
   "cell_type": "code",
   "execution_count": null,
   "metadata": {},
   "outputs": [],
   "source": []
  },
  {
   "cell_type": "markdown",
   "metadata": {
    "jupyter": {
     "source_hidden": true
    }
   },
   "source": [
    "equipdf.columns = ['railroad_company', \n",
    "                   'accident_type', \n",
    "                   'state', \n",
    "                   'temp', \n",
    "                   'visibility',\n",
    "                   'weather', \n",
    "                   'train_speed', \n",
    "                   'train_direction',\n",
    "                   'train_weight', \n",
    "                   'train_type',\n",
    "                   'track_type', \n",
    "                   'front_engines', \n",
    "                   'loadfrght_cars',\n",
    "                   'loadpass_cars', \n",
    "                   'emptyfrght_cars',\n",
    "                   'emptypass_cars', \n",
    "                   'equip_damage',\n",
    "                   'track_damage', \n",
    "                   'cause',\n",
    "                   'caskldrr',\n",
    "                   'casinjrr', \n",
    "                   'total_killed', \n",
    "                   'total_injured', \n",
    "                   'max_speed', \n",
    "                   'total_damage', \n",
    "                   'engineers_onduty',\n",
    "                   'conductors_onduty', \n",
    "                   'brakemen_onduty', \n",
    "                   'region', \n",
    "                   'typrr', \n",
    "                   'rremp_killed',\n",
    "                   'rremp_injured',\n",
    "                   'passengers_killed',\n",
    "                   'passengers_injured',\n",
    "                   'passtrn', \n",
    "                   'lat', \n",
    "                   'long', \n",
    "                   'signal_type',\n",
    "                   'date']"
   ]
  },
  {
   "cell_type": "code",
   "execution_count": null,
   "metadata": {},
   "outputs": [],
   "source": []
  },
  {
   "cell_type": "code",
   "execution_count": null,
   "metadata": {},
   "outputs": [],
   "source": []
  },
  {
   "cell_type": "markdown",
   "metadata": {},
   "source": [
    "['AMTRAK','RAILROAD','INCDTNO','YEAR','MONTH','DAY','TIMEHR','TIMEMIN','AMPM','STATION','COUNTY','STATE','REGION','CITY',\n",
    " 'VEHSPD','TYPVEH','VEHDIR','POSITION','TYPACC','HAZARD','TEMP','VISIBLTY','WEATHER','TYPEQ','TYPTRK','NBRLOCOS','NBRCARS',\n",
    " 'TRNSPD','TRNDIR','LOCWARN','WARNSIG','LIGHTS','STANDVEH','TRAIN2','MOTORIST','VIEW','VEHDMG','DRIVER','INVEH','TOTKLD',\n",
    " 'TOTINJ','TOTOCC','CASKLDRR','PUBLIC','CNTYCD','STCNTY','HZMRLSED','HZMNAME','HZMQNTY','WHISBAN','DRIVAGE','DRIVGEN',\n",
    " 'PLEONTRN','USERKLD','USERINJ','RREMPKLD','RREMPINJ','PASSKLD','PASSINJ','ROADCOND']"
   ]
  },
  {
   "cell_type": "code",
   "execution_count": null,
   "metadata": {},
   "outputs": [],
   "source": []
  },
  {
   "cell_type": "code",
   "execution_count": null,
   "metadata": {},
   "outputs": [],
   "source": [
    "def min_reduce_hwy_cols(df):\n",
    "    '''\n",
    "    This function takes in the hwy/rail data frame and drops columns:\n",
    "        - With 80% of null values\n",
    "        - Features not inlcuded in this analyis\n",
    "        - Duplicated information columns\n",
    "\n",
    "    It returns a single dataframe\n",
    "    '''\n",
    "    #Define threshold\n",
    "    threshold = len(df) * 0.80\n",
    "    \n",
    "    #Drop cols with 80% or more missing values\n",
    "    df = df.dropna(axis=1, thresh=threshold)\n",
    "\n",
    "    df = df[['RAILROAD','INCDTNO','YEAR','MONTH','DAY','TIMEHR','TIMEMIN','AMPM','STATION','COUNTY','STATE','REGION','CITY',\n",
    " 'VEHSPD','TYPVEH','VEHDIR','POSITION','TYPACC','HAZARD','TEMP','VISIBLTY','WEATHER','TYPEQ','TYPTRK','NBRLOCOS','NBRCARS',\n",
    " 'TRNSPD','TRNDIR','LOCWARN','WARNSIG','LIGHTS','STANDVEH','TRAIN2','MOTORIST','VIEW','VEHDMG','DRIVER','INVEH','TOTKLD',\n",
    " 'TOTINJ','TOTOCC','PUBLIC','CNTYCD','WHISBAN','DRIVAGE','DRIVGEN',\n",
    " 'PLEONTRN','USERKLD','USERINJ','RREMPKLD','RREMPINJ','PASSKLD','PASSINJ','ROADCOND']]\n",
    "\n",
    "    return df"
   ]
  },
  {
   "cell_type": "code",
   "execution_count": null,
   "metadata": {},
   "outputs": [],
   "source": [
    "hwydf = min_reduce_hwy_cols(hwydf)"
   ]
  },
  {
   "cell_type": "code",
   "execution_count": null,
   "metadata": {},
   "outputs": [],
   "source": [
    "missing_zero_values_table(hwydf)"
   ]
  },
  {
   "cell_type": "code",
   "execution_count": null,
   "metadata": {},
   "outputs": [],
   "source": [
    "def max_reduce_hwy_cols(df):\n",
    "    '''\n",
    "    This function takes in the equipemnet rail data frame and drops collumns:\n",
    "        - With 60% of null values\n",
    "        - Features not inlcuded in this analyis\n",
    "        - Duplicated information columns\n",
    "\n",
    "    It returns a single dataframe\n",
    "    '''\n",
    "    #Define threshold\n",
    "    threshold = len(df) * 0.60\n",
    "    \n",
    "    #Drop cols with 80% or more missing values\n",
    "    df = df.dropna(axis=1, thresh=threshold)\n",
    "\n",
    "    df = df[['RAILROAD','INCDTNO','YEAR','MONTH','DAY','TIMEHR','TIMEMIN','AMPM','STATION','COUNTY','STATE','REGION','CITY',\n",
    " 'VEHSPD','TYPVEH','VEHDIR','POSITION','TYPACC','HAZARD','TEMP','VISIBLTY','WEATHER','TYPEQ','TYPTRK','NBRLOCOS','NBRCARS',\n",
    " 'TRNSPD','TRNDIR','LOCWARN','WARNSIG','LIGHTS','STANDVEH','TRAIN2','MOTORIST','VIEW','VEHDMG','DRIVER','INVEH','TOTKLD',\n",
    " 'TOTINJ','TOTOCC','PUBLIC','CNTYCD','WHISBAN','DRIVAGE','DRIVGEN',\n",
    " 'PLEONTRN','USERKLD','USERINJ','RREMPKLD','RREMPINJ','PASSKLD','PASSINJ','ROADCOND']]\n",
    "\n",
    "    return df"
   ]
  },
  {
   "cell_type": "code",
   "execution_count": null,
   "metadata": {},
   "outputs": [],
   "source": [
    "hwydf = max_reduce_hwy_cols(hwydf)"
   ]
  },
  {
   "cell_type": "code",
   "execution_count": null,
   "metadata": {},
   "outputs": [],
   "source": [
    "hwydf.columns.shape"
   ]
  },
  {
   "cell_type": "code",
   "execution_count": null,
   "metadata": {},
   "outputs": [],
   "source": [
    "def concat_date_time(df):\n",
    "    '''\n",
    "    This function takes in the equip rail data frame and:\n",
    "    - Concatenates the date time values as a datetime object\n",
    "    - Drops the original columns for date and time\n",
    "        \n",
    "    It returns a single dataframe\n",
    "    \n",
    "    '''\n",
    "    \n",
    "    #Concatenate datetime columns\n",
    "    df['date'] = pd.to_datetime(df.MONTH.astype(str)+' '+df.DAY.astype(str)+' '+df.YEAR.astype(str)+' '+df.TIMEHR.astype(str)+':'+df.TIMEMIN.astype(str)+' '+df.AMPM.astype(str))\n",
    "    \n",
    "    #Drop original date time columns\n",
    "    df.drop(columns={'YEAR', 'MONTH', 'DAY', 'TIMEHR', 'TIMEMIN', 'AMPM'}, inplace=True)\n",
    "    \n",
    "    return df"
   ]
  },
  {
   "cell_type": "code",
   "execution_count": null,
   "metadata": {},
   "outputs": [],
   "source": [
    "hwydf = concat_date_time(hwydf)"
   ]
  },
  {
   "cell_type": "code",
   "execution_count": null,
   "metadata": {},
   "outputs": [],
   "source": [
    "hwydf.shape"
   ]
  },
  {
   "cell_type": "code",
   "execution_count": null,
   "metadata": {},
   "outputs": [],
   "source": [
    "def general_hwy_clean(df):\n",
    "    '''\n",
    "    This function takes in the equip df and prepares it for analysis by:\n",
    "        - lowercasing all column titles\n",
    "        - convert lat and long to string dtypes\n",
    "        -\n",
    "\n",
    "    It returns a single dataframe\n",
    "        \n",
    "    '''\n",
    "    #lowecase all column titles\n",
    "    df.columns= df.columns.str.lower()\n",
    "\n",
    "    #Drop null values\n",
    "    #drop null values\n",
    "    df = df.dropna(axis=0)\n",
    "\n",
    "    return df"
   ]
  },
  {
   "cell_type": "code",
   "execution_count": null,
   "metadata": {},
   "outputs": [],
   "source": [
    "hwydf = general_hwy_clean(hwydf)"
   ]
  },
  {
   "cell_type": "code",
   "execution_count": null,
   "metadata": {},
   "outputs": [],
   "source": [
    "hwydf.shape"
   ]
  },
  {
   "cell_type": "code",
   "execution_count": null,
   "metadata": {},
   "outputs": [],
   "source": [
    "def set_hwy_index(df):\n",
    "    '''\n",
    "    This function takes in the equipment dataframe and sets the index\n",
    "    to the unique incident number after first dropping the observations\n",
    "    with duplicate incident numbers\n",
    "    '''\n",
    "\n",
    "    #Filters out observations with unique incident numbers \n",
    "    counts = df['incdtno'].value_counts()\n",
    "    df = df[~df['incdtno'].isin(counts[counts > 1].index)]\n",
    "\n",
    "    #set the index\n",
    "    df.set_index('incdtno', drop=True, inplace=True)\n",
    "\n",
    "    return df\n"
   ]
  },
  {
   "cell_type": "code",
   "execution_count": null,
   "metadata": {},
   "outputs": [],
   "source": [
    "hwydf = set_hwy_index(hwydf)"
   ]
  },
  {
   "cell_type": "code",
   "execution_count": null,
   "metadata": {},
   "outputs": [],
   "source": [
    "hwydf.shape"
   ]
  },
  {
   "cell_type": "code",
   "execution_count": null,
   "metadata": {},
   "outputs": [],
   "source": [
    "hwydf.columns.to_list()"
   ]
  },
  {
   "cell_type": "code",
   "execution_count": null,
   "metadata": {},
   "outputs": [],
   "source": [
    "def rename_hwy_columns(df):\n",
    "    \n",
    "    '''\n",
    "    This function will rename the columns. Only run after max_reduce, concat_date_time, general_equip_clean,\n",
    "    and set_equip_index\n",
    "    \n",
    "    '''  \n",
    "    \n",
    "    #rename columns\n",
    "    \n",
    "    df.columns = ['railroad_company',\n",
    "                  'station',\n",
    "                  'county',\n",
    "                  'state',\n",
    "                  'region',\n",
    "                  'city',\n",
    "                  'vehicle_speed',\n",
    "                  'vehicle_type',\n",
    "                  'vehicle_direction',\n",
    "                  'position',\n",
    "                  'accident_type',\n",
    "                  'hazmat_entity',\n",
    "                  'temp',\n",
    "                  'visibility',\n",
    "                  'weather',\n",
    "                  'train_type',\n",
    "                  'track_type',\n",
    "                  'front_engines',\n",
    "                  'railcar_quantity',\n",
    "                  'train_speed',\n",
    "                  'train_direction',\n",
    "                  'warning_location',\n",
    "                  'warning_signal',\n",
    "                  'lights',\n",
    "                  'standveh',\n",
    "                  'other_train',\n",
    "                  'motorist_action',\n",
    "                  'view_obstruction',\n",
    "                  'vehicle_damage',\n",
    "                  'driver_fate',\n",
    "                  'vehicle_occupied',\n",
    "                  'total_killed',\n",
    "                  'total_injured',\n",
    "                  'vehicle_occupants',\n",
    "                  'ispublic_crossing',\n",
    "                  'fips',\n",
    "                  'whistle_ban',\n",
    "                  'driver_age',\n",
    "                  'driver_gender',\n",
    "                  'train_occupants',\n",
    "                  'user_killed',\n",
    "                  'user_injured',\n",
    "                  'rail_killed',\n",
    "                  'rail_injured',\n",
    "                  'train_pass_killed',\n",
    "                  'train_pass_injured',\n",
    "                  'road_condtions',\n",
    "                  'date']\n",
    "    \n",
    "    return df"
   ]
  },
  {
   "cell_type": "code",
   "execution_count": null,
   "metadata": {},
   "outputs": [],
   "source": []
  },
  {
   "cell_type": "code",
   "execution_count": null,
   "metadata": {},
   "outputs": [],
   "source": [
    "def prep_hwy_df(df):\n",
    "    '''\n",
    "    This function takes in the equipment rail data frame\n",
    "    and applies the prepare and cleaning functions to it so that it is ready\n",
    "    for analysis.\n",
    "\n",
    "    It returns a single dataframe\n",
    "    '''\n",
    "\n",
    "    #Reduce columns\n",
    "    df = max_reduce_hwy_cols(df)\n",
    "\n",
    "    #Deal with date time columsn\n",
    "    df = concat_date_time(df)\n",
    "\n",
    "    #general cleaning\n",
    "    df = general_hwy_clean(df)\n",
    "\n",
    "    #set the index\n",
    "    df = set_hwy_index(df)\n",
    "\n",
    "    #rename columns\n",
    "    df = rename_hwy_columns(df)\n",
    "    \n",
    "    return df\n"
   ]
  },
  {
   "cell_type": "code",
   "execution_count": 3,
   "metadata": {},
   "outputs": [],
   "source": [
    "hwydf = prep_hwy_df(hwydf)"
   ]
  },
  {
   "cell_type": "code",
   "execution_count": 4,
   "metadata": {},
   "outputs": [
    {
     "data": {
      "text/plain": [
       "(12181, 48)"
      ]
     },
     "execution_count": 4,
     "metadata": {},
     "output_type": "execute_result"
    }
   ],
   "source": [
    "hwydf.shape"
   ]
  },
  {
   "cell_type": "code",
   "execution_count": 5,
   "metadata": {},
   "outputs": [
    {
     "data": {
      "text/plain": [
       "UP      2959\n",
       "CSX     2825\n",
       "NS      2715\n",
       "BNSF    2274\n",
       "ATK      956\n",
       "KCS      452\n",
       "Name: railroad_company, dtype: int64"
      ]
     },
     "execution_count": 5,
     "metadata": {},
     "output_type": "execute_result"
    }
   ],
   "source": [
    "hwydf.railroad_company.value_counts()"
   ]
  },
  {
   "cell_type": "code",
   "execution_count": null,
   "metadata": {},
   "outputs": [],
   "source": [
    "['railroad_company','station','county','state','region','city',\n",
    " 'vehicle_speed','vehicle_type','vehicle_direction','position','accident_type','hazmat_entity','temp','visibility','weather','train_type','track_type',\n",
    " 'front_engines','railcar_quantity','train_speed','train_direction','warning_location','warning_signal','lights','standveh','other_train','motorist_action',\n",
    " 'view_obstruction','vehicle_damage','driver_fate','vehicle_occupied','total_killed','total_injured','vehicle_occupants', 'ispublic_crossing','fips','whistle_ban',\n",
    " 'driver_age','driver_gender','train_occupants','user_killed','user_injured','rail_killed','rail_injured','train_pass_killed','train_pass_injured','road_condtions']"
   ]
  },
  {
   "cell_type": "code",
   "execution_count": null,
   "metadata": {},
   "outputs": [],
   "source": [
    "hwydf.columns.to_list()"
   ]
  },
  {
   "cell_type": "code",
   "execution_count": null,
   "metadata": {},
   "outputs": [],
   "source": [
    " "
   ]
  },
  {
   "cell_type": "code",
   "execution_count": null,
   "metadata": {},
   "outputs": [],
   "source": []
  }
 ],
 "metadata": {
  "kernelspec": {
   "display_name": "Python 3",
   "language": "python",
   "name": "python3"
  },
  "language_info": {
   "codemirror_mode": {
    "name": "ipython",
    "version": 3
   },
   "file_extension": ".py",
   "mimetype": "text/x-python",
   "name": "python",
   "nbconvert_exporter": "python",
   "pygments_lexer": "ipython3",
   "version": "3.8.5"
  }
 },
 "nbformat": 4,
 "nbformat_minor": 4
}

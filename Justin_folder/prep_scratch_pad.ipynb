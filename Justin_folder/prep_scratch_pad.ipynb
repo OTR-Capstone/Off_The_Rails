{
 "cells": [
  {
   "cell_type": "markdown",
   "metadata": {},
   "source": [
    "# Justin's Scratchpad for Data Preparation"
   ]
  },
  {
   "cell_type": "code",
   "execution_count": 2,
   "metadata": {},
   "outputs": [],
   "source": [
    "import pandas as pd\n",
    "\n",
    "import os\n",
    "import sys\n",
    "import acquire"
   ]
  },
  {
   "cell_type": "code",
   "execution_count": 3,
   "metadata": {},
   "outputs": [
    {
     "data": {
      "text/html": [
       "<div>\n",
       "<style scoped>\n",
       "    .dataframe tbody tr th:only-of-type {\n",
       "        vertical-align: middle;\n",
       "    }\n",
       "\n",
       "    .dataframe tbody tr th {\n",
       "        vertical-align: top;\n",
       "    }\n",
       "\n",
       "    .dataframe thead th {\n",
       "        text-align: right;\n",
       "    }\n",
       "</style>\n",
       "<table border=\"1\" class=\"dataframe\">\n",
       "  <thead>\n",
       "    <tr style=\"text-align: right;\">\n",
       "      <th></th>\n",
       "      <th>IYR</th>\n",
       "      <th>IMO</th>\n",
       "      <th>RAILROAD</th>\n",
       "      <th>INCDTNO</th>\n",
       "      <th>IYR2</th>\n",
       "      <th>IMO2</th>\n",
       "      <th>RR2</th>\n",
       "      <th>INCDTNO2</th>\n",
       "      <th>IYR3</th>\n",
       "      <th>IMO3</th>\n",
       "      <th>...</th>\n",
       "      <th>RCL</th>\n",
       "      <th>Latitude</th>\n",
       "      <th>Longitud</th>\n",
       "      <th>SIGNAL</th>\n",
       "      <th>MOPERA</th>\n",
       "      <th>ADJUNCT1</th>\n",
       "      <th>ADJUNCT2</th>\n",
       "      <th>ADJUNCT3</th>\n",
       "      <th>SUBDIV</th>\n",
       "      <th>Unnamed: 145</th>\n",
       "    </tr>\n",
       "  </thead>\n",
       "  <tbody>\n",
       "    <tr>\n",
       "      <th>0</th>\n",
       "      <td>12</td>\n",
       "      <td>5</td>\n",
       "      <td>BNSF</td>\n",
       "      <td>GC0512102</td>\n",
       "      <td>NaN</td>\n",
       "      <td>NaN</td>\n",
       "      <td>NaN</td>\n",
       "      <td>NaN</td>\n",
       "      <td>12</td>\n",
       "      <td>5</td>\n",
       "      <td>...</td>\n",
       "      <td>0.0</td>\n",
       "      <td>29.755900</td>\n",
       "      <td>-95.293100</td>\n",
       "      <td>1</td>\n",
       "      <td>1</td>\n",
       "      <td>G</td>\n",
       "      <td>NaN</td>\n",
       "      <td>NaN</td>\n",
       "      <td>NORTH SHORE</td>\n",
       "      <td>NaN</td>\n",
       "    </tr>\n",
       "    <tr>\n",
       "      <th>1</th>\n",
       "      <td>12</td>\n",
       "      <td>5</td>\n",
       "      <td>BNSF</td>\n",
       "      <td>GC0512105</td>\n",
       "      <td>NaN</td>\n",
       "      <td>NaN</td>\n",
       "      <td>NaN</td>\n",
       "      <td>NaN</td>\n",
       "      <td>12</td>\n",
       "      <td>5</td>\n",
       "      <td>...</td>\n",
       "      <td>0.0</td>\n",
       "      <td>29.500571</td>\n",
       "      <td>-95.597089</td>\n",
       "      <td>2</td>\n",
       "      <td>5</td>\n",
       "      <td>Z</td>\n",
       "      <td>NaN</td>\n",
       "      <td>NaN</td>\n",
       "      <td>GALVESTON</td>\n",
       "      <td>NaN</td>\n",
       "    </tr>\n",
       "    <tr>\n",
       "      <th>2</th>\n",
       "      <td>12</td>\n",
       "      <td>2</td>\n",
       "      <td>NS</td>\n",
       "      <td>98074</td>\n",
       "      <td>12.0</td>\n",
       "      <td>2.0</td>\n",
       "      <td>CSX</td>\n",
       "      <td>100906</td>\n",
       "      <td>12</td>\n",
       "      <td>2</td>\n",
       "      <td>...</td>\n",
       "      <td>NaN</td>\n",
       "      <td>34.612981</td>\n",
       "      <td>-86.988133</td>\n",
       "      <td>1</td>\n",
       "      <td>1</td>\n",
       "      <td>B</td>\n",
       "      <td>NaN</td>\n",
       "      <td>NaN</td>\n",
       "      <td>ALABAMA</td>\n",
       "      <td>NaN</td>\n",
       "    </tr>\n",
       "    <tr>\n",
       "      <th>3</th>\n",
       "      <td>12</td>\n",
       "      <td>5</td>\n",
       "      <td>BNSF</td>\n",
       "      <td>GC0512106</td>\n",
       "      <td>NaN</td>\n",
       "      <td>NaN</td>\n",
       "      <td>NaN</td>\n",
       "      <td>NaN</td>\n",
       "      <td>12</td>\n",
       "      <td>5</td>\n",
       "      <td>...</td>\n",
       "      <td>0.0</td>\n",
       "      <td>31.446576</td>\n",
       "      <td>-96.207606</td>\n",
       "      <td>2</td>\n",
       "      <td>5</td>\n",
       "      <td>Z</td>\n",
       "      <td>NaN</td>\n",
       "      <td>NaN</td>\n",
       "      <td>HOUSTON</td>\n",
       "      <td>NaN</td>\n",
       "    </tr>\n",
       "    <tr>\n",
       "      <th>4</th>\n",
       "      <td>12</td>\n",
       "      <td>5</td>\n",
       "      <td>BNSF</td>\n",
       "      <td>GC0512112</td>\n",
       "      <td>NaN</td>\n",
       "      <td>NaN</td>\n",
       "      <td>NaN</td>\n",
       "      <td>NaN</td>\n",
       "      <td>12</td>\n",
       "      <td>5</td>\n",
       "      <td>...</td>\n",
       "      <td>0.0</td>\n",
       "      <td>29.772155</td>\n",
       "      <td>-95.384013</td>\n",
       "      <td>2</td>\n",
       "      <td>5</td>\n",
       "      <td>Z</td>\n",
       "      <td>NaN</td>\n",
       "      <td>NaN</td>\n",
       "      <td>HOUSTON</td>\n",
       "      <td>NaN</td>\n",
       "    </tr>\n",
       "  </tbody>\n",
       "</table>\n",
       "<p>5 rows × 146 columns</p>\n",
       "</div>"
      ],
      "text/plain": [
       "   IYR  IMO RAILROAD    INCDTNO  IYR2  IMO2  RR2 INCDTNO2  IYR3  IMO3  ...  \\\n",
       "0   12    5     BNSF  GC0512102   NaN   NaN  NaN      NaN    12     5  ...   \n",
       "1   12    5     BNSF  GC0512105   NaN   NaN  NaN      NaN    12     5  ...   \n",
       "2   12    2       NS      98074  12.0   2.0  CSX   100906    12     2  ...   \n",
       "3   12    5     BNSF  GC0512106   NaN   NaN  NaN      NaN    12     5  ...   \n",
       "4   12    5     BNSF  GC0512112   NaN   NaN  NaN      NaN    12     5  ...   \n",
       "\n",
       "   RCL   Latitude   Longitud SIGNAL  MOPERA  ADJUNCT1  ADJUNCT2  ADJUNCT3  \\\n",
       "0  0.0  29.755900 -95.293100      1       1         G       NaN       NaN   \n",
       "1  0.0  29.500571 -95.597089      2       5         Z       NaN       NaN   \n",
       "2  NaN  34.612981 -86.988133      1       1         B       NaN       NaN   \n",
       "3  0.0  31.446576 -96.207606      2       5         Z       NaN       NaN   \n",
       "4  0.0  29.772155 -95.384013      2       5         Z       NaN       NaN   \n",
       "\n",
       "        SUBDIV Unnamed: 145  \n",
       "0  NORTH SHORE          NaN  \n",
       "1    GALVESTON          NaN  \n",
       "2      ALABAMA          NaN  \n",
       "3      HOUSTON          NaN  \n",
       "4      HOUSTON          NaN  \n",
       "\n",
       "[5 rows x 146 columns]"
      ]
     },
     "execution_count": 3,
     "metadata": {},
     "output_type": "execute_result"
    }
   ],
   "source": [
    "df = acquire.get_equiprail()\n",
    "df.head()"
   ]
  },
  {
   "cell_type": "code",
   "execution_count": 4,
   "metadata": {},
   "outputs": [
    {
     "name": "stdout",
     "output_type": "stream",
     "text": [
      "The total cost of damages from US Equipment Rail Accidents for the last 8 years is $3523216853\n"
     ]
    }
   ],
   "source": [
    "total_damages = df.ACCDMG.sum()\n",
    "print(f'The total cost of damages from US Equipment Rail Accidents for the last 8 years is ${total_damages}')"
   ]
  },
  {
   "cell_type": "code",
   "execution_count": 5,
   "metadata": {},
   "outputs": [
    {
     "name": "stdout",
     "output_type": "stream",
     "text": [
      "The total number of injuries from US Equipment Rail Accidents for the last 8 years is 4460\n"
     ]
    }
   ],
   "source": [
    "total_injuries = df.TOTINJ.sum()\n",
    "print(f'The total number of injuries from US Equipment Rail Accidents for the last 8 years is {total_injuries}')"
   ]
  },
  {
   "cell_type": "code",
   "execution_count": 6,
   "metadata": {},
   "outputs": [
    {
     "name": "stdout",
     "output_type": "stream",
     "text": [
      "The total number of deaths from US Equipment Rail Accidents for the last 8 years is 432\n"
     ]
    }
   ],
   "source": [
    "total_deaths = df.TOTKLD.sum()\n",
    "print(f'The total number of deaths from US Equipment Rail Accidents for the last 8 years is {total_deaths}')"
   ]
  },
  {
   "cell_type": "code",
   "execution_count": null,
   "metadata": {},
   "outputs": [],
   "source": [
    "#'IYR','IMO','RAILROAD', 'RR2', 'RR3','YEAR','MONTH','DAY','TIMEHR','TIMEMIN',\n",
    "#'AMPM','TYPE','CARS','CARSDMG','CARSHZD','EVACUATE', 'STATION', 'STATE','TEMP','VISIBLTY','WEATHER', 'TRNSPD',"
   ]
  },
  {
   "cell_type": "code",
   "execution_count": null,
   "metadata": {},
   "outputs": [],
   "source": [
    "# Drop columns based on threshold limit\n",
    "#threshold = len(df) * 0.80\n",
    "#df_thresh=df.dropna(axis=1, thresh=threshold)\n",
    "# View columns in the dataset\n",
    "#df_thresh.shape"
   ]
  },
  {
   "cell_type": "code",
   "execution_count": null,
   "metadata": {},
   "outputs": [],
   "source": [
    "#df = df.dropna(axis=1, thresh=threshold)"
   ]
  },
  {
   "cell_type": "code",
   "execution_count": null,
   "metadata": {},
   "outputs": [],
   "source": [
    "#df = df.dropna(axis=0)"
   ]
  },
  {
   "cell_type": "code",
   "execution_count": null,
   "metadata": {},
   "outputs": [],
   "source": [
    "#df = df[['IYR','IMO','RAILROAD','YEAR','MONTH','DAY','TIMEHR','TIMEMIN','AMPM','TYPE','STATE','TEMP','VISIBLTY','WEATHER',\n",
    "'TRNSPD','TYPSPD','TRNNBR','TRNDIR','TONS','TYPEQ','TRKNAME','TYPTRK','HEADEND1','LOADF1','LOADP1','EMPTYF1',\n",
    "'EMPTYP1','EQPDMG','TRKDMG','CAUSE','CASKLDRR','CASINJRR','CASKLD','CASINJ','HIGHSPD','ACCDMG','STCNTY','TOTINJ',\n",
    "'TOTKLD','ENGRS','FIREMEN','CONDUCTR','BRAKEMEN','REGION','TYPRR','NARRLEN','RREMPKLD','RREMPINJ','PASSKLD','PASSINJ',\n",
    "'OTHERKLD','OTHERINJ','COUNTY','CNTYCD','PASSTRN','SSB1','NARR1','NARR2','Latitude','Longitud','SIGNAL']]\n",
    "#df.shape"
   ]
  },
  {
   "cell_type": "code",
   "execution_count": null,
   "metadata": {},
   "outputs": [],
   "source": [
    "#df.head()"
   ]
  },
  {
   "cell_type": "code",
   "execution_count": null,
   "metadata": {},
   "outputs": [],
   "source": [
    "df = prepare.reduce_equip_cols"
   ]
  },
  {
   "cell_type": "code",
   "execution_count": null,
   "metadata": {},
   "outputs": [],
   "source": [
    "#df['date'] = pd.to_datetime(df.MONTH.astype(str)+' '+df.DAY.astype(str)+' '+df.YEAR.astype(str)+' '+df.TIMEHR.astype(str)+':'+df.TIMEMIN.astype(str)+' '+df.AMPM.astype(str))"
   ]
  },
  {
   "cell_type": "code",
   "execution_count": null,
   "metadata": {},
   "outputs": [],
   "source": [
    "def concat_date_time(df):\n",
    "    '''\n",
    "    This function takes in the equip rail data frame and:\n",
    "        - Concatenates the date time values as a datetime object\n",
    "        - Drops the original columns for date and time\n",
    "        \n",
    "    It returns a single dataframe\n",
    "    \n",
    "    '''\n",
    "    \n",
    "    #Concatenate datetime columns\n",
    "    df['date'] = pd.to_datetime(df.MONTH.astype(str)+' '+df.DAY.astype(str)+' '+df.YEAR.astype(str)+' '+df.TIMEHR.astype(str)+':'+df.TIMEMIN.astype(str)+' '+df.AMPM.astype(str))\n",
    "    \n",
    "    #Drop original date time columns\n",
    "    df.drop(columns={'YEAR', 'MONTH', 'DAY', 'TIMEHR', 'TIMEMIN', 'AMPM'}, inplace=True)\n",
    "    \n",
    "    return df\n",
    "    "
   ]
  },
  {
   "cell_type": "code",
   "execution_count": null,
   "metadata": {},
   "outputs": [],
   "source": [
    "df = concat_date_time(df)\n",
    "df.shape"
   ]
  },
  {
   "cell_type": "markdown",
   "metadata": {},
   "source": [
    "---"
   ]
  },
  {
   "cell_type": "code",
   "execution_count": 7,
   "metadata": {},
   "outputs": [
    {
     "data": {
      "text/html": [
       "<div>\n",
       "<style scoped>\n",
       "    .dataframe tbody tr th:only-of-type {\n",
       "        vertical-align: middle;\n",
       "    }\n",
       "\n",
       "    .dataframe tbody tr th {\n",
       "        vertical-align: top;\n",
       "    }\n",
       "\n",
       "    .dataframe thead th {\n",
       "        text-align: right;\n",
       "    }\n",
       "</style>\n",
       "<table border=\"1\" class=\"dataframe\">\n",
       "  <thead>\n",
       "    <tr style=\"text-align: right;\">\n",
       "      <th></th>\n",
       "      <th>AMTRAK</th>\n",
       "      <th>IYR</th>\n",
       "      <th>IMO</th>\n",
       "      <th>RAILROAD</th>\n",
       "      <th>INCDTNO</th>\n",
       "      <th>IYR2</th>\n",
       "      <th>IMO2</th>\n",
       "      <th>RR2</th>\n",
       "      <th>INCDTNO2</th>\n",
       "      <th>IYR3</th>\n",
       "      <th>...</th>\n",
       "      <th>NARR1</th>\n",
       "      <th>NARR2</th>\n",
       "      <th>NARR3</th>\n",
       "      <th>NARR4</th>\n",
       "      <th>NARR5</th>\n",
       "      <th>SUBDIV</th>\n",
       "      <th>ROADCOND</th>\n",
       "      <th>VIDEOT</th>\n",
       "      <th>VIDEOU</th>\n",
       "      <th>Unnamed: 103</th>\n",
       "    </tr>\n",
       "  </thead>\n",
       "  <tbody>\n",
       "    <tr>\n",
       "      <th>0</th>\n",
       "      <td>NaN</td>\n",
       "      <td>12</td>\n",
       "      <td>3</td>\n",
       "      <td>UP</td>\n",
       "      <td>0312RS009</td>\n",
       "      <td>NaN</td>\n",
       "      <td>NaN</td>\n",
       "      <td></td>\n",
       "      <td></td>\n",
       "      <td>12.0</td>\n",
       "      <td>...</td>\n",
       "      <td>HIEHWAY USER'S ACTIONS: STOPPED ON CROSSING ( ...</td>\n",
       "      <td>NaN</td>\n",
       "      <td>NaN</td>\n",
       "      <td>NaN</td>\n",
       "      <td>NaN</td>\n",
       "      <td>WOODBRIDGE</td>\n",
       "      <td>B</td>\n",
       "      <td>1</td>\n",
       "      <td>2</td>\n",
       "      <td>NaN</td>\n",
       "    </tr>\n",
       "    <tr>\n",
       "      <th>1</th>\n",
       "      <td>NaN</td>\n",
       "      <td>12</td>\n",
       "      <td>3</td>\n",
       "      <td>UP</td>\n",
       "      <td>0312RS025</td>\n",
       "      <td>NaN</td>\n",
       "      <td>NaN</td>\n",
       "      <td></td>\n",
       "      <td></td>\n",
       "      <td>12.0</td>\n",
       "      <td>...</td>\n",
       "      <td>HIGHWAY USER'S ACTIONS: STOPPED ON CROSSING ( ...</td>\n",
       "      <td>D LEFT THE SCENE.</td>\n",
       "      <td>NaN</td>\n",
       "      <td>NaN</td>\n",
       "      <td>NaN</td>\n",
       "      <td>FRESNO SUB</td>\n",
       "      <td>A</td>\n",
       "      <td>1</td>\n",
       "      <td>2</td>\n",
       "      <td>NaN</td>\n",
       "    </tr>\n",
       "    <tr>\n",
       "      <th>2</th>\n",
       "      <td>NaN</td>\n",
       "      <td>12</td>\n",
       "      <td>10</td>\n",
       "      <td>BNSF</td>\n",
       "      <td>CA1012201</td>\n",
       "      <td>NaN</td>\n",
       "      <td>NaN</td>\n",
       "      <td></td>\n",
       "      <td></td>\n",
       "      <td>12.0</td>\n",
       "      <td>...</td>\n",
       "      <td>DRIVER AGE UNKNOW.  41: ABANDONED VEHICLE</td>\n",
       "      <td>NaN</td>\n",
       "      <td>NaN</td>\n",
       "      <td>NaN</td>\n",
       "      <td>NaN</td>\n",
       "      <td>SAN BERNARDINO</td>\n",
       "      <td>A</td>\n",
       "      <td>1</td>\n",
       "      <td>2</td>\n",
       "      <td>NaN</td>\n",
       "    </tr>\n",
       "    <tr>\n",
       "      <th>3</th>\n",
       "      <td>NaN</td>\n",
       "      <td>12</td>\n",
       "      <td>10</td>\n",
       "      <td>BNSF</td>\n",
       "      <td>CA1012202</td>\n",
       "      <td>NaN</td>\n",
       "      <td>NaN</td>\n",
       "      <td></td>\n",
       "      <td></td>\n",
       "      <td>12.0</td>\n",
       "      <td>...</td>\n",
       "      <td>12/18/12 PER CONTRA COSTA COUNTY CORONERS REPO...</td>\n",
       "      <td>NaN</td>\n",
       "      <td>NaN</td>\n",
       "      <td>NaN</td>\n",
       "      <td>NaN</td>\n",
       "      <td>STOCKTON</td>\n",
       "      <td>A</td>\n",
       "      <td>1</td>\n",
       "      <td>1</td>\n",
       "      <td>NaN</td>\n",
       "    </tr>\n",
       "    <tr>\n",
       "      <th>4</th>\n",
       "      <td>NaN</td>\n",
       "      <td>12</td>\n",
       "      <td>7</td>\n",
       "      <td>BNSF</td>\n",
       "      <td>CA0712201</td>\n",
       "      <td>NaN</td>\n",
       "      <td>NaN</td>\n",
       "      <td></td>\n",
       "      <td></td>\n",
       "      <td>12.0</td>\n",
       "      <td>...</td>\n",
       "      <td>NaN</td>\n",
       "      <td>NaN</td>\n",
       "      <td>NaN</td>\n",
       "      <td>NaN</td>\n",
       "      <td>NaN</td>\n",
       "      <td>STOCKTON</td>\n",
       "      <td>A</td>\n",
       "      <td>1</td>\n",
       "      <td>2</td>\n",
       "      <td>NaN</td>\n",
       "    </tr>\n",
       "  </tbody>\n",
       "</table>\n",
       "<p>5 rows × 104 columns</p>\n",
       "</div>"
      ],
      "text/plain": [
       "  AMTRAK  IYR  IMO RAILROAD    INCDTNO  IYR2  IMO2   RR2    INCDTNO2  IYR3  \\\n",
       "0    NaN   12    3     UP    0312RS009   NaN   NaN                    12.0   \n",
       "1    NaN   12    3     UP    0312RS025   NaN   NaN                    12.0   \n",
       "2    NaN   12   10     BNSF  CA1012201   NaN   NaN                    12.0   \n",
       "3    NaN   12   10     BNSF  CA1012202   NaN   NaN                    12.0   \n",
       "4    NaN   12    7     BNSF  CA0712201   NaN   NaN                    12.0   \n",
       "\n",
       "   ...                                              NARR1              NARR2  \\\n",
       "0  ...  HIEHWAY USER'S ACTIONS: STOPPED ON CROSSING ( ...                NaN   \n",
       "1  ...  HIGHWAY USER'S ACTIONS: STOPPED ON CROSSING ( ...  D LEFT THE SCENE.   \n",
       "2  ...          DRIVER AGE UNKNOW.  41: ABANDONED VEHICLE                NaN   \n",
       "3  ...  12/18/12 PER CONTRA COSTA COUNTY CORONERS REPO...                NaN   \n",
       "4  ...                                                NaN                NaN   \n",
       "\n",
       "  NARR3  NARR4  NARR5                SUBDIV  ROADCOND  VIDEOT  VIDEOU  \\\n",
       "0   NaN    NaN    NaN  WOODBRIDGE                   B       1       2   \n",
       "1   NaN    NaN    NaN  FRESNO SUB                   A       1       2   \n",
       "2   NaN    NaN    NaN  SAN BERNARDINO               A       1       2   \n",
       "3   NaN    NaN    NaN  STOCKTON                     A       1       1   \n",
       "4   NaN    NaN    NaN  STOCKTON                     A       1       2   \n",
       "\n",
       "   Unnamed: 103  \n",
       "0           NaN  \n",
       "1           NaN  \n",
       "2           NaN  \n",
       "3           NaN  \n",
       "4           NaN  \n",
       "\n",
       "[5 rows x 104 columns]"
      ]
     },
     "execution_count": 7,
     "metadata": {},
     "output_type": "execute_result"
    }
   ],
   "source": [
    "df = acquire.get_hwyrail()\n",
    "df.head()"
   ]
  },
  {
   "cell_type": "code",
   "execution_count": 10,
   "metadata": {},
   "outputs": [
    {
     "name": "stdout",
     "output_type": "stream",
     "text": [
      "The total cost of vehical damages from US Equipment Rail Accidents for the last 8 years is $138250253.0\n"
     ]
    }
   ],
   "source": [
    "total_damages = df.VEHDMG.sum()\n",
    "print(f'The total cost of vehical damages from US Equipment Rail Accidents for the last 8 years is ${total_damages}')"
   ]
  },
  {
   "cell_type": "code",
   "execution_count": 11,
   "metadata": {},
   "outputs": [
    {
     "name": "stdout",
     "output_type": "stream",
     "text": [
      "The total number of injuries from US Equipment Rail Accidents for the last 8 years is 7996\n"
     ]
    }
   ],
   "source": [
    "total_injuries = df.TOTINJ.sum()\n",
    "print(f'The total number of injuries from US Equipment Rail Accidents for the last 8 years is {total_injuries}')"
   ]
  },
  {
   "cell_type": "code",
   "execution_count": 12,
   "metadata": {},
   "outputs": [
    {
     "name": "stdout",
     "output_type": "stream",
     "text": [
      "The total number of deaths from US Equipment Rail Accidents for the last 8 years is 2604\n"
     ]
    }
   ],
   "source": [
    "total_deaths = df.TOTKLD.sum()\n",
    "print(f'The total number of deaths from US Equipment Rail Accidents for the last 8 years is {total_deaths}')"
   ]
  },
  {
   "cell_type": "code",
   "execution_count": null,
   "metadata": {},
   "outputs": [],
   "source": []
  }
 ],
 "metadata": {
  "kernelspec": {
   "display_name": "Python 3",
   "language": "python",
   "name": "python3"
  },
  "language_info": {
   "codemirror_mode": {
    "name": "ipython",
    "version": 3
   },
   "file_extension": ".py",
   "mimetype": "text/x-python",
   "name": "python",
   "nbconvert_exporter": "python",
   "pygments_lexer": "ipython3",
   "version": "3.8.5"
  }
 },
 "nbformat": 4,
 "nbformat_minor": 4
}

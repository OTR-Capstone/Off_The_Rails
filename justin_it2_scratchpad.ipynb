{
 "cells": [
  {
   "cell_type": "markdown",
   "metadata": {},
   "source": [
    "# Rail Equip Accidents Iteration 2"
   ]
  },
  {
   "cell_type": "code",
   "execution_count": 1,
   "metadata": {},
   "outputs": [],
   "source": [
    "import warnings\n",
    "warnings.filterwarnings('ignore')\n",
    "\n",
    "import pandas as pd\n",
    "import numpy as np\n",
    "\n",
    "import acquire\n",
    "import prepare\n",
    "import explore\n",
    "import preprocessing\n",
    "\n",
    "#Visualization Imports\n",
    "import matplotlib.pyplot as plt\n",
    "import seaborn as sns\n",
    "\n",
    "from sklearn.model_selection import train_test_split\n",
    "\n",
    "# modeling methods\n",
    "from sklearn.metrics import mean_squared_error, r2_score, explained_variance_score\n",
    "from sklearn.linear_model import LinearRegression, LassoLars, TweedieRegressor\n",
    "from sklearn.preprocessing import PolynomialFeatures, MinMaxScaler\n",
    "from sklearn.model_selection import train_test_split\n",
    "from sklearn.linear_model import LinearRegression\n",
    "from sklearn.feature_selection import SelectKBest, f_regression, RFE \n",
    "import sklearn.preprocessing\n"
   ]
  },
  {
   "cell_type": "code",
   "execution_count": 2,
   "metadata": {},
   "outputs": [
    {
     "data": {
      "text/plain": [
       "(22402, 146)"
      ]
     },
     "execution_count": 2,
     "metadata": {},
     "output_type": "execute_result"
    }
   ],
   "source": [
    "#Acquire the Equipment Rail Data\n",
    "df = acquire.get_equiprail()\n",
    "df.shape"
   ]
  },
  {
   "cell_type": "code",
   "execution_count": 3,
   "metadata": {},
   "outputs": [
    {
     "data": {
      "text/plain": [
       "(10550, 37)"
      ]
     },
     "execution_count": 3,
     "metadata": {},
     "output_type": "execute_result"
    }
   ],
   "source": [
    "#Prepare the Equipment Rail Data\n",
    "df = prepare.prep_equip_df(df)\n",
    "df.shape"
   ]
  },
  {
   "cell_type": "code",
   "execution_count": 4,
   "metadata": {},
   "outputs": [
    {
     "data": {
      "text/html": [
       "<div>\n",
       "<style scoped>\n",
       "    .dataframe tbody tr th:only-of-type {\n",
       "        vertical-align: middle;\n",
       "    }\n",
       "\n",
       "    .dataframe tbody tr th {\n",
       "        vertical-align: top;\n",
       "    }\n",
       "\n",
       "    .dataframe thead th {\n",
       "        text-align: right;\n",
       "    }\n",
       "</style>\n",
       "<table border=\"1\" class=\"dataframe\">\n",
       "  <thead>\n",
       "    <tr style=\"text-align: right;\">\n",
       "      <th></th>\n",
       "      <th>state_fips</th>\n",
       "      <th>railroad_company</th>\n",
       "      <th>accident_type</th>\n",
       "      <th>state_x</th>\n",
       "      <th>temp</th>\n",
       "      <th>visibility</th>\n",
       "      <th>weather</th>\n",
       "      <th>train_speed</th>\n",
       "      <th>train_direction</th>\n",
       "      <th>train_weight</th>\n",
       "      <th>...</th>\n",
       "      <th>region</th>\n",
       "      <th>typrr</th>\n",
       "      <th>lat</th>\n",
       "      <th>long</th>\n",
       "      <th>signal_type</th>\n",
       "      <th>date</th>\n",
       "      <th>season</th>\n",
       "      <th>state_y</th>\n",
       "      <th>state</th>\n",
       "      <th>year</th>\n",
       "    </tr>\n",
       "    <tr>\n",
       "      <th>incdtno</th>\n",
       "      <th></th>\n",
       "      <th></th>\n",
       "      <th></th>\n",
       "      <th></th>\n",
       "      <th></th>\n",
       "      <th></th>\n",
       "      <th></th>\n",
       "      <th></th>\n",
       "      <th></th>\n",
       "      <th></th>\n",
       "      <th></th>\n",
       "      <th></th>\n",
       "      <th></th>\n",
       "      <th></th>\n",
       "      <th></th>\n",
       "      <th></th>\n",
       "      <th></th>\n",
       "      <th></th>\n",
       "      <th></th>\n",
       "      <th></th>\n",
       "      <th></th>\n",
       "    </tr>\n",
       "  </thead>\n",
       "  <tbody>\n",
       "    <tr>\n",
       "      <th>GC0512102</th>\n",
       "      <td>48</td>\n",
       "      <td>BNSF</td>\n",
       "      <td>1</td>\n",
       "      <td>48</td>\n",
       "      <td>84</td>\n",
       "      <td>2</td>\n",
       "      <td>1</td>\n",
       "      <td>10</td>\n",
       "      <td>2.0</td>\n",
       "      <td>9811</td>\n",
       "      <td>...</td>\n",
       "      <td>5</td>\n",
       "      <td>1</td>\n",
       "      <td>29.7559</td>\n",
       "      <td>-95.2931</td>\n",
       "      <td>1</td>\n",
       "      <td>2012-05-05 08:00:00</td>\n",
       "      <td>Spring</td>\n",
       "      <td>54</td>\n",
       "      <td>WV</td>\n",
       "      <td>2012</td>\n",
       "    </tr>\n",
       "    <tr>\n",
       "      <th>GC0512105</th>\n",
       "      <td>48</td>\n",
       "      <td>BNSF</td>\n",
       "      <td>1</td>\n",
       "      <td>48</td>\n",
       "      <td>70</td>\n",
       "      <td>4</td>\n",
       "      <td>3</td>\n",
       "      <td>5</td>\n",
       "      <td>2.0</td>\n",
       "      <td>17157</td>\n",
       "      <td>...</td>\n",
       "      <td>5</td>\n",
       "      <td>1</td>\n",
       "      <td>29.500571</td>\n",
       "      <td>-95.597089</td>\n",
       "      <td>2</td>\n",
       "      <td>2012-05-11 02:25:00</td>\n",
       "      <td>Spring</td>\n",
       "      <td>54</td>\n",
       "      <td>WV</td>\n",
       "      <td>2012</td>\n",
       "    </tr>\n",
       "    <tr>\n",
       "      <th>GC0512106</th>\n",
       "      <td>48</td>\n",
       "      <td>BNSF</td>\n",
       "      <td>1</td>\n",
       "      <td>48</td>\n",
       "      <td>84</td>\n",
       "      <td>2</td>\n",
       "      <td>1</td>\n",
       "      <td>3</td>\n",
       "      <td>2.0</td>\n",
       "      <td>17304</td>\n",
       "      <td>...</td>\n",
       "      <td>5</td>\n",
       "      <td>1</td>\n",
       "      <td>31.446576</td>\n",
       "      <td>-96.20760600000001</td>\n",
       "      <td>2</td>\n",
       "      <td>2012-05-16 15:40:00</td>\n",
       "      <td>Spring</td>\n",
       "      <td>54</td>\n",
       "      <td>WV</td>\n",
       "      <td>2012</td>\n",
       "    </tr>\n",
       "  </tbody>\n",
       "</table>\n",
       "<p>3 rows × 37 columns</p>\n",
       "</div>"
      ],
      "text/plain": [
       "           state_fips railroad_company  accident_type  state_x  temp  \\\n",
       "incdtno                                                                \n",
       "GC0512102          48             BNSF              1       48    84   \n",
       "GC0512105          48             BNSF              1       48    70   \n",
       "GC0512106          48             BNSF              1       48    84   \n",
       "\n",
       "           visibility  weather  train_speed  train_direction  train_weight  \\\n",
       "incdtno                                                                      \n",
       "GC0512102           2        1           10              2.0          9811   \n",
       "GC0512105           4        3            5              2.0         17157   \n",
       "GC0512106           2        1            3              2.0         17304   \n",
       "\n",
       "           ... region  typrr        lat                long  signal_type  \\\n",
       "incdtno    ...                                                             \n",
       "GC0512102  ...      5      1    29.7559            -95.2931            1   \n",
       "GC0512105  ...      5      1  29.500571          -95.597089            2   \n",
       "GC0512106  ...      5      1  31.446576  -96.20760600000001            2   \n",
       "\n",
       "                         date  season  state_y  state  year  \n",
       "incdtno                                                      \n",
       "GC0512102 2012-05-05 08:00:00  Spring       54     WV  2012  \n",
       "GC0512105 2012-05-11 02:25:00  Spring       54     WV  2012  \n",
       "GC0512106 2012-05-16 15:40:00  Spring       54     WV  2012  \n",
       "\n",
       "[3 rows x 37 columns]"
      ]
     },
     "execution_count": 4,
     "metadata": {},
     "output_type": "execute_result"
    }
   ],
   "source": [
    "#View the first few rows\n",
    "df.head(3)"
   ]
  },
  {
   "cell_type": "code",
   "execution_count": 5,
   "metadata": {
    "scrolled": true
   },
   "outputs": [
    {
     "name": "stdout",
     "output_type": "stream",
     "text": [
      "<class 'pandas.core.frame.DataFrame'>\n",
      "Index: 10550 entries, GC0512102 to 137065\n",
      "Data columns (total 37 columns):\n",
      " #   Column             Non-Null Count  Dtype         \n",
      "---  ------             --------------  -----         \n",
      " 0   state_fips         10550 non-null  int64         \n",
      " 1   railroad_company   10550 non-null  object        \n",
      " 2   accident_type      10550 non-null  int64         \n",
      " 3   state_x            10550 non-null  int64         \n",
      " 4   temp               10550 non-null  int64         \n",
      " 5   visibility         10550 non-null  int64         \n",
      " 6   weather            10550 non-null  int64         \n",
      " 7   train_speed        10550 non-null  int64         \n",
      " 8   train_direction    10550 non-null  float64       \n",
      " 9   train_weight       10550 non-null  int64         \n",
      " 10  train_type         10550 non-null  object        \n",
      " 11  track_type         10550 non-null  int64         \n",
      " 12  front_engines      10550 non-null  int64         \n",
      " 13  loadfrght_cars     10550 non-null  int64         \n",
      " 14  loadpass_cars      10550 non-null  int64         \n",
      " 15  emptyfrght_cars    10550 non-null  int64         \n",
      " 16  emptypass_cars     10550 non-null  int64         \n",
      " 17  equip_damage       10550 non-null  int64         \n",
      " 18  track_damage       10550 non-null  int64         \n",
      " 19  cause              10550 non-null  object        \n",
      " 20  total_killed       10550 non-null  int64         \n",
      " 21  total_injured      10550 non-null  int64         \n",
      " 22  max_speed          10550 non-null  int64         \n",
      " 23  total_damage       10550 non-null  int64         \n",
      " 24  engineers_onduty   10550 non-null  float64       \n",
      " 25  conductors_onduty  10550 non-null  float64       \n",
      " 26  brakemen_onduty    10550 non-null  float64       \n",
      " 27  region             10550 non-null  int64         \n",
      " 28  typrr              10550 non-null  object        \n",
      " 29  lat                10550 non-null  object        \n",
      " 30  long               10550 non-null  object        \n",
      " 31  signal_type        10550 non-null  int64         \n",
      " 32  date               10550 non-null  datetime64[ns]\n",
      " 33  season             10550 non-null  object        \n",
      " 34  state_y            10550 non-null  int64         \n",
      " 35  state              10550 non-null  object        \n",
      " 36  year               10550 non-null  int64         \n",
      "dtypes: datetime64[ns](1), float64(4), int64(24), object(8)\n",
      "memory usage: 3.1+ MB\n"
     ]
    }
   ],
   "source": [
    "#Check the info\n",
    "df.info()"
   ]
  },
  {
   "cell_type": "code",
   "execution_count": 6,
   "metadata": {},
   "outputs": [
    {
     "data": {
      "text/plain": [
       "<AxesSubplot:>"
      ]
     },
     "execution_count": 6,
     "metadata": {},
     "output_type": "execute_result"
    },
    {
     "data": {
      "image/png": "[encoded data removed]",
      "text/plain": [
       "<Figure size 432x288 with 1 Axes>"
      ]
     },
     "metadata": {
      "needs_background": "light"
     },
     "output_type": "display_data"
    }
   ],
   "source": [
    "#Explore total damage distribuion...This is the target variable for it2\n",
    "df.total_damage.hist()"
   ]
  },
  {
   "cell_type": "code",
   "execution_count": 7,
   "metadata": {},
   "outputs": [],
   "source": [
    "def outlier_report(df, col_to_check=None):\n",
    "    '''\n",
    "    This function takes in a data frame and returns\n",
    "    print statments stating the upper and lower bound outliers for \n",
    "    each column\n",
    "    '''\n",
    "    \n",
    "    columns_to_check = []\n",
    "    columns_to_check.append(col_to_check)\n",
    "    \n",
    "    for col in columns_to_check:\n",
    "        quartile_01, quartile_03 = np.percentile(df[col], [25, 75])\n",
    "        iqr = quartile_03 - quartile_01\n",
    "    \n",
    "        lower_bound = round(quartile_01 -(2 * iqr), 3)\n",
    "        upper_bound = round(quartile_03 +(2 * iqr), 3)\n",
    "    \n",
    "        #df['outlier'] = df[col].apply(lambda x: outlier_label(x, lower_bound, upper_bound))\n",
    "    \n",
    "\n",
    "        print(f\"The lower and upper bound of the range for '{col}' respectively is: {lower_bound} and {upper_bound}\")"
   ]
  },
  {
   "cell_type": "code",
   "execution_count": 8,
   "metadata": {},
   "outputs": [
    {
     "name": "stdout",
     "output_type": "stream",
     "text": [
      "The lower and upper bound of the range for 'total_damage' respectively is: -123551.0 and 229345.25\n"
     ]
    }
   ],
   "source": [
    "outlier_report(df, 'total_damage')"
   ]
  },
  {
   "cell_type": "code",
   "execution_count": 9,
   "metadata": {},
   "outputs": [
    {
     "data": {
      "text/plain": [
       "(9264, 37)"
      ]
     },
     "execution_count": 9,
     "metadata": {},
     "output_type": "execute_result"
    }
   ],
   "source": [
    "#Return a dataframe with the outliers in total_damage removed\n",
    "er_df = df[df.total_damage < 229345]\n",
    "er_df.shape"
   ]
  },
  {
   "cell_type": "code",
   "execution_count": 10,
   "metadata": {},
   "outputs": [
    {
     "data": {
      "text/plain": [
       "<AxesSubplot:>"
      ]
     },
     "execution_count": 10,
     "metadata": {},
     "output_type": "execute_result"
    },
    {
     "data": {
      "image/png": "[encoded data removed]",
      "text/plain": [
       "<Figure size 432x288 with 1 Axes>"
      ]
     },
     "metadata": {
      "needs_background": "light"
     },
     "output_type": "display_data"
    }
   ],
   "source": [
    "#Check the distribution of total damages after removing outliers\n",
    "er_df.total_damage.hist()"
   ]
  },
  {
   "cell_type": "code",
   "execution_count": 11,
   "metadata": {},
   "outputs": [
    {
     "data": {
      "text/plain": [
       "['railroad_company',\n",
       " 'train_type',\n",
       " 'cause',\n",
       " 'typrr',\n",
       " 'lat',\n",
       " 'long',\n",
       " 'season',\n",
       " 'state']"
      ]
     },
     "execution_count": 11,
     "metadata": {},
     "output_type": "execute_result"
    }
   ],
   "source": [
    "#Subset the object columns to determine which columns to encode\n",
    "obj_cols = preprocessing.get_object_cols(er_df)\n",
    "obj_cols"
   ]
  },
  {
   "cell_type": "markdown",
   "metadata": {},
   "source": [
    "**Object Columns to encode as features:**\n",
    "   - railroad_company"
   ]
  },
  {
   "cell_type": "code",
   "execution_count": 12,
   "metadata": {
    "scrolled": true
   },
   "outputs": [
    {
     "data": {
      "text/plain": [
       "['state_fips',\n",
       " 'accident_type',\n",
       " 'state_x',\n",
       " 'temp',\n",
       " 'visibility',\n",
       " 'weather',\n",
       " 'train_speed',\n",
       " 'train_direction',\n",
       " 'train_weight',\n",
       " 'track_type',\n",
       " 'front_engines',\n",
       " 'loadfrght_cars',\n",
       " 'loadpass_cars',\n",
       " 'emptyfrght_cars',\n",
       " 'emptypass_cars',\n",
       " 'equip_damage',\n",
       " 'track_damage',\n",
       " 'total_killed',\n",
       " 'total_injured',\n",
       " 'max_speed',\n",
       " 'total_damage',\n",
       " 'engineers_onduty',\n",
       " 'conductors_onduty',\n",
       " 'brakemen_onduty',\n",
       " 'region',\n",
       " 'signal_type',\n",
       " 'date',\n",
       " 'state_y',\n",
       " 'year']"
      ]
     },
     "execution_count": 12,
     "metadata": {},
     "output_type": "execute_result"
    }
   ],
   "source": [
    "#Subject numeric columns for feature selection\n",
    "num_cols = preprocessing.get_numeric_X_cols(er_df, obj_cols)\n",
    "num_cols"
   ]
  },
  {
   "cell_type": "markdown",
   "metadata": {},
   "source": [
    "## Prepare Dataframe for Regression"
   ]
  },
  {
   "cell_type": "markdown",
   "metadata": {},
   "source": [
    "**Get Dummies for Railroad Company**"
   ]
  },
  {
   "cell_type": "code",
   "execution_count": 13,
   "metadata": {},
   "outputs": [],
   "source": [
    "def create_dummies(df, object_cols):\n",
    "    '''\n",
    "    This function takes in a dataframe and list of object column names,\n",
    "    and creates dummy variables of each of those columns. \n",
    "    It then appends the dummy variables to the original dataframe. \n",
    "    It returns the original df with the appended dummy variables. \n",
    "    '''\n",
    "    \n",
    "    # run pd.get_dummies() to create dummy vars for the object columns. \n",
    "    # we will drop the column representing the first unique value of each variable\n",
    "    # we will opt to not create na columns for each variable with missing values \n",
    "    # (all missing values have been removed.)\n",
    "    dummy_df = pd.get_dummies(df[object_cols], dummy_na=False, drop_first=True)\n",
    "    \n",
    "    # concatenate the dataframe with dummies to our original dataframe\n",
    "    # via column (axis=1)\n",
    "    df = pd.concat([df, dummy_df], axis=1)\n",
    "\n",
    "    return df"
   ]
  },
  {
   "cell_type": "code",
   "execution_count": 14,
   "metadata": {},
   "outputs": [],
   "source": [
    "#Drop object columns that I am not using in the model\n",
    "er_df.drop(columns={'train_type','cause', 'typrr', 'lat', 'long','season','state'}, inplace=True)"
   ]
  },
  {
   "cell_type": "code",
   "execution_count": 15,
   "metadata": {
    "scrolled": true
   },
   "outputs": [
    {
     "data": {
      "text/html": [
       "<div>\n",
       "<style scoped>\n",
       "    .dataframe tbody tr th:only-of-type {\n",
       "        vertical-align: middle;\n",
       "    }\n",
       "\n",
       "    .dataframe tbody tr th {\n",
       "        vertical-align: top;\n",
       "    }\n",
       "\n",
       "    .dataframe thead th {\n",
       "        text-align: right;\n",
       "    }\n",
       "</style>\n",
       "<table border=\"1\" class=\"dataframe\">\n",
       "  <thead>\n",
       "    <tr style=\"text-align: right;\">\n",
       "      <th></th>\n",
       "      <th>state_fips</th>\n",
       "      <th>railroad_company</th>\n",
       "      <th>accident_type</th>\n",
       "      <th>state_x</th>\n",
       "      <th>temp</th>\n",
       "      <th>visibility</th>\n",
       "      <th>weather</th>\n",
       "      <th>train_speed</th>\n",
       "      <th>train_direction</th>\n",
       "      <th>train_weight</th>\n",
       "      <th>...</th>\n",
       "      <th>brakemen_onduty</th>\n",
       "      <th>region</th>\n",
       "      <th>signal_type</th>\n",
       "      <th>date</th>\n",
       "      <th>state_y</th>\n",
       "      <th>year</th>\n",
       "      <th>BNSF</th>\n",
       "      <th>CSX</th>\n",
       "      <th>NS</th>\n",
       "      <th>UP</th>\n",
       "    </tr>\n",
       "    <tr>\n",
       "      <th>incdtno</th>\n",
       "      <th></th>\n",
       "      <th></th>\n",
       "      <th></th>\n",
       "      <th></th>\n",
       "      <th></th>\n",
       "      <th></th>\n",
       "      <th></th>\n",
       "      <th></th>\n",
       "      <th></th>\n",
       "      <th></th>\n",
       "      <th></th>\n",
       "      <th></th>\n",
       "      <th></th>\n",
       "      <th></th>\n",
       "      <th></th>\n",
       "      <th></th>\n",
       "      <th></th>\n",
       "      <th></th>\n",
       "      <th></th>\n",
       "      <th></th>\n",
       "      <th></th>\n",
       "    </tr>\n",
       "  </thead>\n",
       "  <tbody>\n",
       "    <tr>\n",
       "      <th>GC0512102</th>\n",
       "      <td>48</td>\n",
       "      <td>BNSF</td>\n",
       "      <td>1</td>\n",
       "      <td>48</td>\n",
       "      <td>84</td>\n",
       "      <td>2</td>\n",
       "      <td>1</td>\n",
       "      <td>10</td>\n",
       "      <td>2.0</td>\n",
       "      <td>9811</td>\n",
       "      <td>...</td>\n",
       "      <td>0.0</td>\n",
       "      <td>5</td>\n",
       "      <td>1</td>\n",
       "      <td>2012-05-05 08:00:00</td>\n",
       "      <td>54</td>\n",
       "      <td>2012</td>\n",
       "      <td>1</td>\n",
       "      <td>0</td>\n",
       "      <td>0</td>\n",
       "      <td>0</td>\n",
       "    </tr>\n",
       "    <tr>\n",
       "      <th>GC0512105</th>\n",
       "      <td>48</td>\n",
       "      <td>BNSF</td>\n",
       "      <td>1</td>\n",
       "      <td>48</td>\n",
       "      <td>70</td>\n",
       "      <td>4</td>\n",
       "      <td>3</td>\n",
       "      <td>5</td>\n",
       "      <td>2.0</td>\n",
       "      <td>17157</td>\n",
       "      <td>...</td>\n",
       "      <td>0.0</td>\n",
       "      <td>5</td>\n",
       "      <td>2</td>\n",
       "      <td>2012-05-11 02:25:00</td>\n",
       "      <td>54</td>\n",
       "      <td>2012</td>\n",
       "      <td>1</td>\n",
       "      <td>0</td>\n",
       "      <td>0</td>\n",
       "      <td>0</td>\n",
       "    </tr>\n",
       "    <tr>\n",
       "      <th>GC0512106</th>\n",
       "      <td>48</td>\n",
       "      <td>BNSF</td>\n",
       "      <td>1</td>\n",
       "      <td>48</td>\n",
       "      <td>84</td>\n",
       "      <td>2</td>\n",
       "      <td>1</td>\n",
       "      <td>3</td>\n",
       "      <td>2.0</td>\n",
       "      <td>17304</td>\n",
       "      <td>...</td>\n",
       "      <td>0.0</td>\n",
       "      <td>5</td>\n",
       "      <td>2</td>\n",
       "      <td>2012-05-16 15:40:00</td>\n",
       "      <td>54</td>\n",
       "      <td>2012</td>\n",
       "      <td>1</td>\n",
       "      <td>0</td>\n",
       "      <td>0</td>\n",
       "      <td>0</td>\n",
       "    </tr>\n",
       "    <tr>\n",
       "      <th>GC0512112</th>\n",
       "      <td>48</td>\n",
       "      <td>BNSF</td>\n",
       "      <td>1</td>\n",
       "      <td>48</td>\n",
       "      <td>70</td>\n",
       "      <td>4</td>\n",
       "      <td>1</td>\n",
       "      <td>5</td>\n",
       "      <td>3.0</td>\n",
       "      <td>14212</td>\n",
       "      <td>...</td>\n",
       "      <td>0.0</td>\n",
       "      <td>5</td>\n",
       "      <td>2</td>\n",
       "      <td>2012-05-31 03:36:00</td>\n",
       "      <td>54</td>\n",
       "      <td>2012</td>\n",
       "      <td>1</td>\n",
       "      <td>0</td>\n",
       "      <td>0</td>\n",
       "      <td>0</td>\n",
       "    </tr>\n",
       "    <tr>\n",
       "      <th>GC1212109</th>\n",
       "      <td>48</td>\n",
       "      <td>BNSF</td>\n",
       "      <td>1</td>\n",
       "      <td>48</td>\n",
       "      <td>65</td>\n",
       "      <td>4</td>\n",
       "      <td>2</td>\n",
       "      <td>10</td>\n",
       "      <td>2.0</td>\n",
       "      <td>0</td>\n",
       "      <td>...</td>\n",
       "      <td>0.0</td>\n",
       "      <td>5</td>\n",
       "      <td>2</td>\n",
       "      <td>2012-12-19 22:00:00</td>\n",
       "      <td>54</td>\n",
       "      <td>2012</td>\n",
       "      <td>1</td>\n",
       "      <td>0</td>\n",
       "      <td>0</td>\n",
       "      <td>0</td>\n",
       "    </tr>\n",
       "    <tr>\n",
       "      <th>...</th>\n",
       "      <td>...</td>\n",
       "      <td>...</td>\n",
       "      <td>...</td>\n",
       "      <td>...</td>\n",
       "      <td>...</td>\n",
       "      <td>...</td>\n",
       "      <td>...</td>\n",
       "      <td>...</td>\n",
       "      <td>...</td>\n",
       "      <td>...</td>\n",
       "      <td>...</td>\n",
       "      <td>...</td>\n",
       "      <td>...</td>\n",
       "      <td>...</td>\n",
       "      <td>...</td>\n",
       "      <td>...</td>\n",
       "      <td>...</td>\n",
       "      <td>...</td>\n",
       "      <td>...</td>\n",
       "      <td>...</td>\n",
       "      <td>...</td>\n",
       "    </tr>\n",
       "    <tr>\n",
       "      <th>157439</th>\n",
       "      <td>33</td>\n",
       "      <td>ATK</td>\n",
       "      <td>9</td>\n",
       "      <td>33</td>\n",
       "      <td>29</td>\n",
       "      <td>4</td>\n",
       "      <td>6</td>\n",
       "      <td>79</td>\n",
       "      <td>1.0</td>\n",
       "      <td>0</td>\n",
       "      <td>...</td>\n",
       "      <td>1.0</td>\n",
       "      <td>1</td>\n",
       "      <td>1</td>\n",
       "      <td>2019-02-03 17:30:00</td>\n",
       "      <td>37</td>\n",
       "      <td>2019</td>\n",
       "      <td>0</td>\n",
       "      <td>0</td>\n",
       "      <td>0</td>\n",
       "      <td>0</td>\n",
       "    </tr>\n",
       "    <tr>\n",
       "      <th>159901</th>\n",
       "      <td>33</td>\n",
       "      <td>ATK</td>\n",
       "      <td>9</td>\n",
       "      <td>33</td>\n",
       "      <td>73</td>\n",
       "      <td>3</td>\n",
       "      <td>1</td>\n",
       "      <td>77</td>\n",
       "      <td>1.0</td>\n",
       "      <td>0</td>\n",
       "      <td>...</td>\n",
       "      <td>2.0</td>\n",
       "      <td>1</td>\n",
       "      <td>1</td>\n",
       "      <td>2019-07-06 17:41:00</td>\n",
       "      <td>37</td>\n",
       "      <td>2019</td>\n",
       "      <td>0</td>\n",
       "      <td>0</td>\n",
       "      <td>0</td>\n",
       "      <td>0</td>\n",
       "    </tr>\n",
       "    <tr>\n",
       "      <th>162555</th>\n",
       "      <td>33</td>\n",
       "      <td>ATK</td>\n",
       "      <td>9</td>\n",
       "      <td>33</td>\n",
       "      <td>32</td>\n",
       "      <td>2</td>\n",
       "      <td>3</td>\n",
       "      <td>46</td>\n",
       "      <td>2.0</td>\n",
       "      <td>0</td>\n",
       "      <td>...</td>\n",
       "      <td>2.0</td>\n",
       "      <td>1</td>\n",
       "      <td>1</td>\n",
       "      <td>2019-12-30 12:20:00</td>\n",
       "      <td>37</td>\n",
       "      <td>2019</td>\n",
       "      <td>0</td>\n",
       "      <td>0</td>\n",
       "      <td>0</td>\n",
       "      <td>0</td>\n",
       "    </tr>\n",
       "    <tr>\n",
       "      <th>162792</th>\n",
       "      <td>33</td>\n",
       "      <td>ATK</td>\n",
       "      <td>9</td>\n",
       "      <td>33</td>\n",
       "      <td>29</td>\n",
       "      <td>3</td>\n",
       "      <td>2</td>\n",
       "      <td>66</td>\n",
       "      <td>1.0</td>\n",
       "      <td>0</td>\n",
       "      <td>...</td>\n",
       "      <td>1.0</td>\n",
       "      <td>1</td>\n",
       "      <td>1</td>\n",
       "      <td>2020-01-16 17:48:00</td>\n",
       "      <td>37</td>\n",
       "      <td>2020</td>\n",
       "      <td>0</td>\n",
       "      <td>0</td>\n",
       "      <td>0</td>\n",
       "      <td>0</td>\n",
       "    </tr>\n",
       "    <tr>\n",
       "      <th>137065</th>\n",
       "      <td>23</td>\n",
       "      <td>ATK</td>\n",
       "      <td>1</td>\n",
       "      <td>23</td>\n",
       "      <td>58</td>\n",
       "      <td>2</td>\n",
       "      <td>1</td>\n",
       "      <td>30</td>\n",
       "      <td>4.0</td>\n",
       "      <td>0</td>\n",
       "      <td>...</td>\n",
       "      <td>1.0</td>\n",
       "      <td>1</td>\n",
       "      <td>1</td>\n",
       "      <td>2015-04-14 14:36:00</td>\n",
       "      <td>27</td>\n",
       "      <td>2015</td>\n",
       "      <td>0</td>\n",
       "      <td>0</td>\n",
       "      <td>0</td>\n",
       "      <td>0</td>\n",
       "    </tr>\n",
       "  </tbody>\n",
       "</table>\n",
       "<p>9264 rows × 34 columns</p>\n",
       "</div>"
      ],
      "text/plain": [
       "           state_fips railroad_company  accident_type  state_x  temp  \\\n",
       "incdtno                                                                \n",
       "GC0512102          48             BNSF              1       48    84   \n",
       "GC0512105          48             BNSF              1       48    70   \n",
       "GC0512106          48             BNSF              1       48    84   \n",
       "GC0512112          48             BNSF              1       48    70   \n",
       "GC1212109          48             BNSF              1       48    65   \n",
       "...               ...              ...            ...      ...   ...   \n",
       "157439             33              ATK              9       33    29   \n",
       "159901             33              ATK              9       33    73   \n",
       "162555             33              ATK              9       33    32   \n",
       "162792             33              ATK              9       33    29   \n",
       "137065             23              ATK              1       23    58   \n",
       "\n",
       "           visibility  weather  train_speed  train_direction  train_weight  \\\n",
       "incdtno                                                                      \n",
       "GC0512102           2        1           10              2.0          9811   \n",
       "GC0512105           4        3            5              2.0         17157   \n",
       "GC0512106           2        1            3              2.0         17304   \n",
       "GC0512112           4        1            5              3.0         14212   \n",
       "GC1212109           4        2           10              2.0             0   \n",
       "...               ...      ...          ...              ...           ...   \n",
       "157439              4        6           79              1.0             0   \n",
       "159901              3        1           77              1.0             0   \n",
       "162555              2        3           46              2.0             0   \n",
       "162792              3        2           66              1.0             0   \n",
       "137065              2        1           30              4.0             0   \n",
       "\n",
       "           ...  brakemen_onduty  region  signal_type                date  \\\n",
       "incdtno    ...                                                             \n",
       "GC0512102  ...              0.0       5            1 2012-05-05 08:00:00   \n",
       "GC0512105  ...              0.0       5            2 2012-05-11 02:25:00   \n",
       "GC0512106  ...              0.0       5            2 2012-05-16 15:40:00   \n",
       "GC0512112  ...              0.0       5            2 2012-05-31 03:36:00   \n",
       "GC1212109  ...              0.0       5            2 2012-12-19 22:00:00   \n",
       "...        ...              ...     ...          ...                 ...   \n",
       "157439     ...              1.0       1            1 2019-02-03 17:30:00   \n",
       "159901     ...              2.0       1            1 2019-07-06 17:41:00   \n",
       "162555     ...              2.0       1            1 2019-12-30 12:20:00   \n",
       "162792     ...              1.0       1            1 2020-01-16 17:48:00   \n",
       "137065     ...              1.0       1            1 2015-04-14 14:36:00   \n",
       "\n",
       "           state_y  year  BNSF  CSX  NS  UP  \n",
       "incdtno                                      \n",
       "GC0512102       54  2012     1    0   0   0  \n",
       "GC0512105       54  2012     1    0   0   0  \n",
       "GC0512106       54  2012     1    0   0   0  \n",
       "GC0512112       54  2012     1    0   0   0  \n",
       "GC1212109       54  2012     1    0   0   0  \n",
       "...            ...   ...   ...  ...  ..  ..  \n",
       "157439          37  2019     0    0   0   0  \n",
       "159901          37  2019     0    0   0   0  \n",
       "162555          37  2019     0    0   0   0  \n",
       "162792          37  2020     0    0   0   0  \n",
       "137065          27  2015     0    0   0   0  \n",
       "\n",
       "[9264 rows x 34 columns]"
      ]
     },
     "execution_count": 15,
     "metadata": {},
     "output_type": "execute_result"
    }
   ],
   "source": [
    "#Get Dummies for Railroad Companies\n",
    "object_cols = 'railroad_company'\n",
    "er_df = create_dummies(er_df, object_cols)\n",
    "er_df"
   ]
  },
  {
   "cell_type": "code",
   "execution_count": 16,
   "metadata": {},
   "outputs": [],
   "source": [
    "#Drop Railroad_company\n",
    "er_df.drop(columns={'railroad_company'}, inplace=True)"
   ]
  },
  {
   "cell_type": "code",
   "execution_count": 17,
   "metadata": {},
   "outputs": [
    {
     "name": "stdout",
     "output_type": "stream",
     "text": [
      "<class 'pandas.core.frame.DataFrame'>\n",
      "Index: 9264 entries, GC0512102 to 137065\n",
      "Data columns (total 33 columns):\n",
      " #   Column             Non-Null Count  Dtype         \n",
      "---  ------             --------------  -----         \n",
      " 0   state_fips         9264 non-null   int64         \n",
      " 1   accident_type      9264 non-null   int64         \n",
      " 2   state_x            9264 non-null   int64         \n",
      " 3   temp               9264 non-null   int64         \n",
      " 4   visibility         9264 non-null   int64         \n",
      " 5   weather            9264 non-null   int64         \n",
      " 6   train_speed        9264 non-null   int64         \n",
      " 7   train_direction    9264 non-null   float64       \n",
      " 8   train_weight       9264 non-null   int64         \n",
      " 9   track_type         9264 non-null   int64         \n",
      " 10  front_engines      9264 non-null   int64         \n",
      " 11  loadfrght_cars     9264 non-null   int64         \n",
      " 12  loadpass_cars      9264 non-null   int64         \n",
      " 13  emptyfrght_cars    9264 non-null   int64         \n",
      " 14  emptypass_cars     9264 non-null   int64         \n",
      " 15  equip_damage       9264 non-null   int64         \n",
      " 16  track_damage       9264 non-null   int64         \n",
      " 17  total_killed       9264 non-null   int64         \n",
      " 18  total_injured      9264 non-null   int64         \n",
      " 19  max_speed          9264 non-null   int64         \n",
      " 20  total_damage       9264 non-null   int64         \n",
      " 21  engineers_onduty   9264 non-null   float64       \n",
      " 22  conductors_onduty  9264 non-null   float64       \n",
      " 23  brakemen_onduty    9264 non-null   float64       \n",
      " 24  region             9264 non-null   int64         \n",
      " 25  signal_type        9264 non-null   int64         \n",
      " 26  date               9264 non-null   datetime64[ns]\n",
      " 27  state_y            9264 non-null   int64         \n",
      " 28  year               9264 non-null   int64         \n",
      " 29  BNSF               9264 non-null   uint8         \n",
      " 30  CSX                9264 non-null   uint8         \n",
      " 31  NS                 9264 non-null   uint8         \n",
      " 32  UP                 9264 non-null   uint8         \n",
      "dtypes: datetime64[ns](1), float64(4), int64(24), uint8(4)\n",
      "memory usage: 2.2+ MB\n"
     ]
    }
   ],
   "source": [
    "er_df.info()"
   ]
  },
  {
   "cell_type": "code",
   "execution_count": 18,
   "metadata": {},
   "outputs": [],
   "source": [
    "#Need to drop datetime\n",
    "er_df.drop(columns={'date'}, inplace=True)"
   ]
  },
  {
   "cell_type": "markdown",
   "metadata": {},
   "source": [
    "**Split the Data**"
   ]
  },
  {
   "cell_type": "code",
   "execution_count": 19,
   "metadata": {},
   "outputs": [],
   "source": [
    "def split_stratify_continuous(df, target, bins=8):\n",
    "    '''\n",
    "    This function splits a data frame into train, test, validate\n",
    "    and startifies by a continuous target variable.\n",
    "    '''\n",
    "    binned_y = pd.cut(df[target], bins=bins, labels=list(range(bins)))\n",
    "    df[\"bins\"] = binned_y\n",
    "    train_validate, test = train_test_split(df, stratify=df[\"bins\"], test_size=0.2, random_state=123)\n",
    "    train, validate = train_test_split(train_validate, stratify=train_validate[\"bins\"], test_size=0.3, random_state=123)\n",
    "    train = train.drop(columns=[\"bins\"])\n",
    "    validate = validate.drop(columns=[\"bins\"])\n",
    "    test = test.drop(columns=[\"bins\"])\n",
    "    return train, test, validate"
   ]
  },
  {
   "cell_type": "code",
   "execution_count": 20,
   "metadata": {},
   "outputs": [
    {
     "data": {
      "text/plain": [
       "(5187, 32)"
      ]
     },
     "execution_count": 20,
     "metadata": {},
     "output_type": "execute_result"
    }
   ],
   "source": [
    "train, test, validate = split_stratify_continuous(er_df, target='total_damage', bins=8)\n",
    "train.shape"
   ]
  },
  {
   "cell_type": "code",
   "execution_count": 21,
   "metadata": {},
   "outputs": [],
   "source": [
    "def train_validate_test(train, validate, test, target, bins=5):\n",
    "    '''\n",
    "    this function takes in a dataframe and splits it into 3 samples, \n",
    "    a test, which is 20% of the entire dataframe, \n",
    "    a validate, which is 24% of the entire dataframe,\n",
    "    and a train, which is 56% of the entire dataframe. \n",
    "    It then splits each of the 3 samples into a dataframe with independent variables\n",
    "    and a series with the dependent, or target variable. \n",
    "    The function returns 3 dataframes and 3 series:\n",
    "    X_train (df) & y_train (series), X_validate & y_validate, X_test & y_test. \n",
    "    '''\n",
    "    \n",
    "    # split train into X (dataframe, drop target) & y (series, keep target only)\n",
    "    X_train = train.drop(columns=[target])\n",
    "    y_train = train[target]\n",
    "    \n",
    "    # split validate into X (dataframe, drop target) & y (series, keep target only)\n",
    "    X_validate = validate.drop(columns=[target])\n",
    "    y_validate = validate[target]\n",
    "    \n",
    "    # split test into X (dataframe, drop target) & y (series, keep target only)\n",
    "    X_test = test.drop(columns=[target])\n",
    "    y_test = test[target]\n",
    "    \n",
    "    return X_train, y_train, X_validate, y_validate, X_test, y_test"
   ]
  },
  {
   "cell_type": "code",
   "execution_count": 22,
   "metadata": {},
   "outputs": [],
   "source": [
    "X_train, y_train, X_validate, y_validate, X_test, y_test = train_validate_test(train, validate, test, 'total_damage', bins=8)"
   ]
  },
  {
   "cell_type": "markdown",
   "metadata": {},
   "source": [
    "**Scale the Data**"
   ]
  },
  {
   "cell_type": "code",
   "execution_count": 23,
   "metadata": {},
   "outputs": [],
   "source": [
    "def get_numeric_X_cols(X_train, object_cols):\n",
    "    '''\n",
    "    takes in a dataframe and list of object column names\n",
    "    and returns a list of all other columns names, the non-objects. \n",
    "    '''\n",
    "    numeric_cols = [col for col in X_train.columns.values if col not in object_cols]\n",
    "    \n",
    "    return numeric_cols\n",
    "\n",
    "def min_max_scale(X_train, X_validate, X_test, numeric_cols):\n",
    "    '''\n",
    "    this function takes in 3 dataframes with the same columns, \n",
    "    a list of numeric column names (because the scaler can only work with numeric columns),\n",
    "    and fits a min-max scaler to the first dataframe and transforms all\n",
    "    3 dataframes using that scaler. \n",
    "    it returns 3 dataframes with the same column names and scaled values. \n",
    "    '''\n",
    "    # create the scaler object and fit it to X_train (i.e. identify min and max)\n",
    "    # if copy = false, inplace row normalization happens and avoids a copy (if the input is already a numpy array).\n",
    "\n",
    "\n",
    "    scaler = sklearn.preprocessing.MinMaxScaler()\n",
    "    scaler.fit(X_train[numeric_cols])\n",
    "\n",
    "    #scale X_train, X_validate, X_test using the mins and maxes stored in the scaler derived from X_train. \n",
    "    # \n",
    "    X_train_scaled_array = scaler.transform(X_train[numeric_cols])\n",
    "    X_validate_scaled_array = scaler.transform(X_validate[numeric_cols])\n",
    "    X_test_scaled_array = scaler.transform(X_test[numeric_cols])\n",
    "\n",
    "    # convert arrays to dataframes\n",
    "    X_train_scaled = pd.DataFrame(X_train_scaled_array, \n",
    "                                  columns=numeric_cols).\\\n",
    "                                  set_index([X_train.index.values])\n",
    "\n",
    "    X_validate_scaled = pd.DataFrame(X_validate_scaled_array, \n",
    "                                     columns=numeric_cols).\\\n",
    "                                     set_index([X_validate.index.values])\n",
    "\n",
    "    X_test_scaled = pd.DataFrame(X_test_scaled_array, \n",
    "                                 columns=numeric_cols).\\\n",
    "                                 set_index([X_test.index.values])\n",
    "\n",
    "    \n",
    "    return X_train_scaled, X_validate_scaled, X_test_scaled"
   ]
  },
  {
   "cell_type": "code",
   "execution_count": 24,
   "metadata": {
    "scrolled": true
   },
   "outputs": [
    {
     "data": {
      "text/plain": [
       "['state_fips',\n",
       " 'accident_type',\n",
       " 'state_x',\n",
       " 'temp',\n",
       " 'visibility',\n",
       " 'weather',\n",
       " 'train_speed',\n",
       " 'train_direction',\n",
       " 'train_weight',\n",
       " 'track_type',\n",
       " 'front_engines',\n",
       " 'loadfrght_cars',\n",
       " 'loadpass_cars',\n",
       " 'emptyfrght_cars',\n",
       " 'emptypass_cars',\n",
       " 'equip_damage',\n",
       " 'track_damage',\n",
       " 'total_killed',\n",
       " 'total_injured',\n",
       " 'max_speed',\n",
       " 'engineers_onduty',\n",
       " 'conductors_onduty',\n",
       " 'brakemen_onduty',\n",
       " 'region',\n",
       " 'signal_type',\n",
       " 'state_y',\n",
       " 'year',\n",
       " 'BNSF',\n",
       " 'CSX',\n",
       " 'NS',\n",
       " 'UP']"
      ]
     },
     "execution_count": 24,
     "metadata": {},
     "output_type": "execute_result"
    }
   ],
   "source": [
    "numeric_cols = get_numeric_X_cols(X_train, object_cols)\n",
    "numeric_cols"
   ]
  },
  {
   "cell_type": "code",
   "execution_count": 25,
   "metadata": {},
   "outputs": [
    {
     "data": {
      "text/plain": [
       "(5187, 31)"
      ]
     },
     "execution_count": 25,
     "metadata": {},
     "output_type": "execute_result"
    }
   ],
   "source": [
    "X_train_scaled, X_validate_scaled, X_test_scaled =  min_max_scale(X_train, X_validate, X_test, numeric_cols)\n",
    "X_train_scaled.shape"
   ]
  },
  {
   "cell_type": "markdown",
   "metadata": {},
   "source": [
    "**Feature Selection**"
   ]
  },
  {
   "cell_type": "code",
   "execution_count": 27,
   "metadata": {},
   "outputs": [
    {
     "name": "stdout",
     "output_type": "stream",
     "text": [
      "SelectKBest preferences the following as the top 4 features for predicting taxvaluedollarcnt: ['accident_type', 'train_weight', 'front_engines', 'loadfrght_cars', 'loadpass_cars', 'equip_damage', 'track_damage', 'region', 'NS', 'UP']\n"
     ]
    }
   ],
   "source": [
    "from sklearn.feature_selection import SelectKBest, f_regression\n",
    "\n",
    "# parameters: f_regression stats test, give me 4 features\n",
    "f_selector = SelectKBest(f_regression, k=10)\n",
    "\n",
    "# find the top 4 X's correlated with y\n",
    "f_selector.fit(X_train_scaled, y_train)\n",
    "\n",
    "# boolean mask of whether the column was selected or not. \n",
    "feature_mask = f_selector.get_support()\n",
    "\n",
    "# get list of top K features. \n",
    "f_feature = X_train_scaled.iloc[:,feature_mask].columns.tolist()\n",
    "print(f'SelectKBest preferences the following as the top 4 features for predicting taxvaluedollarcnt: {f_feature}')"
   ]
  },
  {
   "cell_type": "markdown",
   "metadata": {},
   "source": [
    "---"
   ]
  },
  {
   "cell_type": "markdown",
   "metadata": {},
   "source": [
    "## Modeling"
   ]
  },
  {
   "cell_type": "code",
   "execution_count": 28,
   "metadata": {},
   "outputs": [],
   "source": [
    "import pandas as pd\n",
    "import numpy as np\n",
    "\n",
    "from scipy import stats\n",
    "from sklearn.metrics import mean_squared_error, r2_score, explained_variance_score\n",
    "\n",
    "import seaborn as sns\n",
    "from sklearn.linear_model import LinearRegression\n",
    "from sklearn.feature_selection import f_regression \n",
    "from math import sqrt\n",
    "import math\n",
    "import matplotlib.pyplot as plt\n",
    "import warnings\n",
    "warnings.filterwarnings('ignore')\n",
    "\n",
    "from statsmodels.formula.api import ols\n",
    "\n",
    "def plot_residuals(actual, predicted):\n",
    "\n",
    "    residuals = actual - predicted\n",
    "    plt.hlines(0, actual.min(), actual.max(), ls=':')\n",
    "    plt.scatter(actual, residuals)\n",
    "    plt.ylabel('residual ($y - \\hat{y}$)')\n",
    "    plt.xlabel('actual value ($y$)')\n",
    "    plt.title('Actual vs Residual')\n",
    "    plt.show()\n",
    "\n",
    "\n",
    "def regression_errors(actual, predicted):\n",
    "    return pd.Series({\n",
    "        'sse': sse(actual, predicted),\n",
    "        'ess': ess(actual, predicted),\n",
    "        'tss': tss(actual),\n",
    "        'mse': mse(actual, predicted),\n",
    "        'rmse': rmse(actual, predicted),\n",
    "        'r^2': (ess(actual, predicted))/(tss(actual)),\n",
    "    })\n",
    "\n",
    "\n",
    "def residuals(actual, predicted):\n",
    "    return actual - predicted\n",
    "\n",
    "def sse(actual, predicted):\n",
    "    return (residuals(actual, predicted) **2).sum()\n",
    "\n",
    "def mse(actual, predicted):\n",
    "    n = actual.shape[0]\n",
    "    return sse(actual, predicted) / n\n",
    "\n",
    "def rmse(actual, predicted):\n",
    "    return math.sqrt(mse(actual, predicted))\n",
    "\n",
    "def ess(actual, predicted):\n",
    "    return ((predicted - actual.mean()) ** 2).sum()\n",
    "\n",
    "def tss(actual):\n",
    "    return ((actual - actual.mean()) ** 2).sum()\n",
    "\n",
    "\n",
    "def baseline_mean_errors(actual):\n",
    "    predicted = actual.mean()\n",
    "    return {\n",
    "        'sse': sse(actual, predicted),\n",
    "        'mse': mse(actual, predicted),\n",
    "        'rmse': rmse(actual, predicted),\n",
    "    }\n",
    "\n",
    "def baseline_median_errors(actual):\n",
    "    predicted = actual.median()\n",
    "    return {\n",
    "        'sse': sse(actual, predicted),\n",
    "        'mse': mse(actual, predicted),\n",
    "        'rmse': rmse(actual, predicted),\n",
    "    }\n",
    "\n",
    "def better_than_baseline(actual, predicted):\n",
    "    rmse_baseline = rmse(actual, actual.mean())\n",
    "    rmse_model = rmse(actual, predicted)\n",
    "    return rmse_model < rmse_baseline"
   ]
  },
  {
   "cell_type": "markdown",
   "metadata": {},
   "source": [
    "**Baseline Model**"
   ]
  },
  {
   "cell_type": "code",
   "execution_count": 29,
   "metadata": {},
   "outputs": [],
   "source": [
    "# We need y_train and y_validate to be dataframes to append the new columns with predicted values. \n",
    "y_train = pd.DataFrame(y_train)\n",
    "y_validate = pd.DataFrame(y_validate)\n",
    "y_test = pd.DataFrame(y_test)\n",
    "X_test = pd.DataFrame(X_test)\n",
    "\n",
    "# 1. Predict total_damage_pred_mean\n",
    "total_damage_pred_mean = y_train['total_damage'].mean()\n",
    "y_train['total_damage_pred_mean'] = total_damage_pred_mean\n",
    "y_validate['total_damage_pred_mean'] = total_damage_pred_mean\n",
    "y_test['total_damage_pred_mean'] = total_damage_pred_mean\n",
    "\n",
    "# 2. compute total_damage_pred_median\n",
    "total_damage_pred_median = y_train['total_damage'].median()\n",
    "y_train['total_damage_pred_median'] = total_damage_pred_median\n",
    "y_validate['total_damage_pred_median'] = total_damage_pred_median\n",
    "y_test['total_damage_pred_median'] = total_damage_pred_median"
   ]
  },
  {
   "cell_type": "code",
   "execution_count": 30,
   "metadata": {},
   "outputs": [
    {
     "data": {
      "text/plain": [
       "{'sse': 10529973289476.895,\n",
       " 'mse': 2030070038.457084,\n",
       " 'rmse': 45056.29854367849}"
      ]
     },
     "execution_count": 30,
     "metadata": {},
     "output_type": "execute_result"
    }
   ],
   "source": [
    "#Evaluate the baseline model using the mean\n",
    "baseline_mean_errors(y_train.total_damage)"
   ]
  },
  {
   "cell_type": "code",
   "execution_count": 31,
   "metadata": {},
   "outputs": [
    {
     "data": {
      "text/plain": [
       "{'sse': 12390898866795.0,\n",
       " 'mse': 2388837259.8409486,\n",
       " 'rmse': 48875.732831753514}"
      ]
     },
     "execution_count": 31,
     "metadata": {},
     "output_type": "execute_result"
    }
   ],
   "source": [
    "#Evaluate the baseline model using the median\n",
    "baseline_median_errors(y_train.total_damage)"
   ]
  },
  {
   "cell_type": "code",
   "execution_count": 32,
   "metadata": {},
   "outputs": [
    {
     "data": {
      "text/html": [
       "<div>\n",
       "<style scoped>\n",
       "    .dataframe tbody tr th:only-of-type {\n",
       "        vertical-align: middle;\n",
       "    }\n",
       "\n",
       "    .dataframe tbody tr th {\n",
       "        vertical-align: top;\n",
       "    }\n",
       "\n",
       "    .dataframe thead th {\n",
       "        text-align: right;\n",
       "    }\n",
       "</style>\n",
       "<table border=\"1\" class=\"dataframe\">\n",
       "  <thead>\n",
       "    <tr style=\"text-align: right;\">\n",
       "      <th></th>\n",
       "      <th>total_damage</th>\n",
       "      <th>yhat_baseline</th>\n",
       "    </tr>\n",
       "    <tr>\n",
       "      <th>incdtno</th>\n",
       "      <th></th>\n",
       "      <th></th>\n",
       "    </tr>\n",
       "  </thead>\n",
       "  <tbody>\n",
       "    <tr>\n",
       "      <th>0715ST015</th>\n",
       "      <td>17222</td>\n",
       "      <td>46383.151533</td>\n",
       "    </tr>\n",
       "    <tr>\n",
       "      <th>1118HO016</th>\n",
       "      <td>14435</td>\n",
       "      <td>46383.151533</td>\n",
       "    </tr>\n",
       "    <tr>\n",
       "      <th>CA0719102</th>\n",
       "      <td>65630</td>\n",
       "      <td>46383.151533</td>\n",
       "    </tr>\n",
       "    <tr>\n",
       "      <th>RD0118204</th>\n",
       "      <td>50000</td>\n",
       "      <td>46383.151533</td>\n",
       "    </tr>\n",
       "    <tr>\n",
       "      <th>000181808</th>\n",
       "      <td>86513</td>\n",
       "      <td>46383.151533</td>\n",
       "    </tr>\n",
       "  </tbody>\n",
       "</table>\n",
       "</div>"
      ],
      "text/plain": [
       "           total_damage  yhat_baseline\n",
       "incdtno                               \n",
       "0715ST015         17222   46383.151533\n",
       "1118HO016         14435   46383.151533\n",
       "CA0719102         65630   46383.151533\n",
       "RD0118204         50000   46383.151533\n",
       "000181808         86513   46383.151533"
      ]
     },
     "execution_count": 32,
     "metadata": {},
     "output_type": "execute_result"
    }
   ],
   "source": [
    "#Now that I have established the mean as the baseline, I will drop the median and rename baseline to yhat_baseline\n",
    "y_train.drop(columns={'total_damage_pred_median'}, inplace=True)\n",
    "y_validate.drop(columns={'total_damage_pred_median'}, inplace=True)\n",
    "y_test.drop(columns={'total_damage_pred_median'}, inplace=True)\n",
    "\n",
    "y_train.rename(columns={'total_damage_pred_mean': 'yhat_baseline'}, inplace=True)\n",
    "y_validate.rename(columns={'total_damage_pred_mean': 'yhat_baseline'}, inplace=True)\n",
    "y_test.rename(columns={'total_damage_pred_mean': 'yhat_baseline'}, inplace=True)\n",
    "y_train.head()"
   ]
  },
  {
   "cell_type": "markdown",
   "metadata": {},
   "source": [
    "**Linear Regression (OLS) Model**"
   ]
  },
  {
   "cell_type": "code",
   "execution_count": 34,
   "metadata": {},
   "outputs": [
    {
     "data": {
      "image/png": "[encoded data removed]",
      "text/plain": [
       "<Figure size 432x288 with 1 Axes>"
      ]
     },
     "metadata": {
      "needs_background": "light"
     },
     "output_type": "display_data"
    },
    {
     "data": {
      "text/plain": [
       "sse     9.862764e+12\n",
       "ess     6.672093e+11\n",
       "tss     1.052997e+13\n",
       "mse     1.901439e+09\n",
       "rmse    4.360549e+04\n",
       "r^2     6.336287e-02\n",
       "dtype: float64"
      ]
     },
     "execution_count": 34,
     "metadata": {},
     "output_type": "execute_result"
    }
   ],
   "source": [
    "# create the model object\n",
    "lm = LinearRegression(normalize=True)\n",
    "\n",
    "# fit the model to our training data. We must specify the column in y_train, \n",
    "# since we have converted it to a dataframe from a series! \n",
    "lm.fit(X_train_scaled[['accident_type', 'train_weight', 'front_engines', 'loadfrght_cars', \n",
    "                       'loadpass_cars', 'region', 'NS', 'UP']], y_train.total_damage)\n",
    "\n",
    "# predict train\n",
    "y_train['yhat_lm'] = lm.predict(X_train_scaled[['accident_type', 'train_weight', 'front_engines', 'loadfrght_cars', \n",
    "                       'loadpass_cars', 'region', 'NS', 'UP']])\n",
    "\n",
    "# compute residuals\n",
    "y_train['residual'] = y_train['yhat_lm'] - y_train['total_damage']\n",
    "y_train['baseline_residual'] = y_train['yhat_baseline'] - y_train['total_damage']\n",
    "\n",
    "#Use evaluate model to visualize the residuals\n",
    "plot_residuals(y_train.total_damage, y_train.yhat_lm)\n",
    "\n",
    "#Retrieve evaluation metrics for Linear Regression Model on in-sample data\n",
    "regression_errors(y_train.total_damage, y_train.yhat_lm)"
   ]
  },
  {
   "cell_type": "markdown",
   "metadata": {},
   "source": [
    "**Takeaways:**\n",
    "- Barely beats baseline"
   ]
  },
  {
   "cell_type": "markdown",
   "metadata": {},
   "source": [
    "**Tweedie Regressor GLM Model**"
   ]
  },
  {
   "cell_type": "code",
   "execution_count": 39,
   "metadata": {},
   "outputs": [
    {
     "data": {
      "image/png": "[encoded data removed]",
      "text/plain": [
       "<Figure size 432x288 with 1 Axes>"
      ]
     },
     "metadata": {
      "needs_background": "light"
     },
     "output_type": "display_data"
    },
    {
     "data": {
      "text/plain": [
       "sse     9.855349e+12\n",
       "ess     6.805764e+11\n",
       "tss     1.052997e+13\n",
       "mse     1.900010e+09\n",
       "rmse    4.358910e+04\n",
       "r^2     6.463230e-02\n",
       "dtype: float64"
      ]
     },
     "execution_count": 39,
     "metadata": {},
     "output_type": "execute_result"
    }
   ],
   "source": [
    "# create the model object\n",
    "glm = TweedieRegressor(power=1, alpha=0)\n",
    "\n",
    "# fit the model to our training data. We must specify the column in y_train, \n",
    "# since we have converted it to a dataframe from a series! \n",
    "glm.fit(X_train_scaled[['accident_type', 'train_weight', 'front_engines', 'loadfrght_cars', \n",
    "                       'loadpass_cars','NS', 'UP']], y_train.total_damage)\n",
    "\n",
    "# predict train\n",
    "y_train['yhat_glm'] = glm.predict(X_train_scaled[['accident_type', 'train_weight', 'front_engines', 'loadfrght_cars', \n",
    "                       'loadpass_cars', 'NS', 'UP']])\n",
    "\n",
    "#Use evaluate model to visualize the residuals\n",
    "plot_residuals(y_train.total_damage, y_train.yhat_glm)\n",
    "\n",
    "#How does the GLM model perform on in-sample data?\n",
    "regression_errors(y_train.total_damage, y_train.yhat_glm)\n"
   ]
  },
  {
   "cell_type": "markdown",
   "metadata": {},
   "source": [
    "**Takeaways**\n",
    "   - GLM Model does not achieve significantly better than baseline"
   ]
  },
  {
   "cell_type": "code",
   "execution_count": null,
   "metadata": {},
   "outputs": [],
   "source": []
  }
 ],
 "metadata": {
  "kernelspec": {
   "display_name": "Python 3",
   "language": "python",
   "name": "python3"
  },
  "language_info": {
   "codemirror_mode": {
    "name": "ipython",
    "version": 3
   },
   "file_extension": ".py",
   "mimetype": "text/x-python",
   "name": "python",
   "nbconvert_exporter": "python",
   "pygments_lexer": "ipython3",
   "version": "3.8.5"
  }
 },
 "nbformat": 4,
 "nbformat_minor": 4
}
